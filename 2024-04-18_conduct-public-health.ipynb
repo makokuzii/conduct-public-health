{
 "cells": [
  {
   "cell_type": "markdown",
   "id": "e7316a32",
   "metadata": {},
   "source": [
    "<div style=\" background-color: RGB(0,114,200);\" >\n",
    "<h1 style=\"margin: auto; padding: 20px 0; color:#fff; text-align: center\">PROJET 4 DATA ANALYST</h1>\n",
    "<h2 style=\"margin: auto; padding: 20px 0; color:#fff; text-align: center\">Réalisez une étude de santé publique avec R ou Python\n",
    "</h2>\n",
    "</div>"
   ]
  },
  {
   "cell_type": "markdown",
   "id": "6e00fa8a",
   "metadata": {},
   "source": [
    "# OBJECTIF DE CE NOTEBOOK\n",
    "\n",
    "Bienvenue dans l'outil plébiscité par les analystes de données Jupyter.\n",
    "\n",
    "Il s'agit d'un outil permettant de mixer et d'alterner codes, textes et graphique.\n",
    "\n",
    "Cet outil est formidable pour plusieurs raisons:\n",
    "\n",
    "+ il permet de tester des lignes de codes au fur et à mesure de votre rédaction, de constater immédiatement le résultat d'un instruction, de la corriger si nécessaire.\n",
    "+ De rédiger du texte pour expliquer l'approche suivie ou les résultats d'une analyse et de le mettre en forme grâce à du code html ou plus simple avec **Markdown**\n",
    "+ d'agrémenter de graphiques\n",
    "\n",
    "Pour vous aider dans vos premiers pas à l'usage de Jupyter et de Python, nous avons rédigé ce notebook en vous indiquant les instructions à suivre.\n",
    "\n",
    "Il vous suffit pour cela de saisir le code Python répondant à l'instruction donnée.\n",
    "\n",
    "Vous verrez de temps à autre le code Python répondant à une instruction donnée mais cela est fait pour vous aider à comprendre la nature du travail qui vous est demandée.\n",
    "\n",
    "Et garder à l'esprit, qu'il n'y a pas de solution unique pour résoudre un problème et qu'il y a autant de résolutions de problèmes que de développeurs ;)...\n",
    "\n"
   ]
  },
  {
   "cell_type": "markdown",
   "id": "c33bcf57",
   "metadata": {},
   "source": [
    "Note jeremy \n",
    "Est ce qu'il faut faire le calcul de la sous nutrition sur les pays qu'on a ? \n",
    "Est ce qu'il faut faire des graphiques ?\n",
    "Rajouter le soja\n",
    "La liste des céréales est difficile a trouver ..."
   ]
  },
  {
   "cell_type": "markdown",
   "id": "9dad8326",
   "metadata": {},
   "source": [
    "<div style=\"background-color: RGB(0,150,250);\" >\n",
    "<h2 style=\"margin: auto; padding: 20px; color:#fff; \">Etape 1 - Importation des librairies et chargement des fichiers</h2>\n",
    "</div>"
   ]
  },
  {
   "cell_type": "markdown",
   "id": "4ee69457",
   "metadata": {},
   "source": [
    "<div style=\"border: 1px solid RGB(0,150,250);\" >\n",
    "<h3 style=\"margin: auto; padding: 20px; color: RGB(0,150,250); \">1.1 - Importation des librairies</h3>\n",
    "</div>"
   ]
  },
  {
   "cell_type": "code",
   "execution_count": null,
   "id": "ffe62b56",
   "metadata": {},
   "outputs": [],
   "source": [
    "#Importation de la librairie Pandas\n",
    "import pandas as pd\n",
    "import numpy as np\n",
    "import warnings\n",
    "\n",
    "warnings.filterwarnings(\"ignore\")\n",
    "pd.set_option('display.max_columns', None)\n",
    "pd.options.display.float_format = '{:,.2f}'.format"
   ]
  },
  {
   "cell_type": "markdown",
   "id": "8bd8e7ed",
   "metadata": {},
   "source": [
    "<div style=\"border: 1px solid RGB(0,150,250);\" >\n",
    "<h3 style=\"margin: auto; padding: 20px; color: RGB(0,150,250); \">1.2 - Chargement des fichiers Excel</h3>\n",
    "</div>"
   ]
  },
  {
   "cell_type": "code",
   "execution_count": null,
   "id": "b304f108",
   "metadata": {},
   "outputs": [],
   "source": [
    "#Importation du fichier population.csv\n",
    "population = pd.read_csv('./datasets/population.csv')\n",
    "\n",
    "#Importation du fichier dispo_alimentaire.csv\n",
    "dispo_alimentaire = pd.read_csv('./datasets/dispo_alimentaire.csv')\n",
    "\n",
    "#Importation du fichier aide_alimentaire.csv\n",
    "aide_alimentaire = pd.read_csv('./datasets/aide_alimentaire.csv')\n",
    "\n",
    "#Importation du fichier sous_nutrition.csv\n",
    "sous_nutrition = pd.read_csv('./datasets/sous_nutrition.csv')"
   ]
  },
  {
   "cell_type": "markdown",
   "id": "1249847a",
   "metadata": {},
   "source": [
    "<div style=\"background-color: RGB(0,150,250);\" >\n",
    "<h2 style=\"margin: auto; padding: 20px; color:#fff; \">Etape 2 - Analyse exploratoire des fichiers</h2>\n",
    "</div>"
   ]
  },
  {
   "cell_type": "markdown",
   "id": "235e6e91",
   "metadata": {},
   "source": [
    "<div style=\"border: 1px solid RGB(0,150,250);\" >\n",
    "<h3 style=\"margin: auto; padding: 20px; color: RGB(0,150,250); \">2.1 - Analyse exploratoire du fichier population</h3>\n",
    "</div>"
   ]
  },
  {
   "cell_type": "code",
   "execution_count": null,
   "id": "e6b639d2",
   "metadata": {},
   "outputs": [],
   "source": [
    "#Afficher les dimensions du dataset\n",
    "print(\"Le tableau comporte {} observation(s) ou article(s)\".format(population.shape[0]))\n",
    "print(\"Le tableau comporte {} colonne(s)\".format(population.shape[1]))"
   ]
  },
  {
   "cell_type": "code",
   "execution_count": null,
   "id": "fbbdfd5c",
   "metadata": {},
   "outputs": [],
   "source": [
    "#Consulter le nombre de colonnes\n",
    "print(\"Le tableau comporte {} colonne(s)\".format(population.shape[1]))\n",
    "#La nature des données dans chacune des colonnes\n",
    "print(population.dtypes)\n",
    "#Le nombre de valeurs présentes dans chacune des colonnes\n",
    "print(population.count())"
   ]
  },
  {
   "cell_type": "code",
   "execution_count": null,
   "id": "3e50d9e6",
   "metadata": {},
   "outputs": [],
   "source": [
    "#Affichage les 5 premières lignes de la table\n",
    "population.head()"
   ]
  },
  {
   "cell_type": "code",
   "execution_count": null,
   "id": "ab1a4af4",
   "metadata": {},
   "outputs": [],
   "source": [
    "#Nous allons harmoniser les unités. Pour cela, nous avons décidé de multiplier la population par 1000\n",
    "#Multiplication de la colonne valeur par 1000\n",
    "population['Valeur'] = population['Valeur']*1000"
   ]
  },
  {
   "cell_type": "code",
   "execution_count": null,
   "id": "38836b61",
   "metadata": {},
   "outputs": [],
   "source": [
    "#changement du nom de la colonne Valeur par Population\n",
    "population = population.rename(columns={'Valeur': 'Population'})"
   ]
  },
  {
   "cell_type": "code",
   "execution_count": null,
   "id": "ff707561",
   "metadata": {},
   "outputs": [],
   "source": [
    "#Affichage les 5 premières lignes de la table pour voir les modifications\n",
    "population.head()\n"
   ]
  },
  {
   "cell_type": "markdown",
   "id": "4224b896",
   "metadata": {},
   "source": [
    "<div style=\"border: 1px solid RGB(0,150,250);\" >\n",
    "<h3 style=\"margin: auto; padding: 20px; color: RGB(0,150,250); \">2.2 - Analyse exploratoire du fichier disponibilité alimentaire</h3>\n",
    "</div>"
   ]
  },
  {
   "cell_type": "code",
   "execution_count": null,
   "id": "38f5b838",
   "metadata": {},
   "outputs": [],
   "source": [
    "#Afficher les dimensions du dataset\n",
    "print(\"Le tableau comporte {} observation(s) ou article(s)\".format(dispo_alimentaire.shape[0]))"
   ]
  },
  {
   "cell_type": "code",
   "execution_count": null,
   "id": "99735a22",
   "metadata": {},
   "outputs": [],
   "source": [
    "#Consulter le nombre de colonnes\n",
    "print(\"Le tableau comporte {} colonne(s)\".format(dispo_alimentaire.shape[1]))"
   ]
  },
  {
   "cell_type": "code",
   "execution_count": null,
   "id": "1bd8546c",
   "metadata": {},
   "outputs": [],
   "source": [
    "dispo_alimentaire.dtypes"
   ]
  },
  {
   "cell_type": "code",
   "execution_count": null,
   "id": "0058032d",
   "metadata": {},
   "outputs": [],
   "source": [
    "#Affichage les 5 premières lignes de la table\n",
    "dispo_alimentaire.head()"
   ]
  },
  {
   "cell_type": "code",
   "execution_count": null,
   "id": "f3832569",
   "metadata": {},
   "outputs": [],
   "source": [
    "#remplacement des NaN dans le dataset par des 0\n",
    "dispo_alimentaire = dispo_alimentaire.fillna(0)"
   ]
  },
  {
   "cell_type": "code",
   "execution_count": null,
   "id": "db4432e3",
   "metadata": {},
   "outputs": [],
   "source": [
    "# multiplication de toutes les lignes contenant des milliers de tonnes en Kg\n",
    "milliers_tonnes_col = [\n",
    "    \"Aliments pour animaux\",\n",
    "    \"Autres Utilisations\",\n",
    "    \"Disponibilité intérieure\",\n",
    "    \"Exportations - Quantité\",\n",
    "    \"Importations - Quantité\",\n",
    "    \"Nourriture\",\n",
    "    \"Pertes\",\n",
    "    \"Production\",\n",
    "    \"Semences\",\n",
    "    \"Traitement\",\n",
    "    \"Variation de stock\",\n",
    "]\n",
    "\n",
    "dispo_alimentaire[milliers_tonnes_col] = dispo_alimentaire[milliers_tonnes_col].apply(lambda x: x*1_000_000)"
   ]
  },
  {
   "cell_type": "code",
   "execution_count": null,
   "id": "7f1689bf",
   "metadata": {},
   "outputs": [],
   "source": [
    "#Affichage les 5 premières lignes de la table\n",
    "dispo_alimentaire.head()"
   ]
  },
  {
   "cell_type": "markdown",
   "id": "a09233e4",
   "metadata": {},
   "source": [
    "<div style=\"border: 1px solid RGB(0,150,250);\" >\n",
    "<h3 style=\"margin: auto; padding: 20px; color: RGB(0,150,250); \">2.3 - Analyse exploratoire du fichier aide alimentaire</h3>\n",
    "</div>"
   ]
  },
  {
   "cell_type": "code",
   "execution_count": null,
   "id": "702f6322",
   "metadata": {},
   "outputs": [],
   "source": [
    "#Afficher les dimensions du dataset\n",
    "print(\"Le tableau comporte {} observation(s) ou article(s)\".format(aide_alimentaire.shape[0]))"
   ]
  },
  {
   "cell_type": "code",
   "execution_count": null,
   "id": "8fead3f9",
   "metadata": {},
   "outputs": [],
   "source": [
    "#Consulter le nombre de colonnes\n",
    "print(\"Le tableau comporte {} colonne(s)\".format(aide_alimentaire.shape[1]))"
   ]
  },
  {
   "cell_type": "code",
   "execution_count": null,
   "id": "03b4c720",
   "metadata": {},
   "outputs": [],
   "source": [
    "aide_alimentaire.dtypes"
   ]
  },
  {
   "cell_type": "code",
   "execution_count": null,
   "id": "443ec245",
   "metadata": {},
   "outputs": [],
   "source": [
    "#Affichage les 5 premières lignes de la table\n",
    "aide_alimentaire.head().style.format({'Valeur': \"{:,}\"})"
   ]
  },
  {
   "cell_type": "code",
   "execution_count": null,
   "id": "af47212b",
   "metadata": {},
   "outputs": [],
   "source": [
    "#changement du nom de la colonne Pays bénéficiaire par Zone\n",
    "aide_alimentaire = aide_alimentaire.rename(columns={'Pays bénéficiaire': 'Zone'})"
   ]
  },
  {
   "cell_type": "code",
   "execution_count": null,
   "id": "c32cd1d8",
   "metadata": {},
   "outputs": [],
   "source": [
    "#Multiplication de la colonne Aide_alimentaire qui contient des tonnes par 1000 pour avoir des kg\n",
    "aide_alimentaire['Valeur'] = aide_alimentaire['Valeur']*1000"
   ]
  },
  {
   "cell_type": "code",
   "execution_count": null,
   "id": "d951d8df",
   "metadata": {},
   "outputs": [],
   "source": [
    "#Affichage les 5 premières lignes de la table\n",
    "aide_alimentaire.head().style.format({'Valeur': \"{:,}\"})"
   ]
  },
  {
   "cell_type": "markdown",
   "id": "eeae9043",
   "metadata": {},
   "source": [
    "<div style=\"border: 1px solid RGB(0,150,250);\" >\n",
    "<h3 style=\"margin: auto; padding: 20px; color: RGB(0,150,250); \">2.3 - Analyse exploratoire du fichier sous nutrition</h3>\n",
    "</div>"
   ]
  },
  {
   "cell_type": "code",
   "execution_count": null,
   "id": "882add3d",
   "metadata": {},
   "outputs": [],
   "source": [
    "#Afficher les dimensions du dataset\n",
    "print(\"Le tableau comporte {} observation(s) ou article(s)\".format(sous_nutrition.shape[0]))"
   ]
  },
  {
   "cell_type": "code",
   "execution_count": null,
   "id": "70c1a7a9",
   "metadata": {},
   "outputs": [],
   "source": [
    "#Consulter le nombre de colonnes\n",
    "print(\"Le tableau comporte {} colonne(s)\".format(sous_nutrition.shape[1]))"
   ]
  },
  {
   "cell_type": "code",
   "execution_count": null,
   "id": "5c6469e5",
   "metadata": {},
   "outputs": [],
   "source": [
    "#Afficher les 5 premières lignes de la table\n",
    "sous_nutrition.head()"
   ]
  },
  {
   "cell_type": "code",
   "execution_count": null,
   "id": "d31d2724",
   "metadata": {},
   "outputs": [],
   "source": [
    "#Conversion de la colonne (avec l'argument errors=coerce qui permet de convertir automatiquement les lignes qui ne sont pas des nombres en NaN)\n",
    "#Puis remplacement des NaN en 0\n",
    "sous_nutrition['Valeur'] = pd.to_numeric(sous_nutrition['Valeur'], errors='coerce')"
   ]
  },
  {
   "cell_type": "code",
   "execution_count": null,
   "id": "34c98232",
   "metadata": {},
   "outputs": [],
   "source": [
    "#changement du nom de la colonne Valeur par sous_nutrition\n",
    "sous_nutrition = sous_nutrition.rename(columns={'Valeur': 'Sous_nutrition'})"
   ]
  },
  {
   "cell_type": "code",
   "execution_count": null,
   "id": "002110fa",
   "metadata": {},
   "outputs": [],
   "source": [
    "#Multiplication de la colonne sous_nutrition par 1000000\n",
    "sous_nutrition['Sous_nutrition'] = sous_nutrition['Sous_nutrition']*1_000_000"
   ]
  },
  {
   "cell_type": "code",
   "execution_count": null,
   "id": "58259b55",
   "metadata": {},
   "outputs": [],
   "source": [
    "#Afficher les 5 premières lignes de la table\n",
    "sous_nutrition.head()"
   ]
  },
  {
   "cell_type": "code",
   "execution_count": null,
   "id": "4e027a15",
   "metadata": {},
   "outputs": [],
   "source": [
    "sous_nutrition['Année'].unique()"
   ]
  },
  {
   "cell_type": "markdown",
   "id": "df6dcabd",
   "metadata": {},
   "source": [
    "<div style=\"border: 1px solid RGB(0,150,250);\" >\n",
    "<h3 style=\"margin: auto; padding: 20px; color: RGB(0,150,250); \">3.1 - Proportion de personnes en sous nutrition</h3>\n",
    "</div>"
   ]
  },
  {
   "cell_type": "code",
   "execution_count": null,
   "id": "a63e1567",
   "metadata": {},
   "outputs": [],
   "source": [
    "# Il faut tout d'abord faire une jointure entre la table population et la table sous nutrition, en ciblant l'année 2017\n",
    "#Jointure entre la table population et la table sous_nutrition\n",
    "sous_nutrition_2017 = sous_nutrition[sous_nutrition['Année'] == '2016-2018']\n",
    "population_2017 = population[population['Année'] == 2017]\n",
    "\n",
    "population_sous_nutrition = pd.merge(population_2017, sous_nutrition_2017, on=['Zone'], how='inner').drop(columns=['Année_x', 'Année_y'])"
   ]
  },
  {
   "cell_type": "code",
   "execution_count": null,
   "id": "731eea39",
   "metadata": {},
   "outputs": [],
   "source": [
    "#Affichage du dataset\n",
    "population_sous_nutrition.head()"
   ]
  },
  {
   "cell_type": "code",
   "execution_count": null,
   "id": "28e2741f",
   "metadata": {},
   "outputs": [],
   "source": [
    "#Calcul et affichage du nombre de personnes en état de sous nutrition\n",
    "total_pop_2017 = np.round(population_sous_nutrition[\"Population\"].sum())\n",
    "print(\"{:.2} billion\".format(total_pop_2017/1_000_000_000))"
   ]
  },
  {
   "cell_type": "code",
   "execution_count": null,
   "id": "a7a450cd",
   "metadata": {},
   "outputs": [],
   "source": [
    "total_sous_nutri_2017 = np.round(population_sous_nutrition[\"Sous_nutrition\"].sum())\n",
    "print(\"{:} million\".format(total_sous_nutri_2017/1_000_000))"
   ]
  },
  {
   "cell_type": "code",
   "execution_count": null,
   "id": "69ebf59d",
   "metadata": {},
   "outputs": [],
   "source": [
    "total_sous_nutri_2017/total_pop_2017*100"
   ]
  },
  {
   "cell_type": "code",
   "execution_count": null,
   "id": "530abbbf",
   "metadata": {},
   "outputs": [],
   "source": [
    "import matplotlib.pyplot as plt\n",
    "\n",
    "# Data to plot\n",
    "labels = ['Undernourished', 'Others']\n",
    "sizes = [535e6, 7.5e9 - 535e6]  # 535 million undernourished, rest of the population\n",
    "colors = ['lightcoral', 'lightskyblue']\n",
    "explode = (0.1, 0)  # explode 1st slice\n",
    "\n",
    "# Plot\n",
    "plt.pie(sizes, explode=explode, labels=labels, colors=colors, autopct='%1.1f%%', shadow=True, startangle=140)\n",
    "plt.axis('equal')  # Equal aspect ratio ensures that pie is drawn as a circle.\n",
    "plt.title('Undernourished Population in 2017 (Total Population: 7.5 Billion)')\n",
    "plt.show()"
   ]
  },
  {
   "cell_type": "code",
   "execution_count": null,
   "id": "23ed2509",
   "metadata": {},
   "outputs": [],
   "source": []
  },
  {
   "cell_type": "code",
   "execution_count": null,
   "id": "45e329ec",
   "metadata": {},
   "outputs": [],
   "source": [
    "import plotly.express as px\n",
    "# import plotly.graph_objects as go\n",
    "\n",
    "# Calculate the sum of 'Population' and 'Sous_nutrition'\n",
    "df_sum = population_sous_nutrition[['Population', 'Sous_nutrition']].sum()\n",
    "\n",
    "# Calculate the rates\n",
    "sous_nutrition_rate = df_sum['Sous_nutrition'] / df_sum['Population'] * 100\n",
    "sufficient_nutrition_rate = 100 - sous_nutrition_rate\n",
    "\n",
    "# Create a new DataFrame for the pie chart\n",
    "df_pie = pd.DataFrame({\n",
    "    'Nutrition': ['Undernourished', 'Sufficient'],\n",
    "    'Rate': [sous_nutrition_rate, sufficient_nutrition_rate]\n",
    "})\n",
    "\n",
    "# Create the pie chart\n",
    "fig = px.pie(df_pie, values='Rate', names='Nutrition', title='Nutrition Status in 2017', hole=0.3)\n",
    "fig.update_traces(textinfo='percent+label', pull=[0.1, 0])\n",
    "fig.update_layout(width=800, height=600, annotations=[dict(text='Total Pop:<br> 7.5 Billion', showarrow=False)], showlegend=False)\n",
    "\n",
    "fig.show()"
   ]
  },
  {
   "cell_type": "code",
   "execution_count": null,
   "id": "9c41ad09",
   "metadata": {},
   "outputs": [],
   "source": [
    "df_pie"
   ]
  },
  {
   "cell_type": "markdown",
   "id": "b4134a24",
   "metadata": {},
   "source": [
    "<div style=\"border: 1px solid RGB(0,150,250);\" >\n",
    "<h3 style=\"margin: auto; padding: 20px; color: RGB(0,150,250); \">3.2 - Nombre théorique de personne qui pourrait être nourries</h3>\n",
    "</div>"
   ]
  },
  {
   "cell_type": "code",
   "execution_count": null,
   "id": "2b63df85",
   "metadata": {},
   "outputs": [],
   "source": [
    "#Combien mange en moyenne un être humain ? Source => \n",
    "#https://news.yahoo.com/much-humans-eat-numerical-breakdown-181300224.html?guccounter=1&guce_referrer=aHR0cHM6Ly93d3cuZ29vZ2xlLmNvbS8&guce_referrer_sig=AQAAALuJLrq4oPbwdPeKjMaGFqf8V-FPJbitkK6vIelD5UPvwQ1cx49nEXskW0-rkspJQHGFC61zncCC1Wa9yWOxEQMA01AEMa5OBdqXXInw25U7ZLMb9LsnU5nyBd1en8dvibMuDWEVtE_c2XghW-x_OwFjpSFgxQQTXFARYQDlWNPI"
   ]
  },
  {
   "cell_type": "code",
   "execution_count": null,
   "id": "5e3f262d",
   "metadata": {},
   "outputs": [],
   "source": [
    "#On commence par faire une jointure entre le data frame population et Dispo_alimentaire afin d'ajouter dans ce dernier la population\n",
    "#de chaque pays\n",
    "population_2017 = population[population['Année'] == 2017]\n",
    "dispo_alimentaire = pd.merge(dispo_alimentaire, population_2017[['Zone', 'Population']], on='Zone')\n"
   ]
  },
  {
   "cell_type": "code",
   "execution_count": null,
   "id": "4538126c",
   "metadata": {},
   "outputs": [],
   "source": [
    "#Affichage du nouveau dataframe\n",
    "dispo_alimentaire.head()"
   ]
  },
  {
   "cell_type": "code",
   "execution_count": null,
   "id": "a6d4af90",
   "metadata": {},
   "outputs": [],
   "source": [
    "# Calcul du nombre d'humains pouvant être nourris\n",
    "dispo_alimentaire[\"Disponibilité alimentaire en million (Kcal/jour)\"] = np.round(\n",
    "    (\n",
    "        dispo_alimentaire[\"Disponibilité alimentaire (Kcal/personne/jour)\"]\n",
    "        * dispo_alimentaire[\"Population\"]\n",
    "    ),\n",
    "    2,\n",
    ")\n",
    "total_dispo_alimentaire = np.round(\n",
    "    dispo_alimentaire[\"Disponibilité alimentaire en million (Kcal/jour)\"].sum()\n",
    ")\n",
    "humain_pouvant_nourris = total_dispo_alimentaire / 2250\n",
    "print(\"{:.2} billion\".format(humain_pouvant_nourris / 1_000_000_000))"
   ]
  },
  {
   "cell_type": "code",
   "execution_count": null,
   "id": "ba91d98d",
   "metadata": {},
   "outputs": [],
   "source": [
    "humain_pouvant_nourris/total_pop_2017*100"
   ]
  },
  {
   "cell_type": "code",
   "execution_count": null,
   "id": "4cdc7708",
   "metadata": {},
   "outputs": [],
   "source": [
    "# Data to plot\n",
    "categories = ['Actual Population', 'Can be Fed']\n",
    "values = [total_pop_2017, humain_pouvant_nourris]  # Actual population and number of people who can be fed\n",
    "\n",
    "# Create bar chart\n",
    "bars = plt.bar(categories, values, color=['lightskyblue', 'lightcoral'])\n",
    "plt.ylabel('Population (Billions)')\n",
    "plt.title('Population vs. Feeding Capacity in 2017')\n",
    "\n",
    "# Add a horizontal line at the 100% level (7.5 billion)\n",
    "plt.axhline(y=total_pop_2017, color='g', linestyle='--')\n",
    "# Annotate the percentage above the bars\n",
    "for bar in bars:\n",
    "    yval = bar.get_height()\n",
    "    plt.text(bar.get_x() + bar.get_width()/2, yval + 0.05e9, f'{yval/total_pop_2017*100:.0f}%', ha='center', va='bottom')\n",
    "    plt.text(bar.get_x() + bar.get_width()/2, yval/2, f'{yval/1e9:.1f}B', ha='center', va='center', color='white')\n",
    "    \n",
    "plt.show()"
   ]
  },
  {
   "cell_type": "code",
   "execution_count": null,
   "id": "1974a3c5",
   "metadata": {},
   "outputs": [],
   "source": [
    "import plotly.graph_objects as go\n",
    "\n",
    "# Data\n",
    "population = population_2017[\"Population\"].sum()\n",
    "capacity = humain_pouvant_nourris\n",
    "population_percent = 100\n",
    "capacity_percent = capacity / population * 100\n",
    "\n",
    "# Create a bar chart using Plotly\n",
    "fig = go.Figure(\n",
    "    data=[\n",
    "        go.Bar(\n",
    "            name=\"Population\",\n",
    "            x=[\"Population\"],\n",
    "            y=[population],\n",
    "            marker_color=\"blue\",\n",
    "            text=[f\"{population_percent:.0f}%\"],\n",
    "            textposition=\"outside\",\n",
    "        ),\n",
    "        go.Bar(\n",
    "            name=\"Capacity\",\n",
    "            x=[\"Capacity\"],\n",
    "            y=[capacity],\n",
    "            marker_color=\"green\",\n",
    "            text=[f\"{capacity_percent:.0f}%\"],\n",
    "            textposition=\"outside\",\n",
    "        ),\n",
    "    ]\n",
    ")\n",
    "\n",
    "# Update the layout\n",
    "fig.update_layout(\n",
    "    title=\"Comparison of Population and Feeding Capacity\",\n",
    "    yaxis_title=\"Population\",\n",
    "    barmode=\"group\",\n",
    "    showlegend=False,\n",
    "    width=800,\n",
    "    height=600\n",
    ")\n",
    "\n",
    "# Show the figure\n",
    "fig.show()"
   ]
  },
  {
   "cell_type": "markdown",
   "id": "e97c8886",
   "metadata": {},
   "source": [
    "<div style=\"border: 1px solid RGB(0,150,250);\" >\n",
    "<h3 style=\"margin: auto; padding: 20px; color: RGB(0,150,250); \">3.3 - Nombre théorique de personne qui pourrait être nourrie avec les produits végétaux</h3>\n",
    "</div>"
   ]
  },
  {
   "cell_type": "code",
   "execution_count": null,
   "id": "c2e3c87c",
   "metadata": {},
   "outputs": [],
   "source": [
    "#Transfert des données avec les végétaux dans un nouveau dataframe\n",
    "dispo_alimentaire_vegetaux = dispo_alimentaire[dispo_alimentaire['Origine'] == 'vegetale']"
   ]
  },
  {
   "cell_type": "code",
   "execution_count": null,
   "id": "534f3ad7",
   "metadata": {},
   "outputs": [],
   "source": [
    "# Calcul du nombre de kcal disponible pour les végétaux\n",
    "dispo_alimentaire_vegetaux[\"dispo_kcal\"] = np.round(\n",
    "    (\n",
    "        dispo_alimentaire_vegetaux[\"Disponibilité alimentaire (Kcal/personne/jour)\"]\n",
    "        * dispo_alimentaire_vegetaux[\"Population\"]\n",
    "    ),\n",
    "    2,\n",
    ")\n",
    "total_dispo_alimentaire_vegetaux = np.round(\n",
    "    dispo_alimentaire_vegetaux[\"dispo_kcal\"].sum()\n",
    ")\n",
    "print(\"{:,.2f} billion kcal\".format(total_dispo_alimentaire_vegetaux / 1_000_000_000))"
   ]
  },
  {
   "cell_type": "code",
   "execution_count": null,
   "id": "8c82da41",
   "metadata": {},
   "outputs": [],
   "source": [
    "# Calcul du nombre d'humains pouvant être nourris avec les végétaux\n",
    "humain_pouvant_nourris_vegetaux = total_dispo_alimentaire_vegetaux / 2250\n",
    "print(\"{:.2f} billion\".format(humain_pouvant_nourris_vegetaux / 1_000_000_000))"
   ]
  },
  {
   "cell_type": "code",
   "execution_count": null,
   "id": "54e0338e",
   "metadata": {},
   "outputs": [],
   "source": [
    "humain_pouvant_nourris_vegetaux/total_pop_2017*100"
   ]
  },
  {
   "cell_type": "code",
   "execution_count": null,
   "id": "5311fe44",
   "metadata": {},
   "outputs": [],
   "source": [
    "# Data to plot\n",
    "categories = ['Actual Population', 'Can be Fed']\n",
    "values = [total_pop_2017, humain_pouvant_nourris_vegetaux]  # Actual population and number of people who can be fed\n",
    "\n",
    "# Create bar chart\n",
    "bars = plt.bar(categories, values, color=['lightskyblue', 'lightcoral'])\n",
    "plt.ylabel('Population (Billions)')\n",
    "plt.title('Population vs. Feeding Capacity in 2017')\n",
    "\n",
    "# Add a horizontal line at the 100% level (7.5 billion)\n",
    "plt.axhline(y=total_pop_2017, color='g', linestyle='--')\n",
    "# Annotate the percentage above the bars\n",
    "for bar in bars:\n",
    "    yval = bar.get_height()\n",
    "    plt.text(bar.get_x() + bar.get_width()/2, yval + 0.05e9, f'{yval/total_pop_2017*100:.0f}%', ha='center', va='bottom')\n",
    "    plt.text(bar.get_x() + bar.get_width()/2, yval/2, f'{yval/1e9:.1f}B', ha='center', va='center', color='white')\n",
    "    \n",
    "plt.show()"
   ]
  },
  {
   "cell_type": "code",
   "execution_count": null,
   "id": "75c1f09c",
   "metadata": {},
   "outputs": [],
   "source": [
    "# Data\n",
    "population = population_2017[\"Population\"].sum()\n",
    "capacity = humain_pouvant_nourris_vegetaux\n",
    "population_percent = 100\n",
    "capacity_percent = capacity / population * 100\n",
    "\n",
    "# Create a bar chart using Plotly\n",
    "fig = go.Figure(\n",
    "    data=[\n",
    "        go.Bar(\n",
    "            name=\"Population\",\n",
    "            x=[\"Population\"],\n",
    "            y=[population],\n",
    "            marker_color=\"blue\",\n",
    "            text=[f\"{population_percent:.0f}%\"],\n",
    "            textposition=\"outside\",\n",
    "        ),\n",
    "        go.Bar(\n",
    "            name=\"Capacity\",\n",
    "            x=[\"Capacity\"],\n",
    "            y=[capacity],\n",
    "            marker_color=\"green\",\n",
    "            text=[f\"{capacity_percent:.0f}%\"],\n",
    "            textposition=\"outside\",\n",
    "        ),\n",
    "    ]\n",
    ")\n",
    "\n",
    "# Update the layout\n",
    "fig.update_layout(\n",
    "    title=\"Comparison of Population and Feeding Capacity by Vegetal Products\",\n",
    "    yaxis_title=\"Population\",\n",
    "    barmode=\"group\",\n",
    "    showlegend=False,\n",
    "    width=800,\n",
    "    height=600\n",
    ")\n",
    "\n",
    "# Show the figure\n",
    "fig.show()"
   ]
  },
  {
   "cell_type": "markdown",
   "id": "cd07afb1",
   "metadata": {},
   "source": [
    "<div style=\"border: 1px solid RGB(0,150,250);\" >\n",
    "<h3 style=\"margin: auto; padding: 20px; color: RGB(0,150,250); \">3.4 - Utilisation de la disponibilité intérieure</h3>\n",
    "</div>"
   ]
  },
  {
   "cell_type": "code",
   "execution_count": null,
   "id": "71328746",
   "metadata": {},
   "outputs": [],
   "source": [
    "#Calcul de la disponibilité totale\n",
    "dispo_alimentaire_total = dispo_alimentaire[\"Disponibilité intérieure\"].sum()\n",
    "print(\"{:,.2f} million\".format(dispo_alimentaire_total/1_000_000))"
   ]
  },
  {
   "cell_type": "code",
   "execution_count": null,
   "id": "983671ef",
   "metadata": {},
   "outputs": [],
   "source": [
    "# création d'une boucle for pour afficher les différentes valeurs en fonction des colonnes aliments pour animaux, pertes, nourritures,\n",
    "columns = [\"Aliments pour animaux\", \"Pertes\", \"Nourriture\", \"Semences\", \"Traitement\", \"Autres Utilisations\"]\n",
    "\n",
    "for col in columns:\n",
    "    dispo_alimentaire[col].fillna(0, inplace=True)\n",
    "    dispo_alimentaire_sum = dispo_alimentaire[col].sum()\n",
    "    dispo_alimentaire_proportion = dispo_alimentaire_sum / dispo_alimentaire_total\n",
    "    print(f\"{col} proportion is {dispo_alimentaire_proportion*100:.2f}%\")"
   ]
  },
  {
   "cell_type": "code",
   "execution_count": null,
   "id": "2a38edb2",
   "metadata": {},
   "outputs": [],
   "source": [
    "sums = []\n",
    "\n",
    "# Calculate the sum for each column and store it in the list\n",
    "for col in columns:\n",
    "    dispo_alimentaire[col].fillna(0, inplace=True)\n",
    "    dispo_alimentaire_sum = dispo_alimentaire[col].sum()\n",
    "    sums.append(dispo_alimentaire_sum)\n",
    "\n",
    "# Create a pie chart\n",
    "plt.pie(sums, labels=columns, autopct='%1.1f%%')\n",
    "plt.title(f'Breakdown of Food Availability {dispo_alimentaire_total/1_000_000:,.0f} million tonnes')\n",
    "plt.show()"
   ]
  },
  {
   "cell_type": "code",
   "execution_count": null,
   "id": "021bc7ee",
   "metadata": {},
   "outputs": [],
   "source": [
    "columns"
   ]
  },
  {
   "cell_type": "code",
   "execution_count": null,
   "id": "1b05a75f",
   "metadata": {},
   "outputs": [],
   "source": [
    "df_sum = []\n",
    "columns = [\"Aliments pour animaux\", \"Pertes\", \"Nourriture\", \"Semences\", \"Traitement\", \"Autres Utilisations\"]\n",
    "\n",
    "# Calculate the sum for each column and store it in the list\n",
    "for col in columns:\n",
    "    dispo_alimentaire[col].fillna(0, inplace=True)\n",
    "    dispo_alimentaire_sum = dispo_alimentaire[col].sum()\n",
    "    df_sum.append(dispo_alimentaire_sum)\n",
    "\n",
    "# Create the pie chart\n",
    "fig = px.pie(values=df_sum, names=columns, title='Breakdown of food availability in 2017', hole=0.3)\n",
    "fig.update_traces(textinfo='percent+label')\n",
    "fig.update_layout(width=800, height=600, annotations=[dict(text=f'Total Dispo Ali:<br> {dispo_alimentaire_total/1_000_000_000:,.0f} Billion', showarrow=False)], showlegend=False)\n",
    "\n",
    "fig.show()"
   ]
  },
  {
   "cell_type": "code",
   "execution_count": null,
   "id": "318bb901",
   "metadata": {},
   "outputs": [],
   "source": [
    "sums"
   ]
  },
  {
   "cell_type": "markdown",
   "id": "141d05df",
   "metadata": {},
   "source": [
    "<div style=\"border: 1px solid RGB(0,150,250);\" >\n",
    "<h3 style=\"margin: auto; padding: 20px; color: RGB(0,150,250); \">3.5 - Utilisation des céréales</h3>\n",
    "</div>"
   ]
  },
  {
   "cell_type": "markdown",
   "id": "4f3326f3",
   "metadata": {},
   "source": [
    "What is this section about???"
   ]
  },
  {
   "cell_type": "code",
   "execution_count": null,
   "id": "ea7319eb",
   "metadata": {},
   "outputs": [],
   "source": [
    "dispo_alimentaire[\"Produit\"].unique()"
   ]
  },
  {
   "cell_type": "code",
   "execution_count": null,
   "id": "c27448ff",
   "metadata": {},
   "outputs": [],
   "source": [
    "# Création d'une liste avec toutes les variables\n",
    "cereales = [\n",
    "    \"Blé\",\n",
    "    \"Riz (Eq Blanchi)\",\n",
    "    \"Orge\",\n",
    "    \"Maïs\",\n",
    "    \"Millet\",\n",
    "    \"Seigle\",\n",
    "    \"Avoine\",\n",
    "    \"Sorgho\",\n",
    "    \"Céréales, Autres\"\n",
    "]"
   ]
  },
  {
   "cell_type": "code",
   "execution_count": null,
   "id": "5dc5586d",
   "metadata": {},
   "outputs": [],
   "source": [
    "#Création d'un dataframe avec les informations uniquement pour ces céréales\n",
    "dispo_alimentaire_cereales = dispo_alimentaire[dispo_alimentaire['Produit'].isin(cereales)]\n",
    "dispo_alimentaire_cereales.head()"
   ]
  },
  {
   "cell_type": "code",
   "execution_count": null,
   "id": "2810790b",
   "metadata": {},
   "outputs": [],
   "source": [
    "dispo_alimentaire_cereales[\"Produit\"].unique()"
   ]
  },
  {
   "cell_type": "code",
   "execution_count": null,
   "id": "8365de95",
   "metadata": {},
   "outputs": [],
   "source": [
    "#Affichage de la proportion d'alimentation animale\n",
    "dispo_alimentaire_cereales['Aliments pour animaux'].fillna(0, inplace=True)\n",
    "dispo_alimentaire_cereal_total = dispo_alimentaire_cereales['Disponibilité intérieure'].sum()\n",
    "dispo_alimentaire_cereales_animaux = dispo_alimentaire_cereales['Aliments pour animaux'].sum()\n",
    "print(\"{:.2f} billion\".format(dispo_alimentaire_cereales_animaux / 1_000_000_000))"
   ]
  },
  {
   "cell_type": "code",
   "execution_count": null,
   "id": "6f5e93c7",
   "metadata": {},
   "outputs": [],
   "source": [
    "#Affichage de la proportion d'alimentation animale\n",
    "print(f\"Aliments pour animaux proportion is {dispo_alimentaire_cereales_animaux/dispo_alimentaire_cereal_total*100:.2f}%\")"
   ]
  },
  {
   "cell_type": "code",
   "execution_count": null,
   "id": "99f39b3a",
   "metadata": {},
   "outputs": [],
   "source": [
    "dispo_alimentaire_celreales_nurriture = dispo_alimentaire_cereales[\"Nourriture\"].sum()\n",
    "print(\"{:.2f} billion\".format(dispo_alimentaire_celreales_nurriture / 1_000_000_000))"
   ]
  },
  {
   "cell_type": "code",
   "execution_count": null,
   "id": "4ae47496",
   "metadata": {},
   "outputs": [],
   "source": [
    "print(f\"Aliments pour nourriture is {dispo_alimentaire_celreales_nurriture/dispo_alimentaire_cereal_total*100:.2f}%\")"
   ]
  },
  {
   "cell_type": "code",
   "execution_count": null,
   "id": "44026a56",
   "metadata": {},
   "outputs": [],
   "source": [
    "# Calculate the proportions\n",
    "nourriture_prop = dispo_alimentaire_celreales_nurriture / dispo_alimentaire_cereal_total\n",
    "animaux_prop = dispo_alimentaire_cereales_animaux / dispo_alimentaire_cereal_total\n",
    "others = 1 - nourriture_prop - animaux_prop\n",
    "\n",
    "# Create a pie chart\n",
    "plt.pie([nourriture_prop, animaux_prop, others], labels=['Aliments pour nourriture', 'Aliments pour animaux', 'others'], autopct='%1.1f%%')\n",
    "plt.title('Breakdown of Cereal Usage')\n",
    "plt.show()"
   ]
  },
  {
   "cell_type": "code",
   "execution_count": null,
   "id": "d0cc0dcb",
   "metadata": {},
   "outputs": [],
   "source": [
    "# Calculate the proportions\n",
    "nourriture_prop = dispo_alimentaire_celreales_nurriture / dispo_alimentaire_cereal_total\n",
    "animaux_prop = dispo_alimentaire_cereales_animaux / dispo_alimentaire_cereal_total\n",
    "others = 1 - nourriture_prop - animaux_prop\n",
    "\n",
    "# Create the data for the pie chart\n",
    "values = [nourriture_prop, animaux_prop, others]\n",
    "labels = [\"Aliments pour nourriture\", \"Aliments pour animaux\", \"Others\"]\n",
    "\n",
    "# Create the pie chart using Plotly\n",
    "fig = px.pie(values=values, names=labels, title=\"Breakdown of Cereal Usage\", hole=0.3)\n",
    "fig.update_traces(textinfo=\"percent+label\")\n",
    "fig.update_layout(\n",
    "    width=800,\n",
    "    height=600,\n",
    "    annotations=[\n",
    "        dict(\n",
    "            text=f\"Total Dispo Cereal:<br> {dispo_alimentaire_cereal_total/1_000_000_000:,.0f} Billion\",\n",
    "            showarrow=False,\n",
    "        )\n",
    "    ],\n",
    "    showlegend=False,\n",
    ")\n",
    "\n",
    "# Show the figure\n",
    "fig.show()"
   ]
  },
  {
   "cell_type": "markdown",
   "id": "a603be79",
   "metadata": {},
   "source": [
    "<div style=\"border: 1px solid RGB(0,150,250);\" >\n",
    "<h3 style=\"margin: auto; padding: 20px; color: RGB(0,150,250); \">3.6 - Pays avec la proportion de personnes sous-alimentée la plus forte en 2017</h3>\n",
    "</div>"
   ]
  },
  {
   "cell_type": "code",
   "execution_count": null,
   "id": "240ac1bf",
   "metadata": {},
   "outputs": [],
   "source": [
    "population_sous_nutrition"
   ]
  },
  {
   "cell_type": "code",
   "execution_count": null,
   "id": "1884c270",
   "metadata": {},
   "outputs": [],
   "source": [
    "# Pays avec la proportion de personnes sous-alimentée la plus forte en 2017\n",
    "#Création de la colonne proportion par pays\n",
    "population_sous_nutrition['Proportion'] = (population_sous_nutrition['Sous_nutrition']/population_sous_nutrition['Population'])*100"
   ]
  },
  {
   "cell_type": "code",
   "execution_count": null,
   "id": "25a185b6",
   "metadata": {},
   "outputs": [],
   "source": [
    "#affichage après trie des 10 pires pays\n",
    "population_sous_nutrition.sort_values(by='Proportion', ascending=False).head(10)"
   ]
  },
  {
   "cell_type": "code",
   "execution_count": null,
   "id": "d2d19074",
   "metadata": {},
   "outputs": [],
   "source": [
    "# Sort the data and select the top 10 countries\n",
    "top_10_countries = population_sous_nutrition.sort_values(by='Proportion', ascending=False).head(10)\n",
    "top_10_countries.set_index('Zone', inplace=True)\n",
    "\n",
    "fig = plt.figure(figsize=(10, 6))\n",
    "# Create a bar chart\n",
    "plt.barh(top_10_countries.index, top_10_countries['Proportion'], color='skyblue')\n",
    "plt.xlabel('Number of Undernourished People')\n",
    "plt.title('Top 10 Countries with Highest Number of Undernourished Population in 2017')\n",
    "plt.gca().invert_yaxis()  # Invert the y-axis to display the country with the highest number at the top\n",
    "plt.show()"
   ]
  },
  {
   "cell_type": "code",
   "execution_count": null,
   "id": "54ef9a76",
   "metadata": {},
   "outputs": [],
   "source": [
    "# Sort the data and select the top 10 countries\n",
    "top_10_countries = population_sous_nutrition.sort_values(by='Proportion', ascending=False).head(10)\n",
    "\n",
    "# Create the bar chart using Plotly\n",
    "fig = px.bar(top_10_countries, x='Proportion', y='Zone', orientation='h', \n",
    "             title='Top 10 Countries with Highest Percentage of Undernourished Population in 2017', \n",
    "             labels={'Proportion': 'Percentage(%)', 'Zone': ''},\n",
    "             color='Proportion', color_continuous_scale='reds',\n",
    "             text=f'Proportion')\n",
    "\n",
    "# Update the layout to invert the y-axis\n",
    "fig.update_layout(width=1200, height=600, yaxis=dict(autorange='reversed'), coloraxis_showscale=False, template='plotly_white',)\n",
    "fig.update_traces(texttemplate='%{text:.0f}%', textposition='inside')\n",
    "\n",
    "# Show the figure\n",
    "fig.show()"
   ]
  },
  {
   "cell_type": "code",
   "execution_count": null,
   "id": "229c2ba0",
   "metadata": {},
   "outputs": [],
   "source": [
    "#population_sous_nutrition.sort_values(by='Sous_nutrition', ascending=False).head(10)"
   ]
  },
  {
   "cell_type": "markdown",
   "id": "4f610008",
   "metadata": {},
   "source": [
    "<div style=\"border: 1px solid RGB(0,150,250);\" >\n",
    "<h3 style=\"margin: auto; padding: 20px; color: RGB(0,150,250); \">3.7 - Pays qui ont le plus bénéficié d'aide alimentaire depuis 2013</h3>\n",
    "</div>"
   ]
  },
  {
   "cell_type": "code",
   "execution_count": null,
   "id": "ff1b24a3",
   "metadata": {},
   "outputs": [],
   "source": [
    "#Pays qui ont le plus bénéficié d'aide alimentaire depuis 2013\n",
    "#calcul du total de l'aide alimentaire par pays\n",
    "aide_alimentaire_total = aide_alimentaire.groupby('Zone')['Valeur'].sum().reset_index()"
   ]
  },
  {
   "cell_type": "code",
   "execution_count": null,
   "id": "ee1ac6fb",
   "metadata": {},
   "outputs": [],
   "source": [
    "#affichage après trie des 10 pays qui ont bénéficié le plus de l'aide alimentaire\n",
    "aide_alimentaire_total.sort_values(by='Valeur', ascending=False).head(10).style.format({'Valeur': \"{:,}\"})"
   ]
  },
  {
   "cell_type": "code",
   "execution_count": null,
   "id": "28970f5f",
   "metadata": {},
   "outputs": [],
   "source": [
    "# Sort the data and select the top 10 countries\n",
    "aide_alimentaire_total = aide_alimentaire_total.sort_values(by='Valeur', ascending=False).head(10)\n",
    "aide_alimentaire_total.set_index('Zone', inplace=True)\n",
    "\n",
    "fig = plt.figure(figsize=(10, 6))\n",
    "# Create a bar chart\n",
    "plt.barh(aide_alimentaire_total.index, aide_alimentaire_total['Valeur'], color='skyblue')\n",
    "plt.xlabel('aid received since 2013')\n",
    "plt.title('Top 10 Countries with Highest amount of aid received since 2013-2016')\n",
    "plt.gca().invert_yaxis()  # Invert the y-axis to display the country with the highest number at the top\n",
    "plt.show()"
   ]
  },
  {
   "cell_type": "code",
   "execution_count": null,
   "id": "f4e9bc6b",
   "metadata": {},
   "outputs": [],
   "source": [
    "aide_alimentaire_total = aide_alimentaire_total.sort_values(by='Valeur', ascending=False).head(10)\n",
    "\n",
    "# Create the bar chart using Plotly\n",
    "fig = px.bar(aide_alimentaire_total, x='Valeur', y='Zone', orientation='h', \n",
    "             title='Top 10 Countries with Highest Amount of Aid Received Since 2013-2016', \n",
    "             labels={'Valeur': 'Aid Received', 'Zone': 'Country'},\n",
    "             text='Valeur',\n",
    "             color='Valeur', color_continuous_scale='blues')\n",
    "\n",
    "# Update the layout to invert the y-axis and remove x-axis title and color bar\n",
    "fig.update_layout(\n",
    "    yaxis=dict(autorange='reversed', title=None),\n",
    "    xaxis_title='Aid Received Since 2013',\n",
    "    coloraxis_showscale=False,\n",
    "    width=1200,\n",
    "    height=600,\n",
    "    template='plotly_white',\n",
    ")\n",
    "\n",
    "# Format the text to be displayed directly on the bars\n",
    "fig.update_traces(texttemplate='%{text:,.0f}', textposition='inside')\n",
    "\n",
    "# Show the figure\n",
    "fig.show()"
   ]
  },
  {
   "cell_type": "markdown",
   "id": "a361ce61",
   "metadata": {},
   "source": [
    "<div style=\"border: 1px solid RGB(0,150,250);\" >\n",
    "<h3 style=\"margin: auto; padding: 20px; color: RGB(0,150,250); \">3.8 - Evolution des 5 pays qui ont le plus bénéficiés de l'aide alimentaire entre 2013 et 2016</h3>\n",
    "</div>"
   ]
  },
  {
   "cell_type": "code",
   "execution_count": null,
   "id": "1ee959da",
   "metadata": {},
   "outputs": [],
   "source": [
    "aide_alimentaire[\"Année\"].unique()"
   ]
  },
  {
   "cell_type": "code",
   "execution_count": null,
   "id": "09d55114",
   "metadata": {},
   "outputs": [],
   "source": [
    "#Evolution des 5 pays qui ont le plus bénéficiés de l'aide alimentaire entre 2013 et 2016\n",
    "#Création d'un dataframe avec la zone, l'année et l'aide alimentaire puis groupby sur zone et année \n",
    "aide_alimentaire_zone = aide_alimentaire.groupby(['Zone', 'Année'])['Valeur'].sum().reset_index()"
   ]
  },
  {
   "cell_type": "code",
   "execution_count": null,
   "id": "6bd577b0",
   "metadata": {},
   "outputs": [],
   "source": [
    "#Création d'une liste contenant les 5 pays qui ont le plus bénéficiées de l'aide alimentaire\n",
    "top_5_aide_alimentaire = aide_alimentaire_total.sort_values(by='Valeur', ascending=False).head(5)['Zone'].tolist()"
   ]
  },
  {
   "cell_type": "code",
   "execution_count": null,
   "id": "41612dbd",
   "metadata": {},
   "outputs": [],
   "source": [
    "#On filtre sur le dataframe avec notre liste\n",
    "aide_alimentaire_zone = aide_alimentaire_zone[aide_alimentaire_zone['Zone'].isin(top_5_aide_alimentaire)]"
   ]
  },
  {
   "cell_type": "code",
   "execution_count": null,
   "id": "5680e72d",
   "metadata": {},
   "outputs": [],
   "source": [
    "# Affichage des pays avec l'aide alimentaire par année\n",
    "aide_alimentaire_zone.style.format({'Valeur': \"{:,}\"})"
   ]
  },
  {
   "cell_type": "code",
   "execution_count": null,
   "id": "c9d79822",
   "metadata": {},
   "outputs": [],
   "source": [
    "# Assuming aide_alimentaire_zone is a DataFrame with columns 'Year', 'Country' and 'Aid'\n",
    "pivot_df = aide_alimentaire_zone.pivot(index='Année', columns='Zone', values='Valeur')\n",
    "\n",
    "pivot_df.plot(kind='line')\n",
    "\n",
    "plt.title('Aid Received Over Time')\n",
    "plt.xlabel('Year')\n",
    "plt.ylabel('Aid Received')\n",
    "plt.show()"
   ]
  },
  {
   "cell_type": "code",
   "execution_count": null,
   "id": "a3c32b8d",
   "metadata": {},
   "outputs": [],
   "source": [
    "pivot_df = aide_alimentaire_zone.pivot(index='Année', columns='Zone', values='Valeur')\n",
    "\n",
    "# Create a Plotly figure\n",
    "fig = go.Figure()\n",
    "\n",
    "# Add a trace for each zone\n",
    "for zone in pivot_df.columns:\n",
    "    fig.add_trace(go.Scatter(x=pivot_df.index, y=pivot_df[zone], mode='lines+markers', name=zone))\n",
    "\n",
    "# Add title and labels\n",
    "fig.update_layout(\n",
    "    title='Aid Received Over Time',\n",
    "    xaxis_title='Year',\n",
    "    yaxis_title='Aid Received'\n",
    ")\n",
    "\n",
    "# Show the figure\n",
    "fig.show()"
   ]
  },
  {
   "cell_type": "code",
   "execution_count": null,
   "id": "d95ff26a",
   "metadata": {},
   "outputs": [],
   "source": [
    "# Assuming pivot_df is the DataFrame after pivot\n",
    "pivot_df = aide_alimentaire_zone.pivot(index='Année', columns='Zone', values='Valeur')\n",
    "\n",
    "title = 'Aid Received Over Time'\n",
    "labels = pivot_df.columns.tolist()\n",
    "colors = ['rgb(67,67,67)', 'rgb(115,115,115)', 'rgb(107,107,107)', 'rgb(49,130,189)', 'rgb(189,189,189)']\n",
    "\n",
    "mode_size = [8, 8, 8, 12, 8]\n",
    "line_size = [2, 2, 2, 4, 2]\n",
    "\n",
    "x_data = pivot_df.index\n",
    "\n",
    "fig = go.Figure()\n",
    "\n",
    "# Add a trace for each zone\n",
    "for i, zone in enumerate(labels):\n",
    "    y_data = pivot_df[zone].values\n",
    "    fig.add_trace(go.Scatter(\n",
    "        x=x_data, y=y_data, mode='lines',\n",
    "        name=zone,\n",
    "        line=dict(color=colors[i % len(colors)], width=line_size[i % len(line_size)]),\n",
    "        connectgaps=True\n",
    "    ))\n",
    "\n",
    "    # Endpoints\n",
    "    fig.add_trace(go.Scatter(\n",
    "        x=[x_data[0], x_data[-1]],\n",
    "        y=[y_data[0], y_data[-1]],\n",
    "        mode='markers',\n",
    "        marker=dict(color=colors[i % len(colors)], size=mode_size[i % len(mode_size)])\n",
    "    ))\n",
    "\n",
    "fig.update_layout(\n",
    "    xaxis=dict(\n",
    "        showline=True,\n",
    "        showgrid=False,\n",
    "        showticklabels=True,\n",
    "        linecolor='rgb(204, 204, 204)',\n",
    "        linewidth=2,\n",
    "        ticks='outside',\n",
    "        tickfont=dict(\n",
    "            family='Arial',\n",
    "            size=12,\n",
    "            color='rgb(82, 82, 82)',\n",
    "        ),\n",
    "        tickvals=[2013,2014,2015,2016]\n",
    "    ),\n",
    "    yaxis=dict(\n",
    "        showgrid=False,\n",
    "        zeroline=False,\n",
    "        showline=False,\n",
    "        showticklabels=False,\n",
    "    ),\n",
    "    autosize=False,\n",
    "    margin=dict(\n",
    "        autoexpand=False,\n",
    "        l=200,\n",
    "        r=20,\n",
    "        t=110,\n",
    "    ),\n",
    "    showlegend=False,\n",
    "    plot_bgcolor='white',\n",
    ")\n",
    "\n",
    "annotations = []\n",
    "\n",
    "# Adding labels\n",
    "for i, zone in enumerate(labels):\n",
    "    y_data = pivot_df[zone].values\n",
    "    color = colors[i % len(colors)]\n",
    "    # Labeling the left side of the plot\n",
    "    annotations.append(dict(xref='paper', x=0.05, y=y_data[0],\n",
    "                                  xanchor='right', yanchor='middle',\n",
    "                                  text=zone + ' {}M'.format(int(y_data[0] / 1_000_000)),\n",
    "                                  font=dict(family='Arial',\n",
    "                                            size=16),\n",
    "                                  showarrow=False))\n",
    "\n",
    "    # Find the last valid index\n",
    "    last_valid_index = len(y_data) - 1\n",
    "    while last_valid_index >= 0 and pd.isna(y_data[last_valid_index]):\n",
    "        last_valid_index -= 1\n",
    "\n",
    "    # Labeling the right side of the plot at the last valid index\n",
    "    if last_valid_index >= 0:\n",
    "        annotations.append(dict(xref='x', x=x_data[last_valid_index], y=y_data[last_valid_index],\n",
    "                                      xanchor='left', yanchor='middle',\n",
    "                                      text='{}M'.format(int(y_data[last_valid_index] / 1_000_000)),\n",
    "                                      font=dict(family='Arial',\n",
    "                                                size=16),\n",
    "                                      showarrow=False))\n",
    "\n",
    "# Title\n",
    "annotations.append(dict(xref='paper', yref='paper', x=0.0, y=1.05,\n",
    "                              xanchor='left', yanchor='bottom',\n",
    "                              text=title,\n",
    "                              font=dict(family='Arial',\n",
    "                                        size=30,\n",
    "                                        color='rgb(37,37,37)'),\n",
    "                              showarrow=False))\n",
    "\n",
    "fig.update_layout(annotations=annotations, width=1500, height=600)\n",
    "\n",
    "fig.show()\n"
   ]
  },
  {
   "cell_type": "markdown",
   "id": "bd392dac",
   "metadata": {},
   "source": [
    "<div style=\"border: 1px solid RGB(0,150,250);\" >\n",
    "<h3 style=\"margin: auto; padding: 20px; color: RGB(0,150,250); \">3.9 - Pays avec le moins de disponibilité par habitant</h3>\n",
    "</div>"
   ]
  },
  {
   "cell_type": "code",
   "execution_count": null,
   "id": "fb3a378b",
   "metadata": {},
   "outputs": [],
   "source": [
    "#Calcul de la disponibilité en kcal par personne par jour par pays\n",
    "dispo_alimentaire_par_pays = dispo_alimentaire.groupby('Zone')['Disponibilité alimentaire (Kcal/personne/jour)'].sum().reset_index()"
   ]
  },
  {
   "cell_type": "code",
   "execution_count": null,
   "id": "70c0f689",
   "metadata": {},
   "outputs": [],
   "source": [
    "#Affichage des 10 pays qui ont le moins de dispo alimentaire par personne \n",
    "dispo_alimentaire_par_pays.sort_values(by='Disponibilité alimentaire (Kcal/personne/jour)').head(10)"
   ]
  },
  {
   "cell_type": "code",
   "execution_count": null,
   "id": "a32181bb",
   "metadata": {},
   "outputs": [],
   "source": [
    "# Group and sort the data\n",
    "dispo_alimentaire_par_pays = dispo_alimentaire.groupby('Zone')['Disponibilité alimentaire (Kcal/personne/jour)'].sum().reset_index()\n",
    "dispo_alimentaire_par_pays = dispo_alimentaire_par_pays.sort_values(by='Disponibilité alimentaire (Kcal/personne/jour)', ascending=True).head(10)\n",
    "dispo_alimentaire_par_pays.set_index('Zone', inplace=True)\n",
    "\n",
    "# Create the Plotly bar chart\n",
    "fig = go.Figure(go.Bar(\n",
    "    x=dispo_alimentaire_par_pays['Disponibilité alimentaire (Kcal/personne/jour)'],\n",
    "    y=dispo_alimentaire_par_pays.index,\n",
    "    orientation='h',\n",
    "    marker=dict(\n",
    "        color=dispo_alimentaire_par_pays['Disponibilité alimentaire (Kcal/personne/jour)'],\n",
    "        colorscale='Reds',  # Change to a continuous color scale\n",
    "        reversescale=True,  # Add this line to reverse the color scale\n",
    "        # colorbar=dict(\n",
    "        #     title='Kcal/personne/jour',\n",
    "        #     tickvals=dispo_alimentaire_par_pays['Disponibilité alimentaire (Kcal/personne/jour)']\n",
    "        # )\n",
    "    ),\n",
    "    text=dispo_alimentaire_par_pays['Disponibilité alimentaire (Kcal/personne/jour)']\n",
    "))\n",
    "\n",
    "fig.update_layout(\n",
    "    title='Top 10 Pays avec le moins de disponibilité par habitant',\n",
    "    xaxis_title='Disponibilité alimentaire (Kcal/personne/jour)',\n",
    "    yaxis_title='',\n",
    "    yaxis=dict(autorange='reversed'),  # Invert the y-axis to display the country with the highest number at the top\n",
    "    template='plotly_white',\n",
    "    width= 1500,\n",
    "    height= 600,\n",
    ")\n",
    "# Format the text to be displayed directly on the bars\n",
    "fig.update_traces(texttemplate='%{text:,.0f}', textposition='inside')\n",
    "\n",
    "fig.show()"
   ]
  },
  {
   "cell_type": "markdown",
   "id": "2553ed12",
   "metadata": {},
   "source": [
    "<div style=\"border: 1px solid RGB(0,150,250);\" >\n",
    "<h3 style=\"margin: auto; padding: 20px; color: RGB(0,150,250); \">3.10 - Pays avec le plus de disponibilité par habitant</h3>\n",
    "</div>"
   ]
  },
  {
   "cell_type": "code",
   "execution_count": null,
   "id": "63e835c6",
   "metadata": {},
   "outputs": [],
   "source": [
    "#Affichage des 10 pays qui ont le plus de dispo alimentaire par personne \n",
    "dispo_alimentaire_par_pays.sort_values(by='Disponibilité alimentaire (Kcal/personne/jour)', ascending=False).head(10)"
   ]
  },
  {
   "cell_type": "code",
   "execution_count": null,
   "id": "db340797",
   "metadata": {},
   "outputs": [],
   "source": [
    "dispo_alimentaire_par_pays = dispo_alimentaire.groupby('Zone')['Disponibilité alimentaire (Kcal/personne/jour)'].sum().reset_index()\n",
    "# Sort the data and select the top 10 countries\n",
    "dispo_alimentaire_par_pays = dispo_alimentaire_par_pays.sort_values(by='Disponibilité alimentaire (Kcal/personne/jour)', ascending=False).head(10)\n",
    "dispo_alimentaire_par_pays.set_index('Zone', inplace=True)\n",
    "\n",
    "fig = plt.figure(figsize=(10, 6))\n",
    "# Create a bar chart\n",
    "plt.barh(dispo_alimentaire_par_pays.index, dispo_alimentaire_par_pays['Disponibilité alimentaire (Kcal/personne/jour)'], color='skyblue')\n",
    "plt.xlabel('aid received since 2013')\n",
    "plt.title('Top 10 Countries with Highest amount of aid received since 2013')\n",
    "plt.gca().invert_yaxis()  # Invert the y-axis to display the country with the highest number at the top\n",
    "plt.show()"
   ]
  },
  {
   "cell_type": "code",
   "execution_count": null,
   "id": "5eeebf5a",
   "metadata": {},
   "outputs": [],
   "source": [
    "# Group and sort the data\n",
    "dispo_alimentaire_par_pays = dispo_alimentaire.groupby('Zone')['Disponibilité alimentaire (Kcal/personne/jour)'].sum().reset_index()\n",
    "dispo_alimentaire_par_pays = dispo_alimentaire_par_pays.sort_values(by='Disponibilité alimentaire (Kcal/personne/jour)', ascending=False).head(10)\n",
    "dispo_alimentaire_par_pays.set_index('Zone', inplace=True)\n",
    "\n",
    "# Create the Plotly bar chart\n",
    "fig = go.Figure(go.Bar(\n",
    "    x=dispo_alimentaire_par_pays['Disponibilité alimentaire (Kcal/personne/jour)'],\n",
    "    y=dispo_alimentaire_par_pays.index,\n",
    "    orientation='h',\n",
    "    marker=dict(\n",
    "        color=dispo_alimentaire_par_pays['Disponibilité alimentaire (Kcal/personne/jour)'],\n",
    "        colorscale='Blues',  # Change to a continuous color scale\n",
    "        # reversescale=True,  # Add this line to reverse the color scale\n",
    "        # colorbar=dict(\n",
    "        #     title='Kcal/personne/jour',\n",
    "        #     tickvals=dispo_alimentaire_par_pays['Disponibilité alimentaire (Kcal/personne/jour)']\n",
    "        # )\n",
    "    ),\n",
    "    text=dispo_alimentaire_par_pays['Disponibilité alimentaire (Kcal/personne/jour)']\n",
    "))\n",
    "\n",
    "fig.update_layout(\n",
    "    title='Top 10 Pays avec le moins de disponibilité par habitant',\n",
    "    xaxis_title='Disponibilité alimentaire (Kcal/personne/jour)',\n",
    "    yaxis_title='',\n",
    "    yaxis=dict(autorange='reversed'),  # Invert the y-axis to display the country with the highest number at the top\n",
    "    template='plotly_white',\n",
    "    width= 1500,\n",
    "    height= 600,\n",
    ")\n",
    "# Format the text to be displayed directly on the bars\n",
    "fig.update_traces(texttemplate='%{text:,.0f}', textposition='inside')\n",
    "\n",
    "fig.show()"
   ]
  },
  {
   "cell_type": "markdown",
   "id": "58d7248b",
   "metadata": {},
   "source": [
    "<div style=\"border: 1px solid RGB(0,150,250);\" >\n",
    "<h3 style=\"margin: auto; padding: 20px; color: RGB(0,150,250); \">3.11 - Exemple de la Thaïlande pour le Manioc</h3>\n",
    "</div>"
   ]
  },
  {
   "cell_type": "code",
   "execution_count": null,
   "id": "ec9ca912",
   "metadata": {},
   "outputs": [],
   "source": [
    "#Exemple de la Thaïlande pour le Manioc\n",
    "#création d'un dataframe avec uniquement la Thaïlande \n",
    "dispo_alimentaire_thailande = dispo_alimentaire[dispo_alimentaire['Zone'] == 'Thaïlande']"
   ]
  },
  {
   "cell_type": "code",
   "execution_count": null,
   "id": "85693912",
   "metadata": {},
   "outputs": [],
   "source": [
    "#Calcul de la sous nutrition en Thaïlande\n",
    "sous_nutrition_thailande = sous_nutrition_2017[sous_nutrition_2017['Zone'] == 'Thaïlande']\n",
    "print(sous_nutrition_thailande)\n"
   ]
  },
  {
   "cell_type": "code",
   "execution_count": null,
   "id": "f19cd96e",
   "metadata": {},
   "outputs": [],
   "source": [
    "# On calcule la proportion exportée en fonction de la proportion\n",
    "# disponible intérieurement pour chaque produit\n",
    "dispo_alimentaire_thailande['Exportation (%)'] = dispo_alimentaire_thailande['Exportations - Quantité'] / dispo_alimentaire_thailande['Production'] * 100\n",
    "dispo_alimentaire_thailande[dispo_alimentaire_thailande[\"Produit\"] == \"Manioc\"]\n"
   ]
  },
  {
   "cell_type": "code",
   "execution_count": null,
   "id": "e1fbe0bb",
   "metadata": {},
   "outputs": [],
   "source": [
    "# Filter the data for the product \"Manioc\"\n",
    "manioc_data = dispo_alimentaire_thailande[dispo_alimentaire_thailande[\"Produit\"] == \"Manioc\"]\n",
    "\n",
    "# Calculate exportation and consumption proportions\n",
    "exportation = manioc_data['Exportation (%)'].mean() / 100\n",
    "consumption = 1 - exportation\n",
    "\n",
    "# Create a pie chart\n",
    "plt.pie([exportation, consumption], labels=['Exportation', 'Consumption'], autopct='%1.1f%%')\n",
    "plt.title('Exportation of Manioc in Thailand')\n",
    "plt.show()"
   ]
  },
  {
   "cell_type": "code",
   "execution_count": null,
   "id": "12be71f3",
   "metadata": {},
   "outputs": [],
   "source": [
    "manioc_data['Exportation (%)'] = manioc_data['Exportation (%)'].astype(float)\n",
    "exportation = manioc_data['Exportation (%)'] / 100\n",
    "print(exportation)"
   ]
  },
  {
   "cell_type": "code",
   "execution_count": null,
   "id": "7d004279",
   "metadata": {},
   "outputs": [],
   "source": [
    "# Filter the data for the product \"Manioc\"\n",
    "manioc_data = dispo_alimentaire_thailande[dispo_alimentaire_thailande[\"Produit\"] == \"Manioc\"]\n",
    "\n",
    "# Calculate exportation and consumption proportions\n",
    "exportation = manioc_data['Exportation (%)'].mean() / 100\n",
    "consumption = 1 - exportation\n",
    "total_manioc_prod = manioc_data['Production'].mean()\n",
    "\n",
    "# Create a pie chart\n",
    "fig = go.Figure(data=[go.Pie(labels=['Exportation', 'Consumption'], values=[exportation, consumption], hole=0.3)])\n",
    "fig.update_traces(textinfo='percent+label')\n",
    "fig.update_layout(title_text='Exportation of Manioc in Thailand', width=800, height=600, showlegend=False, annotations=[dict(text=f'Total Manioc:<br>{total_manioc_prod/1_000_000_000:,.0f} Billion', showarrow=False)])\n",
    "fig.show()\n"
   ]
  },
  {
   "cell_type": "markdown",
   "id": "7de4e914",
   "metadata": {},
   "source": [
    "<div style=\"background-color: RGB(0,150,250);\" >\n",
    "<h2 style=\"margin: auto; padding: 20px; color:#fff; \">Etape 6 - Analyse complémentaires</h2>\n",
    "</div>"
   ]
  },
  {
   "cell_type": "code",
   "execution_count": null,
   "id": "e42062e9",
   "metadata": {},
   "outputs": [],
   "source": [
    "#Rajouter en dessous toutes les analyses complémtaires suite à la demande de mélanie :\n",
    "#\"et toutes les infos que tu trouverais utiles pour mettre en relief les pays qui semblent être \n",
    "#le plus en difficulté au niveau alimentaire\""
   ]
  }
 ],
 "metadata": {
  "kernelspec": {
   "display_name": "Python 3",
   "language": "python",
   "name": "python3"
  },
  "language_info": {
   "codemirror_mode": {
    "name": "ipython",
    "version": 3
   },
   "file_extension": ".py",
   "mimetype": "text/x-python",
   "name": "python",
   "nbconvert_exporter": "python",
   "pygments_lexer": "ipython3",
   "version": "3.11.4"
  }
 },
 "nbformat": 4,
 "nbformat_minor": 5
}
