{
 "cells": [
  {
   "cell_type": "markdown",
   "id": "540e189f",
   "metadata": {},
   "source": [
    "<head>\n",
    "    <title>Réalisez une étude de santé publique avec Python</title>\n",
    "    <link rel=\"icon\" href=\"https://www.cartelis.com/wp-content/uploads/2019/11/logo_open_classroom.png\">\n",
    "</head>\n",
    "<p style=\"text-align:center\">\n",
    "    <a href=\"https://openclassrooms.com/en/\">\n",
    "    <img src=\"https://www.cartelis.com/wp-content/uploads/2019/11/logo_open_classroom.png\" height=\"300\" alt=\"Openclassroom Logo\"  />\n",
    "    </a>\n",
    "</p>\n",
    "\n",
    "\n",
    "\n",
    "# **PROJET 4: Réalisez une étude de santé publique avec Python** <img src=\"https://media2.giphy.com/media/v1.Y2lkPTc5MGI3NjExZ2hzOHE3Mm4xdjRzNGI2ZG9tMGlmcGxtdGdveXhsaGw3aXQ0cmg3MCZlcD12MV9pbnRlcm5hbF9naWZfYnlfaWQmY3Q9Zw/ONRs7VZKH3jPsVAy35/giphy.gif\" width=\"25\"/>\n",
    "\n",
    "**Realized by:** *Sotheara SOK* <br>\n",
    "**Date:** *2024-06-03* <br>\n",
    "**Course:** *Data Analyst* <br>"
   ]
  },
  {
   "cell_type": "markdown",
   "id": "462484e8",
   "metadata": {},
   "source": [
    "**Objective**\n",
    "-------"
   ]
  },
  {
   "cell_type": "markdown",
   "id": "7557de30",
   "metadata": {},
   "source": [
    "This project aims to assist MSc students studying Data Management for Finance at Audencia in identifying the key skills they need to focus on in order to align with their desired job after completing college.\n",
    "\n",
    "> About the datasets:\n",
    "> - Samples         : 655 jobs of which 309 are Data Analyst Intern and 346 are Finance Intern \n",
    "> - Period          : May 2023\n",
    "> - Location        : USA\n",
    "> - Source          : LinkedIn\n",
    "> - Job Experience  : Internship\n",
    "\n",
    "**Key Findings:**\n",
    "\n",
    "*Data Analyst Internship:*\n",
    "\n",
    "- The essential skills for a Data Analyst Internship, listed in order of importance, are Python, Java, C, SQL, C++, Javascript, Git, Excel, Linux, and AWS.\n",
    "- To excel in a Data Analyst role, students should primarily focus on developing their technical skills.\n",
    "\n",
    "*Finance Internship:*\n",
    "\n",
    "- The key skills required for a Finance Internship, ranked from most to least important, are Excel, Research, Word, Organizational, Communication, PowerPoint, Interpersonal, Flexibility, Access, and Attention to Detail.\n",
    "- For students aspiring to a career in finance, it is crucial to cultivate technical proficiency in Microsoft Dynamics 365, especially in Excel, alongside honing their soft skills such as communication, flexibility, organizational abilities, and attention to detail."
   ]
  },
  {
   "cell_type": "markdown",
   "id": "1b0a7391",
   "metadata": {},
   "source": [
    "**Table of contents**<a id='toc0_'></a>    \n",
    "1. [Importation des librairies et chargement des fichiers](#toc1_)    \n",
    "1.1. [Importation des librairies](#toc1_1_)    \n",
    "1.2. [Chargement des fichiers Excel](#toc1_2_)    \n",
    "2. [Analyse exploratoire des fichiers](#toc2_)    \n",
    "2.1. [Fichier population](#toc2_1_)    \n",
    "2.2. [Fichier disponibilité alimentaire](#toc2_2_)    \n",
    "3. [Fichier aide alimentaire](#toc3_)    \n",
    "4. [Fichier sous nutrition](#toc4_)    \n",
    "5. [Proportion de personnes en sous nutrition](#toc5_)    \n",
    "6. [Nombre théorique de personne qui pourrait être nourries](#toc6_)    \n",
    "7. [Nombre théorique de personne qui pourrait être nourrie avec les produits végétaux](#toc7_)    \n",
    "8. [Utilisation de la disponibilité intérieure](#toc8_)    \n",
    "9. [Utilisation des céréales](#toc9_)    \n",
    "10. [Pays avec la proportion de personnes sous-alimentée la plus forte en 2017](#toc10_)    \n",
    "11. [Pays qui ont le plus bénéficié d'aide alimentaire depuis 2013](#toc11_)    \n",
    "12. [Evolution des 5 pays qui ont le plus bénéficiés de l'aide alimentaire entre 2013 et 2016](#toc12_)    \n",
    "13. [Pays avec le moins de disponibilité par habitant](#toc13_)    \n",
    "14. [Pays avec le plus de disponibilité par habitant](#toc14_)    \n",
    "15. [Exemple de la Thaïlande pour le Manioc](#toc15_)    \n",
    "16. [Top 10 des pays les plus producteurs](#toc16_)    \n",
    "17. [Top 10 pays dont la production est la plus faible](#toc17_)    \n",
    "18. [10 premiers pays exportateurs](#toc18_)    \n",
    "19. [Les 10 premiers pays importateurs](#toc19_)    \n",
    "\n",
    "<!-- vscode-jupyter-toc-config\n",
    "\tnumbering=true\n",
    "\tanchor=true\n",
    "\tflat=true\n",
    "\tminLevel=2\n",
    "\tmaxLevel=6\n",
    "\t/vscode-jupyter-toc-config -->\n",
    "<!-- THIS CELL WILL BE REPLACED ON TOC UPDATE. DO NOT WRITE YOUR TEXT IN THIS CELL -->"
   ]
  },
  {
   "cell_type": "markdown",
   "id": "83450696",
   "metadata": {},
   "source": [
    "-------------"
   ]
  },
  {
   "cell_type": "markdown",
   "id": "8d70e102",
   "metadata": {},
   "source": [
    "## 1. <a id='toc1_'></a>[Importation des librairies et chargement des fichiers](#toc0_)"
   ]
  },
  {
   "cell_type": "markdown",
   "id": "52801dae",
   "metadata": {},
   "source": [
    "### 1.1. <a id='toc1_1_'></a>[Importation des librairies](#toc0_)"
   ]
  },
  {
   "cell_type": "code",
   "execution_count": 1,
   "id": "dd1dc0bd",
   "metadata": {},
   "outputs": [],
   "source": [
    "import pandas as pd\n",
    "import numpy as np\n",
    "import warnings\n",
    "from IPython.display import HTML\n",
    "\n",
    "warnings.filterwarnings(\"ignore\")\n",
    "# pd.set_option('display.max_columns', None)\n",
    "pd.options.display.float_format = '{:,.2f}'.format"
   ]
  },
  {
   "cell_type": "markdown",
   "id": "d4054127",
   "metadata": {},
   "source": [
    "### 1.2. <a id='toc1_2_'></a>[Chargement des fichiers Excel](#toc0_)"
   ]
  },
  {
   "cell_type": "code",
   "execution_count": 2,
   "id": "f686d42f",
   "metadata": {},
   "outputs": [],
   "source": [
    "#Importation du fichier population.csv\n",
    "population = pd.read_csv('src/main/datasets/population.csv')\n",
    "\n",
    "#Importation du fichier dispo_alimentaire.csv\n",
    "dispo_alimentaire = pd.read_csv('src/main/datasets/dispo_alimentaire.csv')\n",
    "\n",
    "#Importation du fichier aide_alimentaire.csv\n",
    "aide_alimentaire = pd.read_csv('src/main/datasets/aide_alimentaire.csv')\n",
    "\n",
    "#Importation du fichier sous_nutrition.csv\n",
    "sous_nutrition = pd.read_csv('src/main/datasets/sous_nutrition.csv')"
   ]
  },
  {
   "cell_type": "markdown",
   "id": "7b0ab3b8",
   "metadata": {},
   "source": [
    "## 2. <a id='toc2_'></a>[Analyse exploratoire des fichiers](#toc0_)"
   ]
  },
  {
   "cell_type": "markdown",
   "id": "fa0f7298",
   "metadata": {},
   "source": [
    "### 2.1. <a id='toc2_1_'></a>[Fichier population](#toc0_)"
   ]
  },
  {
   "cell_type": "code",
   "execution_count": 3,
   "id": "e6b639d2",
   "metadata": {},
   "outputs": [
    {
     "name": "stdout",
     "output_type": "stream",
     "text": [
      "Le tableau comporte 1416 observation(s) ou article(s)\n",
      "Le tableau comporte 3 colonne(s)\n"
     ]
    }
   ],
   "source": [
    "#Afficher les dimensions du dataset\n",
    "print(\"Le tableau comporte {} observation(s) ou article(s)\".format(population.shape[0]))\n",
    "print(\"Le tableau comporte {} colonne(s)\".format(population.shape[1]))"
   ]
  },
  {
   "cell_type": "code",
   "execution_count": 4,
   "id": "fbbdfd5c",
   "metadata": {},
   "outputs": [
    {
     "name": "stdout",
     "output_type": "stream",
     "text": [
      "Le tableau comporte 3 colonne(s)\n",
      "Zone       object\n",
      "Année       int64\n",
      "Valeur    float64\n",
      "dtype: object\n",
      "Zone      1416\n",
      "Année     1416\n",
      "Valeur    1416\n",
      "dtype: int64\n"
     ]
    }
   ],
   "source": [
    "#Consulter le nombre de colonnes\n",
    "print(\"Le tableau comporte {} colonne(s)\".format(population.shape[1]))\n",
    "#La nature des données dans chacune des colonnes\n",
    "print(population.dtypes)\n",
    "#Le nombre de valeurs présentes dans chacune des colonnes\n",
    "print(population.count())"
   ]
  },
  {
   "cell_type": "code",
   "execution_count": 5,
   "id": "3e50d9e6",
   "metadata": {},
   "outputs": [
    {
     "data": {
      "text/html": [
       "<div>\n",
       "<style scoped>\n",
       "    .dataframe tbody tr th:only-of-type {\n",
       "        vertical-align: middle;\n",
       "    }\n",
       "\n",
       "    .dataframe tbody tr th {\n",
       "        vertical-align: top;\n",
       "    }\n",
       "\n",
       "    .dataframe thead th {\n",
       "        text-align: right;\n",
       "    }\n",
       "</style>\n",
       "<table border=\"1\" class=\"dataframe\">\n",
       "  <thead>\n",
       "    <tr style=\"text-align: right;\">\n",
       "      <th></th>\n",
       "      <th>Zone</th>\n",
       "      <th>Année</th>\n",
       "      <th>Valeur</th>\n",
       "    </tr>\n",
       "  </thead>\n",
       "  <tbody>\n",
       "    <tr>\n",
       "      <th>0</th>\n",
       "      <td>Afghanistan</td>\n",
       "      <td>2013</td>\n",
       "      <td>32,269.59</td>\n",
       "    </tr>\n",
       "    <tr>\n",
       "      <th>1</th>\n",
       "      <td>Afghanistan</td>\n",
       "      <td>2014</td>\n",
       "      <td>33,370.79</td>\n",
       "    </tr>\n",
       "    <tr>\n",
       "      <th>2</th>\n",
       "      <td>Afghanistan</td>\n",
       "      <td>2015</td>\n",
       "      <td>34,413.60</td>\n",
       "    </tr>\n",
       "    <tr>\n",
       "      <th>3</th>\n",
       "      <td>Afghanistan</td>\n",
       "      <td>2016</td>\n",
       "      <td>35,383.03</td>\n",
       "    </tr>\n",
       "    <tr>\n",
       "      <th>4</th>\n",
       "      <td>Afghanistan</td>\n",
       "      <td>2017</td>\n",
       "      <td>36,296.11</td>\n",
       "    </tr>\n",
       "  </tbody>\n",
       "</table>\n",
       "</div>"
      ],
      "text/plain": [
       "          Zone  Année    Valeur\n",
       "0  Afghanistan   2013 32,269.59\n",
       "1  Afghanistan   2014 33,370.79\n",
       "2  Afghanistan   2015 34,413.60\n",
       "3  Afghanistan   2016 35,383.03\n",
       "4  Afghanistan   2017 36,296.11"
      ]
     },
     "execution_count": 5,
     "metadata": {},
     "output_type": "execute_result"
    }
   ],
   "source": [
    "#Affichage les 5 premières lignes de la table\n",
    "population.head()"
   ]
  },
  {
   "cell_type": "code",
   "execution_count": 6,
   "id": "ab1a4af4",
   "metadata": {},
   "outputs": [],
   "source": [
    "#Nous allons harmoniser les unités. Pour cela, nous avons décidé de multiplier la population par 1000\n",
    "#Multiplication de la colonne valeur par 1000\n",
    "population['Valeur'] = population['Valeur']*1000"
   ]
  },
  {
   "cell_type": "code",
   "execution_count": 7,
   "id": "38836b61",
   "metadata": {},
   "outputs": [],
   "source": [
    "#changement du nom de la colonne Valeur par Population\n",
    "population = population.rename(columns={'Valeur': 'Population'})"
   ]
  },
  {
   "cell_type": "code",
   "execution_count": 8,
   "id": "7f2d4f8e",
   "metadata": {},
   "outputs": [
    {
     "data": {
      "text/html": [
       "<div>\n",
       "<style scoped>\n",
       "    .dataframe tbody tr th:only-of-type {\n",
       "        vertical-align: middle;\n",
       "    }\n",
       "\n",
       "    .dataframe tbody tr th {\n",
       "        vertical-align: top;\n",
       "    }\n",
       "\n",
       "    .dataframe thead th {\n",
       "        text-align: right;\n",
       "    }\n",
       "</style>\n",
       "<table border=\"1\" class=\"dataframe\">\n",
       "  <thead>\n",
       "    <tr style=\"text-align: right;\">\n",
       "      <th></th>\n",
       "      <th>Zone</th>\n",
       "      <th>Année</th>\n",
       "      <th>Population</th>\n",
       "    </tr>\n",
       "  </thead>\n",
       "  <tbody>\n",
       "    <tr>\n",
       "      <th>0</th>\n",
       "      <td>Afghanistan</td>\n",
       "      <td>2013</td>\n",
       "      <td>32,269,589.00</td>\n",
       "    </tr>\n",
       "    <tr>\n",
       "      <th>1</th>\n",
       "      <td>Afghanistan</td>\n",
       "      <td>2014</td>\n",
       "      <td>33,370,794.00</td>\n",
       "    </tr>\n",
       "    <tr>\n",
       "      <th>2</th>\n",
       "      <td>Afghanistan</td>\n",
       "      <td>2015</td>\n",
       "      <td>34,413,603.00</td>\n",
       "    </tr>\n",
       "    <tr>\n",
       "      <th>3</th>\n",
       "      <td>Afghanistan</td>\n",
       "      <td>2016</td>\n",
       "      <td>35,383,032.00</td>\n",
       "    </tr>\n",
       "    <tr>\n",
       "      <th>4</th>\n",
       "      <td>Afghanistan</td>\n",
       "      <td>2017</td>\n",
       "      <td>36,296,113.00</td>\n",
       "    </tr>\n",
       "  </tbody>\n",
       "</table>\n",
       "</div>"
      ],
      "text/plain": [
       "          Zone  Année    Population\n",
       "0  Afghanistan   2013 32,269,589.00\n",
       "1  Afghanistan   2014 33,370,794.00\n",
       "2  Afghanistan   2015 34,413,603.00\n",
       "3  Afghanistan   2016 35,383,032.00\n",
       "4  Afghanistan   2017 36,296,113.00"
      ]
     },
     "execution_count": 8,
     "metadata": {},
     "output_type": "execute_result"
    }
   ],
   "source": [
    "#Affichage les 5 premières lignes de la table pour voir les modifications\n",
    "population.head()\n"
   ]
  },
  {
   "cell_type": "markdown",
   "id": "d30a6d5b",
   "metadata": {},
   "source": [
    "### 2.2. <a id='toc2_2_'></a>[Fichier disponibilité alimentaire](#toc0_)"
   ]
  },
  {
   "cell_type": "code",
   "execution_count": 9,
   "id": "38f5b838",
   "metadata": {},
   "outputs": [
    {
     "name": "stdout",
     "output_type": "stream",
     "text": [
      "Le tableau comporte 15605 observation(s) ou article(s)\n"
     ]
    }
   ],
   "source": [
    "#Afficher les dimensions du dataset\n",
    "print(\"Le tableau comporte {} observation(s) ou article(s)\".format(dispo_alimentaire.shape[0]))"
   ]
  },
  {
   "cell_type": "code",
   "execution_count": 10,
   "id": "99735a22",
   "metadata": {},
   "outputs": [
    {
     "name": "stdout",
     "output_type": "stream",
     "text": [
      "Le tableau comporte 18 colonne(s)\n"
     ]
    }
   ],
   "source": [
    "#Consulter le nombre de colonnes\n",
    "print(\"Le tableau comporte {} colonne(s)\".format(dispo_alimentaire.shape[1]))"
   ]
  },
  {
   "cell_type": "code",
   "execution_count": 11,
   "id": "1bd8546c",
   "metadata": {},
   "outputs": [
    {
     "data": {
      "text/plain": [
       "Zone                                                              object\n",
       "Produit                                                           object\n",
       "Origine                                                           object\n",
       "Aliments pour animaux                                            float64\n",
       "Autres Utilisations                                              float64\n",
       "Disponibilité alimentaire (Kcal/personne/jour)                   float64\n",
       "Disponibilité alimentaire en quantité (kg/personne/an)           float64\n",
       "Disponibilité de matière grasse en quantité (g/personne/jour)    float64\n",
       "Disponibilité de protéines en quantité (g/personne/jour)         float64\n",
       "Disponibilité intérieure                                         float64\n",
       "Exportations - Quantité                                          float64\n",
       "Importations - Quantité                                          float64\n",
       "Nourriture                                                       float64\n",
       "Pertes                                                           float64\n",
       "Production                                                       float64\n",
       "Semences                                                         float64\n",
       "Traitement                                                       float64\n",
       "Variation de stock                                               float64\n",
       "dtype: object"
      ]
     },
     "execution_count": 11,
     "metadata": {},
     "output_type": "execute_result"
    }
   ],
   "source": [
    "dispo_alimentaire.dtypes"
   ]
  },
  {
   "cell_type": "code",
   "execution_count": 93,
   "id": "0058032d",
   "metadata": {},
   "outputs": [
    {
     "data": {
      "text/html": [
       "<div>\n",
       "<style scoped>\n",
       "    .dataframe tbody tr th:only-of-type {\n",
       "        vertical-align: middle;\n",
       "    }\n",
       "\n",
       "    .dataframe tbody tr th {\n",
       "        vertical-align: top;\n",
       "    }\n",
       "\n",
       "    .dataframe thead th {\n",
       "        text-align: right;\n",
       "    }\n",
       "</style>\n",
       "<table border=\"1\" class=\"dataframe\">\n",
       "  <thead>\n",
       "    <tr style=\"text-align: right;\">\n",
       "      <th></th>\n",
       "      <th>Zone</th>\n",
       "      <th>Produit</th>\n",
       "      <th>Origine</th>\n",
       "      <th>Aliments pour animaux</th>\n",
       "      <th>Autres Utilisations</th>\n",
       "      <th>Disponibilité alimentaire (Kcal/personne/jour)</th>\n",
       "      <th>Disponibilité alimentaire en quantité (kg/personne/an)</th>\n",
       "      <th>Disponibilité de matière grasse en quantité (g/personne/jour)</th>\n",
       "      <th>Disponibilité de protéines en quantité (g/personne/jour)</th>\n",
       "      <th>Disponibilité intérieure</th>\n",
       "      <th>Exportations - Quantité</th>\n",
       "      <th>Importations - Quantité</th>\n",
       "      <th>Nourriture</th>\n",
       "      <th>Pertes</th>\n",
       "      <th>Production</th>\n",
       "      <th>Semences</th>\n",
       "      <th>Traitement</th>\n",
       "      <th>Variation de stock</th>\n",
       "      <th>Population</th>\n",
       "      <th>Disponibilité alimentaire en million (Kcal/jour)</th>\n",
       "    </tr>\n",
       "  </thead>\n",
       "  <tbody>\n",
       "    <tr>\n",
       "      <th>0</th>\n",
       "      <td>Afghanistan</td>\n",
       "      <td>Abats Comestible</td>\n",
       "      <td>animale</td>\n",
       "      <td>0.00</td>\n",
       "      <td>0.00</td>\n",
       "      <td>5.00</td>\n",
       "      <td>1.72</td>\n",
       "      <td>0.20</td>\n",
       "      <td>0.77</td>\n",
       "      <td>53,000,000.00</td>\n",
       "      <td>0.00</td>\n",
       "      <td>0.00</td>\n",
       "      <td>53,000,000.00</td>\n",
       "      <td>0.00</td>\n",
       "      <td>53,000,000.00</td>\n",
       "      <td>0.00</td>\n",
       "      <td>0.00</td>\n",
       "      <td>0.00</td>\n",
       "      <td>36,296,113.00</td>\n",
       "      <td>181,480,565.00</td>\n",
       "    </tr>\n",
       "    <tr>\n",
       "      <th>1</th>\n",
       "      <td>Afghanistan</td>\n",
       "      <td>Agrumes, Autres</td>\n",
       "      <td>vegetale</td>\n",
       "      <td>0.00</td>\n",
       "      <td>0.00</td>\n",
       "      <td>1.00</td>\n",
       "      <td>1.29</td>\n",
       "      <td>0.01</td>\n",
       "      <td>0.02</td>\n",
       "      <td>41,000,000.00</td>\n",
       "      <td>2,000,000.00</td>\n",
       "      <td>40,000,000.00</td>\n",
       "      <td>39,000,000.00</td>\n",
       "      <td>2,000,000.00</td>\n",
       "      <td>3,000,000.00</td>\n",
       "      <td>0.00</td>\n",
       "      <td>0.00</td>\n",
       "      <td>0.00</td>\n",
       "      <td>36,296,113.00</td>\n",
       "      <td>36,296,113.00</td>\n",
       "    </tr>\n",
       "    <tr>\n",
       "      <th>2</th>\n",
       "      <td>Afghanistan</td>\n",
       "      <td>Aliments pour enfants</td>\n",
       "      <td>vegetale</td>\n",
       "      <td>0.00</td>\n",
       "      <td>0.00</td>\n",
       "      <td>1.00</td>\n",
       "      <td>0.06</td>\n",
       "      <td>0.01</td>\n",
       "      <td>0.03</td>\n",
       "      <td>2,000,000.00</td>\n",
       "      <td>0.00</td>\n",
       "      <td>2,000,000.00</td>\n",
       "      <td>2,000,000.00</td>\n",
       "      <td>0.00</td>\n",
       "      <td>0.00</td>\n",
       "      <td>0.00</td>\n",
       "      <td>0.00</td>\n",
       "      <td>0.00</td>\n",
       "      <td>36,296,113.00</td>\n",
       "      <td>36,296,113.00</td>\n",
       "    </tr>\n",
       "    <tr>\n",
       "      <th>3</th>\n",
       "      <td>Afghanistan</td>\n",
       "      <td>Ananas</td>\n",
       "      <td>vegetale</td>\n",
       "      <td>0.00</td>\n",
       "      <td>0.00</td>\n",
       "      <td>0.00</td>\n",
       "      <td>0.00</td>\n",
       "      <td>0.00</td>\n",
       "      <td>0.00</td>\n",
       "      <td>0.00</td>\n",
       "      <td>0.00</td>\n",
       "      <td>0.00</td>\n",
       "      <td>0.00</td>\n",
       "      <td>0.00</td>\n",
       "      <td>0.00</td>\n",
       "      <td>0.00</td>\n",
       "      <td>0.00</td>\n",
       "      <td>0.00</td>\n",
       "      <td>36,296,113.00</td>\n",
       "      <td>0.00</td>\n",
       "    </tr>\n",
       "    <tr>\n",
       "      <th>4</th>\n",
       "      <td>Afghanistan</td>\n",
       "      <td>Bananes</td>\n",
       "      <td>vegetale</td>\n",
       "      <td>0.00</td>\n",
       "      <td>0.00</td>\n",
       "      <td>4.00</td>\n",
       "      <td>2.70</td>\n",
       "      <td>0.02</td>\n",
       "      <td>0.05</td>\n",
       "      <td>82,000,000.00</td>\n",
       "      <td>0.00</td>\n",
       "      <td>82,000,000.00</td>\n",
       "      <td>82,000,000.00</td>\n",
       "      <td>0.00</td>\n",
       "      <td>0.00</td>\n",
       "      <td>0.00</td>\n",
       "      <td>0.00</td>\n",
       "      <td>0.00</td>\n",
       "      <td>36,296,113.00</td>\n",
       "      <td>145,184,452.00</td>\n",
       "    </tr>\n",
       "  </tbody>\n",
       "</table>\n",
       "</div>"
      ],
      "text/plain": [
       "          Zone                Produit   Origine  Aliments pour animaux  \\\n",
       "0  Afghanistan       Abats Comestible   animale                   0.00   \n",
       "1  Afghanistan        Agrumes, Autres  vegetale                   0.00   \n",
       "2  Afghanistan  Aliments pour enfants  vegetale                   0.00   \n",
       "3  Afghanistan                 Ananas  vegetale                   0.00   \n",
       "4  Afghanistan                Bananes  vegetale                   0.00   \n",
       "\n",
       "   Autres Utilisations  Disponibilité alimentaire (Kcal/personne/jour)  \\\n",
       "0                 0.00                                            5.00   \n",
       "1                 0.00                                            1.00   \n",
       "2                 0.00                                            1.00   \n",
       "3                 0.00                                            0.00   \n",
       "4                 0.00                                            4.00   \n",
       "\n",
       "   Disponibilité alimentaire en quantité (kg/personne/an)  \\\n",
       "0                                               1.72        \n",
       "1                                               1.29        \n",
       "2                                               0.06        \n",
       "3                                               0.00        \n",
       "4                                               2.70        \n",
       "\n",
       "   Disponibilité de matière grasse en quantité (g/personne/jour)  \\\n",
       "0                                               0.20               \n",
       "1                                               0.01               \n",
       "2                                               0.01               \n",
       "3                                               0.00               \n",
       "4                                               0.02               \n",
       "\n",
       "   Disponibilité de protéines en quantité (g/personne/jour)  \\\n",
       "0                                               0.77          \n",
       "1                                               0.02          \n",
       "2                                               0.03          \n",
       "3                                               0.00          \n",
       "4                                               0.05          \n",
       "\n",
       "   Disponibilité intérieure  Exportations - Quantité  Importations - Quantité  \\\n",
       "0             53,000,000.00                     0.00                     0.00   \n",
       "1             41,000,000.00             2,000,000.00            40,000,000.00   \n",
       "2              2,000,000.00                     0.00             2,000,000.00   \n",
       "3                      0.00                     0.00                     0.00   \n",
       "4             82,000,000.00                     0.00            82,000,000.00   \n",
       "\n",
       "     Nourriture       Pertes    Production  Semences  Traitement  \\\n",
       "0 53,000,000.00         0.00 53,000,000.00      0.00        0.00   \n",
       "1 39,000,000.00 2,000,000.00  3,000,000.00      0.00        0.00   \n",
       "2  2,000,000.00         0.00          0.00      0.00        0.00   \n",
       "3          0.00         0.00          0.00      0.00        0.00   \n",
       "4 82,000,000.00         0.00          0.00      0.00        0.00   \n",
       "\n",
       "   Variation de stock    Population  \\\n",
       "0                0.00 36,296,113.00   \n",
       "1                0.00 36,296,113.00   \n",
       "2                0.00 36,296,113.00   \n",
       "3                0.00 36,296,113.00   \n",
       "4                0.00 36,296,113.00   \n",
       "\n",
       "   Disponibilité alimentaire en million (Kcal/jour)  \n",
       "0                                    181,480,565.00  \n",
       "1                                     36,296,113.00  \n",
       "2                                     36,296,113.00  \n",
       "3                                              0.00  \n",
       "4                                    145,184,452.00  "
      ]
     },
     "execution_count": 93,
     "metadata": {},
     "output_type": "execute_result"
    }
   ],
   "source": [
    "#Affichage les 5 premières lignes de la table\n",
    "dispo_alimentaire.head()"
   ]
  },
  {
   "cell_type": "code",
   "execution_count": 13,
   "id": "f3832569",
   "metadata": {},
   "outputs": [],
   "source": [
    "#remplacement des NaN dans le dataset par des 0\n",
    "dispo_alimentaire = dispo_alimentaire.fillna(0)"
   ]
  },
  {
   "cell_type": "code",
   "execution_count": 14,
   "id": "db4432e3",
   "metadata": {},
   "outputs": [],
   "source": [
    "# multiplication de toutes les lignes contenant des milliers de tonnes en Kg\n",
    "milliers_tonnes_col = [\n",
    "    \"Aliments pour animaux\",\n",
    "    \"Autres Utilisations\",\n",
    "    \"Disponibilité intérieure\",\n",
    "    \"Exportations - Quantité\",\n",
    "    \"Importations - Quantité\",\n",
    "    \"Nourriture\",\n",
    "    \"Pertes\",\n",
    "    \"Production\",\n",
    "    \"Semences\",\n",
    "    \"Traitement\",\n",
    "    \"Variation de stock\",\n",
    "]\n",
    "\n",
    "dispo_alimentaire[milliers_tonnes_col] = dispo_alimentaire[milliers_tonnes_col].apply(lambda x: x*1_000_000)"
   ]
  },
  {
   "cell_type": "code",
   "execution_count": 15,
   "id": "abd7621d",
   "metadata": {},
   "outputs": [
    {
     "data": {
      "text/html": [
       "<div>\n",
       "<style scoped>\n",
       "    .dataframe tbody tr th:only-of-type {\n",
       "        vertical-align: middle;\n",
       "    }\n",
       "\n",
       "    .dataframe tbody tr th {\n",
       "        vertical-align: top;\n",
       "    }\n",
       "\n",
       "    .dataframe thead th {\n",
       "        text-align: right;\n",
       "    }\n",
       "</style>\n",
       "<table border=\"1\" class=\"dataframe\">\n",
       "  <thead>\n",
       "    <tr style=\"text-align: right;\">\n",
       "      <th></th>\n",
       "      <th>Zone</th>\n",
       "      <th>Produit</th>\n",
       "      <th>Origine</th>\n",
       "      <th>Aliments pour animaux</th>\n",
       "      <th>Autres Utilisations</th>\n",
       "      <th>Disponibilité alimentaire (Kcal/personne/jour)</th>\n",
       "      <th>Disponibilité alimentaire en quantité (kg/personne/an)</th>\n",
       "      <th>Disponibilité de matière grasse en quantité (g/personne/jour)</th>\n",
       "      <th>Disponibilité de protéines en quantité (g/personne/jour)</th>\n",
       "      <th>Disponibilité intérieure</th>\n",
       "      <th>Exportations - Quantité</th>\n",
       "      <th>Importations - Quantité</th>\n",
       "      <th>Nourriture</th>\n",
       "      <th>Pertes</th>\n",
       "      <th>Production</th>\n",
       "      <th>Semences</th>\n",
       "      <th>Traitement</th>\n",
       "      <th>Variation de stock</th>\n",
       "    </tr>\n",
       "  </thead>\n",
       "  <tbody>\n",
       "    <tr>\n",
       "      <th>0</th>\n",
       "      <td>Afghanistan</td>\n",
       "      <td>Abats Comestible</td>\n",
       "      <td>animale</td>\n",
       "      <td>0.00</td>\n",
       "      <td>0.00</td>\n",
       "      <td>5.00</td>\n",
       "      <td>1.72</td>\n",
       "      <td>0.20</td>\n",
       "      <td>0.77</td>\n",
       "      <td>53,000,000.00</td>\n",
       "      <td>0.00</td>\n",
       "      <td>0.00</td>\n",
       "      <td>53,000,000.00</td>\n",
       "      <td>0.00</td>\n",
       "      <td>53,000,000.00</td>\n",
       "      <td>0.00</td>\n",
       "      <td>0.00</td>\n",
       "      <td>0.00</td>\n",
       "    </tr>\n",
       "    <tr>\n",
       "      <th>1</th>\n",
       "      <td>Afghanistan</td>\n",
       "      <td>Agrumes, Autres</td>\n",
       "      <td>vegetale</td>\n",
       "      <td>0.00</td>\n",
       "      <td>0.00</td>\n",
       "      <td>1.00</td>\n",
       "      <td>1.29</td>\n",
       "      <td>0.01</td>\n",
       "      <td>0.02</td>\n",
       "      <td>41,000,000.00</td>\n",
       "      <td>2,000,000.00</td>\n",
       "      <td>40,000,000.00</td>\n",
       "      <td>39,000,000.00</td>\n",
       "      <td>2,000,000.00</td>\n",
       "      <td>3,000,000.00</td>\n",
       "      <td>0.00</td>\n",
       "      <td>0.00</td>\n",
       "      <td>0.00</td>\n",
       "    </tr>\n",
       "    <tr>\n",
       "      <th>2</th>\n",
       "      <td>Afghanistan</td>\n",
       "      <td>Aliments pour enfants</td>\n",
       "      <td>vegetale</td>\n",
       "      <td>0.00</td>\n",
       "      <td>0.00</td>\n",
       "      <td>1.00</td>\n",
       "      <td>0.06</td>\n",
       "      <td>0.01</td>\n",
       "      <td>0.03</td>\n",
       "      <td>2,000,000.00</td>\n",
       "      <td>0.00</td>\n",
       "      <td>2,000,000.00</td>\n",
       "      <td>2,000,000.00</td>\n",
       "      <td>0.00</td>\n",
       "      <td>0.00</td>\n",
       "      <td>0.00</td>\n",
       "      <td>0.00</td>\n",
       "      <td>0.00</td>\n",
       "    </tr>\n",
       "    <tr>\n",
       "      <th>3</th>\n",
       "      <td>Afghanistan</td>\n",
       "      <td>Ananas</td>\n",
       "      <td>vegetale</td>\n",
       "      <td>0.00</td>\n",
       "      <td>0.00</td>\n",
       "      <td>0.00</td>\n",
       "      <td>0.00</td>\n",
       "      <td>0.00</td>\n",
       "      <td>0.00</td>\n",
       "      <td>0.00</td>\n",
       "      <td>0.00</td>\n",
       "      <td>0.00</td>\n",
       "      <td>0.00</td>\n",
       "      <td>0.00</td>\n",
       "      <td>0.00</td>\n",
       "      <td>0.00</td>\n",
       "      <td>0.00</td>\n",
       "      <td>0.00</td>\n",
       "    </tr>\n",
       "    <tr>\n",
       "      <th>4</th>\n",
       "      <td>Afghanistan</td>\n",
       "      <td>Bananes</td>\n",
       "      <td>vegetale</td>\n",
       "      <td>0.00</td>\n",
       "      <td>0.00</td>\n",
       "      <td>4.00</td>\n",
       "      <td>2.70</td>\n",
       "      <td>0.02</td>\n",
       "      <td>0.05</td>\n",
       "      <td>82,000,000.00</td>\n",
       "      <td>0.00</td>\n",
       "      <td>82,000,000.00</td>\n",
       "      <td>82,000,000.00</td>\n",
       "      <td>0.00</td>\n",
       "      <td>0.00</td>\n",
       "      <td>0.00</td>\n",
       "      <td>0.00</td>\n",
       "      <td>0.00</td>\n",
       "    </tr>\n",
       "  </tbody>\n",
       "</table>\n",
       "</div>"
      ],
      "text/plain": [
       "          Zone                Produit   Origine  Aliments pour animaux  \\\n",
       "0  Afghanistan       Abats Comestible   animale                   0.00   \n",
       "1  Afghanistan        Agrumes, Autres  vegetale                   0.00   \n",
       "2  Afghanistan  Aliments pour enfants  vegetale                   0.00   \n",
       "3  Afghanistan                 Ananas  vegetale                   0.00   \n",
       "4  Afghanistan                Bananes  vegetale                   0.00   \n",
       "\n",
       "   Autres Utilisations  Disponibilité alimentaire (Kcal/personne/jour)  \\\n",
       "0                 0.00                                            5.00   \n",
       "1                 0.00                                            1.00   \n",
       "2                 0.00                                            1.00   \n",
       "3                 0.00                                            0.00   \n",
       "4                 0.00                                            4.00   \n",
       "\n",
       "   Disponibilité alimentaire en quantité (kg/personne/an)  \\\n",
       "0                                               1.72        \n",
       "1                                               1.29        \n",
       "2                                               0.06        \n",
       "3                                               0.00        \n",
       "4                                               2.70        \n",
       "\n",
       "   Disponibilité de matière grasse en quantité (g/personne/jour)  \\\n",
       "0                                               0.20               \n",
       "1                                               0.01               \n",
       "2                                               0.01               \n",
       "3                                               0.00               \n",
       "4                                               0.02               \n",
       "\n",
       "   Disponibilité de protéines en quantité (g/personne/jour)  \\\n",
       "0                                               0.77          \n",
       "1                                               0.02          \n",
       "2                                               0.03          \n",
       "3                                               0.00          \n",
       "4                                               0.05          \n",
       "\n",
       "   Disponibilité intérieure  Exportations - Quantité  Importations - Quantité  \\\n",
       "0             53,000,000.00                     0.00                     0.00   \n",
       "1             41,000,000.00             2,000,000.00            40,000,000.00   \n",
       "2              2,000,000.00                     0.00             2,000,000.00   \n",
       "3                      0.00                     0.00                     0.00   \n",
       "4             82,000,000.00                     0.00            82,000,000.00   \n",
       "\n",
       "     Nourriture       Pertes    Production  Semences  Traitement  \\\n",
       "0 53,000,000.00         0.00 53,000,000.00      0.00        0.00   \n",
       "1 39,000,000.00 2,000,000.00  3,000,000.00      0.00        0.00   \n",
       "2  2,000,000.00         0.00          0.00      0.00        0.00   \n",
       "3          0.00         0.00          0.00      0.00        0.00   \n",
       "4 82,000,000.00         0.00          0.00      0.00        0.00   \n",
       "\n",
       "   Variation de stock  \n",
       "0                0.00  \n",
       "1                0.00  \n",
       "2                0.00  \n",
       "3                0.00  \n",
       "4                0.00  "
      ]
     },
     "execution_count": 15,
     "metadata": {},
     "output_type": "execute_result"
    }
   ],
   "source": [
    "#Affichage les 5 premières lignes de la table\n",
    "dispo_alimentaire.head()"
   ]
  },
  {
   "cell_type": "markdown",
   "id": "d095412f",
   "metadata": {},
   "source": [
    "## 3. <a id='toc3_'></a>[Fichier aide alimentaire](#toc0_)"
   ]
  },
  {
   "cell_type": "code",
   "execution_count": 16,
   "id": "702f6322",
   "metadata": {},
   "outputs": [
    {
     "name": "stdout",
     "output_type": "stream",
     "text": [
      "Le tableau comporte 1475 observation(s) ou article(s)\n"
     ]
    }
   ],
   "source": [
    "#Afficher les dimensions du dataset\n",
    "print(\"Le tableau comporte {} observation(s) ou article(s)\".format(aide_alimentaire.shape[0]))"
   ]
  },
  {
   "cell_type": "code",
   "execution_count": 17,
   "id": "8fead3f9",
   "metadata": {},
   "outputs": [
    {
     "name": "stdout",
     "output_type": "stream",
     "text": [
      "Le tableau comporte 4 colonne(s)\n"
     ]
    }
   ],
   "source": [
    "#Consulter le nombre de colonnes\n",
    "print(\"Le tableau comporte {} colonne(s)\".format(aide_alimentaire.shape[1]))"
   ]
  },
  {
   "cell_type": "code",
   "execution_count": 18,
   "id": "03b4c720",
   "metadata": {},
   "outputs": [
    {
     "data": {
      "text/plain": [
       "Pays bénéficiaire    object\n",
       "Année                 int64\n",
       "Produit              object\n",
       "Valeur                int64\n",
       "dtype: object"
      ]
     },
     "execution_count": 18,
     "metadata": {},
     "output_type": "execute_result"
    }
   ],
   "source": [
    "aide_alimentaire.dtypes"
   ]
  },
  {
   "cell_type": "code",
   "execution_count": 19,
   "id": "443ec245",
   "metadata": {},
   "outputs": [
    {
     "data": {
      "text/html": [
       "<style type=\"text/css\">\n",
       "</style>\n",
       "<table id=\"T_44e29\">\n",
       "  <thead>\n",
       "    <tr>\n",
       "      <th class=\"blank level0\" >&nbsp;</th>\n",
       "      <th id=\"T_44e29_level0_col0\" class=\"col_heading level0 col0\" >Pays bénéficiaire</th>\n",
       "      <th id=\"T_44e29_level0_col1\" class=\"col_heading level0 col1\" >Année</th>\n",
       "      <th id=\"T_44e29_level0_col2\" class=\"col_heading level0 col2\" >Produit</th>\n",
       "      <th id=\"T_44e29_level0_col3\" class=\"col_heading level0 col3\" >Valeur</th>\n",
       "    </tr>\n",
       "  </thead>\n",
       "  <tbody>\n",
       "    <tr>\n",
       "      <th id=\"T_44e29_level0_row0\" class=\"row_heading level0 row0\" >0</th>\n",
       "      <td id=\"T_44e29_row0_col0\" class=\"data row0 col0\" >Afghanistan</td>\n",
       "      <td id=\"T_44e29_row0_col1\" class=\"data row0 col1\" >2013</td>\n",
       "      <td id=\"T_44e29_row0_col2\" class=\"data row0 col2\" >Autres non-céréales</td>\n",
       "      <td id=\"T_44e29_row0_col3\" class=\"data row0 col3\" >682</td>\n",
       "    </tr>\n",
       "    <tr>\n",
       "      <th id=\"T_44e29_level0_row1\" class=\"row_heading level0 row1\" >1</th>\n",
       "      <td id=\"T_44e29_row1_col0\" class=\"data row1 col0\" >Afghanistan</td>\n",
       "      <td id=\"T_44e29_row1_col1\" class=\"data row1 col1\" >2014</td>\n",
       "      <td id=\"T_44e29_row1_col2\" class=\"data row1 col2\" >Autres non-céréales</td>\n",
       "      <td id=\"T_44e29_row1_col3\" class=\"data row1 col3\" >335</td>\n",
       "    </tr>\n",
       "    <tr>\n",
       "      <th id=\"T_44e29_level0_row2\" class=\"row_heading level0 row2\" >2</th>\n",
       "      <td id=\"T_44e29_row2_col0\" class=\"data row2 col0\" >Afghanistan</td>\n",
       "      <td id=\"T_44e29_row2_col1\" class=\"data row2 col1\" >2013</td>\n",
       "      <td id=\"T_44e29_row2_col2\" class=\"data row2 col2\" >Blé et Farin</td>\n",
       "      <td id=\"T_44e29_row2_col3\" class=\"data row2 col3\" >39,224</td>\n",
       "    </tr>\n",
       "    <tr>\n",
       "      <th id=\"T_44e29_level0_row3\" class=\"row_heading level0 row3\" >3</th>\n",
       "      <td id=\"T_44e29_row3_col0\" class=\"data row3 col0\" >Afghanistan</td>\n",
       "      <td id=\"T_44e29_row3_col1\" class=\"data row3 col1\" >2014</td>\n",
       "      <td id=\"T_44e29_row3_col2\" class=\"data row3 col2\" >Blé et Farin</td>\n",
       "      <td id=\"T_44e29_row3_col3\" class=\"data row3 col3\" >15,160</td>\n",
       "    </tr>\n",
       "    <tr>\n",
       "      <th id=\"T_44e29_level0_row4\" class=\"row_heading level0 row4\" >4</th>\n",
       "      <td id=\"T_44e29_row4_col0\" class=\"data row4 col0\" >Afghanistan</td>\n",
       "      <td id=\"T_44e29_row4_col1\" class=\"data row4 col1\" >2013</td>\n",
       "      <td id=\"T_44e29_row4_col2\" class=\"data row4 col2\" >Céréales</td>\n",
       "      <td id=\"T_44e29_row4_col3\" class=\"data row4 col3\" >40,504</td>\n",
       "    </tr>\n",
       "  </tbody>\n",
       "</table>\n"
      ],
      "text/plain": [
       "<pandas.io.formats.style.Styler at 0x1930aa59d30>"
      ]
     },
     "execution_count": 19,
     "metadata": {},
     "output_type": "execute_result"
    }
   ],
   "source": [
    "#Affichage les 5 premières lignes de la table\n",
    "aide_alimentaire.head().style.format({'Valeur': \"{:,}\"})"
   ]
  },
  {
   "cell_type": "code",
   "execution_count": 20,
   "id": "af47212b",
   "metadata": {},
   "outputs": [],
   "source": [
    "#changement du nom de la colonne Pays bénéficiaire par Zone\n",
    "aide_alimentaire = aide_alimentaire.rename(columns={'Pays bénéficiaire': 'Zone'})"
   ]
  },
  {
   "cell_type": "code",
   "execution_count": 21,
   "id": "c32cd1d8",
   "metadata": {},
   "outputs": [],
   "source": [
    "#Multiplication de la colonne Aide_alimentaire qui contient des tonnes par 1000 pour avoir des kg\n",
    "aide_alimentaire['Valeur'] = aide_alimentaire['Valeur']*1000"
   ]
  },
  {
   "cell_type": "code",
   "execution_count": 22,
   "id": "757dd5fa",
   "metadata": {},
   "outputs": [
    {
     "data": {
      "text/html": [
       "<style type=\"text/css\">\n",
       "</style>\n",
       "<table id=\"T_4a59e\">\n",
       "  <thead>\n",
       "    <tr>\n",
       "      <th class=\"blank level0\" >&nbsp;</th>\n",
       "      <th id=\"T_4a59e_level0_col0\" class=\"col_heading level0 col0\" >Zone</th>\n",
       "      <th id=\"T_4a59e_level0_col1\" class=\"col_heading level0 col1\" >Année</th>\n",
       "      <th id=\"T_4a59e_level0_col2\" class=\"col_heading level0 col2\" >Produit</th>\n",
       "      <th id=\"T_4a59e_level0_col3\" class=\"col_heading level0 col3\" >Valeur</th>\n",
       "    </tr>\n",
       "  </thead>\n",
       "  <tbody>\n",
       "    <tr>\n",
       "      <th id=\"T_4a59e_level0_row0\" class=\"row_heading level0 row0\" >0</th>\n",
       "      <td id=\"T_4a59e_row0_col0\" class=\"data row0 col0\" >Afghanistan</td>\n",
       "      <td id=\"T_4a59e_row0_col1\" class=\"data row0 col1\" >2013</td>\n",
       "      <td id=\"T_4a59e_row0_col2\" class=\"data row0 col2\" >Autres non-céréales</td>\n",
       "      <td id=\"T_4a59e_row0_col3\" class=\"data row0 col3\" >682,000</td>\n",
       "    </tr>\n",
       "    <tr>\n",
       "      <th id=\"T_4a59e_level0_row1\" class=\"row_heading level0 row1\" >1</th>\n",
       "      <td id=\"T_4a59e_row1_col0\" class=\"data row1 col0\" >Afghanistan</td>\n",
       "      <td id=\"T_4a59e_row1_col1\" class=\"data row1 col1\" >2014</td>\n",
       "      <td id=\"T_4a59e_row1_col2\" class=\"data row1 col2\" >Autres non-céréales</td>\n",
       "      <td id=\"T_4a59e_row1_col3\" class=\"data row1 col3\" >335,000</td>\n",
       "    </tr>\n",
       "    <tr>\n",
       "      <th id=\"T_4a59e_level0_row2\" class=\"row_heading level0 row2\" >2</th>\n",
       "      <td id=\"T_4a59e_row2_col0\" class=\"data row2 col0\" >Afghanistan</td>\n",
       "      <td id=\"T_4a59e_row2_col1\" class=\"data row2 col1\" >2013</td>\n",
       "      <td id=\"T_4a59e_row2_col2\" class=\"data row2 col2\" >Blé et Farin</td>\n",
       "      <td id=\"T_4a59e_row2_col3\" class=\"data row2 col3\" >39,224,000</td>\n",
       "    </tr>\n",
       "    <tr>\n",
       "      <th id=\"T_4a59e_level0_row3\" class=\"row_heading level0 row3\" >3</th>\n",
       "      <td id=\"T_4a59e_row3_col0\" class=\"data row3 col0\" >Afghanistan</td>\n",
       "      <td id=\"T_4a59e_row3_col1\" class=\"data row3 col1\" >2014</td>\n",
       "      <td id=\"T_4a59e_row3_col2\" class=\"data row3 col2\" >Blé et Farin</td>\n",
       "      <td id=\"T_4a59e_row3_col3\" class=\"data row3 col3\" >15,160,000</td>\n",
       "    </tr>\n",
       "    <tr>\n",
       "      <th id=\"T_4a59e_level0_row4\" class=\"row_heading level0 row4\" >4</th>\n",
       "      <td id=\"T_4a59e_row4_col0\" class=\"data row4 col0\" >Afghanistan</td>\n",
       "      <td id=\"T_4a59e_row4_col1\" class=\"data row4 col1\" >2013</td>\n",
       "      <td id=\"T_4a59e_row4_col2\" class=\"data row4 col2\" >Céréales</td>\n",
       "      <td id=\"T_4a59e_row4_col3\" class=\"data row4 col3\" >40,504,000</td>\n",
       "    </tr>\n",
       "  </tbody>\n",
       "</table>\n"
      ],
      "text/plain": [
       "<pandas.io.formats.style.Styler at 0x1930be92b10>"
      ]
     },
     "execution_count": 22,
     "metadata": {},
     "output_type": "execute_result"
    }
   ],
   "source": [
    "#Affichage les 5 premières lignes de la table\n",
    "aide_alimentaire.head().style.format({'Valeur': \"{:,}\"})"
   ]
  },
  {
   "cell_type": "markdown",
   "id": "b7e21f41",
   "metadata": {},
   "source": [
    "## 4. <a id='toc4_'></a>[Fichier sous nutrition](#toc0_)"
   ]
  },
  {
   "cell_type": "code",
   "execution_count": 23,
   "id": "882add3d",
   "metadata": {},
   "outputs": [
    {
     "name": "stdout",
     "output_type": "stream",
     "text": [
      "Le tableau comporte 1218 observation(s) ou article(s)\n"
     ]
    }
   ],
   "source": [
    "#Afficher les dimensions du dataset\n",
    "print(\"Le tableau comporte {} observation(s) ou article(s)\".format(sous_nutrition.shape[0]))"
   ]
  },
  {
   "cell_type": "code",
   "execution_count": 24,
   "id": "70c1a7a9",
   "metadata": {},
   "outputs": [
    {
     "name": "stdout",
     "output_type": "stream",
     "text": [
      "Le tableau comporte 3 colonne(s)\n"
     ]
    }
   ],
   "source": [
    "#Consulter le nombre de colonnes\n",
    "print(\"Le tableau comporte {} colonne(s)\".format(sous_nutrition.shape[1]))"
   ]
  },
  {
   "cell_type": "code",
   "execution_count": 25,
   "id": "5c6469e5",
   "metadata": {},
   "outputs": [
    {
     "data": {
      "text/html": [
       "<div>\n",
       "<style scoped>\n",
       "    .dataframe tbody tr th:only-of-type {\n",
       "        vertical-align: middle;\n",
       "    }\n",
       "\n",
       "    .dataframe tbody tr th {\n",
       "        vertical-align: top;\n",
       "    }\n",
       "\n",
       "    .dataframe thead th {\n",
       "        text-align: right;\n",
       "    }\n",
       "</style>\n",
       "<table border=\"1\" class=\"dataframe\">\n",
       "  <thead>\n",
       "    <tr style=\"text-align: right;\">\n",
       "      <th></th>\n",
       "      <th>Zone</th>\n",
       "      <th>Année</th>\n",
       "      <th>Valeur</th>\n",
       "    </tr>\n",
       "  </thead>\n",
       "  <tbody>\n",
       "    <tr>\n",
       "      <th>0</th>\n",
       "      <td>Afghanistan</td>\n",
       "      <td>2012-2014</td>\n",
       "      <td>8.6</td>\n",
       "    </tr>\n",
       "    <tr>\n",
       "      <th>1</th>\n",
       "      <td>Afghanistan</td>\n",
       "      <td>2013-2015</td>\n",
       "      <td>8.8</td>\n",
       "    </tr>\n",
       "    <tr>\n",
       "      <th>2</th>\n",
       "      <td>Afghanistan</td>\n",
       "      <td>2014-2016</td>\n",
       "      <td>8.9</td>\n",
       "    </tr>\n",
       "    <tr>\n",
       "      <th>3</th>\n",
       "      <td>Afghanistan</td>\n",
       "      <td>2015-2017</td>\n",
       "      <td>9.7</td>\n",
       "    </tr>\n",
       "    <tr>\n",
       "      <th>4</th>\n",
       "      <td>Afghanistan</td>\n",
       "      <td>2016-2018</td>\n",
       "      <td>10.5</td>\n",
       "    </tr>\n",
       "  </tbody>\n",
       "</table>\n",
       "</div>"
      ],
      "text/plain": [
       "          Zone      Année Valeur\n",
       "0  Afghanistan  2012-2014    8.6\n",
       "1  Afghanistan  2013-2015    8.8\n",
       "2  Afghanistan  2014-2016    8.9\n",
       "3  Afghanistan  2015-2017    9.7\n",
       "4  Afghanistan  2016-2018   10.5"
      ]
     },
     "execution_count": 25,
     "metadata": {},
     "output_type": "execute_result"
    }
   ],
   "source": [
    "#Afficher les 5 premières lignes de la table\n",
    "sous_nutrition.head()"
   ]
  },
  {
   "cell_type": "code",
   "execution_count": 26,
   "id": "d31d2724",
   "metadata": {},
   "outputs": [],
   "source": [
    "#Conversion de la colonne (avec l'argument errors=coerce qui permet de convertir automatiquement les lignes qui ne sont pas des nombres en NaN)\n",
    "#Puis remplacement des NaN en 0\n",
    "sous_nutrition['Valeur'] = pd.to_numeric(sous_nutrition['Valeur'], errors='coerce')"
   ]
  },
  {
   "cell_type": "code",
   "execution_count": 27,
   "id": "34c98232",
   "metadata": {},
   "outputs": [],
   "source": [
    "#changement du nom de la colonne Valeur par sous_nutrition\n",
    "sous_nutrition = sous_nutrition.rename(columns={'Valeur': 'Sous_nutrition'})"
   ]
  },
  {
   "cell_type": "code",
   "execution_count": 28,
   "id": "002110fa",
   "metadata": {},
   "outputs": [],
   "source": [
    "#Multiplication de la colonne sous_nutrition par 1000000\n",
    "sous_nutrition['Sous_nutrition'] = sous_nutrition['Sous_nutrition']*1_000_000"
   ]
  },
  {
   "cell_type": "code",
   "execution_count": 29,
   "id": "58259b55",
   "metadata": {},
   "outputs": [
    {
     "data": {
      "text/html": [
       "<div>\n",
       "<style scoped>\n",
       "    .dataframe tbody tr th:only-of-type {\n",
       "        vertical-align: middle;\n",
       "    }\n",
       "\n",
       "    .dataframe tbody tr th {\n",
       "        vertical-align: top;\n",
       "    }\n",
       "\n",
       "    .dataframe thead th {\n",
       "        text-align: right;\n",
       "    }\n",
       "</style>\n",
       "<table border=\"1\" class=\"dataframe\">\n",
       "  <thead>\n",
       "    <tr style=\"text-align: right;\">\n",
       "      <th></th>\n",
       "      <th>Zone</th>\n",
       "      <th>Année</th>\n",
       "      <th>Sous_nutrition</th>\n",
       "    </tr>\n",
       "  </thead>\n",
       "  <tbody>\n",
       "    <tr>\n",
       "      <th>0</th>\n",
       "      <td>Afghanistan</td>\n",
       "      <td>2012-2014</td>\n",
       "      <td>8,600,000.00</td>\n",
       "    </tr>\n",
       "    <tr>\n",
       "      <th>1</th>\n",
       "      <td>Afghanistan</td>\n",
       "      <td>2013-2015</td>\n",
       "      <td>8,800,000.00</td>\n",
       "    </tr>\n",
       "    <tr>\n",
       "      <th>2</th>\n",
       "      <td>Afghanistan</td>\n",
       "      <td>2014-2016</td>\n",
       "      <td>8,900,000.00</td>\n",
       "    </tr>\n",
       "    <tr>\n",
       "      <th>3</th>\n",
       "      <td>Afghanistan</td>\n",
       "      <td>2015-2017</td>\n",
       "      <td>9,700,000.00</td>\n",
       "    </tr>\n",
       "    <tr>\n",
       "      <th>4</th>\n",
       "      <td>Afghanistan</td>\n",
       "      <td>2016-2018</td>\n",
       "      <td>10,500,000.00</td>\n",
       "    </tr>\n",
       "  </tbody>\n",
       "</table>\n",
       "</div>"
      ],
      "text/plain": [
       "          Zone      Année  Sous_nutrition\n",
       "0  Afghanistan  2012-2014    8,600,000.00\n",
       "1  Afghanistan  2013-2015    8,800,000.00\n",
       "2  Afghanistan  2014-2016    8,900,000.00\n",
       "3  Afghanistan  2015-2017    9,700,000.00\n",
       "4  Afghanistan  2016-2018   10,500,000.00"
      ]
     },
     "execution_count": 29,
     "metadata": {},
     "output_type": "execute_result"
    }
   ],
   "source": [
    "#Afficher les 5 premières lignes de la table\n",
    "sous_nutrition.head()"
   ]
  },
  {
   "cell_type": "code",
   "execution_count": 30,
   "id": "e1eeb8b2",
   "metadata": {},
   "outputs": [
    {
     "data": {
      "text/plain": [
       "array(['2012-2014', '2013-2015', '2014-2016', '2015-2017', '2016-2018',\n",
       "       '2017-2019'], dtype=object)"
      ]
     },
     "execution_count": 30,
     "metadata": {},
     "output_type": "execute_result"
    }
   ],
   "source": [
    "sous_nutrition['Année'].unique()"
   ]
  },
  {
   "cell_type": "markdown",
   "id": "0ac077a9",
   "metadata": {},
   "source": [
    "# Analyse des Données"
   ]
  },
  {
   "cell_type": "markdown",
   "id": "de8f3e74",
   "metadata": {},
   "source": [
    "## 5. <a id='toc5_'></a>[Proportion de personnes en sous nutrition](#toc0_)"
   ]
  },
  {
   "cell_type": "code",
   "execution_count": 31,
   "id": "a63e1567",
   "metadata": {},
   "outputs": [],
   "source": [
    "# Il faut tout d'abord faire une jointure entre la table population et la table sous nutrition, en ciblant l'année 2017\n",
    "#Jointure entre la table population et la table sous_nutrition\n",
    "sous_nutrition_2017 = sous_nutrition[sous_nutrition['Année'] == '2016-2018']\n",
    "population_2017 = population[population['Année'] == 2017]\n",
    "\n",
    "population_sous_nutrition = pd.merge(population_2017, sous_nutrition_2017, on=['Zone'], how='inner').drop(columns=['Année_x', 'Année_y'])"
   ]
  },
  {
   "cell_type": "code",
   "execution_count": 32,
   "id": "731eea39",
   "metadata": {},
   "outputs": [
    {
     "data": {
      "text/html": [
       "<div>\n",
       "<style scoped>\n",
       "    .dataframe tbody tr th:only-of-type {\n",
       "        vertical-align: middle;\n",
       "    }\n",
       "\n",
       "    .dataframe tbody tr th {\n",
       "        vertical-align: top;\n",
       "    }\n",
       "\n",
       "    .dataframe thead th {\n",
       "        text-align: right;\n",
       "    }\n",
       "</style>\n",
       "<table border=\"1\" class=\"dataframe\">\n",
       "  <thead>\n",
       "    <tr style=\"text-align: right;\">\n",
       "      <th></th>\n",
       "      <th>Zone</th>\n",
       "      <th>Population</th>\n",
       "      <th>Sous_nutrition</th>\n",
       "    </tr>\n",
       "  </thead>\n",
       "  <tbody>\n",
       "    <tr>\n",
       "      <th>0</th>\n",
       "      <td>Afghanistan</td>\n",
       "      <td>36,296,113.00</td>\n",
       "      <td>10,500,000.00</td>\n",
       "    </tr>\n",
       "    <tr>\n",
       "      <th>1</th>\n",
       "      <td>Afrique du Sud</td>\n",
       "      <td>57,009,756.00</td>\n",
       "      <td>3,100,000.00</td>\n",
       "    </tr>\n",
       "    <tr>\n",
       "      <th>2</th>\n",
       "      <td>Albanie</td>\n",
       "      <td>2,884,169.00</td>\n",
       "      <td>100,000.00</td>\n",
       "    </tr>\n",
       "    <tr>\n",
       "      <th>3</th>\n",
       "      <td>Algérie</td>\n",
       "      <td>41,389,189.00</td>\n",
       "      <td>1,300,000.00</td>\n",
       "    </tr>\n",
       "    <tr>\n",
       "      <th>4</th>\n",
       "      <td>Allemagne</td>\n",
       "      <td>82,658,409.00</td>\n",
       "      <td>NaN</td>\n",
       "    </tr>\n",
       "  </tbody>\n",
       "</table>\n",
       "</div>"
      ],
      "text/plain": [
       "             Zone    Population  Sous_nutrition\n",
       "0     Afghanistan 36,296,113.00   10,500,000.00\n",
       "1  Afrique du Sud 57,009,756.00    3,100,000.00\n",
       "2         Albanie  2,884,169.00      100,000.00\n",
       "3         Algérie 41,389,189.00    1,300,000.00\n",
       "4       Allemagne 82,658,409.00             NaN"
      ]
     },
     "execution_count": 32,
     "metadata": {},
     "output_type": "execute_result"
    }
   ],
   "source": [
    "#Affichage du dataset\n",
    "population_sous_nutrition.head()"
   ]
  },
  {
   "cell_type": "code",
   "execution_count": 33,
   "id": "28e2741f",
   "metadata": {},
   "outputs": [
    {
     "name": "stdout",
     "output_type": "stream",
     "text": [
      "7.5 billion\n"
     ]
    }
   ],
   "source": [
    "#Calcul et affichage du nombre de personnes en état de sous nutrition\n",
    "total_pop_2017 = np.round(population_sous_nutrition[\"Population\"].sum())\n",
    "print(\"{:.2} billion\".format(total_pop_2017/1_000_000_000))"
   ]
  },
  {
   "cell_type": "code",
   "execution_count": 34,
   "id": "a7a450cd",
   "metadata": {},
   "outputs": [
    {
     "name": "stdout",
     "output_type": "stream",
     "text": [
      "535.7 million\n"
     ]
    }
   ],
   "source": [
    "total_sous_nutri_2017 = np.round(population_sous_nutrition[\"Sous_nutrition\"].sum())\n",
    "print(\"{:} million\".format(total_sous_nutri_2017/1_000_000))"
   ]
  },
  {
   "cell_type": "code",
   "execution_count": 35,
   "id": "69ebf59d",
   "metadata": {},
   "outputs": [
    {
     "data": {
      "text/plain": [
       "7.1011968332354165"
      ]
     },
     "execution_count": 35,
     "metadata": {},
     "output_type": "execute_result"
    }
   ],
   "source": [
    "total_sous_nutri_2017/total_pop_2017*100"
   ]
  },
  {
   "cell_type": "code",
   "execution_count": 36,
   "id": "b546008a",
   "metadata": {},
   "outputs": [
    {
     "data": {
      "application/vnd.plotly.v1+json": {
       "config": {
        "plotlyServerURL": "https://plot.ly"
       },
       "data": [
        {
         "domain": {
          "x": [
           0,
           1
          ],
          "y": [
           0,
           1
          ]
         },
         "hole": 0.3,
         "hovertemplate": "Nutrition=%{label}<br>Rate=%{value}<extra></extra>",
         "labels": [
          "Undernourished",
          "Sufficient"
         ],
         "legendgroup": "",
         "name": "",
         "pull": [
          0.1,
          0
         ],
         "rotation": 100,
         "showlegend": true,
         "textinfo": "percent+label",
         "type": "pie",
         "values": [
          7.1011968332354165,
          92.89880316676458
         ]
        }
       ],
       "layout": {
        "annotations": [
         {
          "showarrow": false,
          "text": "Total Pop:<br> 7.5 Billion"
         }
        ],
        "font": {
         "color": "white"
        },
        "height": 600,
        "legend": {
         "tracegroupgap": 0
        },
        "paper_bgcolor": "rgba(0,0,0,0)",
        "piecolorway": [
         "blue",
         "red"
        ],
        "plot_bgcolor": "rgba(0,0,0,0)",
        "showlegend": false,
        "template": {
         "data": {
          "bar": [
           {
            "error_x": {
             "color": "#2a3f5f"
            },
            "error_y": {
             "color": "#2a3f5f"
            },
            "marker": {
             "line": {
              "color": "#E5ECF6",
              "width": 0.5
             },
             "pattern": {
              "fillmode": "overlay",
              "size": 10,
              "solidity": 0.2
             }
            },
            "type": "bar"
           }
          ],
          "barpolar": [
           {
            "marker": {
             "line": {
              "color": "#E5ECF6",
              "width": 0.5
             },
             "pattern": {
              "fillmode": "overlay",
              "size": 10,
              "solidity": 0.2
             }
            },
            "type": "barpolar"
           }
          ],
          "carpet": [
           {
            "aaxis": {
             "endlinecolor": "#2a3f5f",
             "gridcolor": "white",
             "linecolor": "white",
             "minorgridcolor": "white",
             "startlinecolor": "#2a3f5f"
            },
            "baxis": {
             "endlinecolor": "#2a3f5f",
             "gridcolor": "white",
             "linecolor": "white",
             "minorgridcolor": "white",
             "startlinecolor": "#2a3f5f"
            },
            "type": "carpet"
           }
          ],
          "choropleth": [
           {
            "colorbar": {
             "outlinewidth": 0,
             "ticks": ""
            },
            "type": "choropleth"
           }
          ],
          "contour": [
           {
            "colorbar": {
             "outlinewidth": 0,
             "ticks": ""
            },
            "colorscale": [
             [
              0,
              "#0d0887"
             ],
             [
              0.1111111111111111,
              "#46039f"
             ],
             [
              0.2222222222222222,
              "#7201a8"
             ],
             [
              0.3333333333333333,
              "#9c179e"
             ],
             [
              0.4444444444444444,
              "#bd3786"
             ],
             [
              0.5555555555555556,
              "#d8576b"
             ],
             [
              0.6666666666666666,
              "#ed7953"
             ],
             [
              0.7777777777777778,
              "#fb9f3a"
             ],
             [
              0.8888888888888888,
              "#fdca26"
             ],
             [
              1,
              "#f0f921"
             ]
            ],
            "type": "contour"
           }
          ],
          "contourcarpet": [
           {
            "colorbar": {
             "outlinewidth": 0,
             "ticks": ""
            },
            "type": "contourcarpet"
           }
          ],
          "heatmap": [
           {
            "colorbar": {
             "outlinewidth": 0,
             "ticks": ""
            },
            "colorscale": [
             [
              0,
              "#0d0887"
             ],
             [
              0.1111111111111111,
              "#46039f"
             ],
             [
              0.2222222222222222,
              "#7201a8"
             ],
             [
              0.3333333333333333,
              "#9c179e"
             ],
             [
              0.4444444444444444,
              "#bd3786"
             ],
             [
              0.5555555555555556,
              "#d8576b"
             ],
             [
              0.6666666666666666,
              "#ed7953"
             ],
             [
              0.7777777777777778,
              "#fb9f3a"
             ],
             [
              0.8888888888888888,
              "#fdca26"
             ],
             [
              1,
              "#f0f921"
             ]
            ],
            "type": "heatmap"
           }
          ],
          "heatmapgl": [
           {
            "colorbar": {
             "outlinewidth": 0,
             "ticks": ""
            },
            "colorscale": [
             [
              0,
              "#0d0887"
             ],
             [
              0.1111111111111111,
              "#46039f"
             ],
             [
              0.2222222222222222,
              "#7201a8"
             ],
             [
              0.3333333333333333,
              "#9c179e"
             ],
             [
              0.4444444444444444,
              "#bd3786"
             ],
             [
              0.5555555555555556,
              "#d8576b"
             ],
             [
              0.6666666666666666,
              "#ed7953"
             ],
             [
              0.7777777777777778,
              "#fb9f3a"
             ],
             [
              0.8888888888888888,
              "#fdca26"
             ],
             [
              1,
              "#f0f921"
             ]
            ],
            "type": "heatmapgl"
           }
          ],
          "histogram": [
           {
            "marker": {
             "pattern": {
              "fillmode": "overlay",
              "size": 10,
              "solidity": 0.2
             }
            },
            "type": "histogram"
           }
          ],
          "histogram2d": [
           {
            "colorbar": {
             "outlinewidth": 0,
             "ticks": ""
            },
            "colorscale": [
             [
              0,
              "#0d0887"
             ],
             [
              0.1111111111111111,
              "#46039f"
             ],
             [
              0.2222222222222222,
              "#7201a8"
             ],
             [
              0.3333333333333333,
              "#9c179e"
             ],
             [
              0.4444444444444444,
              "#bd3786"
             ],
             [
              0.5555555555555556,
              "#d8576b"
             ],
             [
              0.6666666666666666,
              "#ed7953"
             ],
             [
              0.7777777777777778,
              "#fb9f3a"
             ],
             [
              0.8888888888888888,
              "#fdca26"
             ],
             [
              1,
              "#f0f921"
             ]
            ],
            "type": "histogram2d"
           }
          ],
          "histogram2dcontour": [
           {
            "colorbar": {
             "outlinewidth": 0,
             "ticks": ""
            },
            "colorscale": [
             [
              0,
              "#0d0887"
             ],
             [
              0.1111111111111111,
              "#46039f"
             ],
             [
              0.2222222222222222,
              "#7201a8"
             ],
             [
              0.3333333333333333,
              "#9c179e"
             ],
             [
              0.4444444444444444,
              "#bd3786"
             ],
             [
              0.5555555555555556,
              "#d8576b"
             ],
             [
              0.6666666666666666,
              "#ed7953"
             ],
             [
              0.7777777777777778,
              "#fb9f3a"
             ],
             [
              0.8888888888888888,
              "#fdca26"
             ],
             [
              1,
              "#f0f921"
             ]
            ],
            "type": "histogram2dcontour"
           }
          ],
          "mesh3d": [
           {
            "colorbar": {
             "outlinewidth": 0,
             "ticks": ""
            },
            "type": "mesh3d"
           }
          ],
          "parcoords": [
           {
            "line": {
             "colorbar": {
              "outlinewidth": 0,
              "ticks": ""
             }
            },
            "type": "parcoords"
           }
          ],
          "pie": [
           {
            "automargin": true,
            "type": "pie"
           }
          ],
          "scatter": [
           {
            "fillpattern": {
             "fillmode": "overlay",
             "size": 10,
             "solidity": 0.2
            },
            "type": "scatter"
           }
          ],
          "scatter3d": [
           {
            "line": {
             "colorbar": {
              "outlinewidth": 0,
              "ticks": ""
             }
            },
            "marker": {
             "colorbar": {
              "outlinewidth": 0,
              "ticks": ""
             }
            },
            "type": "scatter3d"
           }
          ],
          "scattercarpet": [
           {
            "marker": {
             "colorbar": {
              "outlinewidth": 0,
              "ticks": ""
             }
            },
            "type": "scattercarpet"
           }
          ],
          "scattergeo": [
           {
            "marker": {
             "colorbar": {
              "outlinewidth": 0,
              "ticks": ""
             }
            },
            "type": "scattergeo"
           }
          ],
          "scattergl": [
           {
            "marker": {
             "colorbar": {
              "outlinewidth": 0,
              "ticks": ""
             }
            },
            "type": "scattergl"
           }
          ],
          "scattermapbox": [
           {
            "marker": {
             "colorbar": {
              "outlinewidth": 0,
              "ticks": ""
             }
            },
            "type": "scattermapbox"
           }
          ],
          "scatterpolar": [
           {
            "marker": {
             "colorbar": {
              "outlinewidth": 0,
              "ticks": ""
             }
            },
            "type": "scatterpolar"
           }
          ],
          "scatterpolargl": [
           {
            "marker": {
             "colorbar": {
              "outlinewidth": 0,
              "ticks": ""
             }
            },
            "type": "scatterpolargl"
           }
          ],
          "scatterternary": [
           {
            "marker": {
             "colorbar": {
              "outlinewidth": 0,
              "ticks": ""
             }
            },
            "type": "scatterternary"
           }
          ],
          "surface": [
           {
            "colorbar": {
             "outlinewidth": 0,
             "ticks": ""
            },
            "colorscale": [
             [
              0,
              "#0d0887"
             ],
             [
              0.1111111111111111,
              "#46039f"
             ],
             [
              0.2222222222222222,
              "#7201a8"
             ],
             [
              0.3333333333333333,
              "#9c179e"
             ],
             [
              0.4444444444444444,
              "#bd3786"
             ],
             [
              0.5555555555555556,
              "#d8576b"
             ],
             [
              0.6666666666666666,
              "#ed7953"
             ],
             [
              0.7777777777777778,
              "#fb9f3a"
             ],
             [
              0.8888888888888888,
              "#fdca26"
             ],
             [
              1,
              "#f0f921"
             ]
            ],
            "type": "surface"
           }
          ],
          "table": [
           {
            "cells": {
             "fill": {
              "color": "#EBF0F8"
             },
             "line": {
              "color": "white"
             }
            },
            "header": {
             "fill": {
              "color": "#C8D4E3"
             },
             "line": {
              "color": "white"
             }
            },
            "type": "table"
           }
          ]
         },
         "layout": {
          "annotationdefaults": {
           "arrowcolor": "#2a3f5f",
           "arrowhead": 0,
           "arrowwidth": 1
          },
          "autotypenumbers": "strict",
          "coloraxis": {
           "colorbar": {
            "outlinewidth": 0,
            "ticks": ""
           }
          },
          "colorscale": {
           "diverging": [
            [
             0,
             "#8e0152"
            ],
            [
             0.1,
             "#c51b7d"
            ],
            [
             0.2,
             "#de77ae"
            ],
            [
             0.3,
             "#f1b6da"
            ],
            [
             0.4,
             "#fde0ef"
            ],
            [
             0.5,
             "#f7f7f7"
            ],
            [
             0.6,
             "#e6f5d0"
            ],
            [
             0.7,
             "#b8e186"
            ],
            [
             0.8,
             "#7fbc41"
            ],
            [
             0.9,
             "#4d9221"
            ],
            [
             1,
             "#276419"
            ]
           ],
           "sequential": [
            [
             0,
             "#0d0887"
            ],
            [
             0.1111111111111111,
             "#46039f"
            ],
            [
             0.2222222222222222,
             "#7201a8"
            ],
            [
             0.3333333333333333,
             "#9c179e"
            ],
            [
             0.4444444444444444,
             "#bd3786"
            ],
            [
             0.5555555555555556,
             "#d8576b"
            ],
            [
             0.6666666666666666,
             "#ed7953"
            ],
            [
             0.7777777777777778,
             "#fb9f3a"
            ],
            [
             0.8888888888888888,
             "#fdca26"
            ],
            [
             1,
             "#f0f921"
            ]
           ],
           "sequentialminus": [
            [
             0,
             "#0d0887"
            ],
            [
             0.1111111111111111,
             "#46039f"
            ],
            [
             0.2222222222222222,
             "#7201a8"
            ],
            [
             0.3333333333333333,
             "#9c179e"
            ],
            [
             0.4444444444444444,
             "#bd3786"
            ],
            [
             0.5555555555555556,
             "#d8576b"
            ],
            [
             0.6666666666666666,
             "#ed7953"
            ],
            [
             0.7777777777777778,
             "#fb9f3a"
            ],
            [
             0.8888888888888888,
             "#fdca26"
            ],
            [
             1,
             "#f0f921"
            ]
           ]
          },
          "colorway": [
           "#636efa",
           "#EF553B",
           "#00cc96",
           "#ab63fa",
           "#FFA15A",
           "#19d3f3",
           "#FF6692",
           "#B6E880",
           "#FF97FF",
           "#FECB52"
          ],
          "font": {
           "color": "#2a3f5f"
          },
          "geo": {
           "bgcolor": "white",
           "lakecolor": "white",
           "landcolor": "#E5ECF6",
           "showlakes": true,
           "showland": true,
           "subunitcolor": "white"
          },
          "hoverlabel": {
           "align": "left"
          },
          "hovermode": "closest",
          "mapbox": {
           "style": "light"
          },
          "paper_bgcolor": "white",
          "plot_bgcolor": "#E5ECF6",
          "polar": {
           "angularaxis": {
            "gridcolor": "white",
            "linecolor": "white",
            "ticks": ""
           },
           "bgcolor": "#E5ECF6",
           "radialaxis": {
            "gridcolor": "white",
            "linecolor": "white",
            "ticks": ""
           }
          },
          "scene": {
           "xaxis": {
            "backgroundcolor": "#E5ECF6",
            "gridcolor": "white",
            "gridwidth": 2,
            "linecolor": "white",
            "showbackground": true,
            "ticks": "",
            "zerolinecolor": "white"
           },
           "yaxis": {
            "backgroundcolor": "#E5ECF6",
            "gridcolor": "white",
            "gridwidth": 2,
            "linecolor": "white",
            "showbackground": true,
            "ticks": "",
            "zerolinecolor": "white"
           },
           "zaxis": {
            "backgroundcolor": "#E5ECF6",
            "gridcolor": "white",
            "gridwidth": 2,
            "linecolor": "white",
            "showbackground": true,
            "ticks": "",
            "zerolinecolor": "white"
           }
          },
          "shapedefaults": {
           "line": {
            "color": "#2a3f5f"
           }
          },
          "ternary": {
           "aaxis": {
            "gridcolor": "white",
            "linecolor": "white",
            "ticks": ""
           },
           "baxis": {
            "gridcolor": "white",
            "linecolor": "white",
            "ticks": ""
           },
           "bgcolor": "#E5ECF6",
           "caxis": {
            "gridcolor": "white",
            "linecolor": "white",
            "ticks": ""
           }
          },
          "title": {
           "x": 0.05
          },
          "xaxis": {
           "automargin": true,
           "gridcolor": "white",
           "linecolor": "white",
           "ticks": "",
           "title": {
            "standoff": 15
           },
           "zerolinecolor": "white",
           "zerolinewidth": 2
          },
          "yaxis": {
           "automargin": true,
           "gridcolor": "white",
           "linecolor": "white",
           "ticks": "",
           "title": {
            "standoff": 15
           },
           "zerolinecolor": "white",
           "zerolinewidth": 2
          }
         }
        },
        "title": {
         "text": "Nutrition Status in 2017"
        },
        "width": 800
       }
      }
     },
     "metadata": {},
     "output_type": "display_data"
    }
   ],
   "source": [
    "import plotly.express as px\n",
    "\n",
    "# import plotly.graph_objects as go\n",
    "\n",
    "# Calculate the sum of 'Population' and 'Sous_nutrition'\n",
    "df_sum = population_sous_nutrition[[\"Population\", \"Sous_nutrition\"]].sum()\n",
    "\n",
    "# Calculate the rates\n",
    "sous_nutrition_rate = df_sum[\"Sous_nutrition\"] / df_sum[\"Population\"] * 100\n",
    "sufficient_nutrition_rate = 100 - sous_nutrition_rate\n",
    "\n",
    "# Create a new DataFrame for the pie chart\n",
    "df_pie = pd.DataFrame(\n",
    "    {\n",
    "        \"Nutrition\": [\"Undernourished\", \"Sufficient\"],\n",
    "        \"Rate\": [sous_nutrition_rate, sufficient_nutrition_rate],\n",
    "    }\n",
    ")\n",
    "\n",
    "# Create the pie chart\n",
    "fig = px.pie(\n",
    "    df_pie,\n",
    "    values=\"Rate\",\n",
    "    names=\"Nutrition\",\n",
    "    title=\"Nutrition Status in 2017\",\n",
    "    hole=0.3,\n",
    "    color_discrete_sequence=[\"blue\", \"red\"],\n",
    ")\n",
    "fig.update_traces(textinfo=\"percent+label\", pull=[0.1, 0], rotation=100)\n",
    "fig.update_layout(\n",
    "    width=800,\n",
    "    height=600,\n",
    "    annotations=[dict(text=\"Total Pop:<br> 7.5 Billion\", showarrow=False)],\n",
    "    showlegend=False,\n",
    "    paper_bgcolor=\"rgba(0,0,0,0)\",  # make the paper background transparent\n",
    "    plot_bgcolor=\"rgba(0,0,0,0)\",  # make the plot background transparent\n",
    "    font=dict(color=\"white\"),\n",
    ")\n",
    "\n",
    "fig.show()\n",
    "fig.write_image(\"src/main/extracted_data/1.svg\")"
   ]
  },
  {
   "cell_type": "markdown",
   "id": "5fd9ad58",
   "metadata": {},
   "source": [
    "## 6. <a id='toc6_'></a>[Nombre théorique de personne qui pourrait être nourries](#toc0_)"
   ]
  },
  {
   "cell_type": "code",
   "execution_count": 37,
   "id": "2b63df85",
   "metadata": {},
   "outputs": [],
   "source": [
    "#Combien mange en moyenne un être humain ? Source => \n",
    "#https://news.yahoo.com/much-humans-eat-numerical-breakdown-181300224.html?guccounter=1&guce_referrer=aHR0cHM6Ly93d3cuZ29vZ2xlLmNvbS8&guce_referrer_sig=AQAAALuJLrq4oPbwdPeKjMaGFqf8V-FPJbitkK6vIelD5UPvwQ1cx49nEXskW0-rkspJQHGFC61zncCC1Wa9yWOxEQMA01AEMa5OBdqXXInw25U7ZLMb9LsnU5nyBd1en8dvibMuDWEVtE_c2XghW-x_OwFjpSFgxQQTXFARYQDlWNPI"
   ]
  },
  {
   "cell_type": "code",
   "execution_count": 38,
   "id": "5e3f262d",
   "metadata": {},
   "outputs": [],
   "source": [
    "#On commence par faire une jointure entre le data frame population et Dispo_alimentaire afin d'ajouter dans ce dernier la population\n",
    "#de chaque pays\n",
    "population_2017 = population[population['Année'] == 2017]\n",
    "dispo_alimentaire = pd.merge(dispo_alimentaire, population_2017[['Zone', 'Population']], on='Zone')\n"
   ]
  },
  {
   "cell_type": "code",
   "execution_count": 39,
   "id": "4538126c",
   "metadata": {},
   "outputs": [
    {
     "data": {
      "text/html": [
       "<div>\n",
       "<style scoped>\n",
       "    .dataframe tbody tr th:only-of-type {\n",
       "        vertical-align: middle;\n",
       "    }\n",
       "\n",
       "    .dataframe tbody tr th {\n",
       "        vertical-align: top;\n",
       "    }\n",
       "\n",
       "    .dataframe thead th {\n",
       "        text-align: right;\n",
       "    }\n",
       "</style>\n",
       "<table border=\"1\" class=\"dataframe\">\n",
       "  <thead>\n",
       "    <tr style=\"text-align: right;\">\n",
       "      <th></th>\n",
       "      <th>Zone</th>\n",
       "      <th>Produit</th>\n",
       "      <th>Origine</th>\n",
       "      <th>Aliments pour animaux</th>\n",
       "      <th>Autres Utilisations</th>\n",
       "      <th>Disponibilité alimentaire (Kcal/personne/jour)</th>\n",
       "      <th>Disponibilité alimentaire en quantité (kg/personne/an)</th>\n",
       "      <th>Disponibilité de matière grasse en quantité (g/personne/jour)</th>\n",
       "      <th>Disponibilité de protéines en quantité (g/personne/jour)</th>\n",
       "      <th>Disponibilité intérieure</th>\n",
       "      <th>Exportations - Quantité</th>\n",
       "      <th>Importations - Quantité</th>\n",
       "      <th>Nourriture</th>\n",
       "      <th>Pertes</th>\n",
       "      <th>Production</th>\n",
       "      <th>Semences</th>\n",
       "      <th>Traitement</th>\n",
       "      <th>Variation de stock</th>\n",
       "      <th>Population</th>\n",
       "    </tr>\n",
       "  </thead>\n",
       "  <tbody>\n",
       "    <tr>\n",
       "      <th>0</th>\n",
       "      <td>Afghanistan</td>\n",
       "      <td>Abats Comestible</td>\n",
       "      <td>animale</td>\n",
       "      <td>0.00</td>\n",
       "      <td>0.00</td>\n",
       "      <td>5.00</td>\n",
       "      <td>1.72</td>\n",
       "      <td>0.20</td>\n",
       "      <td>0.77</td>\n",
       "      <td>53,000,000.00</td>\n",
       "      <td>0.00</td>\n",
       "      <td>0.00</td>\n",
       "      <td>53,000,000.00</td>\n",
       "      <td>0.00</td>\n",
       "      <td>53,000,000.00</td>\n",
       "      <td>0.00</td>\n",
       "      <td>0.00</td>\n",
       "      <td>0.00</td>\n",
       "      <td>36,296,113.00</td>\n",
       "    </tr>\n",
       "    <tr>\n",
       "      <th>1</th>\n",
       "      <td>Afghanistan</td>\n",
       "      <td>Agrumes, Autres</td>\n",
       "      <td>vegetale</td>\n",
       "      <td>0.00</td>\n",
       "      <td>0.00</td>\n",
       "      <td>1.00</td>\n",
       "      <td>1.29</td>\n",
       "      <td>0.01</td>\n",
       "      <td>0.02</td>\n",
       "      <td>41,000,000.00</td>\n",
       "      <td>2,000,000.00</td>\n",
       "      <td>40,000,000.00</td>\n",
       "      <td>39,000,000.00</td>\n",
       "      <td>2,000,000.00</td>\n",
       "      <td>3,000,000.00</td>\n",
       "      <td>0.00</td>\n",
       "      <td>0.00</td>\n",
       "      <td>0.00</td>\n",
       "      <td>36,296,113.00</td>\n",
       "    </tr>\n",
       "    <tr>\n",
       "      <th>2</th>\n",
       "      <td>Afghanistan</td>\n",
       "      <td>Aliments pour enfants</td>\n",
       "      <td>vegetale</td>\n",
       "      <td>0.00</td>\n",
       "      <td>0.00</td>\n",
       "      <td>1.00</td>\n",
       "      <td>0.06</td>\n",
       "      <td>0.01</td>\n",
       "      <td>0.03</td>\n",
       "      <td>2,000,000.00</td>\n",
       "      <td>0.00</td>\n",
       "      <td>2,000,000.00</td>\n",
       "      <td>2,000,000.00</td>\n",
       "      <td>0.00</td>\n",
       "      <td>0.00</td>\n",
       "      <td>0.00</td>\n",
       "      <td>0.00</td>\n",
       "      <td>0.00</td>\n",
       "      <td>36,296,113.00</td>\n",
       "    </tr>\n",
       "    <tr>\n",
       "      <th>3</th>\n",
       "      <td>Afghanistan</td>\n",
       "      <td>Ananas</td>\n",
       "      <td>vegetale</td>\n",
       "      <td>0.00</td>\n",
       "      <td>0.00</td>\n",
       "      <td>0.00</td>\n",
       "      <td>0.00</td>\n",
       "      <td>0.00</td>\n",
       "      <td>0.00</td>\n",
       "      <td>0.00</td>\n",
       "      <td>0.00</td>\n",
       "      <td>0.00</td>\n",
       "      <td>0.00</td>\n",
       "      <td>0.00</td>\n",
       "      <td>0.00</td>\n",
       "      <td>0.00</td>\n",
       "      <td>0.00</td>\n",
       "      <td>0.00</td>\n",
       "      <td>36,296,113.00</td>\n",
       "    </tr>\n",
       "    <tr>\n",
       "      <th>4</th>\n",
       "      <td>Afghanistan</td>\n",
       "      <td>Bananes</td>\n",
       "      <td>vegetale</td>\n",
       "      <td>0.00</td>\n",
       "      <td>0.00</td>\n",
       "      <td>4.00</td>\n",
       "      <td>2.70</td>\n",
       "      <td>0.02</td>\n",
       "      <td>0.05</td>\n",
       "      <td>82,000,000.00</td>\n",
       "      <td>0.00</td>\n",
       "      <td>82,000,000.00</td>\n",
       "      <td>82,000,000.00</td>\n",
       "      <td>0.00</td>\n",
       "      <td>0.00</td>\n",
       "      <td>0.00</td>\n",
       "      <td>0.00</td>\n",
       "      <td>0.00</td>\n",
       "      <td>36,296,113.00</td>\n",
       "    </tr>\n",
       "  </tbody>\n",
       "</table>\n",
       "</div>"
      ],
      "text/plain": [
       "          Zone                Produit   Origine  Aliments pour animaux  \\\n",
       "0  Afghanistan       Abats Comestible   animale                   0.00   \n",
       "1  Afghanistan        Agrumes, Autres  vegetale                   0.00   \n",
       "2  Afghanistan  Aliments pour enfants  vegetale                   0.00   \n",
       "3  Afghanistan                 Ananas  vegetale                   0.00   \n",
       "4  Afghanistan                Bananes  vegetale                   0.00   \n",
       "\n",
       "   Autres Utilisations  Disponibilité alimentaire (Kcal/personne/jour)  \\\n",
       "0                 0.00                                            5.00   \n",
       "1                 0.00                                            1.00   \n",
       "2                 0.00                                            1.00   \n",
       "3                 0.00                                            0.00   \n",
       "4                 0.00                                            4.00   \n",
       "\n",
       "   Disponibilité alimentaire en quantité (kg/personne/an)  \\\n",
       "0                                               1.72        \n",
       "1                                               1.29        \n",
       "2                                               0.06        \n",
       "3                                               0.00        \n",
       "4                                               2.70        \n",
       "\n",
       "   Disponibilité de matière grasse en quantité (g/personne/jour)  \\\n",
       "0                                               0.20               \n",
       "1                                               0.01               \n",
       "2                                               0.01               \n",
       "3                                               0.00               \n",
       "4                                               0.02               \n",
       "\n",
       "   Disponibilité de protéines en quantité (g/personne/jour)  \\\n",
       "0                                               0.77          \n",
       "1                                               0.02          \n",
       "2                                               0.03          \n",
       "3                                               0.00          \n",
       "4                                               0.05          \n",
       "\n",
       "   Disponibilité intérieure  Exportations - Quantité  Importations - Quantité  \\\n",
       "0             53,000,000.00                     0.00                     0.00   \n",
       "1             41,000,000.00             2,000,000.00            40,000,000.00   \n",
       "2              2,000,000.00                     0.00             2,000,000.00   \n",
       "3                      0.00                     0.00                     0.00   \n",
       "4             82,000,000.00                     0.00            82,000,000.00   \n",
       "\n",
       "     Nourriture       Pertes    Production  Semences  Traitement  \\\n",
       "0 53,000,000.00         0.00 53,000,000.00      0.00        0.00   \n",
       "1 39,000,000.00 2,000,000.00  3,000,000.00      0.00        0.00   \n",
       "2  2,000,000.00         0.00          0.00      0.00        0.00   \n",
       "3          0.00         0.00          0.00      0.00        0.00   \n",
       "4 82,000,000.00         0.00          0.00      0.00        0.00   \n",
       "\n",
       "   Variation de stock    Population  \n",
       "0                0.00 36,296,113.00  \n",
       "1                0.00 36,296,113.00  \n",
       "2                0.00 36,296,113.00  \n",
       "3                0.00 36,296,113.00  \n",
       "4                0.00 36,296,113.00  "
      ]
     },
     "execution_count": 39,
     "metadata": {},
     "output_type": "execute_result"
    }
   ],
   "source": [
    "#Affichage du nouveau dataframe\n",
    "dispo_alimentaire.head()"
   ]
  },
  {
   "cell_type": "code",
   "execution_count": 40,
   "id": "a6d4af90",
   "metadata": {},
   "outputs": [
    {
     "name": "stdout",
     "output_type": "stream",
     "text": [
      "9.3 billion\n"
     ]
    }
   ],
   "source": [
    "# Calcul du nombre d'humains pouvant être nourris\n",
    "dispo_alimentaire[\"Disponibilité alimentaire en million (Kcal/jour)\"] = np.round(\n",
    "    (\n",
    "        dispo_alimentaire[\"Disponibilité alimentaire (Kcal/personne/jour)\"]\n",
    "        * dispo_alimentaire[\"Population\"]\n",
    "    ),\n",
    "    2,\n",
    ")\n",
    "total_dispo_alimentaire = np.round(\n",
    "    dispo_alimentaire[\"Disponibilité alimentaire en million (Kcal/jour)\"].sum()\n",
    ")\n",
    "humain_pouvant_nourris = total_dispo_alimentaire / 2250\n",
    "print(\"{:.2} billion\".format(humain_pouvant_nourris / 1_000_000_000))"
   ]
  },
  {
   "cell_type": "code",
   "execution_count": 41,
   "id": "ba91d98d",
   "metadata": {},
   "outputs": [
    {
     "data": {
      "text/plain": [
       "123.24462480252483"
      ]
     },
     "execution_count": 41,
     "metadata": {},
     "output_type": "execute_result"
    }
   ],
   "source": [
    "humain_pouvant_nourris/total_pop_2017*100"
   ]
  },
  {
   "cell_type": "code",
   "execution_count": 42,
   "id": "9d98d1ab",
   "metadata": {},
   "outputs": [
    {
     "data": {
      "application/vnd.plotly.v1+json": {
       "config": {
        "plotlyServerURL": "https://plot.ly"
       },
       "data": [
        {
         "marker": {
          "color": "blue"
         },
         "name": "Population",
         "text": [
          "100%"
         ],
         "textposition": "outside",
         "type": "bar",
         "x": [
          "Population"
         ],
         "y": [
          7548134111
         ]
        },
        {
         "marker": {
          "color": "green"
         },
         "name": "Capacité d'alimentation",
         "text": [
          "123%"
         ],
         "textposition": "outside",
         "type": "bar",
         "x": [
          "Capacité d'alimentation"
         ],
         "y": [
          9297326501.036
         ]
        }
       ],
       "layout": {
        "annotations": [
         {
          "font": {
           "color": "white",
           "size": 30
          },
          "showarrow": false,
          "text": "7.5 Billion",
          "x": "Population",
          "xanchor": "center",
          "y": 3774067055.5,
          "yanchor": "middle"
         },
         {
          "font": {
           "color": "white",
           "size": 30
          },
          "showarrow": false,
          "text": "9.3 Billion",
          "x": "Capacité d'alimentation",
          "xanchor": "center",
          "y": 3774067055.5,
          "yanchor": "middle"
         }
        ],
        "barmode": "group",
        "font": {
         "color": "white",
         "size": 14
        },
        "height": 600,
        "paper_bgcolor": "rgba(0,0,0,0)",
        "plot_bgcolor": "rgba(0,0,0,0)",
        "showlegend": false,
        "template": {
         "data": {
          "bar": [
           {
            "error_x": {
             "color": "#2a3f5f"
            },
            "error_y": {
             "color": "#2a3f5f"
            },
            "marker": {
             "line": {
              "color": "#E5ECF6",
              "width": 0.5
             },
             "pattern": {
              "fillmode": "overlay",
              "size": 10,
              "solidity": 0.2
             }
            },
            "type": "bar"
           }
          ],
          "barpolar": [
           {
            "marker": {
             "line": {
              "color": "#E5ECF6",
              "width": 0.5
             },
             "pattern": {
              "fillmode": "overlay",
              "size": 10,
              "solidity": 0.2
             }
            },
            "type": "barpolar"
           }
          ],
          "carpet": [
           {
            "aaxis": {
             "endlinecolor": "#2a3f5f",
             "gridcolor": "white",
             "linecolor": "white",
             "minorgridcolor": "white",
             "startlinecolor": "#2a3f5f"
            },
            "baxis": {
             "endlinecolor": "#2a3f5f",
             "gridcolor": "white",
             "linecolor": "white",
             "minorgridcolor": "white",
             "startlinecolor": "#2a3f5f"
            },
            "type": "carpet"
           }
          ],
          "choropleth": [
           {
            "colorbar": {
             "outlinewidth": 0,
             "ticks": ""
            },
            "type": "choropleth"
           }
          ],
          "contour": [
           {
            "colorbar": {
             "outlinewidth": 0,
             "ticks": ""
            },
            "colorscale": [
             [
              0,
              "#0d0887"
             ],
             [
              0.1111111111111111,
              "#46039f"
             ],
             [
              0.2222222222222222,
              "#7201a8"
             ],
             [
              0.3333333333333333,
              "#9c179e"
             ],
             [
              0.4444444444444444,
              "#bd3786"
             ],
             [
              0.5555555555555556,
              "#d8576b"
             ],
             [
              0.6666666666666666,
              "#ed7953"
             ],
             [
              0.7777777777777778,
              "#fb9f3a"
             ],
             [
              0.8888888888888888,
              "#fdca26"
             ],
             [
              1,
              "#f0f921"
             ]
            ],
            "type": "contour"
           }
          ],
          "contourcarpet": [
           {
            "colorbar": {
             "outlinewidth": 0,
             "ticks": ""
            },
            "type": "contourcarpet"
           }
          ],
          "heatmap": [
           {
            "colorbar": {
             "outlinewidth": 0,
             "ticks": ""
            },
            "colorscale": [
             [
              0,
              "#0d0887"
             ],
             [
              0.1111111111111111,
              "#46039f"
             ],
             [
              0.2222222222222222,
              "#7201a8"
             ],
             [
              0.3333333333333333,
              "#9c179e"
             ],
             [
              0.4444444444444444,
              "#bd3786"
             ],
             [
              0.5555555555555556,
              "#d8576b"
             ],
             [
              0.6666666666666666,
              "#ed7953"
             ],
             [
              0.7777777777777778,
              "#fb9f3a"
             ],
             [
              0.8888888888888888,
              "#fdca26"
             ],
             [
              1,
              "#f0f921"
             ]
            ],
            "type": "heatmap"
           }
          ],
          "heatmapgl": [
           {
            "colorbar": {
             "outlinewidth": 0,
             "ticks": ""
            },
            "colorscale": [
             [
              0,
              "#0d0887"
             ],
             [
              0.1111111111111111,
              "#46039f"
             ],
             [
              0.2222222222222222,
              "#7201a8"
             ],
             [
              0.3333333333333333,
              "#9c179e"
             ],
             [
              0.4444444444444444,
              "#bd3786"
             ],
             [
              0.5555555555555556,
              "#d8576b"
             ],
             [
              0.6666666666666666,
              "#ed7953"
             ],
             [
              0.7777777777777778,
              "#fb9f3a"
             ],
             [
              0.8888888888888888,
              "#fdca26"
             ],
             [
              1,
              "#f0f921"
             ]
            ],
            "type": "heatmapgl"
           }
          ],
          "histogram": [
           {
            "marker": {
             "pattern": {
              "fillmode": "overlay",
              "size": 10,
              "solidity": 0.2
             }
            },
            "type": "histogram"
           }
          ],
          "histogram2d": [
           {
            "colorbar": {
             "outlinewidth": 0,
             "ticks": ""
            },
            "colorscale": [
             [
              0,
              "#0d0887"
             ],
             [
              0.1111111111111111,
              "#46039f"
             ],
             [
              0.2222222222222222,
              "#7201a8"
             ],
             [
              0.3333333333333333,
              "#9c179e"
             ],
             [
              0.4444444444444444,
              "#bd3786"
             ],
             [
              0.5555555555555556,
              "#d8576b"
             ],
             [
              0.6666666666666666,
              "#ed7953"
             ],
             [
              0.7777777777777778,
              "#fb9f3a"
             ],
             [
              0.8888888888888888,
              "#fdca26"
             ],
             [
              1,
              "#f0f921"
             ]
            ],
            "type": "histogram2d"
           }
          ],
          "histogram2dcontour": [
           {
            "colorbar": {
             "outlinewidth": 0,
             "ticks": ""
            },
            "colorscale": [
             [
              0,
              "#0d0887"
             ],
             [
              0.1111111111111111,
              "#46039f"
             ],
             [
              0.2222222222222222,
              "#7201a8"
             ],
             [
              0.3333333333333333,
              "#9c179e"
             ],
             [
              0.4444444444444444,
              "#bd3786"
             ],
             [
              0.5555555555555556,
              "#d8576b"
             ],
             [
              0.6666666666666666,
              "#ed7953"
             ],
             [
              0.7777777777777778,
              "#fb9f3a"
             ],
             [
              0.8888888888888888,
              "#fdca26"
             ],
             [
              1,
              "#f0f921"
             ]
            ],
            "type": "histogram2dcontour"
           }
          ],
          "mesh3d": [
           {
            "colorbar": {
             "outlinewidth": 0,
             "ticks": ""
            },
            "type": "mesh3d"
           }
          ],
          "parcoords": [
           {
            "line": {
             "colorbar": {
              "outlinewidth": 0,
              "ticks": ""
             }
            },
            "type": "parcoords"
           }
          ],
          "pie": [
           {
            "automargin": true,
            "type": "pie"
           }
          ],
          "scatter": [
           {
            "fillpattern": {
             "fillmode": "overlay",
             "size": 10,
             "solidity": 0.2
            },
            "type": "scatter"
           }
          ],
          "scatter3d": [
           {
            "line": {
             "colorbar": {
              "outlinewidth": 0,
              "ticks": ""
             }
            },
            "marker": {
             "colorbar": {
              "outlinewidth": 0,
              "ticks": ""
             }
            },
            "type": "scatter3d"
           }
          ],
          "scattercarpet": [
           {
            "marker": {
             "colorbar": {
              "outlinewidth": 0,
              "ticks": ""
             }
            },
            "type": "scattercarpet"
           }
          ],
          "scattergeo": [
           {
            "marker": {
             "colorbar": {
              "outlinewidth": 0,
              "ticks": ""
             }
            },
            "type": "scattergeo"
           }
          ],
          "scattergl": [
           {
            "marker": {
             "colorbar": {
              "outlinewidth": 0,
              "ticks": ""
             }
            },
            "type": "scattergl"
           }
          ],
          "scattermapbox": [
           {
            "marker": {
             "colorbar": {
              "outlinewidth": 0,
              "ticks": ""
             }
            },
            "type": "scattermapbox"
           }
          ],
          "scatterpolar": [
           {
            "marker": {
             "colorbar": {
              "outlinewidth": 0,
              "ticks": ""
             }
            },
            "type": "scatterpolar"
           }
          ],
          "scatterpolargl": [
           {
            "marker": {
             "colorbar": {
              "outlinewidth": 0,
              "ticks": ""
             }
            },
            "type": "scatterpolargl"
           }
          ],
          "scatterternary": [
           {
            "marker": {
             "colorbar": {
              "outlinewidth": 0,
              "ticks": ""
             }
            },
            "type": "scatterternary"
           }
          ],
          "surface": [
           {
            "colorbar": {
             "outlinewidth": 0,
             "ticks": ""
            },
            "colorscale": [
             [
              0,
              "#0d0887"
             ],
             [
              0.1111111111111111,
              "#46039f"
             ],
             [
              0.2222222222222222,
              "#7201a8"
             ],
             [
              0.3333333333333333,
              "#9c179e"
             ],
             [
              0.4444444444444444,
              "#bd3786"
             ],
             [
              0.5555555555555556,
              "#d8576b"
             ],
             [
              0.6666666666666666,
              "#ed7953"
             ],
             [
              0.7777777777777778,
              "#fb9f3a"
             ],
             [
              0.8888888888888888,
              "#fdca26"
             ],
             [
              1,
              "#f0f921"
             ]
            ],
            "type": "surface"
           }
          ],
          "table": [
           {
            "cells": {
             "fill": {
              "color": "#EBF0F8"
             },
             "line": {
              "color": "white"
             }
            },
            "header": {
             "fill": {
              "color": "#C8D4E3"
             },
             "line": {
              "color": "white"
             }
            },
            "type": "table"
           }
          ]
         },
         "layout": {
          "annotationdefaults": {
           "arrowcolor": "#2a3f5f",
           "arrowhead": 0,
           "arrowwidth": 1
          },
          "autotypenumbers": "strict",
          "coloraxis": {
           "colorbar": {
            "outlinewidth": 0,
            "ticks": ""
           }
          },
          "colorscale": {
           "diverging": [
            [
             0,
             "#8e0152"
            ],
            [
             0.1,
             "#c51b7d"
            ],
            [
             0.2,
             "#de77ae"
            ],
            [
             0.3,
             "#f1b6da"
            ],
            [
             0.4,
             "#fde0ef"
            ],
            [
             0.5,
             "#f7f7f7"
            ],
            [
             0.6,
             "#e6f5d0"
            ],
            [
             0.7,
             "#b8e186"
            ],
            [
             0.8,
             "#7fbc41"
            ],
            [
             0.9,
             "#4d9221"
            ],
            [
             1,
             "#276419"
            ]
           ],
           "sequential": [
            [
             0,
             "#0d0887"
            ],
            [
             0.1111111111111111,
             "#46039f"
            ],
            [
             0.2222222222222222,
             "#7201a8"
            ],
            [
             0.3333333333333333,
             "#9c179e"
            ],
            [
             0.4444444444444444,
             "#bd3786"
            ],
            [
             0.5555555555555556,
             "#d8576b"
            ],
            [
             0.6666666666666666,
             "#ed7953"
            ],
            [
             0.7777777777777778,
             "#fb9f3a"
            ],
            [
             0.8888888888888888,
             "#fdca26"
            ],
            [
             1,
             "#f0f921"
            ]
           ],
           "sequentialminus": [
            [
             0,
             "#0d0887"
            ],
            [
             0.1111111111111111,
             "#46039f"
            ],
            [
             0.2222222222222222,
             "#7201a8"
            ],
            [
             0.3333333333333333,
             "#9c179e"
            ],
            [
             0.4444444444444444,
             "#bd3786"
            ],
            [
             0.5555555555555556,
             "#d8576b"
            ],
            [
             0.6666666666666666,
             "#ed7953"
            ],
            [
             0.7777777777777778,
             "#fb9f3a"
            ],
            [
             0.8888888888888888,
             "#fdca26"
            ],
            [
             1,
             "#f0f921"
            ]
           ]
          },
          "colorway": [
           "#636efa",
           "#EF553B",
           "#00cc96",
           "#ab63fa",
           "#FFA15A",
           "#19d3f3",
           "#FF6692",
           "#B6E880",
           "#FF97FF",
           "#FECB52"
          ],
          "font": {
           "color": "#2a3f5f"
          },
          "geo": {
           "bgcolor": "white",
           "lakecolor": "white",
           "landcolor": "#E5ECF6",
           "showlakes": true,
           "showland": true,
           "subunitcolor": "white"
          },
          "hoverlabel": {
           "align": "left"
          },
          "hovermode": "closest",
          "mapbox": {
           "style": "light"
          },
          "paper_bgcolor": "white",
          "plot_bgcolor": "#E5ECF6",
          "polar": {
           "angularaxis": {
            "gridcolor": "white",
            "linecolor": "white",
            "ticks": ""
           },
           "bgcolor": "#E5ECF6",
           "radialaxis": {
            "gridcolor": "white",
            "linecolor": "white",
            "ticks": ""
           }
          },
          "scene": {
           "xaxis": {
            "backgroundcolor": "#E5ECF6",
            "gridcolor": "white",
            "gridwidth": 2,
            "linecolor": "white",
            "showbackground": true,
            "ticks": "",
            "zerolinecolor": "white"
           },
           "yaxis": {
            "backgroundcolor": "#E5ECF6",
            "gridcolor": "white",
            "gridwidth": 2,
            "linecolor": "white",
            "showbackground": true,
            "ticks": "",
            "zerolinecolor": "white"
           },
           "zaxis": {
            "backgroundcolor": "#E5ECF6",
            "gridcolor": "white",
            "gridwidth": 2,
            "linecolor": "white",
            "showbackground": true,
            "ticks": "",
            "zerolinecolor": "white"
           }
          },
          "shapedefaults": {
           "line": {
            "color": "#2a3f5f"
           }
          },
          "ternary": {
           "aaxis": {
            "gridcolor": "white",
            "linecolor": "white",
            "ticks": ""
           },
           "baxis": {
            "gridcolor": "white",
            "linecolor": "white",
            "ticks": ""
           },
           "bgcolor": "#E5ECF6",
           "caxis": {
            "gridcolor": "white",
            "linecolor": "white",
            "ticks": ""
           }
          },
          "title": {
           "x": 0.05
          },
          "xaxis": {
           "automargin": true,
           "gridcolor": "white",
           "linecolor": "white",
           "ticks": "",
           "title": {
            "standoff": 15
           },
           "zerolinecolor": "white",
           "zerolinewidth": 2
          },
          "yaxis": {
           "automargin": true,
           "gridcolor": "white",
           "linecolor": "white",
           "ticks": "",
           "title": {
            "standoff": 15
           },
           "zerolinecolor": "white",
           "zerolinewidth": 2
          }
         }
        },
        "title": {
         "text": "Population vs Capacité d'alimentation"
        },
        "width": 800,
        "yaxis": {
         "title": {
          "text": "Population"
         }
        }
       }
      }
     },
     "metadata": {},
     "output_type": "display_data"
    }
   ],
   "source": [
    "import plotly.graph_objects as go\n",
    "\n",
    "# Data\n",
    "population = population_2017[\"Population\"].sum()\n",
    "capacity = humain_pouvant_nourris\n",
    "population_percent = 100\n",
    "capacity_percent = capacity / population * 100\n",
    "\n",
    "# Create a bar chart using Plotly\n",
    "fig = go.Figure(\n",
    "    data=[\n",
    "        go.Bar(\n",
    "            name=\"Population\",\n",
    "            x=[\"Population\"],\n",
    "            y=[population],\n",
    "            marker_color=\"blue\",\n",
    "            text=[f\"{population_percent:.0f}%\"],\n",
    "            textposition=\"outside\",\n",
    "        ),\n",
    "        go.Bar(\n",
    "            name=\"Capacité d'alimentation\",\n",
    "            x=[\"Capacité d'alimentation\"],\n",
    "            y=[capacity],\n",
    "            marker_color=\"green\",\n",
    "            text=[f\"{capacity_percent:.0f}%\"],\n",
    "            textposition=\"outside\",\n",
    "        ),\n",
    "    ]\n",
    ")\n",
    "\n",
    "# Update the layout\n",
    "fig.update_layout(\n",
    "    title=\"Population vs Capacité d'alimentation\",\n",
    "    yaxis_title=\"Population\",\n",
    "    barmode=\"group\",\n",
    "    showlegend=False,\n",
    "    width=800,\n",
    "    height=600,\n",
    "    paper_bgcolor=\"rgba(0,0,0,0)\",  # make the paper background transparent\n",
    "    plot_bgcolor=\"rgba(0,0,0,0)\",  # make the plot background transparent\n",
    "    font=dict(color=\"white\", size=14),\n",
    "    annotations=[\n",
    "        dict(\n",
    "            x=\"Population\",\n",
    "            y=population / 2,\n",
    "            text=f\"{population/1_000_000_000:.1f} Billion\",\n",
    "            showarrow=False,\n",
    "            font=dict(color=\"white\", size=30),\n",
    "            xanchor=\"center\",\n",
    "            yanchor=\"middle\"\n",
    "        ),\n",
    "        dict(\n",
    "            x=\"Capacité d'alimentation\",\n",
    "            y=population / 2,\n",
    "            text=f\"{capacity/1_000_000_000:.1f} Billion\",\n",
    "            showarrow=False,\n",
    "            font=dict(color=\"white\", size=30),\n",
    "            xanchor=\"center\",\n",
    "            yanchor=\"middle\"\n",
    "        )\n",
    "    ]\n",
    ")\n",
    "\n",
    "# Show the figure\n",
    "fig.show()\n",
    "fig.write_image(\"src/main/extracted_data/2.svg\")"
   ]
  },
  {
   "cell_type": "markdown",
   "id": "0c836df8",
   "metadata": {},
   "source": [
    "## 7. <a id='toc7_'></a>[Nombre théorique de personne qui pourrait être nourrie avec les produits végétaux](#toc0_)"
   ]
  },
  {
   "cell_type": "code",
   "execution_count": 43,
   "id": "c2e3c87c",
   "metadata": {},
   "outputs": [],
   "source": [
    "#Transfert des données avec les végétaux dans un nouveau dataframe\n",
    "dispo_alimentaire_vegetaux = dispo_alimentaire[dispo_alimentaire['Origine'] == 'vegetale']"
   ]
  },
  {
   "cell_type": "code",
   "execution_count": 44,
   "id": "534f3ad7",
   "metadata": {},
   "outputs": [
    {
     "name": "stdout",
     "output_type": "stream",
     "text": [
      "17,260.76 billion kcal\n"
     ]
    }
   ],
   "source": [
    "# Calcul du nombre de kcal disponible pour les végétaux\n",
    "dispo_alimentaire_vegetaux[\"dispo_kcal\"] = np.round(\n",
    "    (\n",
    "        dispo_alimentaire_vegetaux[\"Disponibilité alimentaire (Kcal/personne/jour)\"]\n",
    "        * dispo_alimentaire_vegetaux[\"Population\"]\n",
    "    ),\n",
    "    2,\n",
    ")\n",
    "total_dispo_alimentaire_vegetaux = np.round(\n",
    "    dispo_alimentaire_vegetaux[\"dispo_kcal\"].sum()\n",
    ")\n",
    "print(\"{:,.2f} billion kcal\".format(total_dispo_alimentaire_vegetaux / 1_000_000_000))"
   ]
  },
  {
   "cell_type": "code",
   "execution_count": 45,
   "id": "8c82da41",
   "metadata": {},
   "outputs": [
    {
     "name": "stdout",
     "output_type": "stream",
     "text": [
      "7.67 billion\n"
     ]
    }
   ],
   "source": [
    "# Calcul du nombre d'humains pouvant être nourris avec les végétaux\n",
    "humain_pouvant_nourris_vegetaux = total_dispo_alimentaire_vegetaux / 2250\n",
    "print(\"{:.2f} billion\".format(humain_pouvant_nourris_vegetaux / 1_000_000_000))"
   ]
  },
  {
   "cell_type": "code",
   "execution_count": 46,
   "id": "54e0338e",
   "metadata": {},
   "outputs": [
    {
     "data": {
      "text/plain": [
       "101.69214457340064"
      ]
     },
     "execution_count": 46,
     "metadata": {},
     "output_type": "execute_result"
    }
   ],
   "source": [
    "humain_pouvant_nourris_vegetaux/total_pop_2017*100"
   ]
  },
  {
   "cell_type": "code",
   "execution_count": 47,
   "id": "a81c4209",
   "metadata": {},
   "outputs": [
    {
     "data": {
      "application/vnd.plotly.v1+json": {
       "config": {
        "plotlyServerURL": "https://plot.ly"
       },
       "data": [
        {
         "marker": {
          "color": "blue"
         },
         "name": "Population",
         "text": [
          "100%"
         ],
         "textposition": "outside",
         "type": "bar",
         "x": [
          "Population"
         ],
         "y": [
          7548134111
         ]
        },
        {
         "marker": {
          "color": "green"
         },
         "name": "Capacity",
         "text": [
          "102%"
         ],
         "textposition": "outside",
         "type": "bar",
         "x": [
          "Capacity"
         ],
         "y": [
          7671450760.667111
         ]
        }
       ],
       "layout": {
        "annotations": [
         {
          "font": {
           "color": "white",
           "size": 30
          },
          "showarrow": false,
          "text": "7.5 Billion",
          "x": "Population",
          "y": 3774067055.5
         },
         {
          "font": {
           "color": "white",
           "size": 30
          },
          "showarrow": false,
          "text": "7.7 Billion",
          "x": "Capacity",
          "y": 3774067055.5
         }
        ],
        "barmode": "group",
        "font": {
         "color": "white",
         "size": 14
        },
        "height": 600,
        "paper_bgcolor": "rgba(0,0,0,0)",
        "plot_bgcolor": "rgba(0,0,0,0)",
        "showlegend": false,
        "template": {
         "data": {
          "bar": [
           {
            "error_x": {
             "color": "#2a3f5f"
            },
            "error_y": {
             "color": "#2a3f5f"
            },
            "marker": {
             "line": {
              "color": "#E5ECF6",
              "width": 0.5
             },
             "pattern": {
              "fillmode": "overlay",
              "size": 10,
              "solidity": 0.2
             }
            },
            "type": "bar"
           }
          ],
          "barpolar": [
           {
            "marker": {
             "line": {
              "color": "#E5ECF6",
              "width": 0.5
             },
             "pattern": {
              "fillmode": "overlay",
              "size": 10,
              "solidity": 0.2
             }
            },
            "type": "barpolar"
           }
          ],
          "carpet": [
           {
            "aaxis": {
             "endlinecolor": "#2a3f5f",
             "gridcolor": "white",
             "linecolor": "white",
             "minorgridcolor": "white",
             "startlinecolor": "#2a3f5f"
            },
            "baxis": {
             "endlinecolor": "#2a3f5f",
             "gridcolor": "white",
             "linecolor": "white",
             "minorgridcolor": "white",
             "startlinecolor": "#2a3f5f"
            },
            "type": "carpet"
           }
          ],
          "choropleth": [
           {
            "colorbar": {
             "outlinewidth": 0,
             "ticks": ""
            },
            "type": "choropleth"
           }
          ],
          "contour": [
           {
            "colorbar": {
             "outlinewidth": 0,
             "ticks": ""
            },
            "colorscale": [
             [
              0,
              "#0d0887"
             ],
             [
              0.1111111111111111,
              "#46039f"
             ],
             [
              0.2222222222222222,
              "#7201a8"
             ],
             [
              0.3333333333333333,
              "#9c179e"
             ],
             [
              0.4444444444444444,
              "#bd3786"
             ],
             [
              0.5555555555555556,
              "#d8576b"
             ],
             [
              0.6666666666666666,
              "#ed7953"
             ],
             [
              0.7777777777777778,
              "#fb9f3a"
             ],
             [
              0.8888888888888888,
              "#fdca26"
             ],
             [
              1,
              "#f0f921"
             ]
            ],
            "type": "contour"
           }
          ],
          "contourcarpet": [
           {
            "colorbar": {
             "outlinewidth": 0,
             "ticks": ""
            },
            "type": "contourcarpet"
           }
          ],
          "heatmap": [
           {
            "colorbar": {
             "outlinewidth": 0,
             "ticks": ""
            },
            "colorscale": [
             [
              0,
              "#0d0887"
             ],
             [
              0.1111111111111111,
              "#46039f"
             ],
             [
              0.2222222222222222,
              "#7201a8"
             ],
             [
              0.3333333333333333,
              "#9c179e"
             ],
             [
              0.4444444444444444,
              "#bd3786"
             ],
             [
              0.5555555555555556,
              "#d8576b"
             ],
             [
              0.6666666666666666,
              "#ed7953"
             ],
             [
              0.7777777777777778,
              "#fb9f3a"
             ],
             [
              0.8888888888888888,
              "#fdca26"
             ],
             [
              1,
              "#f0f921"
             ]
            ],
            "type": "heatmap"
           }
          ],
          "heatmapgl": [
           {
            "colorbar": {
             "outlinewidth": 0,
             "ticks": ""
            },
            "colorscale": [
             [
              0,
              "#0d0887"
             ],
             [
              0.1111111111111111,
              "#46039f"
             ],
             [
              0.2222222222222222,
              "#7201a8"
             ],
             [
              0.3333333333333333,
              "#9c179e"
             ],
             [
              0.4444444444444444,
              "#bd3786"
             ],
             [
              0.5555555555555556,
              "#d8576b"
             ],
             [
              0.6666666666666666,
              "#ed7953"
             ],
             [
              0.7777777777777778,
              "#fb9f3a"
             ],
             [
              0.8888888888888888,
              "#fdca26"
             ],
             [
              1,
              "#f0f921"
             ]
            ],
            "type": "heatmapgl"
           }
          ],
          "histogram": [
           {
            "marker": {
             "pattern": {
              "fillmode": "overlay",
              "size": 10,
              "solidity": 0.2
             }
            },
            "type": "histogram"
           }
          ],
          "histogram2d": [
           {
            "colorbar": {
             "outlinewidth": 0,
             "ticks": ""
            },
            "colorscale": [
             [
              0,
              "#0d0887"
             ],
             [
              0.1111111111111111,
              "#46039f"
             ],
             [
              0.2222222222222222,
              "#7201a8"
             ],
             [
              0.3333333333333333,
              "#9c179e"
             ],
             [
              0.4444444444444444,
              "#bd3786"
             ],
             [
              0.5555555555555556,
              "#d8576b"
             ],
             [
              0.6666666666666666,
              "#ed7953"
             ],
             [
              0.7777777777777778,
              "#fb9f3a"
             ],
             [
              0.8888888888888888,
              "#fdca26"
             ],
             [
              1,
              "#f0f921"
             ]
            ],
            "type": "histogram2d"
           }
          ],
          "histogram2dcontour": [
           {
            "colorbar": {
             "outlinewidth": 0,
             "ticks": ""
            },
            "colorscale": [
             [
              0,
              "#0d0887"
             ],
             [
              0.1111111111111111,
              "#46039f"
             ],
             [
              0.2222222222222222,
              "#7201a8"
             ],
             [
              0.3333333333333333,
              "#9c179e"
             ],
             [
              0.4444444444444444,
              "#bd3786"
             ],
             [
              0.5555555555555556,
              "#d8576b"
             ],
             [
              0.6666666666666666,
              "#ed7953"
             ],
             [
              0.7777777777777778,
              "#fb9f3a"
             ],
             [
              0.8888888888888888,
              "#fdca26"
             ],
             [
              1,
              "#f0f921"
             ]
            ],
            "type": "histogram2dcontour"
           }
          ],
          "mesh3d": [
           {
            "colorbar": {
             "outlinewidth": 0,
             "ticks": ""
            },
            "type": "mesh3d"
           }
          ],
          "parcoords": [
           {
            "line": {
             "colorbar": {
              "outlinewidth": 0,
              "ticks": ""
             }
            },
            "type": "parcoords"
           }
          ],
          "pie": [
           {
            "automargin": true,
            "type": "pie"
           }
          ],
          "scatter": [
           {
            "fillpattern": {
             "fillmode": "overlay",
             "size": 10,
             "solidity": 0.2
            },
            "type": "scatter"
           }
          ],
          "scatter3d": [
           {
            "line": {
             "colorbar": {
              "outlinewidth": 0,
              "ticks": ""
             }
            },
            "marker": {
             "colorbar": {
              "outlinewidth": 0,
              "ticks": ""
             }
            },
            "type": "scatter3d"
           }
          ],
          "scattercarpet": [
           {
            "marker": {
             "colorbar": {
              "outlinewidth": 0,
              "ticks": ""
             }
            },
            "type": "scattercarpet"
           }
          ],
          "scattergeo": [
           {
            "marker": {
             "colorbar": {
              "outlinewidth": 0,
              "ticks": ""
             }
            },
            "type": "scattergeo"
           }
          ],
          "scattergl": [
           {
            "marker": {
             "colorbar": {
              "outlinewidth": 0,
              "ticks": ""
             }
            },
            "type": "scattergl"
           }
          ],
          "scattermapbox": [
           {
            "marker": {
             "colorbar": {
              "outlinewidth": 0,
              "ticks": ""
             }
            },
            "type": "scattermapbox"
           }
          ],
          "scatterpolar": [
           {
            "marker": {
             "colorbar": {
              "outlinewidth": 0,
              "ticks": ""
             }
            },
            "type": "scatterpolar"
           }
          ],
          "scatterpolargl": [
           {
            "marker": {
             "colorbar": {
              "outlinewidth": 0,
              "ticks": ""
             }
            },
            "type": "scatterpolargl"
           }
          ],
          "scatterternary": [
           {
            "marker": {
             "colorbar": {
              "outlinewidth": 0,
              "ticks": ""
             }
            },
            "type": "scatterternary"
           }
          ],
          "surface": [
           {
            "colorbar": {
             "outlinewidth": 0,
             "ticks": ""
            },
            "colorscale": [
             [
              0,
              "#0d0887"
             ],
             [
              0.1111111111111111,
              "#46039f"
             ],
             [
              0.2222222222222222,
              "#7201a8"
             ],
             [
              0.3333333333333333,
              "#9c179e"
             ],
             [
              0.4444444444444444,
              "#bd3786"
             ],
             [
              0.5555555555555556,
              "#d8576b"
             ],
             [
              0.6666666666666666,
              "#ed7953"
             ],
             [
              0.7777777777777778,
              "#fb9f3a"
             ],
             [
              0.8888888888888888,
              "#fdca26"
             ],
             [
              1,
              "#f0f921"
             ]
            ],
            "type": "surface"
           }
          ],
          "table": [
           {
            "cells": {
             "fill": {
              "color": "#EBF0F8"
             },
             "line": {
              "color": "white"
             }
            },
            "header": {
             "fill": {
              "color": "#C8D4E3"
             },
             "line": {
              "color": "white"
             }
            },
            "type": "table"
           }
          ]
         },
         "layout": {
          "annotationdefaults": {
           "arrowcolor": "#2a3f5f",
           "arrowhead": 0,
           "arrowwidth": 1
          },
          "autotypenumbers": "strict",
          "coloraxis": {
           "colorbar": {
            "outlinewidth": 0,
            "ticks": ""
           }
          },
          "colorscale": {
           "diverging": [
            [
             0,
             "#8e0152"
            ],
            [
             0.1,
             "#c51b7d"
            ],
            [
             0.2,
             "#de77ae"
            ],
            [
             0.3,
             "#f1b6da"
            ],
            [
             0.4,
             "#fde0ef"
            ],
            [
             0.5,
             "#f7f7f7"
            ],
            [
             0.6,
             "#e6f5d0"
            ],
            [
             0.7,
             "#b8e186"
            ],
            [
             0.8,
             "#7fbc41"
            ],
            [
             0.9,
             "#4d9221"
            ],
            [
             1,
             "#276419"
            ]
           ],
           "sequential": [
            [
             0,
             "#0d0887"
            ],
            [
             0.1111111111111111,
             "#46039f"
            ],
            [
             0.2222222222222222,
             "#7201a8"
            ],
            [
             0.3333333333333333,
             "#9c179e"
            ],
            [
             0.4444444444444444,
             "#bd3786"
            ],
            [
             0.5555555555555556,
             "#d8576b"
            ],
            [
             0.6666666666666666,
             "#ed7953"
            ],
            [
             0.7777777777777778,
             "#fb9f3a"
            ],
            [
             0.8888888888888888,
             "#fdca26"
            ],
            [
             1,
             "#f0f921"
            ]
           ],
           "sequentialminus": [
            [
             0,
             "#0d0887"
            ],
            [
             0.1111111111111111,
             "#46039f"
            ],
            [
             0.2222222222222222,
             "#7201a8"
            ],
            [
             0.3333333333333333,
             "#9c179e"
            ],
            [
             0.4444444444444444,
             "#bd3786"
            ],
            [
             0.5555555555555556,
             "#d8576b"
            ],
            [
             0.6666666666666666,
             "#ed7953"
            ],
            [
             0.7777777777777778,
             "#fb9f3a"
            ],
            [
             0.8888888888888888,
             "#fdca26"
            ],
            [
             1,
             "#f0f921"
            ]
           ]
          },
          "colorway": [
           "#636efa",
           "#EF553B",
           "#00cc96",
           "#ab63fa",
           "#FFA15A",
           "#19d3f3",
           "#FF6692",
           "#B6E880",
           "#FF97FF",
           "#FECB52"
          ],
          "font": {
           "color": "#2a3f5f"
          },
          "geo": {
           "bgcolor": "white",
           "lakecolor": "white",
           "landcolor": "#E5ECF6",
           "showlakes": true,
           "showland": true,
           "subunitcolor": "white"
          },
          "hoverlabel": {
           "align": "left"
          },
          "hovermode": "closest",
          "mapbox": {
           "style": "light"
          },
          "paper_bgcolor": "white",
          "plot_bgcolor": "#E5ECF6",
          "polar": {
           "angularaxis": {
            "gridcolor": "white",
            "linecolor": "white",
            "ticks": ""
           },
           "bgcolor": "#E5ECF6",
           "radialaxis": {
            "gridcolor": "white",
            "linecolor": "white",
            "ticks": ""
           }
          },
          "scene": {
           "xaxis": {
            "backgroundcolor": "#E5ECF6",
            "gridcolor": "white",
            "gridwidth": 2,
            "linecolor": "white",
            "showbackground": true,
            "ticks": "",
            "zerolinecolor": "white"
           },
           "yaxis": {
            "backgroundcolor": "#E5ECF6",
            "gridcolor": "white",
            "gridwidth": 2,
            "linecolor": "white",
            "showbackground": true,
            "ticks": "",
            "zerolinecolor": "white"
           },
           "zaxis": {
            "backgroundcolor": "#E5ECF6",
            "gridcolor": "white",
            "gridwidth": 2,
            "linecolor": "white",
            "showbackground": true,
            "ticks": "",
            "zerolinecolor": "white"
           }
          },
          "shapedefaults": {
           "line": {
            "color": "#2a3f5f"
           }
          },
          "ternary": {
           "aaxis": {
            "gridcolor": "white",
            "linecolor": "white",
            "ticks": ""
           },
           "baxis": {
            "gridcolor": "white",
            "linecolor": "white",
            "ticks": ""
           },
           "bgcolor": "#E5ECF6",
           "caxis": {
            "gridcolor": "white",
            "linecolor": "white",
            "ticks": ""
           }
          },
          "title": {
           "x": 0.05
          },
          "xaxis": {
           "automargin": true,
           "gridcolor": "white",
           "linecolor": "white",
           "ticks": "",
           "title": {
            "standoff": 15
           },
           "zerolinecolor": "white",
           "zerolinewidth": 2
          },
          "yaxis": {
           "automargin": true,
           "gridcolor": "white",
           "linecolor": "white",
           "ticks": "",
           "title": {
            "standoff": 15
           },
           "zerolinecolor": "white",
           "zerolinewidth": 2
          }
         }
        },
        "title": {
         "text": "Population vs Feeding Capacity by Vegetal Products"
        },
        "width": 800,
        "yaxis": {
         "title": {
          "text": "Population"
         }
        }
       }
      }
     },
     "metadata": {},
     "output_type": "display_data"
    }
   ],
   "source": [
    "# Data\n",
    "population = population_2017[\"Population\"].sum()\n",
    "capacity = humain_pouvant_nourris_vegetaux\n",
    "population_percent = 100\n",
    "capacity_percent = capacity / population * 100\n",
    "\n",
    "# Create a bar chart using Plotly\n",
    "fig = go.Figure(\n",
    "    data=[\n",
    "        go.Bar(\n",
    "            name=\"Population\",\n",
    "            x=[\"Population\"],\n",
    "            y=[population],\n",
    "            marker_color=\"blue\",\n",
    "            text=[f\"{population_percent:.0f}%\"],\n",
    "            textposition=\"outside\",\n",
    "        ),\n",
    "        go.Bar(\n",
    "            name=\"Capacity\",\n",
    "            x=[\"Capacity\"],\n",
    "            y=[capacity],\n",
    "            marker_color=\"green\",\n",
    "            text=[f\"{capacity_percent:.0f}%\"],\n",
    "            textposition=\"outside\",\n",
    "        ),\n",
    "    ]\n",
    ")\n",
    "\n",
    "# Update the layout\n",
    "fig.update_layout(\n",
    "    title=\"Population vs Feeding Capacity by Vegetal Products\",\n",
    "    yaxis_title=\"Population\",\n",
    "    barmode=\"group\",\n",
    "    showlegend=False,\n",
    "    width=800,\n",
    "    height=600,\n",
    "    paper_bgcolor=\"rgba(0,0,0,0)\",  # make the paper background transparent\n",
    "    plot_bgcolor=\"rgba(0,0,0,0)\",  # make the plot background transparent\n",
    "    font=dict(color=\"white\", size=14),\n",
    ")\n",
    "\n",
    "# Add annotations one by one\n",
    "fig.add_annotation(\n",
    "    x=\"Population\",\n",
    "    y=population / 2,\n",
    "    text=f\"{population/1_000_000_000:.1f} Billion\",\n",
    "    showarrow=False,\n",
    "    font=dict(color=\"white\", size=30),\n",
    ")\n",
    "\n",
    "fig.add_annotation(\n",
    "    x=\"Capacity\",\n",
    "    y=population / 2,\n",
    "    text=f\"{capacity/1_000_000_000:.1f} Billion\",\n",
    "    showarrow=False,\n",
    "    font=dict(color=\"white\", size=30),\n",
    ")\n",
    "\n",
    "# Show the figure\n",
    "fig.show()\n",
    "fig.write_image(\"src/main/extracted_data/3.svg\")"
   ]
  },
  {
   "cell_type": "markdown",
   "id": "4825d715",
   "metadata": {},
   "source": [
    "## 8. <a id='toc8_'></a>[Utilisation de la disponibilité intérieure](#toc0_)"
   ]
  },
  {
   "cell_type": "code",
   "execution_count": 48,
   "id": "71328746",
   "metadata": {},
   "outputs": [
    {
     "name": "stdout",
     "output_type": "stream",
     "text": [
      "9,733,927.00 million\n"
     ]
    }
   ],
   "source": [
    "#Calcul de la disponibilité totale\n",
    "dispo_alimentaire_total = dispo_alimentaire[\"Disponibilité intérieure\"].sum()\n",
    "print(\"{:,.2f} million\".format(dispo_alimentaire_total/1_000_000))"
   ]
  },
  {
   "cell_type": "code",
   "execution_count": 49,
   "id": "983671ef",
   "metadata": {},
   "outputs": [
    {
     "name": "stdout",
     "output_type": "stream",
     "text": [
      "Aliments pour animaux proportion is 13.23%\n",
      "Pertes proportion is 4.65%\n",
      "Nourriture proportion is 49.37%\n",
      "Semences proportion is 1.58%\n",
      "Traitement proportion is 22.45%\n",
      "Autres Utilisations proportion is 8.82%\n"
     ]
    }
   ],
   "source": [
    "# création d'une boucle for pour afficher les différentes valeurs en fonction des colonnes aliments pour animaux, pertes, nourritures,\n",
    "columns = [\"Aliments pour animaux\", \"Pertes\", \"Nourriture\", \"Semences\", \"Traitement\", \"Autres Utilisations\"]\n",
    "\n",
    "for col in columns:\n",
    "    dispo_alimentaire[col].fillna(0, inplace=True)\n",
    "    dispo_alimentaire_sum = dispo_alimentaire[col].sum()\n",
    "    dispo_alimentaire_proportion = dispo_alimentaire_sum / dispo_alimentaire_total\n",
    "    print(f\"{col} proportion is {dispo_alimentaire_proportion*100:.2f}%\")"
   ]
  },
  {
   "cell_type": "code",
   "execution_count": 50,
   "id": "021bc7ee",
   "metadata": {},
   "outputs": [
    {
     "data": {
      "text/plain": [
       "['Aliments pour animaux',\n",
       " 'Pertes',\n",
       " 'Nourriture',\n",
       " 'Semences',\n",
       " 'Traitement',\n",
       " 'Autres Utilisations']"
      ]
     },
     "execution_count": 50,
     "metadata": {},
     "output_type": "execute_result"
    }
   ],
   "source": [
    "columns"
   ]
  },
  {
   "cell_type": "code",
   "execution_count": 51,
   "id": "7cbaba13",
   "metadata": {},
   "outputs": [
    {
     "data": {
      "application/vnd.plotly.v1+json": {
       "config": {
        "plotlyServerURL": "https://plot.ly"
       },
       "data": [
        {
         "domain": {
          "x": [
           0,
           1
          ],
          "y": [
           0,
           1
          ]
         },
         "hole": 0.3,
         "hovertemplate": "label=%{label}<br>value=%{value}<extra></extra>",
         "labels": [
          "Aliments pour animaux",
          "Pertes",
          "Nourriture",
          "Semences",
          "Traitement",
          "Autres Utilisations"
         ],
         "legendgroup": "",
         "name": "",
         "showlegend": true,
         "textinfo": "percent+label",
         "type": "pie",
         "values": [
          1288002000000,
          452283000000,
          4805525000000,
          153317000000,
          2185641000000,
          858771000000
         ]
        }
       ],
       "layout": {
        "annotations": [
         {
          "showarrow": false,
          "text": "Total Dispo Ali:<br> 9,734 Billion"
         }
        ],
        "font": {
         "color": "white",
         "size": 12
        },
        "height": 600,
        "legend": {
         "tracegroupgap": 0
        },
        "paper_bgcolor": "rgba(0,0,0,0)",
        "piecolorway": [
         "blue",
         "red",
         "yellow",
         "rgb(163,163,163)",
         "rgb(187,187,187)",
         "rgb(204,204,204)"
        ],
        "plot_bgcolor": "rgba(0,0,0,0)",
        "showlegend": false,
        "template": {
         "data": {
          "bar": [
           {
            "error_x": {
             "color": "#2a3f5f"
            },
            "error_y": {
             "color": "#2a3f5f"
            },
            "marker": {
             "line": {
              "color": "#E5ECF6",
              "width": 0.5
             },
             "pattern": {
              "fillmode": "overlay",
              "size": 10,
              "solidity": 0.2
             }
            },
            "type": "bar"
           }
          ],
          "barpolar": [
           {
            "marker": {
             "line": {
              "color": "#E5ECF6",
              "width": 0.5
             },
             "pattern": {
              "fillmode": "overlay",
              "size": 10,
              "solidity": 0.2
             }
            },
            "type": "barpolar"
           }
          ],
          "carpet": [
           {
            "aaxis": {
             "endlinecolor": "#2a3f5f",
             "gridcolor": "white",
             "linecolor": "white",
             "minorgridcolor": "white",
             "startlinecolor": "#2a3f5f"
            },
            "baxis": {
             "endlinecolor": "#2a3f5f",
             "gridcolor": "white",
             "linecolor": "white",
             "minorgridcolor": "white",
             "startlinecolor": "#2a3f5f"
            },
            "type": "carpet"
           }
          ],
          "choropleth": [
           {
            "colorbar": {
             "outlinewidth": 0,
             "ticks": ""
            },
            "type": "choropleth"
           }
          ],
          "contour": [
           {
            "colorbar": {
             "outlinewidth": 0,
             "ticks": ""
            },
            "colorscale": [
             [
              0,
              "#0d0887"
             ],
             [
              0.1111111111111111,
              "#46039f"
             ],
             [
              0.2222222222222222,
              "#7201a8"
             ],
             [
              0.3333333333333333,
              "#9c179e"
             ],
             [
              0.4444444444444444,
              "#bd3786"
             ],
             [
              0.5555555555555556,
              "#d8576b"
             ],
             [
              0.6666666666666666,
              "#ed7953"
             ],
             [
              0.7777777777777778,
              "#fb9f3a"
             ],
             [
              0.8888888888888888,
              "#fdca26"
             ],
             [
              1,
              "#f0f921"
             ]
            ],
            "type": "contour"
           }
          ],
          "contourcarpet": [
           {
            "colorbar": {
             "outlinewidth": 0,
             "ticks": ""
            },
            "type": "contourcarpet"
           }
          ],
          "heatmap": [
           {
            "colorbar": {
             "outlinewidth": 0,
             "ticks": ""
            },
            "colorscale": [
             [
              0,
              "#0d0887"
             ],
             [
              0.1111111111111111,
              "#46039f"
             ],
             [
              0.2222222222222222,
              "#7201a8"
             ],
             [
              0.3333333333333333,
              "#9c179e"
             ],
             [
              0.4444444444444444,
              "#bd3786"
             ],
             [
              0.5555555555555556,
              "#d8576b"
             ],
             [
              0.6666666666666666,
              "#ed7953"
             ],
             [
              0.7777777777777778,
              "#fb9f3a"
             ],
             [
              0.8888888888888888,
              "#fdca26"
             ],
             [
              1,
              "#f0f921"
             ]
            ],
            "type": "heatmap"
           }
          ],
          "heatmapgl": [
           {
            "colorbar": {
             "outlinewidth": 0,
             "ticks": ""
            },
            "colorscale": [
             [
              0,
              "#0d0887"
             ],
             [
              0.1111111111111111,
              "#46039f"
             ],
             [
              0.2222222222222222,
              "#7201a8"
             ],
             [
              0.3333333333333333,
              "#9c179e"
             ],
             [
              0.4444444444444444,
              "#bd3786"
             ],
             [
              0.5555555555555556,
              "#d8576b"
             ],
             [
              0.6666666666666666,
              "#ed7953"
             ],
             [
              0.7777777777777778,
              "#fb9f3a"
             ],
             [
              0.8888888888888888,
              "#fdca26"
             ],
             [
              1,
              "#f0f921"
             ]
            ],
            "type": "heatmapgl"
           }
          ],
          "histogram": [
           {
            "marker": {
             "pattern": {
              "fillmode": "overlay",
              "size": 10,
              "solidity": 0.2
             }
            },
            "type": "histogram"
           }
          ],
          "histogram2d": [
           {
            "colorbar": {
             "outlinewidth": 0,
             "ticks": ""
            },
            "colorscale": [
             [
              0,
              "#0d0887"
             ],
             [
              0.1111111111111111,
              "#46039f"
             ],
             [
              0.2222222222222222,
              "#7201a8"
             ],
             [
              0.3333333333333333,
              "#9c179e"
             ],
             [
              0.4444444444444444,
              "#bd3786"
             ],
             [
              0.5555555555555556,
              "#d8576b"
             ],
             [
              0.6666666666666666,
              "#ed7953"
             ],
             [
              0.7777777777777778,
              "#fb9f3a"
             ],
             [
              0.8888888888888888,
              "#fdca26"
             ],
             [
              1,
              "#f0f921"
             ]
            ],
            "type": "histogram2d"
           }
          ],
          "histogram2dcontour": [
           {
            "colorbar": {
             "outlinewidth": 0,
             "ticks": ""
            },
            "colorscale": [
             [
              0,
              "#0d0887"
             ],
             [
              0.1111111111111111,
              "#46039f"
             ],
             [
              0.2222222222222222,
              "#7201a8"
             ],
             [
              0.3333333333333333,
              "#9c179e"
             ],
             [
              0.4444444444444444,
              "#bd3786"
             ],
             [
              0.5555555555555556,
              "#d8576b"
             ],
             [
              0.6666666666666666,
              "#ed7953"
             ],
             [
              0.7777777777777778,
              "#fb9f3a"
             ],
             [
              0.8888888888888888,
              "#fdca26"
             ],
             [
              1,
              "#f0f921"
             ]
            ],
            "type": "histogram2dcontour"
           }
          ],
          "mesh3d": [
           {
            "colorbar": {
             "outlinewidth": 0,
             "ticks": ""
            },
            "type": "mesh3d"
           }
          ],
          "parcoords": [
           {
            "line": {
             "colorbar": {
              "outlinewidth": 0,
              "ticks": ""
             }
            },
            "type": "parcoords"
           }
          ],
          "pie": [
           {
            "automargin": true,
            "type": "pie"
           }
          ],
          "scatter": [
           {
            "fillpattern": {
             "fillmode": "overlay",
             "size": 10,
             "solidity": 0.2
            },
            "type": "scatter"
           }
          ],
          "scatter3d": [
           {
            "line": {
             "colorbar": {
              "outlinewidth": 0,
              "ticks": ""
             }
            },
            "marker": {
             "colorbar": {
              "outlinewidth": 0,
              "ticks": ""
             }
            },
            "type": "scatter3d"
           }
          ],
          "scattercarpet": [
           {
            "marker": {
             "colorbar": {
              "outlinewidth": 0,
              "ticks": ""
             }
            },
            "type": "scattercarpet"
           }
          ],
          "scattergeo": [
           {
            "marker": {
             "colorbar": {
              "outlinewidth": 0,
              "ticks": ""
             }
            },
            "type": "scattergeo"
           }
          ],
          "scattergl": [
           {
            "marker": {
             "colorbar": {
              "outlinewidth": 0,
              "ticks": ""
             }
            },
            "type": "scattergl"
           }
          ],
          "scattermapbox": [
           {
            "marker": {
             "colorbar": {
              "outlinewidth": 0,
              "ticks": ""
             }
            },
            "type": "scattermapbox"
           }
          ],
          "scatterpolar": [
           {
            "marker": {
             "colorbar": {
              "outlinewidth": 0,
              "ticks": ""
             }
            },
            "type": "scatterpolar"
           }
          ],
          "scatterpolargl": [
           {
            "marker": {
             "colorbar": {
              "outlinewidth": 0,
              "ticks": ""
             }
            },
            "type": "scatterpolargl"
           }
          ],
          "scatterternary": [
           {
            "marker": {
             "colorbar": {
              "outlinewidth": 0,
              "ticks": ""
             }
            },
            "type": "scatterternary"
           }
          ],
          "surface": [
           {
            "colorbar": {
             "outlinewidth": 0,
             "ticks": ""
            },
            "colorscale": [
             [
              0,
              "#0d0887"
             ],
             [
              0.1111111111111111,
              "#46039f"
             ],
             [
              0.2222222222222222,
              "#7201a8"
             ],
             [
              0.3333333333333333,
              "#9c179e"
             ],
             [
              0.4444444444444444,
              "#bd3786"
             ],
             [
              0.5555555555555556,
              "#d8576b"
             ],
             [
              0.6666666666666666,
              "#ed7953"
             ],
             [
              0.7777777777777778,
              "#fb9f3a"
             ],
             [
              0.8888888888888888,
              "#fdca26"
             ],
             [
              1,
              "#f0f921"
             ]
            ],
            "type": "surface"
           }
          ],
          "table": [
           {
            "cells": {
             "fill": {
              "color": "#EBF0F8"
             },
             "line": {
              "color": "white"
             }
            },
            "header": {
             "fill": {
              "color": "#C8D4E3"
             },
             "line": {
              "color": "white"
             }
            },
            "type": "table"
           }
          ]
         },
         "layout": {
          "annotationdefaults": {
           "arrowcolor": "#2a3f5f",
           "arrowhead": 0,
           "arrowwidth": 1
          },
          "autotypenumbers": "strict",
          "coloraxis": {
           "colorbar": {
            "outlinewidth": 0,
            "ticks": ""
           }
          },
          "colorscale": {
           "diverging": [
            [
             0,
             "#8e0152"
            ],
            [
             0.1,
             "#c51b7d"
            ],
            [
             0.2,
             "#de77ae"
            ],
            [
             0.3,
             "#f1b6da"
            ],
            [
             0.4,
             "#fde0ef"
            ],
            [
             0.5,
             "#f7f7f7"
            ],
            [
             0.6,
             "#e6f5d0"
            ],
            [
             0.7,
             "#b8e186"
            ],
            [
             0.8,
             "#7fbc41"
            ],
            [
             0.9,
             "#4d9221"
            ],
            [
             1,
             "#276419"
            ]
           ],
           "sequential": [
            [
             0,
             "#0d0887"
            ],
            [
             0.1111111111111111,
             "#46039f"
            ],
            [
             0.2222222222222222,
             "#7201a8"
            ],
            [
             0.3333333333333333,
             "#9c179e"
            ],
            [
             0.4444444444444444,
             "#bd3786"
            ],
            [
             0.5555555555555556,
             "#d8576b"
            ],
            [
             0.6666666666666666,
             "#ed7953"
            ],
            [
             0.7777777777777778,
             "#fb9f3a"
            ],
            [
             0.8888888888888888,
             "#fdca26"
            ],
            [
             1,
             "#f0f921"
            ]
           ],
           "sequentialminus": [
            [
             0,
             "#0d0887"
            ],
            [
             0.1111111111111111,
             "#46039f"
            ],
            [
             0.2222222222222222,
             "#7201a8"
            ],
            [
             0.3333333333333333,
             "#9c179e"
            ],
            [
             0.4444444444444444,
             "#bd3786"
            ],
            [
             0.5555555555555556,
             "#d8576b"
            ],
            [
             0.6666666666666666,
             "#ed7953"
            ],
            [
             0.7777777777777778,
             "#fb9f3a"
            ],
            [
             0.8888888888888888,
             "#fdca26"
            ],
            [
             1,
             "#f0f921"
            ]
           ]
          },
          "colorway": [
           "#636efa",
           "#EF553B",
           "#00cc96",
           "#ab63fa",
           "#FFA15A",
           "#19d3f3",
           "#FF6692",
           "#B6E880",
           "#FF97FF",
           "#FECB52"
          ],
          "font": {
           "color": "#2a3f5f"
          },
          "geo": {
           "bgcolor": "white",
           "lakecolor": "white",
           "landcolor": "#E5ECF6",
           "showlakes": true,
           "showland": true,
           "subunitcolor": "white"
          },
          "hoverlabel": {
           "align": "left"
          },
          "hovermode": "closest",
          "mapbox": {
           "style": "light"
          },
          "paper_bgcolor": "white",
          "plot_bgcolor": "#E5ECF6",
          "polar": {
           "angularaxis": {
            "gridcolor": "white",
            "linecolor": "white",
            "ticks": ""
           },
           "bgcolor": "#E5ECF6",
           "radialaxis": {
            "gridcolor": "white",
            "linecolor": "white",
            "ticks": ""
           }
          },
          "scene": {
           "xaxis": {
            "backgroundcolor": "#E5ECF6",
            "gridcolor": "white",
            "gridwidth": 2,
            "linecolor": "white",
            "showbackground": true,
            "ticks": "",
            "zerolinecolor": "white"
           },
           "yaxis": {
            "backgroundcolor": "#E5ECF6",
            "gridcolor": "white",
            "gridwidth": 2,
            "linecolor": "white",
            "showbackground": true,
            "ticks": "",
            "zerolinecolor": "white"
           },
           "zaxis": {
            "backgroundcolor": "#E5ECF6",
            "gridcolor": "white",
            "gridwidth": 2,
            "linecolor": "white",
            "showbackground": true,
            "ticks": "",
            "zerolinecolor": "white"
           }
          },
          "shapedefaults": {
           "line": {
            "color": "#2a3f5f"
           }
          },
          "ternary": {
           "aaxis": {
            "gridcolor": "white",
            "linecolor": "white",
            "ticks": ""
           },
           "baxis": {
            "gridcolor": "white",
            "linecolor": "white",
            "ticks": ""
           },
           "bgcolor": "#E5ECF6",
           "caxis": {
            "gridcolor": "white",
            "linecolor": "white",
            "ticks": ""
           }
          },
          "title": {
           "x": 0.05
          },
          "xaxis": {
           "automargin": true,
           "gridcolor": "white",
           "linecolor": "white",
           "ticks": "",
           "title": {
            "standoff": 15
           },
           "zerolinecolor": "white",
           "zerolinewidth": 2
          },
          "yaxis": {
           "automargin": true,
           "gridcolor": "white",
           "linecolor": "white",
           "ticks": "",
           "title": {
            "standoff": 15
           },
           "zerolinecolor": "white",
           "zerolinewidth": 2
          }
         }
        },
        "title": {
         "text": "Breakdown of food availability in 2017"
        },
        "width": 800
       }
      }
     },
     "metadata": {},
     "output_type": "display_data"
    }
   ],
   "source": [
    "df_sum = []\n",
    "columns = [\n",
    "    \"Aliments pour animaux\",\n",
    "    \"Pertes\",\n",
    "    \"Nourriture\",\n",
    "    \"Semences\",\n",
    "    \"Traitement\",\n",
    "    \"Autres Utilisations\",\n",
    "]\n",
    "\n",
    "# Calculate the sum for each column and store it in the list\n",
    "for col in columns:\n",
    "    dispo_alimentaire[col].fillna(0, inplace=True)\n",
    "    dispo_alimentaire_sum = dispo_alimentaire[col].sum()\n",
    "    df_sum.append(dispo_alimentaire_sum)\n",
    "\n",
    "# Create the pie chart\n",
    "fig = px.pie(\n",
    "    values=df_sum,\n",
    "    names=columns,\n",
    "    title=\"Breakdown of food availability in 2017\",\n",
    "    hole=0.3,\n",
    "    color_discrete_sequence=[\"blue\", \"red\", \"yellow\", \"rgb(163,163,163)\", \"rgb(187,187,187)\", \"rgb(204,204,204)\"],\n",
    ")\n",
    "fig.update_traces(textinfo=\"percent+label\")\n",
    "fig.update_layout(\n",
    "    width=800,\n",
    "    height=600,\n",
    "    annotations=[\n",
    "        dict(\n",
    "            text=f\"Total Dispo Ali:<br> {dispo_alimentaire_total/1_000_000_000:,.0f} Billion\",\n",
    "            showarrow=False,\n",
    "        )\n",
    "    ],\n",
    "    showlegend=False,\n",
    "    paper_bgcolor=\"rgba(0,0,0,0)\",  # make the paper background transparent\n",
    "    plot_bgcolor=\"rgba(0,0,0,0)\",  # make the plot background transparent\n",
    "    font=dict(color=\"white\", size=12),\n",
    ")\n",
    "\n",
    "fig.show()\n",
    "fig.write_image(\"src/main/extracted_data/4.svg\")"
   ]
  },
  {
   "cell_type": "markdown",
   "id": "2bc6f365",
   "metadata": {},
   "source": [
    "## 9. <a id='toc9_'></a>[Utilisation des céréales](#toc0_)"
   ]
  },
  {
   "cell_type": "markdown",
   "id": "4f3326f3",
   "metadata": {},
   "source": [
    "What is this section about???"
   ]
  },
  {
   "cell_type": "code",
   "execution_count": 52,
   "id": "ea7319eb",
   "metadata": {},
   "outputs": [
    {
     "data": {
      "text/plain": [
       "array(['Abats Comestible', 'Agrumes, Autres', 'Aliments pour enfants',\n",
       "       'Ananas', 'Bananes', 'Beurre, Ghee', 'Bière', 'Blé',\n",
       "       'Boissons Alcooliques', 'Café', 'Coco (Incl Coprah)', 'Crème',\n",
       "       'Céréales, Autres', 'Dattes', 'Edulcorants Autres',\n",
       "       'Feve de Cacao', 'Fruits, Autres', 'Graines de coton',\n",
       "       'Graines de tournesol', 'Graisses Animales Crue',\n",
       "       'Huil Plantes Oleif Autr', 'Huile Graines de Coton',\n",
       "       \"Huile d'Arachide\", \"Huile d'Olive\", 'Huile de Colza&Moutarde',\n",
       "       'Huile de Palme', 'Huile de Soja', 'Huile de Sésame',\n",
       "       'Huile de Tournesol', 'Lait - Excl Beurre', 'Légumes, Autres',\n",
       "       'Légumineuses Autres', 'Maïs', 'Miel', 'Millet', 'Miscellanees',\n",
       "       'Noix', 'Oeufs', 'Olives', 'Oranges, Mandarines', 'Orge',\n",
       "       'Plantes Oleiferes, Autre', 'Poissons Eau Douce', 'Poivre',\n",
       "       'Pommes', 'Pommes de Terre', 'Raisin', 'Riz (Eq Blanchi)',\n",
       "       'Sucre Eq Brut', 'Sucre, betterave', 'Sucre, canne', 'Sésame',\n",
       "       'Thé', 'Tomates', \"Viande d'Ovins/Caprins\", 'Viande de Bovins',\n",
       "       'Viande de Volailles', 'Viande, Autre', 'Vin', 'Épices, Autres',\n",
       "       'Alcool, non Comestible', 'Animaux Aquatiques Autre',\n",
       "       'Arachides Decortiquees', 'Avoine', 'Bananes plantains',\n",
       "       'Boissons Fermentés', 'Cephalopodes', 'Citrons & Limes',\n",
       "       'Crustacés', 'Girofles', 'Graines Colza/Moutarde', 'Haricots',\n",
       "       'Huile de Coco', 'Huile de Germe de Maïs', 'Huile de Palmistes',\n",
       "       'Huiles de Foie de Poisso', 'Huiles de Poissons', 'Ignames',\n",
       "       'Manioc', 'Mollusques, Autres', 'Oignons', 'Palmistes',\n",
       "       'Pamplemousse', 'Patates douces', 'Perciform', 'Piments',\n",
       "       'Plantes Aquatiques', 'Pois', 'Poissons Marins, Autres',\n",
       "       'Poissons Pelagiques', 'Racines nda', 'Seigle', 'Soja', 'Sorgho',\n",
       "       'Viande de Suides', 'Huile de Son de Riz', 'Sucre non centrifugé',\n",
       "       'Viande de Anim Aquatiq'], dtype=object)"
      ]
     },
     "execution_count": 52,
     "metadata": {},
     "output_type": "execute_result"
    }
   ],
   "source": [
    "dispo_alimentaire[\"Produit\"].unique()"
   ]
  },
  {
   "cell_type": "code",
   "execution_count": 53,
   "id": "c27448ff",
   "metadata": {},
   "outputs": [],
   "source": [
    "# Création d'une liste avec toutes les variables\n",
    "cereales = [\n",
    "    \"Blé\",\n",
    "    \"Riz (Eq Blanchi)\",\n",
    "    \"Orge\",\n",
    "    \"Maïs\",\n",
    "    \"Millet\",\n",
    "    \"Seigle\",\n",
    "    \"Avoine\",\n",
    "    \"Sorgho\",\n",
    "    \"Céréales, Autres\"\n",
    "]"
   ]
  },
  {
   "cell_type": "code",
   "execution_count": 54,
   "id": "5dc5586d",
   "metadata": {},
   "outputs": [
    {
     "data": {
      "text/html": [
       "<div>\n",
       "<style scoped>\n",
       "    .dataframe tbody tr th:only-of-type {\n",
       "        vertical-align: middle;\n",
       "    }\n",
       "\n",
       "    .dataframe tbody tr th {\n",
       "        vertical-align: top;\n",
       "    }\n",
       "\n",
       "    .dataframe thead th {\n",
       "        text-align: right;\n",
       "    }\n",
       "</style>\n",
       "<table border=\"1\" class=\"dataframe\">\n",
       "  <thead>\n",
       "    <tr style=\"text-align: right;\">\n",
       "      <th></th>\n",
       "      <th>Zone</th>\n",
       "      <th>Produit</th>\n",
       "      <th>Origine</th>\n",
       "      <th>Aliments pour animaux</th>\n",
       "      <th>Autres Utilisations</th>\n",
       "      <th>Disponibilité alimentaire (Kcal/personne/jour)</th>\n",
       "      <th>Disponibilité alimentaire en quantité (kg/personne/an)</th>\n",
       "      <th>Disponibilité de matière grasse en quantité (g/personne/jour)</th>\n",
       "      <th>Disponibilité de protéines en quantité (g/personne/jour)</th>\n",
       "      <th>Disponibilité intérieure</th>\n",
       "      <th>Exportations - Quantité</th>\n",
       "      <th>Importations - Quantité</th>\n",
       "      <th>Nourriture</th>\n",
       "      <th>Pertes</th>\n",
       "      <th>Production</th>\n",
       "      <th>Semences</th>\n",
       "      <th>Traitement</th>\n",
       "      <th>Variation de stock</th>\n",
       "      <th>Population</th>\n",
       "      <th>Disponibilité alimentaire en million (Kcal/jour)</th>\n",
       "    </tr>\n",
       "  </thead>\n",
       "  <tbody>\n",
       "    <tr>\n",
       "      <th>7</th>\n",
       "      <td>Afghanistan</td>\n",
       "      <td>Blé</td>\n",
       "      <td>vegetale</td>\n",
       "      <td>0.00</td>\n",
       "      <td>0.00</td>\n",
       "      <td>1,369.00</td>\n",
       "      <td>160.23</td>\n",
       "      <td>4.69</td>\n",
       "      <td>36.91</td>\n",
       "      <td>5,992,000,000.00</td>\n",
       "      <td>0.00</td>\n",
       "      <td>1,173,000,000.00</td>\n",
       "      <td>4,895,000,000.00</td>\n",
       "      <td>775,000,000.00</td>\n",
       "      <td>5,169,000,000.00</td>\n",
       "      <td>322,000,000.00</td>\n",
       "      <td>0.00</td>\n",
       "      <td>-350,000,000.00</td>\n",
       "      <td>36,296,113.00</td>\n",
       "      <td>49,689,378,697.00</td>\n",
       "    </tr>\n",
       "    <tr>\n",
       "      <th>12</th>\n",
       "      <td>Afghanistan</td>\n",
       "      <td>Céréales, Autres</td>\n",
       "      <td>vegetale</td>\n",
       "      <td>0.00</td>\n",
       "      <td>0.00</td>\n",
       "      <td>0.00</td>\n",
       "      <td>0.00</td>\n",
       "      <td>0.00</td>\n",
       "      <td>0.00</td>\n",
       "      <td>0.00</td>\n",
       "      <td>0.00</td>\n",
       "      <td>0.00</td>\n",
       "      <td>0.00</td>\n",
       "      <td>0.00</td>\n",
       "      <td>0.00</td>\n",
       "      <td>0.00</td>\n",
       "      <td>0.00</td>\n",
       "      <td>0.00</td>\n",
       "      <td>36,296,113.00</td>\n",
       "      <td>0.00</td>\n",
       "    </tr>\n",
       "    <tr>\n",
       "      <th>32</th>\n",
       "      <td>Afghanistan</td>\n",
       "      <td>Maïs</td>\n",
       "      <td>vegetale</td>\n",
       "      <td>200,000,000.00</td>\n",
       "      <td>0.00</td>\n",
       "      <td>21.00</td>\n",
       "      <td>2.50</td>\n",
       "      <td>0.30</td>\n",
       "      <td>0.56</td>\n",
       "      <td>313,000,000.00</td>\n",
       "      <td>0.00</td>\n",
       "      <td>1,000,000.00</td>\n",
       "      <td>76,000,000.00</td>\n",
       "      <td>31,000,000.00</td>\n",
       "      <td>312,000,000.00</td>\n",
       "      <td>5,000,000.00</td>\n",
       "      <td>0.00</td>\n",
       "      <td>0.00</td>\n",
       "      <td>36,296,113.00</td>\n",
       "      <td>762,218,373.00</td>\n",
       "    </tr>\n",
       "    <tr>\n",
       "      <th>34</th>\n",
       "      <td>Afghanistan</td>\n",
       "      <td>Millet</td>\n",
       "      <td>vegetale</td>\n",
       "      <td>0.00</td>\n",
       "      <td>0.00</td>\n",
       "      <td>3.00</td>\n",
       "      <td>0.40</td>\n",
       "      <td>0.02</td>\n",
       "      <td>0.08</td>\n",
       "      <td>13,000,000.00</td>\n",
       "      <td>0.00</td>\n",
       "      <td>0.00</td>\n",
       "      <td>12,000,000.00</td>\n",
       "      <td>1,000,000.00</td>\n",
       "      <td>13,000,000.00</td>\n",
       "      <td>0.00</td>\n",
       "      <td>0.00</td>\n",
       "      <td>0.00</td>\n",
       "      <td>36,296,113.00</td>\n",
       "      <td>108,888,339.00</td>\n",
       "    </tr>\n",
       "    <tr>\n",
       "      <th>40</th>\n",
       "      <td>Afghanistan</td>\n",
       "      <td>Orge</td>\n",
       "      <td>vegetale</td>\n",
       "      <td>360,000,000.00</td>\n",
       "      <td>0.00</td>\n",
       "      <td>26.00</td>\n",
       "      <td>2.92</td>\n",
       "      <td>0.24</td>\n",
       "      <td>0.79</td>\n",
       "      <td>524,000,000.00</td>\n",
       "      <td>0.00</td>\n",
       "      <td>10,000,000.00</td>\n",
       "      <td>89,000,000.00</td>\n",
       "      <td>52,000,000.00</td>\n",
       "      <td>514,000,000.00</td>\n",
       "      <td>22,000,000.00</td>\n",
       "      <td>0.00</td>\n",
       "      <td>0.00</td>\n",
       "      <td>36,296,113.00</td>\n",
       "      <td>943,698,938.00</td>\n",
       "    </tr>\n",
       "  </tbody>\n",
       "</table>\n",
       "</div>"
      ],
      "text/plain": [
       "           Zone           Produit   Origine  Aliments pour animaux  \\\n",
       "7   Afghanistan               Blé  vegetale                   0.00   \n",
       "12  Afghanistan  Céréales, Autres  vegetale                   0.00   \n",
       "32  Afghanistan              Maïs  vegetale         200,000,000.00   \n",
       "34  Afghanistan            Millet  vegetale                   0.00   \n",
       "40  Afghanistan              Orge  vegetale         360,000,000.00   \n",
       "\n",
       "    Autres Utilisations  Disponibilité alimentaire (Kcal/personne/jour)  \\\n",
       "7                  0.00                                        1,369.00   \n",
       "12                 0.00                                            0.00   \n",
       "32                 0.00                                           21.00   \n",
       "34                 0.00                                            3.00   \n",
       "40                 0.00                                           26.00   \n",
       "\n",
       "    Disponibilité alimentaire en quantité (kg/personne/an)  \\\n",
       "7                                              160.23        \n",
       "12                                               0.00        \n",
       "32                                               2.50        \n",
       "34                                               0.40        \n",
       "40                                               2.92        \n",
       "\n",
       "    Disponibilité de matière grasse en quantité (g/personne/jour)  \\\n",
       "7                                                4.69               \n",
       "12                                               0.00               \n",
       "32                                               0.30               \n",
       "34                                               0.02               \n",
       "40                                               0.24               \n",
       "\n",
       "    Disponibilité de protéines en quantité (g/personne/jour)  \\\n",
       "7                                               36.91          \n",
       "12                                               0.00          \n",
       "32                                               0.56          \n",
       "34                                               0.08          \n",
       "40                                               0.79          \n",
       "\n",
       "    Disponibilité intérieure  Exportations - Quantité  \\\n",
       "7           5,992,000,000.00                     0.00   \n",
       "12                      0.00                     0.00   \n",
       "32            313,000,000.00                     0.00   \n",
       "34             13,000,000.00                     0.00   \n",
       "40            524,000,000.00                     0.00   \n",
       "\n",
       "    Importations - Quantité       Nourriture         Pertes       Production  \\\n",
       "7          1,173,000,000.00 4,895,000,000.00 775,000,000.00 5,169,000,000.00   \n",
       "12                     0.00             0.00           0.00             0.00   \n",
       "32             1,000,000.00    76,000,000.00  31,000,000.00   312,000,000.00   \n",
       "34                     0.00    12,000,000.00   1,000,000.00    13,000,000.00   \n",
       "40            10,000,000.00    89,000,000.00  52,000,000.00   514,000,000.00   \n",
       "\n",
       "         Semences  Traitement  Variation de stock    Population  \\\n",
       "7  322,000,000.00        0.00     -350,000,000.00 36,296,113.00   \n",
       "12           0.00        0.00                0.00 36,296,113.00   \n",
       "32   5,000,000.00        0.00                0.00 36,296,113.00   \n",
       "34           0.00        0.00                0.00 36,296,113.00   \n",
       "40  22,000,000.00        0.00                0.00 36,296,113.00   \n",
       "\n",
       "    Disponibilité alimentaire en million (Kcal/jour)  \n",
       "7                                  49,689,378,697.00  \n",
       "12                                              0.00  \n",
       "32                                    762,218,373.00  \n",
       "34                                    108,888,339.00  \n",
       "40                                    943,698,938.00  "
      ]
     },
     "execution_count": 54,
     "metadata": {},
     "output_type": "execute_result"
    }
   ],
   "source": [
    "#Création d'un dataframe avec les informations uniquement pour ces céréales\n",
    "dispo_alimentaire_cereales = dispo_alimentaire[dispo_alimentaire['Produit'].isin(cereales)]\n",
    "dispo_alimentaire_cereales.head()"
   ]
  },
  {
   "cell_type": "code",
   "execution_count": 55,
   "id": "2810790b",
   "metadata": {},
   "outputs": [
    {
     "data": {
      "text/plain": [
       "array(['Blé', 'Céréales, Autres', 'Maïs', 'Millet', 'Orge',\n",
       "       'Riz (Eq Blanchi)', 'Avoine', 'Seigle', 'Sorgho'], dtype=object)"
      ]
     },
     "execution_count": 55,
     "metadata": {},
     "output_type": "execute_result"
    }
   ],
   "source": [
    "dispo_alimentaire_cereales[\"Produit\"].unique()"
   ]
  },
  {
   "cell_type": "code",
   "execution_count": 56,
   "id": "8365de95",
   "metadata": {},
   "outputs": [
    {
     "name": "stdout",
     "output_type": "stream",
     "text": [
      "859.62 billion\n"
     ]
    }
   ],
   "source": [
    "#Affichage de la proportion d'alimentation animale\n",
    "dispo_alimentaire_cereales['Aliments pour animaux'].fillna(0, inplace=True)\n",
    "dispo_alimentaire_cereal_total = dispo_alimentaire_cereales['Disponibilité intérieure'].sum()\n",
    "dispo_alimentaire_cereales_animaux = dispo_alimentaire_cereales['Aliments pour animaux'].sum()\n",
    "print(\"{:.2f} billion\".format(dispo_alimentaire_cereales_animaux / 1_000_000_000))"
   ]
  },
  {
   "cell_type": "code",
   "execution_count": 57,
   "id": "6f5e93c7",
   "metadata": {},
   "outputs": [
    {
     "name": "stdout",
     "output_type": "stream",
     "text": [
      "Aliments pour animaux proportion is 36.14%\n"
     ]
    }
   ],
   "source": [
    "#Affichage de la proportion d'alimentation animale\n",
    "print(f\"Aliments pour animaux proportion is {dispo_alimentaire_cereales_animaux/dispo_alimentaire_cereal_total*100:.2f}%\")"
   ]
  },
  {
   "cell_type": "code",
   "execution_count": 58,
   "id": "99f39b3a",
   "metadata": {},
   "outputs": [
    {
     "name": "stdout",
     "output_type": "stream",
     "text": [
      "1020.46 billion\n"
     ]
    }
   ],
   "source": [
    "dispo_alimentaire_celreales_nurriture = dispo_alimentaire_cereales[\"Nourriture\"].sum()\n",
    "print(\"{:.2f} billion\".format(dispo_alimentaire_celreales_nurriture / 1_000_000_000))"
   ]
  },
  {
   "cell_type": "code",
   "execution_count": 59,
   "id": "4ae47496",
   "metadata": {},
   "outputs": [
    {
     "name": "stdout",
     "output_type": "stream",
     "text": [
      "Aliments pour nourriture is 42.91%\n"
     ]
    }
   ],
   "source": [
    "print(f\"Aliments pour nourriture is {dispo_alimentaire_celreales_nurriture/dispo_alimentaire_cereal_total*100:.2f}%\")"
   ]
  },
  {
   "cell_type": "code",
   "execution_count": 60,
   "id": "f3f718b4",
   "metadata": {},
   "outputs": [
    {
     "data": {
      "application/vnd.plotly.v1+json": {
       "config": {
        "plotlyServerURL": "https://plot.ly"
       },
       "data": [
        {
         "domain": {
          "x": [
           0,
           1
          ],
          "y": [
           0,
           1
          ]
         },
         "hole": 0.3,
         "hovertemplate": "label=%{label}<br>value=%{value}<extra></extra>",
         "labels": [
          "Aliments pour nourriture",
          "Aliments pour animaux",
          "Others"
         ],
         "legendgroup": "",
         "name": "",
         "rotation": 100,
         "showlegend": true,
         "textinfo": "percent+label",
         "type": "pie",
         "values": [
          0.4290600583340446,
          0.36143015534582285,
          0.20950978632013256
         ]
        }
       ],
       "layout": {
        "annotations": [
         {
          "showarrow": false,
          "text": "Total Dispo Cereal:<br> 2,378 Billion"
         }
        ],
        "font": {
         "color": "white",
         "size": 12
        },
        "height": 600,
        "legend": {
         "tracegroupgap": 0
        },
        "paper_bgcolor": "rgba(0,0,0,0)",
        "piecolorway": [
         "blue",
         "red",
         "gray"
        ],
        "plot_bgcolor": "rgba(0,0,0,0)",
        "showlegend": false,
        "template": {
         "data": {
          "bar": [
           {
            "error_x": {
             "color": "#2a3f5f"
            },
            "error_y": {
             "color": "#2a3f5f"
            },
            "marker": {
             "line": {
              "color": "#E5ECF6",
              "width": 0.5
             },
             "pattern": {
              "fillmode": "overlay",
              "size": 10,
              "solidity": 0.2
             }
            },
            "type": "bar"
           }
          ],
          "barpolar": [
           {
            "marker": {
             "line": {
              "color": "#E5ECF6",
              "width": 0.5
             },
             "pattern": {
              "fillmode": "overlay",
              "size": 10,
              "solidity": 0.2
             }
            },
            "type": "barpolar"
           }
          ],
          "carpet": [
           {
            "aaxis": {
             "endlinecolor": "#2a3f5f",
             "gridcolor": "white",
             "linecolor": "white",
             "minorgridcolor": "white",
             "startlinecolor": "#2a3f5f"
            },
            "baxis": {
             "endlinecolor": "#2a3f5f",
             "gridcolor": "white",
             "linecolor": "white",
             "minorgridcolor": "white",
             "startlinecolor": "#2a3f5f"
            },
            "type": "carpet"
           }
          ],
          "choropleth": [
           {
            "colorbar": {
             "outlinewidth": 0,
             "ticks": ""
            },
            "type": "choropleth"
           }
          ],
          "contour": [
           {
            "colorbar": {
             "outlinewidth": 0,
             "ticks": ""
            },
            "colorscale": [
             [
              0,
              "#0d0887"
             ],
             [
              0.1111111111111111,
              "#46039f"
             ],
             [
              0.2222222222222222,
              "#7201a8"
             ],
             [
              0.3333333333333333,
              "#9c179e"
             ],
             [
              0.4444444444444444,
              "#bd3786"
             ],
             [
              0.5555555555555556,
              "#d8576b"
             ],
             [
              0.6666666666666666,
              "#ed7953"
             ],
             [
              0.7777777777777778,
              "#fb9f3a"
             ],
             [
              0.8888888888888888,
              "#fdca26"
             ],
             [
              1,
              "#f0f921"
             ]
            ],
            "type": "contour"
           }
          ],
          "contourcarpet": [
           {
            "colorbar": {
             "outlinewidth": 0,
             "ticks": ""
            },
            "type": "contourcarpet"
           }
          ],
          "heatmap": [
           {
            "colorbar": {
             "outlinewidth": 0,
             "ticks": ""
            },
            "colorscale": [
             [
              0,
              "#0d0887"
             ],
             [
              0.1111111111111111,
              "#46039f"
             ],
             [
              0.2222222222222222,
              "#7201a8"
             ],
             [
              0.3333333333333333,
              "#9c179e"
             ],
             [
              0.4444444444444444,
              "#bd3786"
             ],
             [
              0.5555555555555556,
              "#d8576b"
             ],
             [
              0.6666666666666666,
              "#ed7953"
             ],
             [
              0.7777777777777778,
              "#fb9f3a"
             ],
             [
              0.8888888888888888,
              "#fdca26"
             ],
             [
              1,
              "#f0f921"
             ]
            ],
            "type": "heatmap"
           }
          ],
          "heatmapgl": [
           {
            "colorbar": {
             "outlinewidth": 0,
             "ticks": ""
            },
            "colorscale": [
             [
              0,
              "#0d0887"
             ],
             [
              0.1111111111111111,
              "#46039f"
             ],
             [
              0.2222222222222222,
              "#7201a8"
             ],
             [
              0.3333333333333333,
              "#9c179e"
             ],
             [
              0.4444444444444444,
              "#bd3786"
             ],
             [
              0.5555555555555556,
              "#d8576b"
             ],
             [
              0.6666666666666666,
              "#ed7953"
             ],
             [
              0.7777777777777778,
              "#fb9f3a"
             ],
             [
              0.8888888888888888,
              "#fdca26"
             ],
             [
              1,
              "#f0f921"
             ]
            ],
            "type": "heatmapgl"
           }
          ],
          "histogram": [
           {
            "marker": {
             "pattern": {
              "fillmode": "overlay",
              "size": 10,
              "solidity": 0.2
             }
            },
            "type": "histogram"
           }
          ],
          "histogram2d": [
           {
            "colorbar": {
             "outlinewidth": 0,
             "ticks": ""
            },
            "colorscale": [
             [
              0,
              "#0d0887"
             ],
             [
              0.1111111111111111,
              "#46039f"
             ],
             [
              0.2222222222222222,
              "#7201a8"
             ],
             [
              0.3333333333333333,
              "#9c179e"
             ],
             [
              0.4444444444444444,
              "#bd3786"
             ],
             [
              0.5555555555555556,
              "#d8576b"
             ],
             [
              0.6666666666666666,
              "#ed7953"
             ],
             [
              0.7777777777777778,
              "#fb9f3a"
             ],
             [
              0.8888888888888888,
              "#fdca26"
             ],
             [
              1,
              "#f0f921"
             ]
            ],
            "type": "histogram2d"
           }
          ],
          "histogram2dcontour": [
           {
            "colorbar": {
             "outlinewidth": 0,
             "ticks": ""
            },
            "colorscale": [
             [
              0,
              "#0d0887"
             ],
             [
              0.1111111111111111,
              "#46039f"
             ],
             [
              0.2222222222222222,
              "#7201a8"
             ],
             [
              0.3333333333333333,
              "#9c179e"
             ],
             [
              0.4444444444444444,
              "#bd3786"
             ],
             [
              0.5555555555555556,
              "#d8576b"
             ],
             [
              0.6666666666666666,
              "#ed7953"
             ],
             [
              0.7777777777777778,
              "#fb9f3a"
             ],
             [
              0.8888888888888888,
              "#fdca26"
             ],
             [
              1,
              "#f0f921"
             ]
            ],
            "type": "histogram2dcontour"
           }
          ],
          "mesh3d": [
           {
            "colorbar": {
             "outlinewidth": 0,
             "ticks": ""
            },
            "type": "mesh3d"
           }
          ],
          "parcoords": [
           {
            "line": {
             "colorbar": {
              "outlinewidth": 0,
              "ticks": ""
             }
            },
            "type": "parcoords"
           }
          ],
          "pie": [
           {
            "automargin": true,
            "type": "pie"
           }
          ],
          "scatter": [
           {
            "fillpattern": {
             "fillmode": "overlay",
             "size": 10,
             "solidity": 0.2
            },
            "type": "scatter"
           }
          ],
          "scatter3d": [
           {
            "line": {
             "colorbar": {
              "outlinewidth": 0,
              "ticks": ""
             }
            },
            "marker": {
             "colorbar": {
              "outlinewidth": 0,
              "ticks": ""
             }
            },
            "type": "scatter3d"
           }
          ],
          "scattercarpet": [
           {
            "marker": {
             "colorbar": {
              "outlinewidth": 0,
              "ticks": ""
             }
            },
            "type": "scattercarpet"
           }
          ],
          "scattergeo": [
           {
            "marker": {
             "colorbar": {
              "outlinewidth": 0,
              "ticks": ""
             }
            },
            "type": "scattergeo"
           }
          ],
          "scattergl": [
           {
            "marker": {
             "colorbar": {
              "outlinewidth": 0,
              "ticks": ""
             }
            },
            "type": "scattergl"
           }
          ],
          "scattermapbox": [
           {
            "marker": {
             "colorbar": {
              "outlinewidth": 0,
              "ticks": ""
             }
            },
            "type": "scattermapbox"
           }
          ],
          "scatterpolar": [
           {
            "marker": {
             "colorbar": {
              "outlinewidth": 0,
              "ticks": ""
             }
            },
            "type": "scatterpolar"
           }
          ],
          "scatterpolargl": [
           {
            "marker": {
             "colorbar": {
              "outlinewidth": 0,
              "ticks": ""
             }
            },
            "type": "scatterpolargl"
           }
          ],
          "scatterternary": [
           {
            "marker": {
             "colorbar": {
              "outlinewidth": 0,
              "ticks": ""
             }
            },
            "type": "scatterternary"
           }
          ],
          "surface": [
           {
            "colorbar": {
             "outlinewidth": 0,
             "ticks": ""
            },
            "colorscale": [
             [
              0,
              "#0d0887"
             ],
             [
              0.1111111111111111,
              "#46039f"
             ],
             [
              0.2222222222222222,
              "#7201a8"
             ],
             [
              0.3333333333333333,
              "#9c179e"
             ],
             [
              0.4444444444444444,
              "#bd3786"
             ],
             [
              0.5555555555555556,
              "#d8576b"
             ],
             [
              0.6666666666666666,
              "#ed7953"
             ],
             [
              0.7777777777777778,
              "#fb9f3a"
             ],
             [
              0.8888888888888888,
              "#fdca26"
             ],
             [
              1,
              "#f0f921"
             ]
            ],
            "type": "surface"
           }
          ],
          "table": [
           {
            "cells": {
             "fill": {
              "color": "#EBF0F8"
             },
             "line": {
              "color": "white"
             }
            },
            "header": {
             "fill": {
              "color": "#C8D4E3"
             },
             "line": {
              "color": "white"
             }
            },
            "type": "table"
           }
          ]
         },
         "layout": {
          "annotationdefaults": {
           "arrowcolor": "#2a3f5f",
           "arrowhead": 0,
           "arrowwidth": 1
          },
          "autotypenumbers": "strict",
          "coloraxis": {
           "colorbar": {
            "outlinewidth": 0,
            "ticks": ""
           }
          },
          "colorscale": {
           "diverging": [
            [
             0,
             "#8e0152"
            ],
            [
             0.1,
             "#c51b7d"
            ],
            [
             0.2,
             "#de77ae"
            ],
            [
             0.3,
             "#f1b6da"
            ],
            [
             0.4,
             "#fde0ef"
            ],
            [
             0.5,
             "#f7f7f7"
            ],
            [
             0.6,
             "#e6f5d0"
            ],
            [
             0.7,
             "#b8e186"
            ],
            [
             0.8,
             "#7fbc41"
            ],
            [
             0.9,
             "#4d9221"
            ],
            [
             1,
             "#276419"
            ]
           ],
           "sequential": [
            [
             0,
             "#0d0887"
            ],
            [
             0.1111111111111111,
             "#46039f"
            ],
            [
             0.2222222222222222,
             "#7201a8"
            ],
            [
             0.3333333333333333,
             "#9c179e"
            ],
            [
             0.4444444444444444,
             "#bd3786"
            ],
            [
             0.5555555555555556,
             "#d8576b"
            ],
            [
             0.6666666666666666,
             "#ed7953"
            ],
            [
             0.7777777777777778,
             "#fb9f3a"
            ],
            [
             0.8888888888888888,
             "#fdca26"
            ],
            [
             1,
             "#f0f921"
            ]
           ],
           "sequentialminus": [
            [
             0,
             "#0d0887"
            ],
            [
             0.1111111111111111,
             "#46039f"
            ],
            [
             0.2222222222222222,
             "#7201a8"
            ],
            [
             0.3333333333333333,
             "#9c179e"
            ],
            [
             0.4444444444444444,
             "#bd3786"
            ],
            [
             0.5555555555555556,
             "#d8576b"
            ],
            [
             0.6666666666666666,
             "#ed7953"
            ],
            [
             0.7777777777777778,
             "#fb9f3a"
            ],
            [
             0.8888888888888888,
             "#fdca26"
            ],
            [
             1,
             "#f0f921"
            ]
           ]
          },
          "colorway": [
           "#636efa",
           "#EF553B",
           "#00cc96",
           "#ab63fa",
           "#FFA15A",
           "#19d3f3",
           "#FF6692",
           "#B6E880",
           "#FF97FF",
           "#FECB52"
          ],
          "font": {
           "color": "#2a3f5f"
          },
          "geo": {
           "bgcolor": "white",
           "lakecolor": "white",
           "landcolor": "#E5ECF6",
           "showlakes": true,
           "showland": true,
           "subunitcolor": "white"
          },
          "hoverlabel": {
           "align": "left"
          },
          "hovermode": "closest",
          "mapbox": {
           "style": "light"
          },
          "paper_bgcolor": "white",
          "plot_bgcolor": "#E5ECF6",
          "polar": {
           "angularaxis": {
            "gridcolor": "white",
            "linecolor": "white",
            "ticks": ""
           },
           "bgcolor": "#E5ECF6",
           "radialaxis": {
            "gridcolor": "white",
            "linecolor": "white",
            "ticks": ""
           }
          },
          "scene": {
           "xaxis": {
            "backgroundcolor": "#E5ECF6",
            "gridcolor": "white",
            "gridwidth": 2,
            "linecolor": "white",
            "showbackground": true,
            "ticks": "",
            "zerolinecolor": "white"
           },
           "yaxis": {
            "backgroundcolor": "#E5ECF6",
            "gridcolor": "white",
            "gridwidth": 2,
            "linecolor": "white",
            "showbackground": true,
            "ticks": "",
            "zerolinecolor": "white"
           },
           "zaxis": {
            "backgroundcolor": "#E5ECF6",
            "gridcolor": "white",
            "gridwidth": 2,
            "linecolor": "white",
            "showbackground": true,
            "ticks": "",
            "zerolinecolor": "white"
           }
          },
          "shapedefaults": {
           "line": {
            "color": "#2a3f5f"
           }
          },
          "ternary": {
           "aaxis": {
            "gridcolor": "white",
            "linecolor": "white",
            "ticks": ""
           },
           "baxis": {
            "gridcolor": "white",
            "linecolor": "white",
            "ticks": ""
           },
           "bgcolor": "#E5ECF6",
           "caxis": {
            "gridcolor": "white",
            "linecolor": "white",
            "ticks": ""
           }
          },
          "title": {
           "x": 0.05
          },
          "xaxis": {
           "automargin": true,
           "gridcolor": "white",
           "linecolor": "white",
           "ticks": "",
           "title": {
            "standoff": 15
           },
           "zerolinecolor": "white",
           "zerolinewidth": 2
          },
          "yaxis": {
           "automargin": true,
           "gridcolor": "white",
           "linecolor": "white",
           "ticks": "",
           "title": {
            "standoff": 15
           },
           "zerolinecolor": "white",
           "zerolinewidth": 2
          }
         }
        },
        "title": {
         "text": "Breakdown of Cereal Usage"
        },
        "width": 800
       }
      }
     },
     "metadata": {},
     "output_type": "display_data"
    }
   ],
   "source": [
    "# Calculate the proportions\n",
    "nourriture_prop = dispo_alimentaire_celreales_nurriture / dispo_alimentaire_cereal_total\n",
    "animaux_prop = dispo_alimentaire_cereales_animaux / dispo_alimentaire_cereal_total\n",
    "others = 1 - nourriture_prop - animaux_prop\n",
    "\n",
    "# Create the data for the pie chart\n",
    "values = [nourriture_prop, animaux_prop, others]\n",
    "labels = [\"Aliments pour nourriture\", \"Aliments pour animaux\", \"Others\"]\n",
    "\n",
    "# Create the pie chart using Plotly\n",
    "fig = px.pie(values=values, names=labels, title=\"Breakdown of Cereal Usage\", hole=0.3, color_discrete_sequence=[\"blue\", \"red\", \"gray\"])\n",
    "fig.update_traces(textinfo=\"percent+label\", rotation=100)\n",
    "fig.update_layout(\n",
    "    width=800,\n",
    "    height=600,\n",
    "    annotations=[\n",
    "        dict(\n",
    "            text=f\"Total Dispo Cereal:<br> {dispo_alimentaire_cereal_total/1_000_000_000:,.0f} Billion\",\n",
    "            showarrow=False,\n",
    "        )\n",
    "    ],\n",
    "    showlegend=False,\n",
    "    paper_bgcolor=\"rgba(0,0,0,0)\",  # make the paper background transparent\n",
    "    plot_bgcolor=\"rgba(0,0,0,0)\",  # make the plot background transparent\n",
    "    font=dict(color=\"white\", size=12),\n",
    ")\n",
    "\n",
    "# Show the figure\n",
    "fig.show()\n",
    "fig.write_image(\"src/main/extracted_data/5.svg\")"
   ]
  },
  {
   "cell_type": "markdown",
   "id": "9d94aeb7",
   "metadata": {},
   "source": [
    "## 10. <a id='toc10_'></a>[Pays avec la proportion de personnes sous-alimentée la plus forte en 2017](#toc0_)"
   ]
  },
  {
   "cell_type": "code",
   "execution_count": 61,
   "id": "240ac1bf",
   "metadata": {},
   "outputs": [
    {
     "data": {
      "text/html": [
       "<div>\n",
       "<style scoped>\n",
       "    .dataframe tbody tr th:only-of-type {\n",
       "        vertical-align: middle;\n",
       "    }\n",
       "\n",
       "    .dataframe tbody tr th {\n",
       "        vertical-align: top;\n",
       "    }\n",
       "\n",
       "    .dataframe thead th {\n",
       "        text-align: right;\n",
       "    }\n",
       "</style>\n",
       "<table border=\"1\" class=\"dataframe\">\n",
       "  <thead>\n",
       "    <tr style=\"text-align: right;\">\n",
       "      <th></th>\n",
       "      <th>Zone</th>\n",
       "      <th>Population</th>\n",
       "      <th>Sous_nutrition</th>\n",
       "    </tr>\n",
       "  </thead>\n",
       "  <tbody>\n",
       "    <tr>\n",
       "      <th>0</th>\n",
       "      <td>Afghanistan</td>\n",
       "      <td>36,296,113.00</td>\n",
       "      <td>10,500,000.00</td>\n",
       "    </tr>\n",
       "    <tr>\n",
       "      <th>1</th>\n",
       "      <td>Afrique du Sud</td>\n",
       "      <td>57,009,756.00</td>\n",
       "      <td>3,100,000.00</td>\n",
       "    </tr>\n",
       "    <tr>\n",
       "      <th>2</th>\n",
       "      <td>Albanie</td>\n",
       "      <td>2,884,169.00</td>\n",
       "      <td>100,000.00</td>\n",
       "    </tr>\n",
       "    <tr>\n",
       "      <th>3</th>\n",
       "      <td>Algérie</td>\n",
       "      <td>41,389,189.00</td>\n",
       "      <td>1,300,000.00</td>\n",
       "    </tr>\n",
       "    <tr>\n",
       "      <th>4</th>\n",
       "      <td>Allemagne</td>\n",
       "      <td>82,658,409.00</td>\n",
       "      <td>NaN</td>\n",
       "    </tr>\n",
       "    <tr>\n",
       "      <th>...</th>\n",
       "      <td>...</td>\n",
       "      <td>...</td>\n",
       "      <td>...</td>\n",
       "    </tr>\n",
       "    <tr>\n",
       "      <th>198</th>\n",
       "      <td>Venezuela (République bolivarienne du)</td>\n",
       "      <td>29,402,484.00</td>\n",
       "      <td>8,000,000.00</td>\n",
       "    </tr>\n",
       "    <tr>\n",
       "      <th>199</th>\n",
       "      <td>Viet Nam</td>\n",
       "      <td>94,600,648.00</td>\n",
       "      <td>6,500,000.00</td>\n",
       "    </tr>\n",
       "    <tr>\n",
       "      <th>200</th>\n",
       "      <td>Yémen</td>\n",
       "      <td>27,834,819.00</td>\n",
       "      <td>NaN</td>\n",
       "    </tr>\n",
       "    <tr>\n",
       "      <th>201</th>\n",
       "      <td>Zambie</td>\n",
       "      <td>16,853,599.00</td>\n",
       "      <td>NaN</td>\n",
       "    </tr>\n",
       "    <tr>\n",
       "      <th>202</th>\n",
       "      <td>Zimbabwe</td>\n",
       "      <td>14,236,595.00</td>\n",
       "      <td>NaN</td>\n",
       "    </tr>\n",
       "  </tbody>\n",
       "</table>\n",
       "<p>203 rows × 3 columns</p>\n",
       "</div>"
      ],
      "text/plain": [
       "                                       Zone    Population  Sous_nutrition\n",
       "0                               Afghanistan 36,296,113.00   10,500,000.00\n",
       "1                            Afrique du Sud 57,009,756.00    3,100,000.00\n",
       "2                                   Albanie  2,884,169.00      100,000.00\n",
       "3                                   Algérie 41,389,189.00    1,300,000.00\n",
       "4                                 Allemagne 82,658,409.00             NaN\n",
       "..                                      ...           ...             ...\n",
       "198  Venezuela (République bolivarienne du) 29,402,484.00    8,000,000.00\n",
       "199                                Viet Nam 94,600,648.00    6,500,000.00\n",
       "200                                   Yémen 27,834,819.00             NaN\n",
       "201                                  Zambie 16,853,599.00             NaN\n",
       "202                                Zimbabwe 14,236,595.00             NaN\n",
       "\n",
       "[203 rows x 3 columns]"
      ]
     },
     "execution_count": 61,
     "metadata": {},
     "output_type": "execute_result"
    }
   ],
   "source": [
    "population_sous_nutrition"
   ]
  },
  {
   "cell_type": "code",
   "execution_count": 62,
   "id": "1884c270",
   "metadata": {},
   "outputs": [],
   "source": [
    "# Pays avec la proportion de personnes sous-alimentée la plus forte en 2017\n",
    "#Création de la colonne proportion par pays\n",
    "population_sous_nutrition['Proportion'] = (population_sous_nutrition['Sous_nutrition']/population_sous_nutrition['Population'])*100"
   ]
  },
  {
   "cell_type": "code",
   "execution_count": 63,
   "id": "25a185b6",
   "metadata": {},
   "outputs": [
    {
     "data": {
      "text/html": [
       "<div>\n",
       "<style scoped>\n",
       "    .dataframe tbody tr th:only-of-type {\n",
       "        vertical-align: middle;\n",
       "    }\n",
       "\n",
       "    .dataframe tbody tr th {\n",
       "        vertical-align: top;\n",
       "    }\n",
       "\n",
       "    .dataframe thead th {\n",
       "        text-align: right;\n",
       "    }\n",
       "</style>\n",
       "<table border=\"1\" class=\"dataframe\">\n",
       "  <thead>\n",
       "    <tr style=\"text-align: right;\">\n",
       "      <th></th>\n",
       "      <th>Zone</th>\n",
       "      <th>Population</th>\n",
       "      <th>Sous_nutrition</th>\n",
       "      <th>Proportion</th>\n",
       "    </tr>\n",
       "  </thead>\n",
       "  <tbody>\n",
       "    <tr>\n",
       "      <th>78</th>\n",
       "      <td>Haïti</td>\n",
       "      <td>10,982,366.00</td>\n",
       "      <td>5,300,000.00</td>\n",
       "      <td>48.26</td>\n",
       "    </tr>\n",
       "    <tr>\n",
       "      <th>157</th>\n",
       "      <td>République populaire démocratique de Corée</td>\n",
       "      <td>25,429,825.00</td>\n",
       "      <td>12,000,000.00</td>\n",
       "      <td>47.19</td>\n",
       "    </tr>\n",
       "    <tr>\n",
       "      <th>108</th>\n",
       "      <td>Madagascar</td>\n",
       "      <td>25,570,512.00</td>\n",
       "      <td>10,500,000.00</td>\n",
       "      <td>41.06</td>\n",
       "    </tr>\n",
       "    <tr>\n",
       "      <th>103</th>\n",
       "      <td>Libéria</td>\n",
       "      <td>4,702,226.00</td>\n",
       "      <td>1,800,000.00</td>\n",
       "      <td>38.28</td>\n",
       "    </tr>\n",
       "    <tr>\n",
       "      <th>100</th>\n",
       "      <td>Lesotho</td>\n",
       "      <td>2,091,534.00</td>\n",
       "      <td>800,000.00</td>\n",
       "      <td>38.25</td>\n",
       "    </tr>\n",
       "    <tr>\n",
       "      <th>183</th>\n",
       "      <td>Tchad</td>\n",
       "      <td>15,016,753.00</td>\n",
       "      <td>5,700,000.00</td>\n",
       "      <td>37.96</td>\n",
       "    </tr>\n",
       "    <tr>\n",
       "      <th>161</th>\n",
       "      <td>Rwanda</td>\n",
       "      <td>11,980,961.00</td>\n",
       "      <td>4,200,000.00</td>\n",
       "      <td>35.06</td>\n",
       "    </tr>\n",
       "    <tr>\n",
       "      <th>121</th>\n",
       "      <td>Mozambique</td>\n",
       "      <td>28,649,018.00</td>\n",
       "      <td>9,400,000.00</td>\n",
       "      <td>32.81</td>\n",
       "    </tr>\n",
       "    <tr>\n",
       "      <th>186</th>\n",
       "      <td>Timor-Leste</td>\n",
       "      <td>1,243,258.00</td>\n",
       "      <td>400,000.00</td>\n",
       "      <td>32.17</td>\n",
       "    </tr>\n",
       "    <tr>\n",
       "      <th>0</th>\n",
       "      <td>Afghanistan</td>\n",
       "      <td>36,296,113.00</td>\n",
       "      <td>10,500,000.00</td>\n",
       "      <td>28.93</td>\n",
       "    </tr>\n",
       "  </tbody>\n",
       "</table>\n",
       "</div>"
      ],
      "text/plain": [
       "                                           Zone    Population  Sous_nutrition  \\\n",
       "78                                        Haïti 10,982,366.00    5,300,000.00   \n",
       "157  République populaire démocratique de Corée 25,429,825.00   12,000,000.00   \n",
       "108                                  Madagascar 25,570,512.00   10,500,000.00   \n",
       "103                                     Libéria  4,702,226.00    1,800,000.00   \n",
       "100                                     Lesotho  2,091,534.00      800,000.00   \n",
       "183                                       Tchad 15,016,753.00    5,700,000.00   \n",
       "161                                      Rwanda 11,980,961.00    4,200,000.00   \n",
       "121                                  Mozambique 28,649,018.00    9,400,000.00   \n",
       "186                                 Timor-Leste  1,243,258.00      400,000.00   \n",
       "0                                   Afghanistan 36,296,113.00   10,500,000.00   \n",
       "\n",
       "     Proportion  \n",
       "78        48.26  \n",
       "157       47.19  \n",
       "108       41.06  \n",
       "103       38.28  \n",
       "100       38.25  \n",
       "183       37.96  \n",
       "161       35.06  \n",
       "121       32.81  \n",
       "186       32.17  \n",
       "0         28.93  "
      ]
     },
     "execution_count": 63,
     "metadata": {},
     "output_type": "execute_result"
    }
   ],
   "source": [
    "#affichage après trie des 10 pires pays\n",
    "population_sous_nutrition.sort_values(by='Proportion', ascending=False).head(10)"
   ]
  },
  {
   "cell_type": "code",
   "execution_count": 64,
   "id": "54ef9a76",
   "metadata": {},
   "outputs": [
    {
     "data": {
      "application/vnd.plotly.v1+json": {
       "config": {
        "plotlyServerURL": "https://plot.ly"
       },
       "data": [
        {
         "alignmentgroup": "True",
         "hovertemplate": "Percentage(%)=%{marker.color}<br>=%{y}<extra></extra>",
         "legendgroup": "",
         "marker": {
          "color": [
           48.25918203782317,
           47.188684939829514,
           41.06292435599256,
           38.27974240285346,
           38.24943797232079,
           37.95760641464903,
           35.05561866030613,
           32.81089774176553,
           32.173531157651915,
           28.928717518594897
          ],
          "coloraxis": "coloraxis",
          "pattern": {
           "shape": ""
          }
         },
         "name": "",
         "offsetgroup": "",
         "orientation": "h",
         "showlegend": false,
         "text": [
          48.25918203782317,
          47.188684939829514,
          41.06292435599256,
          38.27974240285346,
          38.24943797232079,
          37.95760641464903,
          35.05561866030613,
          32.81089774176553,
          32.173531157651915,
          28.928717518594897
         ],
         "textposition": "outside",
         "texttemplate": "%{text:.0f}%",
         "type": "bar",
         "x": [
          48.25918203782317,
          47.188684939829514,
          41.06292435599256,
          38.27974240285346,
          38.24943797232079,
          37.95760641464903,
          35.05561866030613,
          32.81089774176553,
          32.173531157651915,
          28.928717518594897
         ],
         "xaxis": "x",
         "y": [
          "Haïti",
          "République populaire démocratique de Corée",
          "Madagascar",
          "Libéria",
          "Lesotho",
          "Tchad",
          "Rwanda",
          "Mozambique",
          "Timor-Leste",
          "Afghanistan"
         ],
         "yaxis": "y"
        }
       ],
       "layout": {
        "barmode": "relative",
        "coloraxis": {
         "colorbar": {
          "title": {
           "text": "Percentage(%)"
          }
         },
         "colorscale": [
          [
           0,
           "rgb(255,245,240)"
          ],
          [
           0.125,
           "rgb(254,224,210)"
          ],
          [
           0.25,
           "rgb(252,187,161)"
          ],
          [
           0.375,
           "rgb(252,146,114)"
          ],
          [
           0.5,
           "rgb(251,106,74)"
          ],
          [
           0.625,
           "rgb(239,59,44)"
          ],
          [
           0.75,
           "rgb(203,24,29)"
          ],
          [
           0.875,
           "rgb(165,15,21)"
          ],
          [
           1,
           "rgb(103,0,13)"
          ]
         ],
         "showscale": false
        },
        "font": {
         "color": "white",
         "size": 14
        },
        "height": 500,
        "images": [
         {
          "layer": "above",
          "sizex": 3,
          "sizey": 3,
          "source": "https://flagicons.lipis.dev/flags/4x3/ht.svg",
          "x": 45.25918203782317,
          "xref": "x",
          "y": -0.5,
          "yref": "y"
         },
         {
          "layer": "above",
          "sizex": 3,
          "sizey": 3,
          "source": "https://flagicons.lipis.dev/flags/4x3/kp.svg",
          "x": 44.188684939829514,
          "xref": "x",
          "y": 0.5,
          "yref": "y"
         },
         {
          "layer": "above",
          "sizex": 3,
          "sizey": 3,
          "source": "https://flagicons.lipis.dev/flags/4x3/mg.svg",
          "x": 38.06292435599256,
          "xref": "x",
          "y": 1.5,
          "yref": "y"
         },
         {
          "layer": "above",
          "sizex": 3,
          "sizey": 3,
          "source": "https://flagicons.lipis.dev/flags/4x3/lr.svg",
          "x": 35.27974240285346,
          "xref": "x",
          "y": 2.5,
          "yref": "y"
         },
         {
          "layer": "above",
          "sizex": 3,
          "sizey": 3,
          "source": "https://flagicons.lipis.dev/flags/4x3/ls.svg",
          "x": 35.24943797232079,
          "xref": "x",
          "y": 3.5,
          "yref": "y"
         },
         {
          "layer": "above",
          "sizex": 3,
          "sizey": 3,
          "source": "https://flagicons.lipis.dev/flags/4x3/td.svg",
          "x": 34.95760641464903,
          "xref": "x",
          "y": 4.5,
          "yref": "y"
         },
         {
          "layer": "above",
          "sizex": 3,
          "sizey": 3,
          "source": "https://flagicons.lipis.dev/flags/4x3/rw.svg",
          "x": 32.05561866030613,
          "xref": "x",
          "y": 5.5,
          "yref": "y"
         },
         {
          "layer": "above",
          "sizex": 3,
          "sizey": 3,
          "source": "https://flagicons.lipis.dev/flags/4x3/mz.svg",
          "x": 29.81089774176553,
          "xref": "x",
          "y": 6.5,
          "yref": "y"
         },
         {
          "layer": "above",
          "sizex": 3,
          "sizey": 3,
          "source": "https://flagicons.lipis.dev/flags/4x3/tl.svg",
          "x": 29.173531157651915,
          "xref": "x",
          "y": 7.5,
          "yref": "y"
         },
         {
          "layer": "above",
          "sizex": 3,
          "sizey": 3,
          "source": "https://flagicons.lipis.dev/flags/4x3/af.svg",
          "x": 25.928717518594897,
          "xref": "x",
          "y": 8.5,
          "yref": "y"
         }
        ],
        "legend": {
         "tracegroupgap": 0
        },
        "paper_bgcolor": "rgba(0,0,0,0)",
        "plot_bgcolor": "rgba(0,0,0,0)",
        "template": {
         "data": {
          "bar": [
           {
            "error_x": {
             "color": "#2a3f5f"
            },
            "error_y": {
             "color": "#2a3f5f"
            },
            "marker": {
             "line": {
              "color": "white",
              "width": 0.5
             },
             "pattern": {
              "fillmode": "overlay",
              "size": 10,
              "solidity": 0.2
             }
            },
            "type": "bar"
           }
          ],
          "barpolar": [
           {
            "marker": {
             "line": {
              "color": "white",
              "width": 0.5
             },
             "pattern": {
              "fillmode": "overlay",
              "size": 10,
              "solidity": 0.2
             }
            },
            "type": "barpolar"
           }
          ],
          "carpet": [
           {
            "aaxis": {
             "endlinecolor": "#2a3f5f",
             "gridcolor": "#C8D4E3",
             "linecolor": "#C8D4E3",
             "minorgridcolor": "#C8D4E3",
             "startlinecolor": "#2a3f5f"
            },
            "baxis": {
             "endlinecolor": "#2a3f5f",
             "gridcolor": "#C8D4E3",
             "linecolor": "#C8D4E3",
             "minorgridcolor": "#C8D4E3",
             "startlinecolor": "#2a3f5f"
            },
            "type": "carpet"
           }
          ],
          "choropleth": [
           {
            "colorbar": {
             "outlinewidth": 0,
             "ticks": ""
            },
            "type": "choropleth"
           }
          ],
          "contour": [
           {
            "colorbar": {
             "outlinewidth": 0,
             "ticks": ""
            },
            "colorscale": [
             [
              0,
              "#0d0887"
             ],
             [
              0.1111111111111111,
              "#46039f"
             ],
             [
              0.2222222222222222,
              "#7201a8"
             ],
             [
              0.3333333333333333,
              "#9c179e"
             ],
             [
              0.4444444444444444,
              "#bd3786"
             ],
             [
              0.5555555555555556,
              "#d8576b"
             ],
             [
              0.6666666666666666,
              "#ed7953"
             ],
             [
              0.7777777777777778,
              "#fb9f3a"
             ],
             [
              0.8888888888888888,
              "#fdca26"
             ],
             [
              1,
              "#f0f921"
             ]
            ],
            "type": "contour"
           }
          ],
          "contourcarpet": [
           {
            "colorbar": {
             "outlinewidth": 0,
             "ticks": ""
            },
            "type": "contourcarpet"
           }
          ],
          "heatmap": [
           {
            "colorbar": {
             "outlinewidth": 0,
             "ticks": ""
            },
            "colorscale": [
             [
              0,
              "#0d0887"
             ],
             [
              0.1111111111111111,
              "#46039f"
             ],
             [
              0.2222222222222222,
              "#7201a8"
             ],
             [
              0.3333333333333333,
              "#9c179e"
             ],
             [
              0.4444444444444444,
              "#bd3786"
             ],
             [
              0.5555555555555556,
              "#d8576b"
             ],
             [
              0.6666666666666666,
              "#ed7953"
             ],
             [
              0.7777777777777778,
              "#fb9f3a"
             ],
             [
              0.8888888888888888,
              "#fdca26"
             ],
             [
              1,
              "#f0f921"
             ]
            ],
            "type": "heatmap"
           }
          ],
          "heatmapgl": [
           {
            "colorbar": {
             "outlinewidth": 0,
             "ticks": ""
            },
            "colorscale": [
             [
              0,
              "#0d0887"
             ],
             [
              0.1111111111111111,
              "#46039f"
             ],
             [
              0.2222222222222222,
              "#7201a8"
             ],
             [
              0.3333333333333333,
              "#9c179e"
             ],
             [
              0.4444444444444444,
              "#bd3786"
             ],
             [
              0.5555555555555556,
              "#d8576b"
             ],
             [
              0.6666666666666666,
              "#ed7953"
             ],
             [
              0.7777777777777778,
              "#fb9f3a"
             ],
             [
              0.8888888888888888,
              "#fdca26"
             ],
             [
              1,
              "#f0f921"
             ]
            ],
            "type": "heatmapgl"
           }
          ],
          "histogram": [
           {
            "marker": {
             "pattern": {
              "fillmode": "overlay",
              "size": 10,
              "solidity": 0.2
             }
            },
            "type": "histogram"
           }
          ],
          "histogram2d": [
           {
            "colorbar": {
             "outlinewidth": 0,
             "ticks": ""
            },
            "colorscale": [
             [
              0,
              "#0d0887"
             ],
             [
              0.1111111111111111,
              "#46039f"
             ],
             [
              0.2222222222222222,
              "#7201a8"
             ],
             [
              0.3333333333333333,
              "#9c179e"
             ],
             [
              0.4444444444444444,
              "#bd3786"
             ],
             [
              0.5555555555555556,
              "#d8576b"
             ],
             [
              0.6666666666666666,
              "#ed7953"
             ],
             [
              0.7777777777777778,
              "#fb9f3a"
             ],
             [
              0.8888888888888888,
              "#fdca26"
             ],
             [
              1,
              "#f0f921"
             ]
            ],
            "type": "histogram2d"
           }
          ],
          "histogram2dcontour": [
           {
            "colorbar": {
             "outlinewidth": 0,
             "ticks": ""
            },
            "colorscale": [
             [
              0,
              "#0d0887"
             ],
             [
              0.1111111111111111,
              "#46039f"
             ],
             [
              0.2222222222222222,
              "#7201a8"
             ],
             [
              0.3333333333333333,
              "#9c179e"
             ],
             [
              0.4444444444444444,
              "#bd3786"
             ],
             [
              0.5555555555555556,
              "#d8576b"
             ],
             [
              0.6666666666666666,
              "#ed7953"
             ],
             [
              0.7777777777777778,
              "#fb9f3a"
             ],
             [
              0.8888888888888888,
              "#fdca26"
             ],
             [
              1,
              "#f0f921"
             ]
            ],
            "type": "histogram2dcontour"
           }
          ],
          "mesh3d": [
           {
            "colorbar": {
             "outlinewidth": 0,
             "ticks": ""
            },
            "type": "mesh3d"
           }
          ],
          "parcoords": [
           {
            "line": {
             "colorbar": {
              "outlinewidth": 0,
              "ticks": ""
             }
            },
            "type": "parcoords"
           }
          ],
          "pie": [
           {
            "automargin": true,
            "type": "pie"
           }
          ],
          "scatter": [
           {
            "fillpattern": {
             "fillmode": "overlay",
             "size": 10,
             "solidity": 0.2
            },
            "type": "scatter"
           }
          ],
          "scatter3d": [
           {
            "line": {
             "colorbar": {
              "outlinewidth": 0,
              "ticks": ""
             }
            },
            "marker": {
             "colorbar": {
              "outlinewidth": 0,
              "ticks": ""
             }
            },
            "type": "scatter3d"
           }
          ],
          "scattercarpet": [
           {
            "marker": {
             "colorbar": {
              "outlinewidth": 0,
              "ticks": ""
             }
            },
            "type": "scattercarpet"
           }
          ],
          "scattergeo": [
           {
            "marker": {
             "colorbar": {
              "outlinewidth": 0,
              "ticks": ""
             }
            },
            "type": "scattergeo"
           }
          ],
          "scattergl": [
           {
            "marker": {
             "colorbar": {
              "outlinewidth": 0,
              "ticks": ""
             }
            },
            "type": "scattergl"
           }
          ],
          "scattermapbox": [
           {
            "marker": {
             "colorbar": {
              "outlinewidth": 0,
              "ticks": ""
             }
            },
            "type": "scattermapbox"
           }
          ],
          "scatterpolar": [
           {
            "marker": {
             "colorbar": {
              "outlinewidth": 0,
              "ticks": ""
             }
            },
            "type": "scatterpolar"
           }
          ],
          "scatterpolargl": [
           {
            "marker": {
             "colorbar": {
              "outlinewidth": 0,
              "ticks": ""
             }
            },
            "type": "scatterpolargl"
           }
          ],
          "scatterternary": [
           {
            "marker": {
             "colorbar": {
              "outlinewidth": 0,
              "ticks": ""
             }
            },
            "type": "scatterternary"
           }
          ],
          "surface": [
           {
            "colorbar": {
             "outlinewidth": 0,
             "ticks": ""
            },
            "colorscale": [
             [
              0,
              "#0d0887"
             ],
             [
              0.1111111111111111,
              "#46039f"
             ],
             [
              0.2222222222222222,
              "#7201a8"
             ],
             [
              0.3333333333333333,
              "#9c179e"
             ],
             [
              0.4444444444444444,
              "#bd3786"
             ],
             [
              0.5555555555555556,
              "#d8576b"
             ],
             [
              0.6666666666666666,
              "#ed7953"
             ],
             [
              0.7777777777777778,
              "#fb9f3a"
             ],
             [
              0.8888888888888888,
              "#fdca26"
             ],
             [
              1,
              "#f0f921"
             ]
            ],
            "type": "surface"
           }
          ],
          "table": [
           {
            "cells": {
             "fill": {
              "color": "#EBF0F8"
             },
             "line": {
              "color": "white"
             }
            },
            "header": {
             "fill": {
              "color": "#C8D4E3"
             },
             "line": {
              "color": "white"
             }
            },
            "type": "table"
           }
          ]
         },
         "layout": {
          "annotationdefaults": {
           "arrowcolor": "#2a3f5f",
           "arrowhead": 0,
           "arrowwidth": 1
          },
          "autotypenumbers": "strict",
          "coloraxis": {
           "colorbar": {
            "outlinewidth": 0,
            "ticks": ""
           }
          },
          "colorscale": {
           "diverging": [
            [
             0,
             "#8e0152"
            ],
            [
             0.1,
             "#c51b7d"
            ],
            [
             0.2,
             "#de77ae"
            ],
            [
             0.3,
             "#f1b6da"
            ],
            [
             0.4,
             "#fde0ef"
            ],
            [
             0.5,
             "#f7f7f7"
            ],
            [
             0.6,
             "#e6f5d0"
            ],
            [
             0.7,
             "#b8e186"
            ],
            [
             0.8,
             "#7fbc41"
            ],
            [
             0.9,
             "#4d9221"
            ],
            [
             1,
             "#276419"
            ]
           ],
           "sequential": [
            [
             0,
             "#0d0887"
            ],
            [
             0.1111111111111111,
             "#46039f"
            ],
            [
             0.2222222222222222,
             "#7201a8"
            ],
            [
             0.3333333333333333,
             "#9c179e"
            ],
            [
             0.4444444444444444,
             "#bd3786"
            ],
            [
             0.5555555555555556,
             "#d8576b"
            ],
            [
             0.6666666666666666,
             "#ed7953"
            ],
            [
             0.7777777777777778,
             "#fb9f3a"
            ],
            [
             0.8888888888888888,
             "#fdca26"
            ],
            [
             1,
             "#f0f921"
            ]
           ],
           "sequentialminus": [
            [
             0,
             "#0d0887"
            ],
            [
             0.1111111111111111,
             "#46039f"
            ],
            [
             0.2222222222222222,
             "#7201a8"
            ],
            [
             0.3333333333333333,
             "#9c179e"
            ],
            [
             0.4444444444444444,
             "#bd3786"
            ],
            [
             0.5555555555555556,
             "#d8576b"
            ],
            [
             0.6666666666666666,
             "#ed7953"
            ],
            [
             0.7777777777777778,
             "#fb9f3a"
            ],
            [
             0.8888888888888888,
             "#fdca26"
            ],
            [
             1,
             "#f0f921"
            ]
           ]
          },
          "colorway": [
           "#636efa",
           "#EF553B",
           "#00cc96",
           "#ab63fa",
           "#FFA15A",
           "#19d3f3",
           "#FF6692",
           "#B6E880",
           "#FF97FF",
           "#FECB52"
          ],
          "font": {
           "color": "#2a3f5f"
          },
          "geo": {
           "bgcolor": "white",
           "lakecolor": "white",
           "landcolor": "white",
           "showlakes": true,
           "showland": true,
           "subunitcolor": "#C8D4E3"
          },
          "hoverlabel": {
           "align": "left"
          },
          "hovermode": "closest",
          "mapbox": {
           "style": "light"
          },
          "paper_bgcolor": "white",
          "plot_bgcolor": "white",
          "polar": {
           "angularaxis": {
            "gridcolor": "#EBF0F8",
            "linecolor": "#EBF0F8",
            "ticks": ""
           },
           "bgcolor": "white",
           "radialaxis": {
            "gridcolor": "#EBF0F8",
            "linecolor": "#EBF0F8",
            "ticks": ""
           }
          },
          "scene": {
           "xaxis": {
            "backgroundcolor": "white",
            "gridcolor": "#DFE8F3",
            "gridwidth": 2,
            "linecolor": "#EBF0F8",
            "showbackground": true,
            "ticks": "",
            "zerolinecolor": "#EBF0F8"
           },
           "yaxis": {
            "backgroundcolor": "white",
            "gridcolor": "#DFE8F3",
            "gridwidth": 2,
            "linecolor": "#EBF0F8",
            "showbackground": true,
            "ticks": "",
            "zerolinecolor": "#EBF0F8"
           },
           "zaxis": {
            "backgroundcolor": "white",
            "gridcolor": "#DFE8F3",
            "gridwidth": 2,
            "linecolor": "#EBF0F8",
            "showbackground": true,
            "ticks": "",
            "zerolinecolor": "#EBF0F8"
           }
          },
          "shapedefaults": {
           "line": {
            "color": "#2a3f5f"
           }
          },
          "ternary": {
           "aaxis": {
            "gridcolor": "#DFE8F3",
            "linecolor": "#A2B1C6",
            "ticks": ""
           },
           "baxis": {
            "gridcolor": "#DFE8F3",
            "linecolor": "#A2B1C6",
            "ticks": ""
           },
           "bgcolor": "white",
           "caxis": {
            "gridcolor": "#DFE8F3",
            "linecolor": "#A2B1C6",
            "ticks": ""
           }
          },
          "title": {
           "x": 0.05
          },
          "xaxis": {
           "automargin": true,
           "gridcolor": "#EBF0F8",
           "linecolor": "#EBF0F8",
           "ticks": "",
           "title": {
            "standoff": 15
           },
           "zerolinecolor": "#EBF0F8",
           "zerolinewidth": 2
          },
          "yaxis": {
           "automargin": true,
           "gridcolor": "#EBF0F8",
           "linecolor": "#EBF0F8",
           "ticks": "",
           "title": {
            "standoff": 15
           },
           "zerolinecolor": "#EBF0F8",
           "zerolinewidth": 2
          }
         }
        },
        "title": {
         "text": "Top 10 Countries with Highest Percentage of Undernourished Population in 2017"
        },
        "width": 1200,
        "xaxis": {
         "anchor": "y",
         "domain": [
          0,
          1
         ],
         "linecolor": "white",
         "linewidth": 1,
         "range": [
          0,
          55
         ],
         "showgrid": false,
         "showline": true,
         "title": {
          "text": "Percentage(%)"
         }
        },
        "yaxis": {
         "anchor": "x",
         "autorange": "reversed",
         "domain": [
          0,
          1
         ],
         "title": {
          "text": ""
         }
        }
       }
      }
     },
     "metadata": {},
     "output_type": "display_data"
    }
   ],
   "source": [
    "# Sort the data and select the top 10 countries\n",
    "top_10_countries = population_sous_nutrition.sort_values(\n",
    "    by=\"Proportion\", ascending=False\n",
    ").head(10)\n",
    "\n",
    "# Create the bar chart using Plotly\n",
    "fig = px.bar(\n",
    "    top_10_countries,\n",
    "    x=\"Proportion\",\n",
    "    y=\"Zone\",\n",
    "    orientation=\"h\",\n",
    "    title=\"Top 10 Countries with Highest Percentage of Undernourished Population in 2017\",\n",
    "    labels={\"Proportion\": \"Percentage(%)\", \"Zone\": \"\"},\n",
    "    color=\"Proportion\",\n",
    "    color_continuous_scale=\"reds\",\n",
    "    # color_continuous_scale=[\"rgb(0,0,255)\", \"rgb(255,0,0)\"],\n",
    "    text=f\"Proportion\",\n",
    ")\n",
    "\n",
    "# Update the layout to invert the y-axis\n",
    "fig.update_layout(\n",
    "    width=1200,\n",
    "    height=500,\n",
    "    yaxis=dict(autorange=\"reversed\"),\n",
    "    coloraxis_showscale=False,\n",
    "    template=\"plotly_white\",\n",
    "    paper_bgcolor=\"rgba(0,0,0,0)\",  # make the paper background transparent\n",
    "    plot_bgcolor=\"rgba(0,0,0,0)\",  # make the plot background transparent\n",
    "    font=dict(color=\"white\", size=14),\n",
    ")\n",
    "fig.update_traces(texttemplate=\"%{text:.0f}%\", textposition=\"outside\")\n",
    "\n",
    "fig.update_xaxes(showline=True, linewidth=1, linecolor=\"white\", range=[0, 55], showgrid=False)\n",
    "\n",
    "# URLs of the images\n",
    "image_urls = [\n",
    "    \"https://flagicons.lipis.dev/flags/4x3/ht.svg\",\n",
    "    \"https://flagicons.lipis.dev/flags/4x3/kp.svg\",\n",
    "    \"https://flagicons.lipis.dev/flags/4x3/mg.svg\",\n",
    "    \"https://flagicons.lipis.dev/flags/4x3/lr.svg\",\n",
    "    \"https://flagicons.lipis.dev/flags/4x3/ls.svg\",\n",
    "    \"https://flagicons.lipis.dev/flags/4x3/td.svg\",\n",
    "    \"https://flagicons.lipis.dev/flags/4x3/rw.svg\",\n",
    "    \"https://flagicons.lipis.dev/flags/4x3/mz.svg\",\n",
    "    \"https://flagicons.lipis.dev/flags/4x3/tl.svg\",\n",
    "    \"https://flagicons.lipis.dev/flags/4x3/af.svg\"\n",
    "]\n",
    "\n",
    "# Positions of the images\n",
    "proportions = top_10_countries['Proportion'].tolist()\n",
    "positions = [(proportions-3, i - 0.5) for i, proportions in enumerate(proportions)]\n",
    "\n",
    "for url, (x, y) in zip(image_urls, positions):\n",
    "    fig.add_layout_image(\n",
    "        dict(\n",
    "            source=url,\n",
    "            xref=\"x\",\n",
    "            yref=\"y\",\n",
    "            x=x,\n",
    "            y=y,\n",
    "            sizex=3,\n",
    "            sizey=3,\n",
    "            layer=\"above\",\n",
    "        )\n",
    "    )\n",
    "\n",
    "# Show the figure\n",
    "fig.show()\n",
    "fig.write_image(\"src/main/extracted_data/6.svg\")"
   ]
  },
  {
   "cell_type": "code",
   "execution_count": 65,
   "id": "391781c5",
   "metadata": {},
   "outputs": [],
   "source": [
    "#population_sous_nutrition.sort_values(by='Sous_nutrition', ascending=False).head(10)"
   ]
  },
  {
   "cell_type": "markdown",
   "id": "1b1040f0",
   "metadata": {},
   "source": [
    "## 11. <a id='toc11_'></a>[Pays qui ont le plus bénéficié d'aide alimentaire depuis 2013](#toc0_)"
   ]
  },
  {
   "cell_type": "code",
   "execution_count": 66,
   "id": "ff1b24a3",
   "metadata": {},
   "outputs": [],
   "source": [
    "#Pays qui ont le plus bénéficié d'aide alimentaire depuis 2013\n",
    "#calcul du total de l'aide alimentaire par pays\n",
    "aide_alimentaire_total = aide_alimentaire.groupby('Zone')['Valeur'].sum().reset_index()"
   ]
  },
  {
   "cell_type": "code",
   "execution_count": 67,
   "id": "ee1ac6fb",
   "metadata": {},
   "outputs": [
    {
     "data": {
      "text/html": [
       "<style type=\"text/css\">\n",
       "</style>\n",
       "<table id=\"T_03086\">\n",
       "  <thead>\n",
       "    <tr>\n",
       "      <th class=\"blank level0\" >&nbsp;</th>\n",
       "      <th id=\"T_03086_level0_col0\" class=\"col_heading level0 col0\" >Zone</th>\n",
       "      <th id=\"T_03086_level0_col1\" class=\"col_heading level0 col1\" >Valeur</th>\n",
       "    </tr>\n",
       "  </thead>\n",
       "  <tbody>\n",
       "    <tr>\n",
       "      <th id=\"T_03086_level0_row0\" class=\"row_heading level0 row0\" >50</th>\n",
       "      <td id=\"T_03086_row0_col0\" class=\"data row0 col0\" >République arabe syrienne</td>\n",
       "      <td id=\"T_03086_row0_col1\" class=\"data row0 col1\" >1,858,943,000</td>\n",
       "    </tr>\n",
       "    <tr>\n",
       "      <th id=\"T_03086_level0_row1\" class=\"row_heading level0 row1\" >75</th>\n",
       "      <td id=\"T_03086_row1_col0\" class=\"data row1 col0\" >Éthiopie</td>\n",
       "      <td id=\"T_03086_row1_col1\" class=\"data row1 col1\" >1,381,294,000</td>\n",
       "    </tr>\n",
       "    <tr>\n",
       "      <th id=\"T_03086_level0_row2\" class=\"row_heading level0 row2\" >70</th>\n",
       "      <td id=\"T_03086_row2_col0\" class=\"data row2 col0\" >Yémen</td>\n",
       "      <td id=\"T_03086_row2_col1\" class=\"data row2 col1\" >1,206,484,000</td>\n",
       "    </tr>\n",
       "    <tr>\n",
       "      <th id=\"T_03086_level0_row3\" class=\"row_heading level0 row3\" >61</th>\n",
       "      <td id=\"T_03086_row3_col0\" class=\"data row3 col0\" >Soudan du Sud</td>\n",
       "      <td id=\"T_03086_row3_col1\" class=\"data row3 col1\" >695,248,000</td>\n",
       "    </tr>\n",
       "    <tr>\n",
       "      <th id=\"T_03086_level0_row4\" class=\"row_heading level0 row4\" >60</th>\n",
       "      <td id=\"T_03086_row4_col0\" class=\"data row4 col0\" >Soudan</td>\n",
       "      <td id=\"T_03086_row4_col1\" class=\"data row4 col1\" >669,784,000</td>\n",
       "    </tr>\n",
       "    <tr>\n",
       "      <th id=\"T_03086_level0_row5\" class=\"row_heading level0 row5\" >30</th>\n",
       "      <td id=\"T_03086_row5_col0\" class=\"data row5 col0\" >Kenya</td>\n",
       "      <td id=\"T_03086_row5_col1\" class=\"data row5 col1\" >552,836,000</td>\n",
       "    </tr>\n",
       "    <tr>\n",
       "      <th id=\"T_03086_level0_row6\" class=\"row_heading level0 row6\" >3</th>\n",
       "      <td id=\"T_03086_row6_col0\" class=\"data row6 col0\" >Bangladesh</td>\n",
       "      <td id=\"T_03086_row6_col1\" class=\"data row6 col1\" >348,188,000</td>\n",
       "    </tr>\n",
       "    <tr>\n",
       "      <th id=\"T_03086_level0_row7\" class=\"row_heading level0 row7\" >59</th>\n",
       "      <td id=\"T_03086_row7_col0\" class=\"data row7 col0\" >Somalie</td>\n",
       "      <td id=\"T_03086_row7_col1\" class=\"data row7 col1\" >292,678,000</td>\n",
       "    </tr>\n",
       "    <tr>\n",
       "      <th id=\"T_03086_level0_row8\" class=\"row_heading level0 row8\" >53</th>\n",
       "      <td id=\"T_03086_row8_col0\" class=\"data row8 col0\" >République démocratique du Congo</td>\n",
       "      <td id=\"T_03086_row8_col1\" class=\"data row8 col1\" >288,502,000</td>\n",
       "    </tr>\n",
       "    <tr>\n",
       "      <th id=\"T_03086_level0_row9\" class=\"row_heading level0 row9\" >43</th>\n",
       "      <td id=\"T_03086_row9_col0\" class=\"data row9 col0\" >Niger</td>\n",
       "      <td id=\"T_03086_row9_col1\" class=\"data row9 col1\" >276,344,000</td>\n",
       "    </tr>\n",
       "  </tbody>\n",
       "</table>\n"
      ],
      "text/plain": [
       "<pandas.io.formats.style.Styler at 0x1930c95a600>"
      ]
     },
     "execution_count": 67,
     "metadata": {},
     "output_type": "execute_result"
    }
   ],
   "source": [
    "#affichage après trie des 10 pays qui ont bénéficié le plus de l'aide alimentaire\n",
    "aide_alimentaire_total.sort_values(by='Valeur', ascending=False).head(10).style.format({'Valeur': \"{:,}\"})"
   ]
  },
  {
   "cell_type": "code",
   "execution_count": 68,
   "id": "4f9cfd9b",
   "metadata": {},
   "outputs": [
    {
     "data": {
      "application/vnd.plotly.v1+json": {
       "config": {
        "plotlyServerURL": "https://plot.ly"
       },
       "data": [
        {
         "alignmentgroup": "True",
         "customdata": [
          [
           1.858943
          ],
          [
           1.381294
          ],
          [
           1.206484
          ],
          [
           0.695248
          ],
          [
           0.669784
          ],
          [
           0.552836
          ],
          [
           0.348188
          ],
          [
           0.292678
          ],
          [
           0.288502
          ],
          [
           0.276344
          ]
         ],
         "hovertemplate": "Aid Received=%{marker.color}<br>Country=%{y}<extra></extra>",
         "legendgroup": "",
         "marker": {
          "color": [
           1858943000,
           1381294000,
           1206484000,
           695248000,
           669784000,
           552836000,
           348188000,
           292678000,
           288502000,
           276344000
          ],
          "coloraxis": "coloraxis",
          "pattern": {
           "shape": ""
          }
         },
         "name": "",
         "offsetgroup": "",
         "orientation": "h",
         "showlegend": false,
         "text": [
          1858943000,
          1381294000,
          1206484000,
          695248000,
          669784000,
          552836000,
          348188000,
          292678000,
          288502000,
          276344000
         ],
         "textposition": "outside",
         "texttemplate": "€%{customdata[0]:.2f}B",
         "type": "bar",
         "x": [
          1858943000,
          1381294000,
          1206484000,
          695248000,
          669784000,
          552836000,
          348188000,
          292678000,
          288502000,
          276344000
         ],
         "xaxis": "x",
         "y": [
          "République arabe syrienne",
          "Éthiopie",
          "Yémen",
          "Soudan du Sud",
          "Soudan",
          "Kenya",
          "Bangladesh",
          "Somalie",
          "République démocratique du Congo",
          "Niger"
         ],
         "yaxis": "y"
        }
       ],
       "layout": {
        "barmode": "relative",
        "coloraxis": {
         "colorbar": {
          "title": {
           "text": "Aid Received"
          }
         },
         "colorscale": [
          [
           0,
           "rgb(229,229,255)"
          ],
          [
           1,
           "rgb(0,0,255)"
          ]
         ],
         "showscale": false
        },
        "font": {
         "color": "white",
         "size": 14
        },
        "height": 500,
        "images": [
         {
          "layer": "above",
          "sizex": 100000000,
          "sizey": 100000000,
          "source": "https://flagicons.lipis.dev/flags/4x3/sy.svg",
          "x": 1758943000,
          "xref": "x",
          "y": -0.5,
          "yref": "y"
         },
         {
          "layer": "above",
          "sizex": 100000000,
          "sizey": 100000000,
          "source": "https://flagicons.lipis.dev/flags/4x3/et.svg",
          "x": 1281294000,
          "xref": "x",
          "y": 0.5,
          "yref": "y"
         },
         {
          "layer": "above",
          "sizex": 100000000,
          "sizey": 100000000,
          "source": "https://flagicons.lipis.dev/flags/4x3/ye.svg",
          "x": 1106484000,
          "xref": "x",
          "y": 1.5,
          "yref": "y"
         },
         {
          "layer": "above",
          "sizex": 100000000,
          "sizey": 100000000,
          "source": "https://flagicons.lipis.dev/flags/4x3/ss.svg",
          "x": 595248000,
          "xref": "x",
          "y": 2.5,
          "yref": "y"
         },
         {
          "layer": "above",
          "sizex": 100000000,
          "sizey": 100000000,
          "source": "https://flagicons.lipis.dev/flags/4x3/sd.svg",
          "x": 569784000,
          "xref": "x",
          "y": 3.5,
          "yref": "y"
         },
         {
          "layer": "above",
          "sizex": 100000000,
          "sizey": 100000000,
          "source": "https://flagicons.lipis.dev/flags/4x3/ke.svg",
          "x": 452836000,
          "xref": "x",
          "y": 4.5,
          "yref": "y"
         },
         {
          "layer": "above",
          "sizex": 100000000,
          "sizey": 100000000,
          "source": "https://flagicons.lipis.dev/flags/4x3/bd.svg",
          "x": 248188000,
          "xref": "x",
          "y": 5.5,
          "yref": "y"
         },
         {
          "layer": "above",
          "sizex": 100000000,
          "sizey": 100000000,
          "source": "https://flagicons.lipis.dev/flags/4x3/so.svg",
          "x": 192678000,
          "xref": "x",
          "y": 6.5,
          "yref": "y"
         },
         {
          "layer": "above",
          "sizex": 100000000,
          "sizey": 100000000,
          "source": "https://flagicons.lipis.dev/flags/4x3/cg.svg",
          "x": 188502000,
          "xref": "x",
          "y": 7.5,
          "yref": "y"
         },
         {
          "layer": "above",
          "sizex": 100000000,
          "sizey": 100000000,
          "source": "https://flagicons.lipis.dev/flags/4x3/ne.svg",
          "x": 176344000,
          "xref": "x",
          "y": 8.5,
          "yref": "y"
         }
        ],
        "legend": {
         "tracegroupgap": 0
        },
        "paper_bgcolor": "rgba(0,0,0,0)",
        "plot_bgcolor": "rgba(0,0,0,0)",
        "template": {
         "data": {
          "bar": [
           {
            "error_x": {
             "color": "#2a3f5f"
            },
            "error_y": {
             "color": "#2a3f5f"
            },
            "marker": {
             "line": {
              "color": "white",
              "width": 0.5
             },
             "pattern": {
              "fillmode": "overlay",
              "size": 10,
              "solidity": 0.2
             }
            },
            "type": "bar"
           }
          ],
          "barpolar": [
           {
            "marker": {
             "line": {
              "color": "white",
              "width": 0.5
             },
             "pattern": {
              "fillmode": "overlay",
              "size": 10,
              "solidity": 0.2
             }
            },
            "type": "barpolar"
           }
          ],
          "carpet": [
           {
            "aaxis": {
             "endlinecolor": "#2a3f5f",
             "gridcolor": "#C8D4E3",
             "linecolor": "#C8D4E3",
             "minorgridcolor": "#C8D4E3",
             "startlinecolor": "#2a3f5f"
            },
            "baxis": {
             "endlinecolor": "#2a3f5f",
             "gridcolor": "#C8D4E3",
             "linecolor": "#C8D4E3",
             "minorgridcolor": "#C8D4E3",
             "startlinecolor": "#2a3f5f"
            },
            "type": "carpet"
           }
          ],
          "choropleth": [
           {
            "colorbar": {
             "outlinewidth": 0,
             "ticks": ""
            },
            "type": "choropleth"
           }
          ],
          "contour": [
           {
            "colorbar": {
             "outlinewidth": 0,
             "ticks": ""
            },
            "colorscale": [
             [
              0,
              "#0d0887"
             ],
             [
              0.1111111111111111,
              "#46039f"
             ],
             [
              0.2222222222222222,
              "#7201a8"
             ],
             [
              0.3333333333333333,
              "#9c179e"
             ],
             [
              0.4444444444444444,
              "#bd3786"
             ],
             [
              0.5555555555555556,
              "#d8576b"
             ],
             [
              0.6666666666666666,
              "#ed7953"
             ],
             [
              0.7777777777777778,
              "#fb9f3a"
             ],
             [
              0.8888888888888888,
              "#fdca26"
             ],
             [
              1,
              "#f0f921"
             ]
            ],
            "type": "contour"
           }
          ],
          "contourcarpet": [
           {
            "colorbar": {
             "outlinewidth": 0,
             "ticks": ""
            },
            "type": "contourcarpet"
           }
          ],
          "heatmap": [
           {
            "colorbar": {
             "outlinewidth": 0,
             "ticks": ""
            },
            "colorscale": [
             [
              0,
              "#0d0887"
             ],
             [
              0.1111111111111111,
              "#46039f"
             ],
             [
              0.2222222222222222,
              "#7201a8"
             ],
             [
              0.3333333333333333,
              "#9c179e"
             ],
             [
              0.4444444444444444,
              "#bd3786"
             ],
             [
              0.5555555555555556,
              "#d8576b"
             ],
             [
              0.6666666666666666,
              "#ed7953"
             ],
             [
              0.7777777777777778,
              "#fb9f3a"
             ],
             [
              0.8888888888888888,
              "#fdca26"
             ],
             [
              1,
              "#f0f921"
             ]
            ],
            "type": "heatmap"
           }
          ],
          "heatmapgl": [
           {
            "colorbar": {
             "outlinewidth": 0,
             "ticks": ""
            },
            "colorscale": [
             [
              0,
              "#0d0887"
             ],
             [
              0.1111111111111111,
              "#46039f"
             ],
             [
              0.2222222222222222,
              "#7201a8"
             ],
             [
              0.3333333333333333,
              "#9c179e"
             ],
             [
              0.4444444444444444,
              "#bd3786"
             ],
             [
              0.5555555555555556,
              "#d8576b"
             ],
             [
              0.6666666666666666,
              "#ed7953"
             ],
             [
              0.7777777777777778,
              "#fb9f3a"
             ],
             [
              0.8888888888888888,
              "#fdca26"
             ],
             [
              1,
              "#f0f921"
             ]
            ],
            "type": "heatmapgl"
           }
          ],
          "histogram": [
           {
            "marker": {
             "pattern": {
              "fillmode": "overlay",
              "size": 10,
              "solidity": 0.2
             }
            },
            "type": "histogram"
           }
          ],
          "histogram2d": [
           {
            "colorbar": {
             "outlinewidth": 0,
             "ticks": ""
            },
            "colorscale": [
             [
              0,
              "#0d0887"
             ],
             [
              0.1111111111111111,
              "#46039f"
             ],
             [
              0.2222222222222222,
              "#7201a8"
             ],
             [
              0.3333333333333333,
              "#9c179e"
             ],
             [
              0.4444444444444444,
              "#bd3786"
             ],
             [
              0.5555555555555556,
              "#d8576b"
             ],
             [
              0.6666666666666666,
              "#ed7953"
             ],
             [
              0.7777777777777778,
              "#fb9f3a"
             ],
             [
              0.8888888888888888,
              "#fdca26"
             ],
             [
              1,
              "#f0f921"
             ]
            ],
            "type": "histogram2d"
           }
          ],
          "histogram2dcontour": [
           {
            "colorbar": {
             "outlinewidth": 0,
             "ticks": ""
            },
            "colorscale": [
             [
              0,
              "#0d0887"
             ],
             [
              0.1111111111111111,
              "#46039f"
             ],
             [
              0.2222222222222222,
              "#7201a8"
             ],
             [
              0.3333333333333333,
              "#9c179e"
             ],
             [
              0.4444444444444444,
              "#bd3786"
             ],
             [
              0.5555555555555556,
              "#d8576b"
             ],
             [
              0.6666666666666666,
              "#ed7953"
             ],
             [
              0.7777777777777778,
              "#fb9f3a"
             ],
             [
              0.8888888888888888,
              "#fdca26"
             ],
             [
              1,
              "#f0f921"
             ]
            ],
            "type": "histogram2dcontour"
           }
          ],
          "mesh3d": [
           {
            "colorbar": {
             "outlinewidth": 0,
             "ticks": ""
            },
            "type": "mesh3d"
           }
          ],
          "parcoords": [
           {
            "line": {
             "colorbar": {
              "outlinewidth": 0,
              "ticks": ""
             }
            },
            "type": "parcoords"
           }
          ],
          "pie": [
           {
            "automargin": true,
            "type": "pie"
           }
          ],
          "scatter": [
           {
            "fillpattern": {
             "fillmode": "overlay",
             "size": 10,
             "solidity": 0.2
            },
            "type": "scatter"
           }
          ],
          "scatter3d": [
           {
            "line": {
             "colorbar": {
              "outlinewidth": 0,
              "ticks": ""
             }
            },
            "marker": {
             "colorbar": {
              "outlinewidth": 0,
              "ticks": ""
             }
            },
            "type": "scatter3d"
           }
          ],
          "scattercarpet": [
           {
            "marker": {
             "colorbar": {
              "outlinewidth": 0,
              "ticks": ""
             }
            },
            "type": "scattercarpet"
           }
          ],
          "scattergeo": [
           {
            "marker": {
             "colorbar": {
              "outlinewidth": 0,
              "ticks": ""
             }
            },
            "type": "scattergeo"
           }
          ],
          "scattergl": [
           {
            "marker": {
             "colorbar": {
              "outlinewidth": 0,
              "ticks": ""
             }
            },
            "type": "scattergl"
           }
          ],
          "scattermapbox": [
           {
            "marker": {
             "colorbar": {
              "outlinewidth": 0,
              "ticks": ""
             }
            },
            "type": "scattermapbox"
           }
          ],
          "scatterpolar": [
           {
            "marker": {
             "colorbar": {
              "outlinewidth": 0,
              "ticks": ""
             }
            },
            "type": "scatterpolar"
           }
          ],
          "scatterpolargl": [
           {
            "marker": {
             "colorbar": {
              "outlinewidth": 0,
              "ticks": ""
             }
            },
            "type": "scatterpolargl"
           }
          ],
          "scatterternary": [
           {
            "marker": {
             "colorbar": {
              "outlinewidth": 0,
              "ticks": ""
             }
            },
            "type": "scatterternary"
           }
          ],
          "surface": [
           {
            "colorbar": {
             "outlinewidth": 0,
             "ticks": ""
            },
            "colorscale": [
             [
              0,
              "#0d0887"
             ],
             [
              0.1111111111111111,
              "#46039f"
             ],
             [
              0.2222222222222222,
              "#7201a8"
             ],
             [
              0.3333333333333333,
              "#9c179e"
             ],
             [
              0.4444444444444444,
              "#bd3786"
             ],
             [
              0.5555555555555556,
              "#d8576b"
             ],
             [
              0.6666666666666666,
              "#ed7953"
             ],
             [
              0.7777777777777778,
              "#fb9f3a"
             ],
             [
              0.8888888888888888,
              "#fdca26"
             ],
             [
              1,
              "#f0f921"
             ]
            ],
            "type": "surface"
           }
          ],
          "table": [
           {
            "cells": {
             "fill": {
              "color": "#EBF0F8"
             },
             "line": {
              "color": "white"
             }
            },
            "header": {
             "fill": {
              "color": "#C8D4E3"
             },
             "line": {
              "color": "white"
             }
            },
            "type": "table"
           }
          ]
         },
         "layout": {
          "annotationdefaults": {
           "arrowcolor": "#2a3f5f",
           "arrowhead": 0,
           "arrowwidth": 1
          },
          "autotypenumbers": "strict",
          "coloraxis": {
           "colorbar": {
            "outlinewidth": 0,
            "ticks": ""
           }
          },
          "colorscale": {
           "diverging": [
            [
             0,
             "#8e0152"
            ],
            [
             0.1,
             "#c51b7d"
            ],
            [
             0.2,
             "#de77ae"
            ],
            [
             0.3,
             "#f1b6da"
            ],
            [
             0.4,
             "#fde0ef"
            ],
            [
             0.5,
             "#f7f7f7"
            ],
            [
             0.6,
             "#e6f5d0"
            ],
            [
             0.7,
             "#b8e186"
            ],
            [
             0.8,
             "#7fbc41"
            ],
            [
             0.9,
             "#4d9221"
            ],
            [
             1,
             "#276419"
            ]
           ],
           "sequential": [
            [
             0,
             "#0d0887"
            ],
            [
             0.1111111111111111,
             "#46039f"
            ],
            [
             0.2222222222222222,
             "#7201a8"
            ],
            [
             0.3333333333333333,
             "#9c179e"
            ],
            [
             0.4444444444444444,
             "#bd3786"
            ],
            [
             0.5555555555555556,
             "#d8576b"
            ],
            [
             0.6666666666666666,
             "#ed7953"
            ],
            [
             0.7777777777777778,
             "#fb9f3a"
            ],
            [
             0.8888888888888888,
             "#fdca26"
            ],
            [
             1,
             "#f0f921"
            ]
           ],
           "sequentialminus": [
            [
             0,
             "#0d0887"
            ],
            [
             0.1111111111111111,
             "#46039f"
            ],
            [
             0.2222222222222222,
             "#7201a8"
            ],
            [
             0.3333333333333333,
             "#9c179e"
            ],
            [
             0.4444444444444444,
             "#bd3786"
            ],
            [
             0.5555555555555556,
             "#d8576b"
            ],
            [
             0.6666666666666666,
             "#ed7953"
            ],
            [
             0.7777777777777778,
             "#fb9f3a"
            ],
            [
             0.8888888888888888,
             "#fdca26"
            ],
            [
             1,
             "#f0f921"
            ]
           ]
          },
          "colorway": [
           "#636efa",
           "#EF553B",
           "#00cc96",
           "#ab63fa",
           "#FFA15A",
           "#19d3f3",
           "#FF6692",
           "#B6E880",
           "#FF97FF",
           "#FECB52"
          ],
          "font": {
           "color": "#2a3f5f"
          },
          "geo": {
           "bgcolor": "white",
           "lakecolor": "white",
           "landcolor": "white",
           "showlakes": true,
           "showland": true,
           "subunitcolor": "#C8D4E3"
          },
          "hoverlabel": {
           "align": "left"
          },
          "hovermode": "closest",
          "mapbox": {
           "style": "light"
          },
          "paper_bgcolor": "white",
          "plot_bgcolor": "white",
          "polar": {
           "angularaxis": {
            "gridcolor": "#EBF0F8",
            "linecolor": "#EBF0F8",
            "ticks": ""
           },
           "bgcolor": "white",
           "radialaxis": {
            "gridcolor": "#EBF0F8",
            "linecolor": "#EBF0F8",
            "ticks": ""
           }
          },
          "scene": {
           "xaxis": {
            "backgroundcolor": "white",
            "gridcolor": "#DFE8F3",
            "gridwidth": 2,
            "linecolor": "#EBF0F8",
            "showbackground": true,
            "ticks": "",
            "zerolinecolor": "#EBF0F8"
           },
           "yaxis": {
            "backgroundcolor": "white",
            "gridcolor": "#DFE8F3",
            "gridwidth": 2,
            "linecolor": "#EBF0F8",
            "showbackground": true,
            "ticks": "",
            "zerolinecolor": "#EBF0F8"
           },
           "zaxis": {
            "backgroundcolor": "white",
            "gridcolor": "#DFE8F3",
            "gridwidth": 2,
            "linecolor": "#EBF0F8",
            "showbackground": true,
            "ticks": "",
            "zerolinecolor": "#EBF0F8"
           }
          },
          "shapedefaults": {
           "line": {
            "color": "#2a3f5f"
           }
          },
          "ternary": {
           "aaxis": {
            "gridcolor": "#DFE8F3",
            "linecolor": "#A2B1C6",
            "ticks": ""
           },
           "baxis": {
            "gridcolor": "#DFE8F3",
            "linecolor": "#A2B1C6",
            "ticks": ""
           },
           "bgcolor": "white",
           "caxis": {
            "gridcolor": "#DFE8F3",
            "linecolor": "#A2B1C6",
            "ticks": ""
           }
          },
          "title": {
           "x": 0.05
          },
          "xaxis": {
           "automargin": true,
           "gridcolor": "#EBF0F8",
           "linecolor": "#EBF0F8",
           "ticks": "",
           "title": {
            "standoff": 15
           },
           "zerolinecolor": "#EBF0F8",
           "zerolinewidth": 2
          },
          "yaxis": {
           "automargin": true,
           "gridcolor": "#EBF0F8",
           "linecolor": "#EBF0F8",
           "ticks": "",
           "title": {
            "standoff": 15
           },
           "zerolinecolor": "#EBF0F8",
           "zerolinewidth": 2
          }
         }
        },
        "title": {
         "text": "Top 10 Countries with Highest Amount of Aid Received Since 2013-2016"
        },
        "width": 1200,
        "xaxis": {
         "anchor": "y",
         "domain": [
          0,
          1
         ],
         "linecolor": "white",
         "linewidth": 1,
         "range": [
          0,
          2000000000
         ],
         "showgrid": false,
         "showline": true,
         "title": {
          "text": "Aid Received (€)"
         }
        },
        "yaxis": {
         "anchor": "x",
         "autorange": "reversed",
         "domain": [
          0,
          1
         ],
         "title": {}
        }
       }
      }
     },
     "metadata": {},
     "output_type": "display_data"
    }
   ],
   "source": [
    "aide_alimentaire_total = aide_alimentaire_total.sort_values(\n",
    "    by=\"Valeur\", ascending=False\n",
    ").head(10)\n",
    "aide_alimentaire_total['Valeur_in_billion'] = aide_alimentaire_total['Valeur'] / 1_000_000_000\n",
    "\n",
    "# Create the bar chart using Plotly\n",
    "fig = px.bar(\n",
    "    aide_alimentaire_total,\n",
    "    x=\"Valeur\",\n",
    "    y=\"Zone\",\n",
    "    orientation=\"h\",\n",
    "    title=\"Top 10 Countries with Highest Amount of Aid Received Since 2013-2016\",\n",
    "    labels={\"Valeur\": \"Aid Received\", \"Zone\": \"Country\"},\n",
    "    text=\"Valeur\",\n",
    "    custom_data=\"Valeur_in_billion\",\n",
    "    color=\"Valeur\",\n",
    "    # color_continuous_scale=\"Blues\",\n",
    "    color_continuous_scale=[\"rgb(229,229,255)\", \"rgb(0,0,255)\"]\n",
    ")\n",
    "\n",
    "# Update the layout to invert the y-axis and remove x-axis title and color bar\n",
    "fig.update_layout(\n",
    "    yaxis=dict(autorange=\"reversed\", title=None),\n",
    "    xaxis_title=\"Aid Received (€)\",\n",
    "    coloraxis_showscale=False,\n",
    "    width=1200,\n",
    "    height=500,\n",
    "    template=\"plotly_white\",\n",
    "    paper_bgcolor=\"rgba(0,0,0,0)\",  # make the paper background transparent\n",
    "    plot_bgcolor=\"rgba(0,0,0,0)\",  # make the plot background transparent\n",
    "    font=dict(color=\"white\", size=14),\n",
    ")\n",
    "\n",
    "fig.update_traces(texttemplate=\"€%{customdata[0]:.2f}B\", textposition=\"outside\")\n",
    "\n",
    "fig.update_xaxes(showline=True, linewidth=1, linecolor=\"white\", range=[0, 2_000_000_000], showgrid=False)\n",
    "\n",
    "# URLs of the images\n",
    "image_urls = [\n",
    "    \"https://flagicons.lipis.dev/flags/4x3/sy.svg\",\n",
    "    \"https://flagicons.lipis.dev/flags/4x3/et.svg\",\n",
    "    \"https://flagicons.lipis.dev/flags/4x3/ye.svg\",\n",
    "    \"https://flagicons.lipis.dev/flags/4x3/ss.svg\",\n",
    "    \"https://flagicons.lipis.dev/flags/4x3/sd.svg\",\n",
    "    \"https://flagicons.lipis.dev/flags/4x3/ke.svg\",\n",
    "    \"https://flagicons.lipis.dev/flags/4x3/bd.svg\",\n",
    "    \"https://flagicons.lipis.dev/flags/4x3/so.svg\",\n",
    "    \"https://flagicons.lipis.dev/flags/4x3/cg.svg\",\n",
    "    \"https://flagicons.lipis.dev/flags/4x3/ne.svg\"\n",
    "]\n",
    "\n",
    "# Positions of the images\n",
    "proportions = aide_alimentaire_total['Valeur'].tolist()\n",
    "positions = [(proportions-100_000_000, i - 0.5) for i, proportions in enumerate(proportions)]\n",
    "\n",
    "for url, (x, y) in zip(image_urls, positions):\n",
    "    fig.add_layout_image(\n",
    "        dict(\n",
    "            source=url,\n",
    "            xref=\"x\",\n",
    "            yref=\"y\",\n",
    "            x=x,\n",
    "            y=y,\n",
    "            sizex=100_000_000,\n",
    "            sizey=100_000_000,\n",
    "            layer=\"above\",\n",
    "        )\n",
    "    )\n",
    "\n",
    "# Show the figure\n",
    "fig.show()\n",
    "fig.write_image(\"src/main/extracted_data/7.svg\")"
   ]
  },
  {
   "cell_type": "markdown",
   "id": "8e0b612a",
   "metadata": {},
   "source": [
    "## 12. <a id='toc12_'></a>[Evolution des 5 pays qui ont le plus bénéficiés de l'aide alimentaire entre 2013 et 2016](#toc0_)"
   ]
  },
  {
   "cell_type": "code",
   "execution_count": 69,
   "id": "1ee959da",
   "metadata": {},
   "outputs": [
    {
     "data": {
      "text/plain": [
       "array([2013, 2014, 2015, 2016], dtype=int64)"
      ]
     },
     "execution_count": 69,
     "metadata": {},
     "output_type": "execute_result"
    }
   ],
   "source": [
    "aide_alimentaire[\"Année\"].unique()"
   ]
  },
  {
   "cell_type": "code",
   "execution_count": 70,
   "id": "09d55114",
   "metadata": {},
   "outputs": [],
   "source": [
    "#Evolution des 5 pays qui ont le plus bénéficiés de l'aide alimentaire entre 2013 et 2016\n",
    "#Création d'un dataframe avec la zone, l'année et l'aide alimentaire puis groupby sur zone et année \n",
    "aide_alimentaire_zone = aide_alimentaire.groupby(['Zone', 'Année'])['Valeur'].sum().reset_index()"
   ]
  },
  {
   "cell_type": "code",
   "execution_count": 71,
   "id": "6bd577b0",
   "metadata": {},
   "outputs": [],
   "source": [
    "#Création d'une liste contenant les 5 pays qui ont le plus bénéficiées de l'aide alimentaire\n",
    "top_5_aide_alimentaire = aide_alimentaire_total.sort_values(by='Valeur', ascending=False).head(5)['Zone'].tolist()"
   ]
  },
  {
   "cell_type": "code",
   "execution_count": 72,
   "id": "41612dbd",
   "metadata": {},
   "outputs": [],
   "source": [
    "#On filtre sur le dataframe avec notre liste\n",
    "aide_alimentaire_zone = aide_alimentaire_zone[aide_alimentaire_zone['Zone'].isin(top_5_aide_alimentaire)]"
   ]
  },
  {
   "cell_type": "code",
   "execution_count": 73,
   "id": "5680e72d",
   "metadata": {},
   "outputs": [
    {
     "data": {
      "text/html": [
       "<style type=\"text/css\">\n",
       "</style>\n",
       "<table id=\"T_38836\">\n",
       "  <thead>\n",
       "    <tr>\n",
       "      <th class=\"blank level0\" >&nbsp;</th>\n",
       "      <th id=\"T_38836_level0_col0\" class=\"col_heading level0 col0\" >Zone</th>\n",
       "      <th id=\"T_38836_level0_col1\" class=\"col_heading level0 col1\" >Année</th>\n",
       "      <th id=\"T_38836_level0_col2\" class=\"col_heading level0 col2\" >Valeur</th>\n",
       "    </tr>\n",
       "  </thead>\n",
       "  <tbody>\n",
       "    <tr>\n",
       "      <th id=\"T_38836_level0_row0\" class=\"row_heading level0 row0\" >157</th>\n",
       "      <td id=\"T_38836_row0_col0\" class=\"data row0 col0\" >République arabe syrienne</td>\n",
       "      <td id=\"T_38836_row0_col1\" class=\"data row0 col1\" >2013</td>\n",
       "      <td id=\"T_38836_row0_col2\" class=\"data row0 col2\" >563,566,000</td>\n",
       "    </tr>\n",
       "    <tr>\n",
       "      <th id=\"T_38836_level0_row1\" class=\"row_heading level0 row1\" >158</th>\n",
       "      <td id=\"T_38836_row1_col0\" class=\"data row1 col0\" >République arabe syrienne</td>\n",
       "      <td id=\"T_38836_row1_col1\" class=\"data row1 col1\" >2014</td>\n",
       "      <td id=\"T_38836_row1_col2\" class=\"data row1 col2\" >651,870,000</td>\n",
       "    </tr>\n",
       "    <tr>\n",
       "      <th id=\"T_38836_level0_row2\" class=\"row_heading level0 row2\" >159</th>\n",
       "      <td id=\"T_38836_row2_col0\" class=\"data row2 col0\" >République arabe syrienne</td>\n",
       "      <td id=\"T_38836_row2_col1\" class=\"data row2 col1\" >2015</td>\n",
       "      <td id=\"T_38836_row2_col2\" class=\"data row2 col2\" >524,949,000</td>\n",
       "    </tr>\n",
       "    <tr>\n",
       "      <th id=\"T_38836_level0_row3\" class=\"row_heading level0 row3\" >160</th>\n",
       "      <td id=\"T_38836_row3_col0\" class=\"data row3 col0\" >République arabe syrienne</td>\n",
       "      <td id=\"T_38836_row3_col1\" class=\"data row3 col1\" >2016</td>\n",
       "      <td id=\"T_38836_row3_col2\" class=\"data row3 col2\" >118,558,000</td>\n",
       "    </tr>\n",
       "    <tr>\n",
       "      <th id=\"T_38836_level0_row4\" class=\"row_heading level0 row4\" >189</th>\n",
       "      <td id=\"T_38836_row4_col0\" class=\"data row4 col0\" >Soudan</td>\n",
       "      <td id=\"T_38836_row4_col1\" class=\"data row4 col1\" >2013</td>\n",
       "      <td id=\"T_38836_row4_col2\" class=\"data row4 col2\" >330,230,000</td>\n",
       "    </tr>\n",
       "    <tr>\n",
       "      <th id=\"T_38836_level0_row5\" class=\"row_heading level0 row5\" >190</th>\n",
       "      <td id=\"T_38836_row5_col0\" class=\"data row5 col0\" >Soudan</td>\n",
       "      <td id=\"T_38836_row5_col1\" class=\"data row5 col1\" >2014</td>\n",
       "      <td id=\"T_38836_row5_col2\" class=\"data row5 col2\" >321,904,000</td>\n",
       "    </tr>\n",
       "    <tr>\n",
       "      <th id=\"T_38836_level0_row6\" class=\"row_heading level0 row6\" >191</th>\n",
       "      <td id=\"T_38836_row6_col0\" class=\"data row6 col0\" >Soudan</td>\n",
       "      <td id=\"T_38836_row6_col1\" class=\"data row6 col1\" >2015</td>\n",
       "      <td id=\"T_38836_row6_col2\" class=\"data row6 col2\" >17,650,000</td>\n",
       "    </tr>\n",
       "    <tr>\n",
       "      <th id=\"T_38836_level0_row7\" class=\"row_heading level0 row7\" >192</th>\n",
       "      <td id=\"T_38836_row7_col0\" class=\"data row7 col0\" >Soudan du Sud</td>\n",
       "      <td id=\"T_38836_row7_col1\" class=\"data row7 col1\" >2013</td>\n",
       "      <td id=\"T_38836_row7_col2\" class=\"data row7 col2\" >196,330,000</td>\n",
       "    </tr>\n",
       "    <tr>\n",
       "      <th id=\"T_38836_level0_row8\" class=\"row_heading level0 row8\" >193</th>\n",
       "      <td id=\"T_38836_row8_col0\" class=\"data row8 col0\" >Soudan du Sud</td>\n",
       "      <td id=\"T_38836_row8_col1\" class=\"data row8 col1\" >2014</td>\n",
       "      <td id=\"T_38836_row8_col2\" class=\"data row8 col2\" >450,610,000</td>\n",
       "    </tr>\n",
       "    <tr>\n",
       "      <th id=\"T_38836_level0_row9\" class=\"row_heading level0 row9\" >194</th>\n",
       "      <td id=\"T_38836_row9_col0\" class=\"data row9 col0\" >Soudan du Sud</td>\n",
       "      <td id=\"T_38836_row9_col1\" class=\"data row9 col1\" >2015</td>\n",
       "      <td id=\"T_38836_row9_col2\" class=\"data row9 col2\" >48,308,000</td>\n",
       "    </tr>\n",
       "    <tr>\n",
       "      <th id=\"T_38836_level0_row10\" class=\"row_heading level0 row10\" >214</th>\n",
       "      <td id=\"T_38836_row10_col0\" class=\"data row10 col0\" >Yémen</td>\n",
       "      <td id=\"T_38836_row10_col1\" class=\"data row10 col1\" >2013</td>\n",
       "      <td id=\"T_38836_row10_col2\" class=\"data row10 col2\" >264,764,000</td>\n",
       "    </tr>\n",
       "    <tr>\n",
       "      <th id=\"T_38836_level0_row11\" class=\"row_heading level0 row11\" >215</th>\n",
       "      <td id=\"T_38836_row11_col0\" class=\"data row11 col0\" >Yémen</td>\n",
       "      <td id=\"T_38836_row11_col1\" class=\"data row11 col1\" >2014</td>\n",
       "      <td id=\"T_38836_row11_col2\" class=\"data row11 col2\" >103,840,000</td>\n",
       "    </tr>\n",
       "    <tr>\n",
       "      <th id=\"T_38836_level0_row12\" class=\"row_heading level0 row12\" >216</th>\n",
       "      <td id=\"T_38836_row12_col0\" class=\"data row12 col0\" >Yémen</td>\n",
       "      <td id=\"T_38836_row12_col1\" class=\"data row12 col1\" >2015</td>\n",
       "      <td id=\"T_38836_row12_col2\" class=\"data row12 col2\" >372,306,000</td>\n",
       "    </tr>\n",
       "    <tr>\n",
       "      <th id=\"T_38836_level0_row13\" class=\"row_heading level0 row13\" >217</th>\n",
       "      <td id=\"T_38836_row13_col0\" class=\"data row13 col0\" >Yémen</td>\n",
       "      <td id=\"T_38836_row13_col1\" class=\"data row13 col1\" >2016</td>\n",
       "      <td id=\"T_38836_row13_col2\" class=\"data row13 col2\" >465,574,000</td>\n",
       "    </tr>\n",
       "    <tr>\n",
       "      <th id=\"T_38836_level0_row14\" class=\"row_heading level0 row14\" >225</th>\n",
       "      <td id=\"T_38836_row14_col0\" class=\"data row14 col0\" >Éthiopie</td>\n",
       "      <td id=\"T_38836_row14_col1\" class=\"data row14 col1\" >2013</td>\n",
       "      <td id=\"T_38836_row14_col2\" class=\"data row14 col2\" >591,404,000</td>\n",
       "    </tr>\n",
       "    <tr>\n",
       "      <th id=\"T_38836_level0_row15\" class=\"row_heading level0 row15\" >226</th>\n",
       "      <td id=\"T_38836_row15_col0\" class=\"data row15 col0\" >Éthiopie</td>\n",
       "      <td id=\"T_38836_row15_col1\" class=\"data row15 col1\" >2014</td>\n",
       "      <td id=\"T_38836_row15_col2\" class=\"data row15 col2\" >586,624,000</td>\n",
       "    </tr>\n",
       "    <tr>\n",
       "      <th id=\"T_38836_level0_row16\" class=\"row_heading level0 row16\" >227</th>\n",
       "      <td id=\"T_38836_row16_col0\" class=\"data row16 col0\" >Éthiopie</td>\n",
       "      <td id=\"T_38836_row16_col1\" class=\"data row16 col1\" >2015</td>\n",
       "      <td id=\"T_38836_row16_col2\" class=\"data row16 col2\" >203,266,000</td>\n",
       "    </tr>\n",
       "  </tbody>\n",
       "</table>\n"
      ],
      "text/plain": [
       "<pandas.io.formats.style.Styler at 0x1930c6ab7d0>"
      ]
     },
     "execution_count": 73,
     "metadata": {},
     "output_type": "execute_result"
    }
   ],
   "source": [
    "# Affichage des pays avec l'aide alimentaire par année\n",
    "aide_alimentaire_zone.style.format({'Valeur': \"{:,}\"})"
   ]
  },
  {
   "cell_type": "code",
   "execution_count": 74,
   "id": "d04968a9",
   "metadata": {},
   "outputs": [
    {
     "data": {
      "application/vnd.plotly.v1+json": {
       "config": {
        "plotlyServerURL": "https://plot.ly"
       },
       "data": [
        {
         "connectgaps": true,
         "line": {
          "color": "rgb(163,163,163)",
          "width": 2
         },
         "mode": "lines",
         "name": "République arabe syrienne",
         "type": "scatter",
         "x": [
          2013,
          2014,
          2015,
          2016
         ],
         "y": [
          563566000,
          651870000,
          524949000,
          118558000
         ]
        },
        {
         "connectgaps": true,
         "line": {
          "color": "rgb(163,163,163)",
          "width": 2
         },
         "mode": "lines",
         "name": "Soudan",
         "type": "scatter",
         "x": [
          2013,
          2014,
          2015,
          2016
         ],
         "y": [
          330230000,
          321904000,
          17650000,
          null
         ]
        },
        {
         "connectgaps": true,
         "line": {
          "color": "rgb(163,163,163)",
          "width": 2
         },
         "mode": "lines",
         "name": "Soudan du Sud",
         "type": "scatter",
         "x": [
          2013,
          2014,
          2015,
          2016
         ],
         "y": [
          196330000,
          450610000,
          48308000,
          null
         ]
        },
        {
         "connectgaps": true,
         "line": {
          "color": "rgb(0,0,255)",
          "width": 4
         },
         "mode": "lines",
         "name": "Yémen",
         "type": "scatter",
         "x": [
          2013,
          2014,
          2015,
          2016
         ],
         "y": [
          264764000,
          103840000,
          372306000,
          465574000
         ]
        },
        {
         "connectgaps": true,
         "line": {
          "color": "rgb(163,163,163)",
          "width": 2
         },
         "mode": "lines",
         "name": "Éthiopie",
         "type": "scatter",
         "x": [
          2013,
          2014,
          2015,
          2016
         ],
         "y": [
          591404000,
          586624000,
          203266000,
          null
         ]
        },
        {
         "marker": {
          "color": "rgb(163,163,163)",
          "size": 8
         },
         "mode": "markers",
         "type": "scatter",
         "x": [
          2013,
          2016
         ],
         "y": [
          563566000,
          118558000
         ]
        },
        {
         "marker": {
          "color": "rgb(163,163,163)",
          "size": 8
         },
         "mode": "markers",
         "type": "scatter",
         "x": [
          2013,
          2015
         ],
         "y": [
          330230000,
          17650000
         ]
        },
        {
         "marker": {
          "color": "rgb(163,163,163)",
          "size": 8
         },
         "mode": "markers",
         "type": "scatter",
         "x": [
          2013,
          2015
         ],
         "y": [
          196330000,
          48308000
         ]
        },
        {
         "marker": {
          "color": "rgb(0,0,255)",
          "size": 12
         },
         "mode": "markers",
         "type": "scatter",
         "x": [
          2013,
          2016
         ],
         "y": [
          264764000,
          465574000
         ]
        },
        {
         "marker": {
          "color": "rgb(163,163,163)",
          "size": 8
         },
         "mode": "markers",
         "type": "scatter",
         "x": [
          2013,
          2015
         ],
         "y": [
          591404000,
          203266000
         ]
        }
       ],
       "layout": {
        "annotations": [
         {
          "font": {
           "color": "white",
           "family": "Arial",
           "size": 16
          },
          "showarrow": false,
          "text": "République arabe syrienne 563M",
          "x": 0.05,
          "xanchor": "right",
          "xref": "paper",
          "y": 563566000,
          "yanchor": "middle"
         },
         {
          "font": {
           "color": "white",
           "family": "Arial",
           "size": 16
          },
          "showarrow": false,
          "text": "118M",
          "x": 2016,
          "xanchor": "left",
          "xref": "x",
          "y": 118558000,
          "yanchor": "middle"
         },
         {
          "font": {
           "color": "white",
           "family": "Arial",
           "size": 16
          },
          "showarrow": false,
          "text": "Soudan 330M",
          "x": 0.05,
          "xanchor": "right",
          "xref": "paper",
          "y": 330230000,
          "yanchor": "middle"
         },
         {
          "font": {
           "color": "white",
           "family": "Arial",
           "size": 16
          },
          "showarrow": false,
          "text": "17M",
          "x": 2015,
          "xanchor": "left",
          "xref": "x",
          "y": 17650000,
          "yanchor": "middle"
         },
         {
          "font": {
           "color": "white",
           "family": "Arial",
           "size": 16
          },
          "showarrow": false,
          "text": "Soudan du Sud 196M",
          "x": 0.05,
          "xanchor": "right",
          "xref": "paper",
          "y": 196330000,
          "yanchor": "middle"
         },
         {
          "font": {
           "color": "white",
           "family": "Arial",
           "size": 16
          },
          "showarrow": false,
          "text": "48M",
          "x": 2015,
          "xanchor": "left",
          "xref": "x",
          "y": 48308000,
          "yanchor": "middle"
         },
         {
          "font": {
           "color": "white",
           "family": "Arial",
           "size": 16
          },
          "showarrow": false,
          "text": "Yémen 264M",
          "x": 0.05,
          "xanchor": "right",
          "xref": "paper",
          "y": 264764000,
          "yanchor": "middle"
         },
         {
          "font": {
           "color": "white",
           "family": "Arial",
           "size": 16
          },
          "showarrow": false,
          "text": "465M",
          "x": 2016,
          "xanchor": "left",
          "xref": "x",
          "y": 465574000,
          "yanchor": "middle"
         },
         {
          "font": {
           "color": "white",
           "family": "Arial",
           "size": 16
          },
          "showarrow": false,
          "text": "Éthiopie 591M",
          "x": 0.05,
          "xanchor": "right",
          "xref": "paper",
          "y": 591404000,
          "yanchor": "middle"
         },
         {
          "font": {
           "color": "white",
           "family": "Arial",
           "size": 16
          },
          "showarrow": false,
          "text": "203M",
          "x": 2015,
          "xanchor": "left",
          "xref": "x",
          "y": 203266000,
          "yanchor": "middle"
         },
         {
          "font": {
           "color": "white",
           "family": "Arial",
           "size": 30
          },
          "showarrow": false,
          "text": "Aid Received Over Time",
          "x": 0,
          "xanchor": "left",
          "xref": "paper",
          "y": 1.05,
          "yanchor": "bottom",
          "yref": "paper"
         }
        ],
        "autosize": false,
        "font": {
         "color": "white",
         "size": 14
        },
        "height": 600,
        "margin": {
         "autoexpand": false,
         "l": 200,
         "r": 20,
         "t": 110
        },
        "paper_bgcolor": "rgba(0,0,0,0)",
        "plot_bgcolor": "rgba(0,0,0,0)",
        "showlegend": false,
        "template": {
         "data": {
          "bar": [
           {
            "error_x": {
             "color": "#2a3f5f"
            },
            "error_y": {
             "color": "#2a3f5f"
            },
            "marker": {
             "line": {
              "color": "#E5ECF6",
              "width": 0.5
             },
             "pattern": {
              "fillmode": "overlay",
              "size": 10,
              "solidity": 0.2
             }
            },
            "type": "bar"
           }
          ],
          "barpolar": [
           {
            "marker": {
             "line": {
              "color": "#E5ECF6",
              "width": 0.5
             },
             "pattern": {
              "fillmode": "overlay",
              "size": 10,
              "solidity": 0.2
             }
            },
            "type": "barpolar"
           }
          ],
          "carpet": [
           {
            "aaxis": {
             "endlinecolor": "#2a3f5f",
             "gridcolor": "white",
             "linecolor": "white",
             "minorgridcolor": "white",
             "startlinecolor": "#2a3f5f"
            },
            "baxis": {
             "endlinecolor": "#2a3f5f",
             "gridcolor": "white",
             "linecolor": "white",
             "minorgridcolor": "white",
             "startlinecolor": "#2a3f5f"
            },
            "type": "carpet"
           }
          ],
          "choropleth": [
           {
            "colorbar": {
             "outlinewidth": 0,
             "ticks": ""
            },
            "type": "choropleth"
           }
          ],
          "contour": [
           {
            "colorbar": {
             "outlinewidth": 0,
             "ticks": ""
            },
            "colorscale": [
             [
              0,
              "#0d0887"
             ],
             [
              0.1111111111111111,
              "#46039f"
             ],
             [
              0.2222222222222222,
              "#7201a8"
             ],
             [
              0.3333333333333333,
              "#9c179e"
             ],
             [
              0.4444444444444444,
              "#bd3786"
             ],
             [
              0.5555555555555556,
              "#d8576b"
             ],
             [
              0.6666666666666666,
              "#ed7953"
             ],
             [
              0.7777777777777778,
              "#fb9f3a"
             ],
             [
              0.8888888888888888,
              "#fdca26"
             ],
             [
              1,
              "#f0f921"
             ]
            ],
            "type": "contour"
           }
          ],
          "contourcarpet": [
           {
            "colorbar": {
             "outlinewidth": 0,
             "ticks": ""
            },
            "type": "contourcarpet"
           }
          ],
          "heatmap": [
           {
            "colorbar": {
             "outlinewidth": 0,
             "ticks": ""
            },
            "colorscale": [
             [
              0,
              "#0d0887"
             ],
             [
              0.1111111111111111,
              "#46039f"
             ],
             [
              0.2222222222222222,
              "#7201a8"
             ],
             [
              0.3333333333333333,
              "#9c179e"
             ],
             [
              0.4444444444444444,
              "#bd3786"
             ],
             [
              0.5555555555555556,
              "#d8576b"
             ],
             [
              0.6666666666666666,
              "#ed7953"
             ],
             [
              0.7777777777777778,
              "#fb9f3a"
             ],
             [
              0.8888888888888888,
              "#fdca26"
             ],
             [
              1,
              "#f0f921"
             ]
            ],
            "type": "heatmap"
           }
          ],
          "heatmapgl": [
           {
            "colorbar": {
             "outlinewidth": 0,
             "ticks": ""
            },
            "colorscale": [
             [
              0,
              "#0d0887"
             ],
             [
              0.1111111111111111,
              "#46039f"
             ],
             [
              0.2222222222222222,
              "#7201a8"
             ],
             [
              0.3333333333333333,
              "#9c179e"
             ],
             [
              0.4444444444444444,
              "#bd3786"
             ],
             [
              0.5555555555555556,
              "#d8576b"
             ],
             [
              0.6666666666666666,
              "#ed7953"
             ],
             [
              0.7777777777777778,
              "#fb9f3a"
             ],
             [
              0.8888888888888888,
              "#fdca26"
             ],
             [
              1,
              "#f0f921"
             ]
            ],
            "type": "heatmapgl"
           }
          ],
          "histogram": [
           {
            "marker": {
             "pattern": {
              "fillmode": "overlay",
              "size": 10,
              "solidity": 0.2
             }
            },
            "type": "histogram"
           }
          ],
          "histogram2d": [
           {
            "colorbar": {
             "outlinewidth": 0,
             "ticks": ""
            },
            "colorscale": [
             [
              0,
              "#0d0887"
             ],
             [
              0.1111111111111111,
              "#46039f"
             ],
             [
              0.2222222222222222,
              "#7201a8"
             ],
             [
              0.3333333333333333,
              "#9c179e"
             ],
             [
              0.4444444444444444,
              "#bd3786"
             ],
             [
              0.5555555555555556,
              "#d8576b"
             ],
             [
              0.6666666666666666,
              "#ed7953"
             ],
             [
              0.7777777777777778,
              "#fb9f3a"
             ],
             [
              0.8888888888888888,
              "#fdca26"
             ],
             [
              1,
              "#f0f921"
             ]
            ],
            "type": "histogram2d"
           }
          ],
          "histogram2dcontour": [
           {
            "colorbar": {
             "outlinewidth": 0,
             "ticks": ""
            },
            "colorscale": [
             [
              0,
              "#0d0887"
             ],
             [
              0.1111111111111111,
              "#46039f"
             ],
             [
              0.2222222222222222,
              "#7201a8"
             ],
             [
              0.3333333333333333,
              "#9c179e"
             ],
             [
              0.4444444444444444,
              "#bd3786"
             ],
             [
              0.5555555555555556,
              "#d8576b"
             ],
             [
              0.6666666666666666,
              "#ed7953"
             ],
             [
              0.7777777777777778,
              "#fb9f3a"
             ],
             [
              0.8888888888888888,
              "#fdca26"
             ],
             [
              1,
              "#f0f921"
             ]
            ],
            "type": "histogram2dcontour"
           }
          ],
          "mesh3d": [
           {
            "colorbar": {
             "outlinewidth": 0,
             "ticks": ""
            },
            "type": "mesh3d"
           }
          ],
          "parcoords": [
           {
            "line": {
             "colorbar": {
              "outlinewidth": 0,
              "ticks": ""
             }
            },
            "type": "parcoords"
           }
          ],
          "pie": [
           {
            "automargin": true,
            "type": "pie"
           }
          ],
          "scatter": [
           {
            "fillpattern": {
             "fillmode": "overlay",
             "size": 10,
             "solidity": 0.2
            },
            "type": "scatter"
           }
          ],
          "scatter3d": [
           {
            "line": {
             "colorbar": {
              "outlinewidth": 0,
              "ticks": ""
             }
            },
            "marker": {
             "colorbar": {
              "outlinewidth": 0,
              "ticks": ""
             }
            },
            "type": "scatter3d"
           }
          ],
          "scattercarpet": [
           {
            "marker": {
             "colorbar": {
              "outlinewidth": 0,
              "ticks": ""
             }
            },
            "type": "scattercarpet"
           }
          ],
          "scattergeo": [
           {
            "marker": {
             "colorbar": {
              "outlinewidth": 0,
              "ticks": ""
             }
            },
            "type": "scattergeo"
           }
          ],
          "scattergl": [
           {
            "marker": {
             "colorbar": {
              "outlinewidth": 0,
              "ticks": ""
             }
            },
            "type": "scattergl"
           }
          ],
          "scattermapbox": [
           {
            "marker": {
             "colorbar": {
              "outlinewidth": 0,
              "ticks": ""
             }
            },
            "type": "scattermapbox"
           }
          ],
          "scatterpolar": [
           {
            "marker": {
             "colorbar": {
              "outlinewidth": 0,
              "ticks": ""
             }
            },
            "type": "scatterpolar"
           }
          ],
          "scatterpolargl": [
           {
            "marker": {
             "colorbar": {
              "outlinewidth": 0,
              "ticks": ""
             }
            },
            "type": "scatterpolargl"
           }
          ],
          "scatterternary": [
           {
            "marker": {
             "colorbar": {
              "outlinewidth": 0,
              "ticks": ""
             }
            },
            "type": "scatterternary"
           }
          ],
          "surface": [
           {
            "colorbar": {
             "outlinewidth": 0,
             "ticks": ""
            },
            "colorscale": [
             [
              0,
              "#0d0887"
             ],
             [
              0.1111111111111111,
              "#46039f"
             ],
             [
              0.2222222222222222,
              "#7201a8"
             ],
             [
              0.3333333333333333,
              "#9c179e"
             ],
             [
              0.4444444444444444,
              "#bd3786"
             ],
             [
              0.5555555555555556,
              "#d8576b"
             ],
             [
              0.6666666666666666,
              "#ed7953"
             ],
             [
              0.7777777777777778,
              "#fb9f3a"
             ],
             [
              0.8888888888888888,
              "#fdca26"
             ],
             [
              1,
              "#f0f921"
             ]
            ],
            "type": "surface"
           }
          ],
          "table": [
           {
            "cells": {
             "fill": {
              "color": "#EBF0F8"
             },
             "line": {
              "color": "white"
             }
            },
            "header": {
             "fill": {
              "color": "#C8D4E3"
             },
             "line": {
              "color": "white"
             }
            },
            "type": "table"
           }
          ]
         },
         "layout": {
          "annotationdefaults": {
           "arrowcolor": "#2a3f5f",
           "arrowhead": 0,
           "arrowwidth": 1
          },
          "autotypenumbers": "strict",
          "coloraxis": {
           "colorbar": {
            "outlinewidth": 0,
            "ticks": ""
           }
          },
          "colorscale": {
           "diverging": [
            [
             0,
             "#8e0152"
            ],
            [
             0.1,
             "#c51b7d"
            ],
            [
             0.2,
             "#de77ae"
            ],
            [
             0.3,
             "#f1b6da"
            ],
            [
             0.4,
             "#fde0ef"
            ],
            [
             0.5,
             "#f7f7f7"
            ],
            [
             0.6,
             "#e6f5d0"
            ],
            [
             0.7,
             "#b8e186"
            ],
            [
             0.8,
             "#7fbc41"
            ],
            [
             0.9,
             "#4d9221"
            ],
            [
             1,
             "#276419"
            ]
           ],
           "sequential": [
            [
             0,
             "#0d0887"
            ],
            [
             0.1111111111111111,
             "#46039f"
            ],
            [
             0.2222222222222222,
             "#7201a8"
            ],
            [
             0.3333333333333333,
             "#9c179e"
            ],
            [
             0.4444444444444444,
             "#bd3786"
            ],
            [
             0.5555555555555556,
             "#d8576b"
            ],
            [
             0.6666666666666666,
             "#ed7953"
            ],
            [
             0.7777777777777778,
             "#fb9f3a"
            ],
            [
             0.8888888888888888,
             "#fdca26"
            ],
            [
             1,
             "#f0f921"
            ]
           ],
           "sequentialminus": [
            [
             0,
             "#0d0887"
            ],
            [
             0.1111111111111111,
             "#46039f"
            ],
            [
             0.2222222222222222,
             "#7201a8"
            ],
            [
             0.3333333333333333,
             "#9c179e"
            ],
            [
             0.4444444444444444,
             "#bd3786"
            ],
            [
             0.5555555555555556,
             "#d8576b"
            ],
            [
             0.6666666666666666,
             "#ed7953"
            ],
            [
             0.7777777777777778,
             "#fb9f3a"
            ],
            [
             0.8888888888888888,
             "#fdca26"
            ],
            [
             1,
             "#f0f921"
            ]
           ]
          },
          "colorway": [
           "#636efa",
           "#EF553B",
           "#00cc96",
           "#ab63fa",
           "#FFA15A",
           "#19d3f3",
           "#FF6692",
           "#B6E880",
           "#FF97FF",
           "#FECB52"
          ],
          "font": {
           "color": "#2a3f5f"
          },
          "geo": {
           "bgcolor": "white",
           "lakecolor": "white",
           "landcolor": "#E5ECF6",
           "showlakes": true,
           "showland": true,
           "subunitcolor": "white"
          },
          "hoverlabel": {
           "align": "left"
          },
          "hovermode": "closest",
          "mapbox": {
           "style": "light"
          },
          "paper_bgcolor": "white",
          "plot_bgcolor": "#E5ECF6",
          "polar": {
           "angularaxis": {
            "gridcolor": "white",
            "linecolor": "white",
            "ticks": ""
           },
           "bgcolor": "#E5ECF6",
           "radialaxis": {
            "gridcolor": "white",
            "linecolor": "white",
            "ticks": ""
           }
          },
          "scene": {
           "xaxis": {
            "backgroundcolor": "#E5ECF6",
            "gridcolor": "white",
            "gridwidth": 2,
            "linecolor": "white",
            "showbackground": true,
            "ticks": "",
            "zerolinecolor": "white"
           },
           "yaxis": {
            "backgroundcolor": "#E5ECF6",
            "gridcolor": "white",
            "gridwidth": 2,
            "linecolor": "white",
            "showbackground": true,
            "ticks": "",
            "zerolinecolor": "white"
           },
           "zaxis": {
            "backgroundcolor": "#E5ECF6",
            "gridcolor": "white",
            "gridwidth": 2,
            "linecolor": "white",
            "showbackground": true,
            "ticks": "",
            "zerolinecolor": "white"
           }
          },
          "shapedefaults": {
           "line": {
            "color": "#2a3f5f"
           }
          },
          "ternary": {
           "aaxis": {
            "gridcolor": "white",
            "linecolor": "white",
            "ticks": ""
           },
           "baxis": {
            "gridcolor": "white",
            "linecolor": "white",
            "ticks": ""
           },
           "bgcolor": "#E5ECF6",
           "caxis": {
            "gridcolor": "white",
            "linecolor": "white",
            "ticks": ""
           }
          },
          "title": {
           "x": 0.05
          },
          "xaxis": {
           "automargin": true,
           "gridcolor": "white",
           "linecolor": "white",
           "ticks": "",
           "title": {
            "standoff": 15
           },
           "zerolinecolor": "white",
           "zerolinewidth": 2
          },
          "yaxis": {
           "automargin": true,
           "gridcolor": "white",
           "linecolor": "white",
           "ticks": "",
           "title": {
            "standoff": 15
           },
           "zerolinecolor": "white",
           "zerolinewidth": 2
          }
         }
        },
        "width": 1500,
        "xaxis": {
         "linecolor": "rgb(204, 204, 204)",
         "linewidth": 2,
         "showgrid": false,
         "showline": true,
         "showticklabels": true,
         "tickfont": {
          "color": "white",
          "family": "Arial",
          "size": 14
         },
         "ticks": "outside",
         "tickvals": [
          2013,
          2014,
          2015,
          2016
         ]
        },
        "yaxis": {
         "showgrid": false,
         "showline": false,
         "showticklabels": false,
         "zeroline": false
        }
       }
      }
     },
     "metadata": {},
     "output_type": "display_data"
    }
   ],
   "source": [
    "# Assuming pivot_df is the DataFrame after pivot\n",
    "pivot_df = aide_alimentaire_zone.pivot(index=\"Année\", columns=\"Zone\", values=\"Valeur\")\n",
    "\n",
    "title = \"Aid Received Over Time\"\n",
    "labels = pivot_df.columns.tolist()\n",
    "colors = [\n",
    "    \"rgb(163,163,163)\", # syrie\n",
    "    \"rgb(163,163,163)\", # soudan\n",
    "    \"rgb(163,163,163)\", # sudan du sud\n",
    "    \"rgb(0,0,255)\", # yemen\n",
    "    \"rgb(163,163,163)\", # ethiopia\n",
    "]\n",
    "\n",
    "mode_size = [8, 8, 8, 12, 8]\n",
    "line_size = [2, 2, 2, 4, 2]\n",
    "\n",
    "x_data = pivot_df.index\n",
    "\n",
    "fig = go.Figure()\n",
    "\n",
    "# Add a trace for each zone\n",
    "for i, zone in enumerate(labels):\n",
    "    y_data = pivot_df[zone].values\n",
    "    fig.add_trace(\n",
    "        go.Scatter(\n",
    "            x=x_data,\n",
    "            y=y_data,\n",
    "            mode=\"lines\",\n",
    "            name=zone,\n",
    "            line=dict(\n",
    "                color=colors[i % len(colors)], width=line_size[i % len(line_size)]\n",
    "            ),\n",
    "            connectgaps=True,\n",
    "        )\n",
    "    )\n",
    "\n",
    "# Endpoints\n",
    "for i, zone in enumerate(labels):\n",
    "    y_data = pivot_df[zone].values\n",
    "\n",
    "    # Find the last valid index\n",
    "    last_valid_index = len(y_data) - 1\n",
    "    while last_valid_index >= 0 and pd.isna(y_data[last_valid_index]):\n",
    "        last_valid_index -= 1\n",
    "\n",
    "    # Add a marker at the last valid index\n",
    "    if last_valid_index >= 0:\n",
    "        fig.add_trace(\n",
    "            go.Scatter(\n",
    "                x=[x_data[0], x_data[last_valid_index]],\n",
    "                y=[y_data[0], y_data[last_valid_index]],\n",
    "                mode=\"markers\",\n",
    "                marker=dict(\n",
    "                    color=colors[i % len(colors)], size=mode_size[i % len(mode_size)]\n",
    "                ),\n",
    "            )\n",
    "        )\n",
    "\n",
    "fig.update_layout(\n",
    "    xaxis=dict(\n",
    "        showline=True,\n",
    "        showgrid=False,\n",
    "        showticklabels=True,\n",
    "        linecolor=\"rgb(204, 204, 204)\",\n",
    "        linewidth=2,\n",
    "        ticks=\"outside\",\n",
    "        tickfont=dict(\n",
    "            family=\"Arial\",\n",
    "            size=14,\n",
    "            color=\"white\",\n",
    "        ),\n",
    "        tickvals=[2013, 2014, 2015, 2016],\n",
    "    ),\n",
    "    yaxis=dict(\n",
    "        showgrid=False,\n",
    "        zeroline=False,\n",
    "        showline=False,\n",
    "        showticklabels=False,\n",
    "    ),\n",
    "    autosize=False,\n",
    "    margin=dict(\n",
    "        autoexpand=False,\n",
    "        l=200,\n",
    "        r=20,\n",
    "        t=110,\n",
    "    ),\n",
    "    showlegend=False,\n",
    "    paper_bgcolor=\"rgba(0,0,0,0)\",  # make the paper background transparent\n",
    "    plot_bgcolor=\"rgba(0,0,0,0)\",  # make the plot background transparent\n",
    "    font=dict(color=\"white\", size=14),\n",
    ")\n",
    "\n",
    "annotations = []\n",
    "\n",
    "# Adding labels\n",
    "for i, zone in enumerate(labels):\n",
    "    y_data = pivot_df[zone].values\n",
    "    color = colors[i % len(colors)]\n",
    "    # Labeling the left side of the plot\n",
    "    annotations.append(\n",
    "        dict(\n",
    "            xref=\"paper\",\n",
    "            x=0.05,\n",
    "            y=y_data[0],\n",
    "            xanchor=\"right\",\n",
    "            yanchor=\"middle\",\n",
    "            text=zone + \" {}M\".format(int(y_data[0] / 1_000_000)),\n",
    "            font=dict(family=\"Arial\", size=16, color=\"white\"),\n",
    "            showarrow=False,\n",
    "        )\n",
    "    )\n",
    "\n",
    "    # Find the last valid index\n",
    "    last_valid_index = len(y_data) - 1\n",
    "    while last_valid_index >= 0 and pd.isna(y_data[last_valid_index]):\n",
    "        last_valid_index -= 1\n",
    "\n",
    "    # Labeling the right side of the plot at the last valid index\n",
    "    if last_valid_index >= 0:\n",
    "        annotations.append(\n",
    "            dict(\n",
    "                xref=\"x\",\n",
    "                x=x_data[last_valid_index],\n",
    "                y=y_data[last_valid_index],\n",
    "                xanchor=\"left\",\n",
    "                yanchor=\"middle\",\n",
    "                text=\"{}M\".format(int(y_data[last_valid_index] / 1_000_000)),\n",
    "                font=dict(family=\"Arial\", size=16, color=\"white\"),\n",
    "                showarrow=False,\n",
    "            )\n",
    "        )\n",
    "\n",
    "# Title\n",
    "annotations.append(\n",
    "    dict(\n",
    "        xref=\"paper\",\n",
    "        yref=\"paper\",\n",
    "        x=0.0,\n",
    "        y=1.05,\n",
    "        xanchor=\"left\",\n",
    "        yanchor=\"bottom\",\n",
    "        text=title,\n",
    "        font=dict(family=\"Arial\", size=30, color=\"white\"),\n",
    "        showarrow=False,\n",
    "    )\n",
    ")\n",
    "\n",
    "fig.update_layout(annotations=annotations, width=1500, height=600)\n",
    "\n",
    "fig.show()\n",
    "fig.write_image(\"src/main/extracted_data/8.svg\")"
   ]
  },
  {
   "cell_type": "markdown",
   "id": "5e8bfecc",
   "metadata": {},
   "source": [
    "## 13. <a id='toc13_'></a>[Pays avec le moins de disponibilité par habitant](#toc0_)"
   ]
  },
  {
   "cell_type": "code",
   "execution_count": 75,
   "id": "fb3a378b",
   "metadata": {},
   "outputs": [],
   "source": [
    "#Calcul de la disponibilité en kcal par personne par jour par pays\n",
    "dispo_alimentaire_par_pays = dispo_alimentaire.groupby('Zone')['Disponibilité alimentaire (Kcal/personne/jour)'].sum().reset_index()"
   ]
  },
  {
   "cell_type": "code",
   "execution_count": 76,
   "id": "70c0f689",
   "metadata": {},
   "outputs": [
    {
     "data": {
      "text/html": [
       "<div>\n",
       "<style scoped>\n",
       "    .dataframe tbody tr th:only-of-type {\n",
       "        vertical-align: middle;\n",
       "    }\n",
       "\n",
       "    .dataframe tbody tr th {\n",
       "        vertical-align: top;\n",
       "    }\n",
       "\n",
       "    .dataframe thead th {\n",
       "        text-align: right;\n",
       "    }\n",
       "</style>\n",
       "<table border=\"1\" class=\"dataframe\">\n",
       "  <thead>\n",
       "    <tr style=\"text-align: right;\">\n",
       "      <th></th>\n",
       "      <th>Zone</th>\n",
       "      <th>Disponibilité alimentaire (Kcal/personne/jour)</th>\n",
       "    </tr>\n",
       "  </thead>\n",
       "  <tbody>\n",
       "    <tr>\n",
       "      <th>127</th>\n",
       "      <td>République centrafricaine</td>\n",
       "      <td>1,879.00</td>\n",
       "    </tr>\n",
       "    <tr>\n",
       "      <th>164</th>\n",
       "      <td>Zambie</td>\n",
       "      <td>1,924.00</td>\n",
       "    </tr>\n",
       "    <tr>\n",
       "      <th>91</th>\n",
       "      <td>Madagascar</td>\n",
       "      <td>2,056.00</td>\n",
       "    </tr>\n",
       "    <tr>\n",
       "      <th>0</th>\n",
       "      <td>Afghanistan</td>\n",
       "      <td>2,087.00</td>\n",
       "    </tr>\n",
       "    <tr>\n",
       "      <th>65</th>\n",
       "      <td>Haïti</td>\n",
       "      <td>2,089.00</td>\n",
       "    </tr>\n",
       "    <tr>\n",
       "      <th>132</th>\n",
       "      <td>République populaire démocratique de Corée</td>\n",
       "      <td>2,093.00</td>\n",
       "    </tr>\n",
       "    <tr>\n",
       "      <th>150</th>\n",
       "      <td>Tchad</td>\n",
       "      <td>2,109.00</td>\n",
       "    </tr>\n",
       "    <tr>\n",
       "      <th>165</th>\n",
       "      <td>Zimbabwe</td>\n",
       "      <td>2,113.00</td>\n",
       "    </tr>\n",
       "    <tr>\n",
       "      <th>114</th>\n",
       "      <td>Ouganda</td>\n",
       "      <td>2,126.00</td>\n",
       "    </tr>\n",
       "    <tr>\n",
       "      <th>152</th>\n",
       "      <td>Timor-Leste</td>\n",
       "      <td>2,129.00</td>\n",
       "    </tr>\n",
       "  </tbody>\n",
       "</table>\n",
       "</div>"
      ],
      "text/plain": [
       "                                           Zone  \\\n",
       "127                   République centrafricaine   \n",
       "164                                      Zambie   \n",
       "91                                   Madagascar   \n",
       "0                                   Afghanistan   \n",
       "65                                        Haïti   \n",
       "132  République populaire démocratique de Corée   \n",
       "150                                       Tchad   \n",
       "165                                    Zimbabwe   \n",
       "114                                     Ouganda   \n",
       "152                                 Timor-Leste   \n",
       "\n",
       "     Disponibilité alimentaire (Kcal/personne/jour)  \n",
       "127                                        1,879.00  \n",
       "164                                        1,924.00  \n",
       "91                                         2,056.00  \n",
       "0                                          2,087.00  \n",
       "65                                         2,089.00  \n",
       "132                                        2,093.00  \n",
       "150                                        2,109.00  \n",
       "165                                        2,113.00  \n",
       "114                                        2,126.00  \n",
       "152                                        2,129.00  "
      ]
     },
     "execution_count": 76,
     "metadata": {},
     "output_type": "execute_result"
    }
   ],
   "source": [
    "#Affichage des 10 pays qui ont le moins de dispo alimentaire par personne \n",
    "dispo_alimentaire_par_pays.sort_values(by='Disponibilité alimentaire (Kcal/personne/jour)').head(10)"
   ]
  },
  {
   "cell_type": "code",
   "execution_count": 77,
   "id": "26e77ac1",
   "metadata": {},
   "outputs": [
    {
     "data": {
      "application/vnd.plotly.v1+json": {
       "config": {
        "plotlyServerURL": "https://plot.ly"
       },
       "data": [
        {
         "marker": {
          "color": [
           1879,
           1924,
           2056,
           2087,
           2089,
           2093,
           2109,
           2113,
           2126,
           2129
          ],
          "colorscale": [
           [
            0,
            "rgb(255,245,240)"
           ],
           [
            0.125,
            "rgb(254,224,210)"
           ],
           [
            0.25,
            "rgb(252,187,161)"
           ],
           [
            0.375,
            "rgb(252,146,114)"
           ],
           [
            0.5,
            "rgb(251,106,74)"
           ],
           [
            0.625,
            "rgb(239,59,44)"
           ],
           [
            0.75,
            "rgb(203,24,29)"
           ],
           [
            0.875,
            "rgb(165,15,21)"
           ],
           [
            1,
            "rgb(103,0,13)"
           ]
          ],
          "reversescale": true
         },
         "orientation": "h",
         "text": [
          1879,
          1924,
          2056,
          2087,
          2089,
          2093,
          2109,
          2113,
          2126,
          2129
         ],
         "textposition": "outside",
         "texttemplate": "%{text:,.0f}",
         "type": "bar",
         "x": [
          1879,
          1924,
          2056,
          2087,
          2089,
          2093,
          2109,
          2113,
          2126,
          2129
         ],
         "y": [
          "République centrafricaine",
          "Zambie",
          "Madagascar",
          "Afghanistan",
          "Haïti",
          "République populaire démocratique de Corée",
          "Tchad",
          "Zimbabwe",
          "Ouganda",
          "Timor-Leste"
         ]
        }
       ],
       "layout": {
        "font": {
         "color": "white",
         "size": 14
        },
        "height": 600,
        "images": [
         {
          "layer": "above",
          "sizex": 100,
          "sizey": 100,
          "source": "https://flagicons.lipis.dev/flags/4x3/cf.svg",
          "x": 1779,
          "xref": "x",
          "y": -0.43,
          "yref": "y"
         },
         {
          "layer": "above",
          "sizex": 100,
          "sizey": 100,
          "source": "https://flagicons.lipis.dev/flags/4x3/zm.svg",
          "x": 1824,
          "xref": "x",
          "y": 0.5700000000000001,
          "yref": "y"
         },
         {
          "layer": "above",
          "sizex": 100,
          "sizey": 100,
          "source": "https://flagicons.lipis.dev/flags/4x3/mg.svg",
          "x": 1956,
          "xref": "x",
          "y": 1.57,
          "yref": "y"
         },
         {
          "layer": "above",
          "sizex": 100,
          "sizey": 100,
          "source": "https://flagicons.lipis.dev/flags/4x3/af.svg",
          "x": 1987,
          "xref": "x",
          "y": 2.57,
          "yref": "y"
         },
         {
          "layer": "above",
          "sizex": 100,
          "sizey": 100,
          "source": "https://flagicons.lipis.dev/flags/4x3/ht.svg",
          "x": 1989,
          "xref": "x",
          "y": 3.57,
          "yref": "y"
         },
         {
          "layer": "above",
          "sizex": 100,
          "sizey": 100,
          "source": "https://flagicons.lipis.dev/flags/4x3/kp.svg",
          "x": 1993,
          "xref": "x",
          "y": 4.57,
          "yref": "y"
         },
         {
          "layer": "above",
          "sizex": 100,
          "sizey": 100,
          "source": "https://flagicons.lipis.dev/flags/4x3/td.svg",
          "x": 2009,
          "xref": "x",
          "y": 5.57,
          "yref": "y"
         },
         {
          "layer": "above",
          "sizex": 100,
          "sizey": 100,
          "source": "https://flagicons.lipis.dev/flags/4x3/zw.svg",
          "x": 2013,
          "xref": "x",
          "y": 6.57,
          "yref": "y"
         },
         {
          "layer": "above",
          "sizex": 100,
          "sizey": 100,
          "source": "https://flagicons.lipis.dev/flags/4x3/ug.svg",
          "x": 2026,
          "xref": "x",
          "y": 7.57,
          "yref": "y"
         },
         {
          "layer": "above",
          "sizex": 100,
          "sizey": 100,
          "source": "https://flagicons.lipis.dev/flags/4x3/tl.svg",
          "x": 2029,
          "xref": "x",
          "y": 8.57,
          "yref": "y"
         }
        ],
        "paper_bgcolor": "rgba(0,0,0,0)",
        "plot_bgcolor": "rgba(0,0,0,0)",
        "template": {
         "data": {
          "bar": [
           {
            "error_x": {
             "color": "#2a3f5f"
            },
            "error_y": {
             "color": "#2a3f5f"
            },
            "marker": {
             "line": {
              "color": "white",
              "width": 0.5
             },
             "pattern": {
              "fillmode": "overlay",
              "size": 10,
              "solidity": 0.2
             }
            },
            "type": "bar"
           }
          ],
          "barpolar": [
           {
            "marker": {
             "line": {
              "color": "white",
              "width": 0.5
             },
             "pattern": {
              "fillmode": "overlay",
              "size": 10,
              "solidity": 0.2
             }
            },
            "type": "barpolar"
           }
          ],
          "carpet": [
           {
            "aaxis": {
             "endlinecolor": "#2a3f5f",
             "gridcolor": "#C8D4E3",
             "linecolor": "#C8D4E3",
             "minorgridcolor": "#C8D4E3",
             "startlinecolor": "#2a3f5f"
            },
            "baxis": {
             "endlinecolor": "#2a3f5f",
             "gridcolor": "#C8D4E3",
             "linecolor": "#C8D4E3",
             "minorgridcolor": "#C8D4E3",
             "startlinecolor": "#2a3f5f"
            },
            "type": "carpet"
           }
          ],
          "choropleth": [
           {
            "colorbar": {
             "outlinewidth": 0,
             "ticks": ""
            },
            "type": "choropleth"
           }
          ],
          "contour": [
           {
            "colorbar": {
             "outlinewidth": 0,
             "ticks": ""
            },
            "colorscale": [
             [
              0,
              "#0d0887"
             ],
             [
              0.1111111111111111,
              "#46039f"
             ],
             [
              0.2222222222222222,
              "#7201a8"
             ],
             [
              0.3333333333333333,
              "#9c179e"
             ],
             [
              0.4444444444444444,
              "#bd3786"
             ],
             [
              0.5555555555555556,
              "#d8576b"
             ],
             [
              0.6666666666666666,
              "#ed7953"
             ],
             [
              0.7777777777777778,
              "#fb9f3a"
             ],
             [
              0.8888888888888888,
              "#fdca26"
             ],
             [
              1,
              "#f0f921"
             ]
            ],
            "type": "contour"
           }
          ],
          "contourcarpet": [
           {
            "colorbar": {
             "outlinewidth": 0,
             "ticks": ""
            },
            "type": "contourcarpet"
           }
          ],
          "heatmap": [
           {
            "colorbar": {
             "outlinewidth": 0,
             "ticks": ""
            },
            "colorscale": [
             [
              0,
              "#0d0887"
             ],
             [
              0.1111111111111111,
              "#46039f"
             ],
             [
              0.2222222222222222,
              "#7201a8"
             ],
             [
              0.3333333333333333,
              "#9c179e"
             ],
             [
              0.4444444444444444,
              "#bd3786"
             ],
             [
              0.5555555555555556,
              "#d8576b"
             ],
             [
              0.6666666666666666,
              "#ed7953"
             ],
             [
              0.7777777777777778,
              "#fb9f3a"
             ],
             [
              0.8888888888888888,
              "#fdca26"
             ],
             [
              1,
              "#f0f921"
             ]
            ],
            "type": "heatmap"
           }
          ],
          "heatmapgl": [
           {
            "colorbar": {
             "outlinewidth": 0,
             "ticks": ""
            },
            "colorscale": [
             [
              0,
              "#0d0887"
             ],
             [
              0.1111111111111111,
              "#46039f"
             ],
             [
              0.2222222222222222,
              "#7201a8"
             ],
             [
              0.3333333333333333,
              "#9c179e"
             ],
             [
              0.4444444444444444,
              "#bd3786"
             ],
             [
              0.5555555555555556,
              "#d8576b"
             ],
             [
              0.6666666666666666,
              "#ed7953"
             ],
             [
              0.7777777777777778,
              "#fb9f3a"
             ],
             [
              0.8888888888888888,
              "#fdca26"
             ],
             [
              1,
              "#f0f921"
             ]
            ],
            "type": "heatmapgl"
           }
          ],
          "histogram": [
           {
            "marker": {
             "pattern": {
              "fillmode": "overlay",
              "size": 10,
              "solidity": 0.2
             }
            },
            "type": "histogram"
           }
          ],
          "histogram2d": [
           {
            "colorbar": {
             "outlinewidth": 0,
             "ticks": ""
            },
            "colorscale": [
             [
              0,
              "#0d0887"
             ],
             [
              0.1111111111111111,
              "#46039f"
             ],
             [
              0.2222222222222222,
              "#7201a8"
             ],
             [
              0.3333333333333333,
              "#9c179e"
             ],
             [
              0.4444444444444444,
              "#bd3786"
             ],
             [
              0.5555555555555556,
              "#d8576b"
             ],
             [
              0.6666666666666666,
              "#ed7953"
             ],
             [
              0.7777777777777778,
              "#fb9f3a"
             ],
             [
              0.8888888888888888,
              "#fdca26"
             ],
             [
              1,
              "#f0f921"
             ]
            ],
            "type": "histogram2d"
           }
          ],
          "histogram2dcontour": [
           {
            "colorbar": {
             "outlinewidth": 0,
             "ticks": ""
            },
            "colorscale": [
             [
              0,
              "#0d0887"
             ],
             [
              0.1111111111111111,
              "#46039f"
             ],
             [
              0.2222222222222222,
              "#7201a8"
             ],
             [
              0.3333333333333333,
              "#9c179e"
             ],
             [
              0.4444444444444444,
              "#bd3786"
             ],
             [
              0.5555555555555556,
              "#d8576b"
             ],
             [
              0.6666666666666666,
              "#ed7953"
             ],
             [
              0.7777777777777778,
              "#fb9f3a"
             ],
             [
              0.8888888888888888,
              "#fdca26"
             ],
             [
              1,
              "#f0f921"
             ]
            ],
            "type": "histogram2dcontour"
           }
          ],
          "mesh3d": [
           {
            "colorbar": {
             "outlinewidth": 0,
             "ticks": ""
            },
            "type": "mesh3d"
           }
          ],
          "parcoords": [
           {
            "line": {
             "colorbar": {
              "outlinewidth": 0,
              "ticks": ""
             }
            },
            "type": "parcoords"
           }
          ],
          "pie": [
           {
            "automargin": true,
            "type": "pie"
           }
          ],
          "scatter": [
           {
            "fillpattern": {
             "fillmode": "overlay",
             "size": 10,
             "solidity": 0.2
            },
            "type": "scatter"
           }
          ],
          "scatter3d": [
           {
            "line": {
             "colorbar": {
              "outlinewidth": 0,
              "ticks": ""
             }
            },
            "marker": {
             "colorbar": {
              "outlinewidth": 0,
              "ticks": ""
             }
            },
            "type": "scatter3d"
           }
          ],
          "scattercarpet": [
           {
            "marker": {
             "colorbar": {
              "outlinewidth": 0,
              "ticks": ""
             }
            },
            "type": "scattercarpet"
           }
          ],
          "scattergeo": [
           {
            "marker": {
             "colorbar": {
              "outlinewidth": 0,
              "ticks": ""
             }
            },
            "type": "scattergeo"
           }
          ],
          "scattergl": [
           {
            "marker": {
             "colorbar": {
              "outlinewidth": 0,
              "ticks": ""
             }
            },
            "type": "scattergl"
           }
          ],
          "scattermapbox": [
           {
            "marker": {
             "colorbar": {
              "outlinewidth": 0,
              "ticks": ""
             }
            },
            "type": "scattermapbox"
           }
          ],
          "scatterpolar": [
           {
            "marker": {
             "colorbar": {
              "outlinewidth": 0,
              "ticks": ""
             }
            },
            "type": "scatterpolar"
           }
          ],
          "scatterpolargl": [
           {
            "marker": {
             "colorbar": {
              "outlinewidth": 0,
              "ticks": ""
             }
            },
            "type": "scatterpolargl"
           }
          ],
          "scatterternary": [
           {
            "marker": {
             "colorbar": {
              "outlinewidth": 0,
              "ticks": ""
             }
            },
            "type": "scatterternary"
           }
          ],
          "surface": [
           {
            "colorbar": {
             "outlinewidth": 0,
             "ticks": ""
            },
            "colorscale": [
             [
              0,
              "#0d0887"
             ],
             [
              0.1111111111111111,
              "#46039f"
             ],
             [
              0.2222222222222222,
              "#7201a8"
             ],
             [
              0.3333333333333333,
              "#9c179e"
             ],
             [
              0.4444444444444444,
              "#bd3786"
             ],
             [
              0.5555555555555556,
              "#d8576b"
             ],
             [
              0.6666666666666666,
              "#ed7953"
             ],
             [
              0.7777777777777778,
              "#fb9f3a"
             ],
             [
              0.8888888888888888,
              "#fdca26"
             ],
             [
              1,
              "#f0f921"
             ]
            ],
            "type": "surface"
           }
          ],
          "table": [
           {
            "cells": {
             "fill": {
              "color": "#EBF0F8"
             },
             "line": {
              "color": "white"
             }
            },
            "header": {
             "fill": {
              "color": "#C8D4E3"
             },
             "line": {
              "color": "white"
             }
            },
            "type": "table"
           }
          ]
         },
         "layout": {
          "annotationdefaults": {
           "arrowcolor": "#2a3f5f",
           "arrowhead": 0,
           "arrowwidth": 1
          },
          "autotypenumbers": "strict",
          "coloraxis": {
           "colorbar": {
            "outlinewidth": 0,
            "ticks": ""
           }
          },
          "colorscale": {
           "diverging": [
            [
             0,
             "#8e0152"
            ],
            [
             0.1,
             "#c51b7d"
            ],
            [
             0.2,
             "#de77ae"
            ],
            [
             0.3,
             "#f1b6da"
            ],
            [
             0.4,
             "#fde0ef"
            ],
            [
             0.5,
             "#f7f7f7"
            ],
            [
             0.6,
             "#e6f5d0"
            ],
            [
             0.7,
             "#b8e186"
            ],
            [
             0.8,
             "#7fbc41"
            ],
            [
             0.9,
             "#4d9221"
            ],
            [
             1,
             "#276419"
            ]
           ],
           "sequential": [
            [
             0,
             "#0d0887"
            ],
            [
             0.1111111111111111,
             "#46039f"
            ],
            [
             0.2222222222222222,
             "#7201a8"
            ],
            [
             0.3333333333333333,
             "#9c179e"
            ],
            [
             0.4444444444444444,
             "#bd3786"
            ],
            [
             0.5555555555555556,
             "#d8576b"
            ],
            [
             0.6666666666666666,
             "#ed7953"
            ],
            [
             0.7777777777777778,
             "#fb9f3a"
            ],
            [
             0.8888888888888888,
             "#fdca26"
            ],
            [
             1,
             "#f0f921"
            ]
           ],
           "sequentialminus": [
            [
             0,
             "#0d0887"
            ],
            [
             0.1111111111111111,
             "#46039f"
            ],
            [
             0.2222222222222222,
             "#7201a8"
            ],
            [
             0.3333333333333333,
             "#9c179e"
            ],
            [
             0.4444444444444444,
             "#bd3786"
            ],
            [
             0.5555555555555556,
             "#d8576b"
            ],
            [
             0.6666666666666666,
             "#ed7953"
            ],
            [
             0.7777777777777778,
             "#fb9f3a"
            ],
            [
             0.8888888888888888,
             "#fdca26"
            ],
            [
             1,
             "#f0f921"
            ]
           ]
          },
          "colorway": [
           "#636efa",
           "#EF553B",
           "#00cc96",
           "#ab63fa",
           "#FFA15A",
           "#19d3f3",
           "#FF6692",
           "#B6E880",
           "#FF97FF",
           "#FECB52"
          ],
          "font": {
           "color": "#2a3f5f"
          },
          "geo": {
           "bgcolor": "white",
           "lakecolor": "white",
           "landcolor": "white",
           "showlakes": true,
           "showland": true,
           "subunitcolor": "#C8D4E3"
          },
          "hoverlabel": {
           "align": "left"
          },
          "hovermode": "closest",
          "mapbox": {
           "style": "light"
          },
          "paper_bgcolor": "white",
          "plot_bgcolor": "white",
          "polar": {
           "angularaxis": {
            "gridcolor": "#EBF0F8",
            "linecolor": "#EBF0F8",
            "ticks": ""
           },
           "bgcolor": "white",
           "radialaxis": {
            "gridcolor": "#EBF0F8",
            "linecolor": "#EBF0F8",
            "ticks": ""
           }
          },
          "scene": {
           "xaxis": {
            "backgroundcolor": "white",
            "gridcolor": "#DFE8F3",
            "gridwidth": 2,
            "linecolor": "#EBF0F8",
            "showbackground": true,
            "ticks": "",
            "zerolinecolor": "#EBF0F8"
           },
           "yaxis": {
            "backgroundcolor": "white",
            "gridcolor": "#DFE8F3",
            "gridwidth": 2,
            "linecolor": "#EBF0F8",
            "showbackground": true,
            "ticks": "",
            "zerolinecolor": "#EBF0F8"
           },
           "zaxis": {
            "backgroundcolor": "white",
            "gridcolor": "#DFE8F3",
            "gridwidth": 2,
            "linecolor": "#EBF0F8",
            "showbackground": true,
            "ticks": "",
            "zerolinecolor": "#EBF0F8"
           }
          },
          "shapedefaults": {
           "line": {
            "color": "#2a3f5f"
           }
          },
          "ternary": {
           "aaxis": {
            "gridcolor": "#DFE8F3",
            "linecolor": "#A2B1C6",
            "ticks": ""
           },
           "baxis": {
            "gridcolor": "#DFE8F3",
            "linecolor": "#A2B1C6",
            "ticks": ""
           },
           "bgcolor": "white",
           "caxis": {
            "gridcolor": "#DFE8F3",
            "linecolor": "#A2B1C6",
            "ticks": ""
           }
          },
          "title": {
           "x": 0.05
          },
          "xaxis": {
           "automargin": true,
           "gridcolor": "#EBF0F8",
           "linecolor": "#EBF0F8",
           "ticks": "",
           "title": {
            "standoff": 15
           },
           "zerolinecolor": "#EBF0F8",
           "zerolinewidth": 2
          },
          "yaxis": {
           "automargin": true,
           "gridcolor": "#EBF0F8",
           "linecolor": "#EBF0F8",
           "ticks": "",
           "title": {
            "standoff": 15
           },
           "zerolinecolor": "#EBF0F8",
           "zerolinewidth": 2
          }
         }
        },
        "title": {
         "text": "Top 10 Pays avec le moins de disponibilité par habitant"
        },
        "width": 1500,
        "xaxis": {
         "linecolor": "white",
         "linewidth": 1,
         "showgrid": false,
         "showline": true,
         "title": {
          "text": "Disponibilité alimentaire (Kcal/personne/jour)"
         }
        },
        "yaxis": {
         "autorange": "reversed",
         "title": {
          "text": ""
         }
        }
       }
      }
     },
     "metadata": {},
     "output_type": "display_data"
    }
   ],
   "source": [
    "# Group and sort the data\n",
    "dispo_alimentaire_par_pays = dispo_alimentaire.groupby('Zone')['Disponibilité alimentaire (Kcal/personne/jour)'].sum().reset_index()\n",
    "dispo_alimentaire_par_pays = dispo_alimentaire_par_pays.sort_values(by='Disponibilité alimentaire (Kcal/personne/jour)', ascending=True).head(10)\n",
    "dispo_alimentaire_par_pays.set_index('Zone', inplace=True)\n",
    "\n",
    "# Create the Plotly bar chart\n",
    "fig = go.Figure(go.Bar(\n",
    "    x=dispo_alimentaire_par_pays['Disponibilité alimentaire (Kcal/personne/jour)'],\n",
    "    y=dispo_alimentaire_par_pays.index,\n",
    "    orientation='h',\n",
    "    marker=dict(\n",
    "        color=dispo_alimentaire_par_pays['Disponibilité alimentaire (Kcal/personne/jour)'],\n",
    "        colorscale='Reds',  # Change to a continuous color scale\n",
    "        reversescale=True,  # Add this line to reverse the color scale\n",
    "        # colorbar=dict(\n",
    "        #     title='Kcal/personne/jour',\n",
    "        #     tickvals=dispo_alimentaire_par_pays['Disponibilité alimentaire (Kcal/personne/jour)']\n",
    "        # )\n",
    "    ),\n",
    "    text=dispo_alimentaire_par_pays['Disponibilité alimentaire (Kcal/personne/jour)']\n",
    "))\n",
    "\n",
    "fig.update_layout(\n",
    "    title='Top 10 Pays avec le moins de disponibilité par habitant',\n",
    "    xaxis_title='Disponibilité alimentaire (Kcal/personne/jour)',\n",
    "    yaxis_title='',\n",
    "    # xaxis=dict(type='log'), \n",
    "    yaxis=dict(autorange='reversed'),  # Invert the y-axis to display the country with the highest number at the top\n",
    "    template='plotly_white',\n",
    "    width= 1500,\n",
    "    height= 600,\n",
    "    paper_bgcolor=\"rgba(0,0,0,0)\",  # make the paper background transparent\n",
    "    plot_bgcolor=\"rgba(0,0,0,0)\",  # make the plot background transparent\n",
    "    font=dict(color=\"white\", size=14),\n",
    ")\n",
    "\n",
    "# URLs of the images\n",
    "image_urls = [\n",
    "    \"https://flagicons.lipis.dev/flags/4x3/cf.svg\",\n",
    "    \"https://flagicons.lipis.dev/flags/4x3/zm.svg\",\n",
    "    \"https://flagicons.lipis.dev/flags/4x3/mg.svg\",\n",
    "    \"https://flagicons.lipis.dev/flags/4x3/af.svg\",\n",
    "    \"https://flagicons.lipis.dev/flags/4x3/ht.svg\",\n",
    "    \"https://flagicons.lipis.dev/flags/4x3/kp.svg\",\n",
    "    \"https://flagicons.lipis.dev/flags/4x3/td.svg\",\n",
    "    \"https://flagicons.lipis.dev/flags/4x3/zw.svg\",\n",
    "    \"https://flagicons.lipis.dev/flags/4x3/ug.svg\",\n",
    "    \"https://flagicons.lipis.dev/flags/4x3/tl.svg\"\n",
    "]\n",
    "\n",
    "# Positions of the images\n",
    "proportions = dispo_alimentaire_par_pays['Disponibilité alimentaire (Kcal/personne/jour)'].tolist()\n",
    "positions = [(proportions-100, i-0.43) for i, proportions in enumerate(proportions)]\n",
    "\n",
    "for url, (x, y) in zip(image_urls, positions):\n",
    "    fig.add_layout_image(\n",
    "        dict(\n",
    "            source=url,\n",
    "            xref=\"x\",\n",
    "            yref=\"y\",\n",
    "            x=x,\n",
    "            y=y,\n",
    "            sizex=100,\n",
    "            sizey=100,\n",
    "            layer=\"above\",\n",
    "        )\n",
    "    )\n",
    "\n",
    "# Format the text to be displayed directly on the bars\n",
    "fig.update_traces(texttemplate='%{text:,.0f}', textposition='outside')\n",
    "fig.update_xaxes(showline=True, linewidth=1, linecolor=\"white\", showgrid=False)\n",
    "\n",
    "fig.show()\n",
    "fig.write_image(\"src/main/extracted_data/9.svg\")"
   ]
  },
  {
   "cell_type": "markdown",
   "id": "d878b12f",
   "metadata": {},
   "source": [
    "## 14. <a id='toc14_'></a>[Pays avec le plus de disponibilité par habitant](#toc0_)"
   ]
  },
  {
   "cell_type": "code",
   "execution_count": 78,
   "id": "63e835c6",
   "metadata": {},
   "outputs": [
    {
     "data": {
      "text/html": [
       "<div>\n",
       "<style scoped>\n",
       "    .dataframe tbody tr th:only-of-type {\n",
       "        vertical-align: middle;\n",
       "    }\n",
       "\n",
       "    .dataframe tbody tr th {\n",
       "        vertical-align: top;\n",
       "    }\n",
       "\n",
       "    .dataframe thead th {\n",
       "        text-align: right;\n",
       "    }\n",
       "</style>\n",
       "<table border=\"1\" class=\"dataframe\">\n",
       "  <thead>\n",
       "    <tr style=\"text-align: right;\">\n",
       "      <th></th>\n",
       "      <th>Disponibilité alimentaire (Kcal/personne/jour)</th>\n",
       "    </tr>\n",
       "    <tr>\n",
       "      <th>Zone</th>\n",
       "      <th></th>\n",
       "    </tr>\n",
       "  </thead>\n",
       "  <tbody>\n",
       "    <tr>\n",
       "      <th>Timor-Leste</th>\n",
       "      <td>2,129.00</td>\n",
       "    </tr>\n",
       "    <tr>\n",
       "      <th>Ouganda</th>\n",
       "      <td>2,126.00</td>\n",
       "    </tr>\n",
       "    <tr>\n",
       "      <th>Zimbabwe</th>\n",
       "      <td>2,113.00</td>\n",
       "    </tr>\n",
       "    <tr>\n",
       "      <th>Tchad</th>\n",
       "      <td>2,109.00</td>\n",
       "    </tr>\n",
       "    <tr>\n",
       "      <th>République populaire démocratique de Corée</th>\n",
       "      <td>2,093.00</td>\n",
       "    </tr>\n",
       "    <tr>\n",
       "      <th>Haïti</th>\n",
       "      <td>2,089.00</td>\n",
       "    </tr>\n",
       "    <tr>\n",
       "      <th>Afghanistan</th>\n",
       "      <td>2,087.00</td>\n",
       "    </tr>\n",
       "    <tr>\n",
       "      <th>Madagascar</th>\n",
       "      <td>2,056.00</td>\n",
       "    </tr>\n",
       "    <tr>\n",
       "      <th>Zambie</th>\n",
       "      <td>1,924.00</td>\n",
       "    </tr>\n",
       "    <tr>\n",
       "      <th>République centrafricaine</th>\n",
       "      <td>1,879.00</td>\n",
       "    </tr>\n",
       "  </tbody>\n",
       "</table>\n",
       "</div>"
      ],
      "text/plain": [
       "                                            Disponibilité alimentaire (Kcal/personne/jour)\n",
       "Zone                                                                                      \n",
       "Timor-Leste                                                                       2,129.00\n",
       "Ouganda                                                                           2,126.00\n",
       "Zimbabwe                                                                          2,113.00\n",
       "Tchad                                                                             2,109.00\n",
       "République populaire démocratique de Corée                                        2,093.00\n",
       "Haïti                                                                             2,089.00\n",
       "Afghanistan                                                                       2,087.00\n",
       "Madagascar                                                                        2,056.00\n",
       "Zambie                                                                            1,924.00\n",
       "République centrafricaine                                                         1,879.00"
      ]
     },
     "execution_count": 78,
     "metadata": {},
     "output_type": "execute_result"
    }
   ],
   "source": [
    "#Affichage des 10 pays qui ont le plus de dispo alimentaire par personne \n",
    "dispo_alimentaire_par_pays.sort_values(by='Disponibilité alimentaire (Kcal/personne/jour)', ascending=False).head(10)"
   ]
  },
  {
   "cell_type": "code",
   "execution_count": 79,
   "id": "ebb42a8c",
   "metadata": {},
   "outputs": [
    {
     "data": {
      "application/vnd.plotly.v1+json": {
       "config": {
        "plotlyServerURL": "https://plot.ly"
       },
       "data": [
        {
         "marker": {
          "color": [
           3770,
           3737,
           3708,
           3682,
           3610,
           3602,
           3578,
           3540,
           3518,
           3503
          ],
          "colorscale": [
           [
            0,
            "rgb(229,229,255)"
           ],
           [
            1,
            "rgb(0,0,255)"
           ]
          ]
         },
         "orientation": "h",
         "text": [
          3770,
          3737,
          3708,
          3682,
          3610,
          3602,
          3578,
          3540,
          3518,
          3503
         ],
         "textposition": "outside",
         "texttemplate": "%{text:,.0f}",
         "type": "bar",
         "x": [
          3770,
          3737,
          3708,
          3682,
          3610,
          3602,
          3578,
          3540,
          3518,
          3503
         ],
         "y": [
          "Autriche",
          "Belgique",
          "Turquie",
          "États-Unis d'Amérique",
          "Israël",
          "Irlande",
          "Italie",
          "Luxembourg",
          "Égypte",
          "Allemagne"
         ]
        }
       ],
       "layout": {
        "font": {
         "color": "white",
         "size": 14
        },
        "height": 600,
        "images": [
         {
          "layer": "above",
          "sizex": 150,
          "sizey": 150,
          "source": "https://flagicons.lipis.dev/flags/4x3/at.svg",
          "x": 3620,
          "xref": "x",
          "y": -0.43,
          "yref": "y"
         },
         {
          "layer": "above",
          "sizex": 150,
          "sizey": 150,
          "source": "https://flagicons.lipis.dev/flags/4x3/be.svg",
          "x": 3587,
          "xref": "x",
          "y": 0.5700000000000001,
          "yref": "y"
         },
         {
          "layer": "above",
          "sizex": 150,
          "sizey": 150,
          "source": "https://flagicons.lipis.dev/flags/4x3/tr.svg",
          "x": 3558,
          "xref": "x",
          "y": 1.57,
          "yref": "y"
         },
         {
          "layer": "above",
          "sizex": 150,
          "sizey": 150,
          "source": "https://flagicons.lipis.dev/flags/4x3/us.svg",
          "x": 3532,
          "xref": "x",
          "y": 2.57,
          "yref": "y"
         },
         {
          "layer": "above",
          "sizex": 150,
          "sizey": 150,
          "source": "https://flagicons.lipis.dev/flags/4x3/il.svg",
          "x": 3460,
          "xref": "x",
          "y": 3.57,
          "yref": "y"
         },
         {
          "layer": "above",
          "sizex": 150,
          "sizey": 150,
          "source": "https://flagicons.lipis.dev/flags/4x3/ie.svg",
          "x": 3452,
          "xref": "x",
          "y": 4.57,
          "yref": "y"
         },
         {
          "layer": "above",
          "sizex": 150,
          "sizey": 150,
          "source": "https://flagicons.lipis.dev/flags/4x3/it.svg",
          "x": 3428,
          "xref": "x",
          "y": 5.57,
          "yref": "y"
         },
         {
          "layer": "above",
          "sizex": 150,
          "sizey": 150,
          "source": "https://flagicons.lipis.dev/flags/4x3/lu.svg",
          "x": 3390,
          "xref": "x",
          "y": 6.57,
          "yref": "y"
         },
         {
          "layer": "above",
          "sizex": 150,
          "sizey": 150,
          "source": "https://flagicons.lipis.dev/flags/4x3/eg.svg",
          "x": 3368,
          "xref": "x",
          "y": 7.57,
          "yref": "y"
         },
         {
          "layer": "above",
          "sizex": 150,
          "sizey": 150,
          "source": "https://flagicons.lipis.dev/flags/4x3/de.svg",
          "x": 3353,
          "xref": "x",
          "y": 8.57,
          "yref": "y"
         }
        ],
        "paper_bgcolor": "rgba(0,0,0,0)",
        "plot_bgcolor": "rgba(0,0,0,0)",
        "template": {
         "data": {
          "bar": [
           {
            "error_x": {
             "color": "#2a3f5f"
            },
            "error_y": {
             "color": "#2a3f5f"
            },
            "marker": {
             "line": {
              "color": "white",
              "width": 0.5
             },
             "pattern": {
              "fillmode": "overlay",
              "size": 10,
              "solidity": 0.2
             }
            },
            "type": "bar"
           }
          ],
          "barpolar": [
           {
            "marker": {
             "line": {
              "color": "white",
              "width": 0.5
             },
             "pattern": {
              "fillmode": "overlay",
              "size": 10,
              "solidity": 0.2
             }
            },
            "type": "barpolar"
           }
          ],
          "carpet": [
           {
            "aaxis": {
             "endlinecolor": "#2a3f5f",
             "gridcolor": "#C8D4E3",
             "linecolor": "#C8D4E3",
             "minorgridcolor": "#C8D4E3",
             "startlinecolor": "#2a3f5f"
            },
            "baxis": {
             "endlinecolor": "#2a3f5f",
             "gridcolor": "#C8D4E3",
             "linecolor": "#C8D4E3",
             "minorgridcolor": "#C8D4E3",
             "startlinecolor": "#2a3f5f"
            },
            "type": "carpet"
           }
          ],
          "choropleth": [
           {
            "colorbar": {
             "outlinewidth": 0,
             "ticks": ""
            },
            "type": "choropleth"
           }
          ],
          "contour": [
           {
            "colorbar": {
             "outlinewidth": 0,
             "ticks": ""
            },
            "colorscale": [
             [
              0,
              "#0d0887"
             ],
             [
              0.1111111111111111,
              "#46039f"
             ],
             [
              0.2222222222222222,
              "#7201a8"
             ],
             [
              0.3333333333333333,
              "#9c179e"
             ],
             [
              0.4444444444444444,
              "#bd3786"
             ],
             [
              0.5555555555555556,
              "#d8576b"
             ],
             [
              0.6666666666666666,
              "#ed7953"
             ],
             [
              0.7777777777777778,
              "#fb9f3a"
             ],
             [
              0.8888888888888888,
              "#fdca26"
             ],
             [
              1,
              "#f0f921"
             ]
            ],
            "type": "contour"
           }
          ],
          "contourcarpet": [
           {
            "colorbar": {
             "outlinewidth": 0,
             "ticks": ""
            },
            "type": "contourcarpet"
           }
          ],
          "heatmap": [
           {
            "colorbar": {
             "outlinewidth": 0,
             "ticks": ""
            },
            "colorscale": [
             [
              0,
              "#0d0887"
             ],
             [
              0.1111111111111111,
              "#46039f"
             ],
             [
              0.2222222222222222,
              "#7201a8"
             ],
             [
              0.3333333333333333,
              "#9c179e"
             ],
             [
              0.4444444444444444,
              "#bd3786"
             ],
             [
              0.5555555555555556,
              "#d8576b"
             ],
             [
              0.6666666666666666,
              "#ed7953"
             ],
             [
              0.7777777777777778,
              "#fb9f3a"
             ],
             [
              0.8888888888888888,
              "#fdca26"
             ],
             [
              1,
              "#f0f921"
             ]
            ],
            "type": "heatmap"
           }
          ],
          "heatmapgl": [
           {
            "colorbar": {
             "outlinewidth": 0,
             "ticks": ""
            },
            "colorscale": [
             [
              0,
              "#0d0887"
             ],
             [
              0.1111111111111111,
              "#46039f"
             ],
             [
              0.2222222222222222,
              "#7201a8"
             ],
             [
              0.3333333333333333,
              "#9c179e"
             ],
             [
              0.4444444444444444,
              "#bd3786"
             ],
             [
              0.5555555555555556,
              "#d8576b"
             ],
             [
              0.6666666666666666,
              "#ed7953"
             ],
             [
              0.7777777777777778,
              "#fb9f3a"
             ],
             [
              0.8888888888888888,
              "#fdca26"
             ],
             [
              1,
              "#f0f921"
             ]
            ],
            "type": "heatmapgl"
           }
          ],
          "histogram": [
           {
            "marker": {
             "pattern": {
              "fillmode": "overlay",
              "size": 10,
              "solidity": 0.2
             }
            },
            "type": "histogram"
           }
          ],
          "histogram2d": [
           {
            "colorbar": {
             "outlinewidth": 0,
             "ticks": ""
            },
            "colorscale": [
             [
              0,
              "#0d0887"
             ],
             [
              0.1111111111111111,
              "#46039f"
             ],
             [
              0.2222222222222222,
              "#7201a8"
             ],
             [
              0.3333333333333333,
              "#9c179e"
             ],
             [
              0.4444444444444444,
              "#bd3786"
             ],
             [
              0.5555555555555556,
              "#d8576b"
             ],
             [
              0.6666666666666666,
              "#ed7953"
             ],
             [
              0.7777777777777778,
              "#fb9f3a"
             ],
             [
              0.8888888888888888,
              "#fdca26"
             ],
             [
              1,
              "#f0f921"
             ]
            ],
            "type": "histogram2d"
           }
          ],
          "histogram2dcontour": [
           {
            "colorbar": {
             "outlinewidth": 0,
             "ticks": ""
            },
            "colorscale": [
             [
              0,
              "#0d0887"
             ],
             [
              0.1111111111111111,
              "#46039f"
             ],
             [
              0.2222222222222222,
              "#7201a8"
             ],
             [
              0.3333333333333333,
              "#9c179e"
             ],
             [
              0.4444444444444444,
              "#bd3786"
             ],
             [
              0.5555555555555556,
              "#d8576b"
             ],
             [
              0.6666666666666666,
              "#ed7953"
             ],
             [
              0.7777777777777778,
              "#fb9f3a"
             ],
             [
              0.8888888888888888,
              "#fdca26"
             ],
             [
              1,
              "#f0f921"
             ]
            ],
            "type": "histogram2dcontour"
           }
          ],
          "mesh3d": [
           {
            "colorbar": {
             "outlinewidth": 0,
             "ticks": ""
            },
            "type": "mesh3d"
           }
          ],
          "parcoords": [
           {
            "line": {
             "colorbar": {
              "outlinewidth": 0,
              "ticks": ""
             }
            },
            "type": "parcoords"
           }
          ],
          "pie": [
           {
            "automargin": true,
            "type": "pie"
           }
          ],
          "scatter": [
           {
            "fillpattern": {
             "fillmode": "overlay",
             "size": 10,
             "solidity": 0.2
            },
            "type": "scatter"
           }
          ],
          "scatter3d": [
           {
            "line": {
             "colorbar": {
              "outlinewidth": 0,
              "ticks": ""
             }
            },
            "marker": {
             "colorbar": {
              "outlinewidth": 0,
              "ticks": ""
             }
            },
            "type": "scatter3d"
           }
          ],
          "scattercarpet": [
           {
            "marker": {
             "colorbar": {
              "outlinewidth": 0,
              "ticks": ""
             }
            },
            "type": "scattercarpet"
           }
          ],
          "scattergeo": [
           {
            "marker": {
             "colorbar": {
              "outlinewidth": 0,
              "ticks": ""
             }
            },
            "type": "scattergeo"
           }
          ],
          "scattergl": [
           {
            "marker": {
             "colorbar": {
              "outlinewidth": 0,
              "ticks": ""
             }
            },
            "type": "scattergl"
           }
          ],
          "scattermapbox": [
           {
            "marker": {
             "colorbar": {
              "outlinewidth": 0,
              "ticks": ""
             }
            },
            "type": "scattermapbox"
           }
          ],
          "scatterpolar": [
           {
            "marker": {
             "colorbar": {
              "outlinewidth": 0,
              "ticks": ""
             }
            },
            "type": "scatterpolar"
           }
          ],
          "scatterpolargl": [
           {
            "marker": {
             "colorbar": {
              "outlinewidth": 0,
              "ticks": ""
             }
            },
            "type": "scatterpolargl"
           }
          ],
          "scatterternary": [
           {
            "marker": {
             "colorbar": {
              "outlinewidth": 0,
              "ticks": ""
             }
            },
            "type": "scatterternary"
           }
          ],
          "surface": [
           {
            "colorbar": {
             "outlinewidth": 0,
             "ticks": ""
            },
            "colorscale": [
             [
              0,
              "#0d0887"
             ],
             [
              0.1111111111111111,
              "#46039f"
             ],
             [
              0.2222222222222222,
              "#7201a8"
             ],
             [
              0.3333333333333333,
              "#9c179e"
             ],
             [
              0.4444444444444444,
              "#bd3786"
             ],
             [
              0.5555555555555556,
              "#d8576b"
             ],
             [
              0.6666666666666666,
              "#ed7953"
             ],
             [
              0.7777777777777778,
              "#fb9f3a"
             ],
             [
              0.8888888888888888,
              "#fdca26"
             ],
             [
              1,
              "#f0f921"
             ]
            ],
            "type": "surface"
           }
          ],
          "table": [
           {
            "cells": {
             "fill": {
              "color": "#EBF0F8"
             },
             "line": {
              "color": "white"
             }
            },
            "header": {
             "fill": {
              "color": "#C8D4E3"
             },
             "line": {
              "color": "white"
             }
            },
            "type": "table"
           }
          ]
         },
         "layout": {
          "annotationdefaults": {
           "arrowcolor": "#2a3f5f",
           "arrowhead": 0,
           "arrowwidth": 1
          },
          "autotypenumbers": "strict",
          "coloraxis": {
           "colorbar": {
            "outlinewidth": 0,
            "ticks": ""
           }
          },
          "colorscale": {
           "diverging": [
            [
             0,
             "#8e0152"
            ],
            [
             0.1,
             "#c51b7d"
            ],
            [
             0.2,
             "#de77ae"
            ],
            [
             0.3,
             "#f1b6da"
            ],
            [
             0.4,
             "#fde0ef"
            ],
            [
             0.5,
             "#f7f7f7"
            ],
            [
             0.6,
             "#e6f5d0"
            ],
            [
             0.7,
             "#b8e186"
            ],
            [
             0.8,
             "#7fbc41"
            ],
            [
             0.9,
             "#4d9221"
            ],
            [
             1,
             "#276419"
            ]
           ],
           "sequential": [
            [
             0,
             "#0d0887"
            ],
            [
             0.1111111111111111,
             "#46039f"
            ],
            [
             0.2222222222222222,
             "#7201a8"
            ],
            [
             0.3333333333333333,
             "#9c179e"
            ],
            [
             0.4444444444444444,
             "#bd3786"
            ],
            [
             0.5555555555555556,
             "#d8576b"
            ],
            [
             0.6666666666666666,
             "#ed7953"
            ],
            [
             0.7777777777777778,
             "#fb9f3a"
            ],
            [
             0.8888888888888888,
             "#fdca26"
            ],
            [
             1,
             "#f0f921"
            ]
           ],
           "sequentialminus": [
            [
             0,
             "#0d0887"
            ],
            [
             0.1111111111111111,
             "#46039f"
            ],
            [
             0.2222222222222222,
             "#7201a8"
            ],
            [
             0.3333333333333333,
             "#9c179e"
            ],
            [
             0.4444444444444444,
             "#bd3786"
            ],
            [
             0.5555555555555556,
             "#d8576b"
            ],
            [
             0.6666666666666666,
             "#ed7953"
            ],
            [
             0.7777777777777778,
             "#fb9f3a"
            ],
            [
             0.8888888888888888,
             "#fdca26"
            ],
            [
             1,
             "#f0f921"
            ]
           ]
          },
          "colorway": [
           "#636efa",
           "#EF553B",
           "#00cc96",
           "#ab63fa",
           "#FFA15A",
           "#19d3f3",
           "#FF6692",
           "#B6E880",
           "#FF97FF",
           "#FECB52"
          ],
          "font": {
           "color": "#2a3f5f"
          },
          "geo": {
           "bgcolor": "white",
           "lakecolor": "white",
           "landcolor": "white",
           "showlakes": true,
           "showland": true,
           "subunitcolor": "#C8D4E3"
          },
          "hoverlabel": {
           "align": "left"
          },
          "hovermode": "closest",
          "mapbox": {
           "style": "light"
          },
          "paper_bgcolor": "white",
          "plot_bgcolor": "white",
          "polar": {
           "angularaxis": {
            "gridcolor": "#EBF0F8",
            "linecolor": "#EBF0F8",
            "ticks": ""
           },
           "bgcolor": "white",
           "radialaxis": {
            "gridcolor": "#EBF0F8",
            "linecolor": "#EBF0F8",
            "ticks": ""
           }
          },
          "scene": {
           "xaxis": {
            "backgroundcolor": "white",
            "gridcolor": "#DFE8F3",
            "gridwidth": 2,
            "linecolor": "#EBF0F8",
            "showbackground": true,
            "ticks": "",
            "zerolinecolor": "#EBF0F8"
           },
           "yaxis": {
            "backgroundcolor": "white",
            "gridcolor": "#DFE8F3",
            "gridwidth": 2,
            "linecolor": "#EBF0F8",
            "showbackground": true,
            "ticks": "",
            "zerolinecolor": "#EBF0F8"
           },
           "zaxis": {
            "backgroundcolor": "white",
            "gridcolor": "#DFE8F3",
            "gridwidth": 2,
            "linecolor": "#EBF0F8",
            "showbackground": true,
            "ticks": "",
            "zerolinecolor": "#EBF0F8"
           }
          },
          "shapedefaults": {
           "line": {
            "color": "#2a3f5f"
           }
          },
          "ternary": {
           "aaxis": {
            "gridcolor": "#DFE8F3",
            "linecolor": "#A2B1C6",
            "ticks": ""
           },
           "baxis": {
            "gridcolor": "#DFE8F3",
            "linecolor": "#A2B1C6",
            "ticks": ""
           },
           "bgcolor": "white",
           "caxis": {
            "gridcolor": "#DFE8F3",
            "linecolor": "#A2B1C6",
            "ticks": ""
           }
          },
          "title": {
           "x": 0.05
          },
          "xaxis": {
           "automargin": true,
           "gridcolor": "#EBF0F8",
           "linecolor": "#EBF0F8",
           "ticks": "",
           "title": {
            "standoff": 15
           },
           "zerolinecolor": "#EBF0F8",
           "zerolinewidth": 2
          },
          "yaxis": {
           "automargin": true,
           "gridcolor": "#EBF0F8",
           "linecolor": "#EBF0F8",
           "ticks": "",
           "title": {
            "standoff": 15
           },
           "zerolinecolor": "#EBF0F8",
           "zerolinewidth": 2
          }
         }
        },
        "title": {
         "text": "Top 10 Pays avec le plus de disponibilité par habitant"
        },
        "width": 1500,
        "xaxis": {
         "linecolor": "white",
         "linewidth": 1,
         "showgrid": false,
         "showline": true,
         "title": {
          "text": "Disponibilité alimentaire (Kcal/personne/jour)"
         }
        },
        "yaxis": {
         "autorange": "reversed",
         "title": {
          "text": ""
         }
        }
       }
      }
     },
     "metadata": {},
     "output_type": "display_data"
    }
   ],
   "source": [
    "# Group and sort the data\n",
    "dispo_alimentaire_par_pays = dispo_alimentaire.groupby('Zone')['Disponibilité alimentaire (Kcal/personne/jour)'].sum().reset_index()\n",
    "dispo_alimentaire_par_pays = dispo_alimentaire_par_pays.sort_values(by='Disponibilité alimentaire (Kcal/personne/jour)', ascending=False).head(10)\n",
    "dispo_alimentaire_par_pays.set_index('Zone', inplace=True)\n",
    "\n",
    "# Create the Plotly bar chart\n",
    "fig = go.Figure(go.Bar(\n",
    "    x=dispo_alimentaire_par_pays['Disponibilité alimentaire (Kcal/personne/jour)'],\n",
    "    y=dispo_alimentaire_par_pays.index,\n",
    "    orientation='h',\n",
    "    marker=dict(\n",
    "        color=dispo_alimentaire_par_pays['Disponibilité alimentaire (Kcal/personne/jour)'],\n",
    "        # colorscale='Blues',  # Change to a continuous color scale\n",
    "        colorscale=[\"rgb(229,229,255)\", \"rgb(0,0,255)\"]\n",
    "        # reversescale=True,  # Add this line to reverse the color scale\n",
    "        # colorbar=dict(\n",
    "        #     title='Kcal/personne/jour',\n",
    "        #     tickvals=dispo_alimentaire_par_pays['Disponibilité alimentaire (Kcal/personne/jour)']\n",
    "        # )\n",
    "    ),\n",
    "    text=dispo_alimentaire_par_pays['Disponibilité alimentaire (Kcal/personne/jour)'],\n",
    "\n",
    "))\n",
    "\n",
    "fig.update_layout(\n",
    "    title='Top 10 Pays avec le plus de disponibilité par habitant',\n",
    "    xaxis_title='Disponibilité alimentaire (Kcal/personne/jour)',\n",
    "    yaxis_title='',\n",
    "    yaxis=dict(autorange='reversed'),  # Invert the y-axis to display the country with the highest number at the top\n",
    "    template='plotly_white',\n",
    "    width= 1500,\n",
    "    height= 600,\n",
    "    paper_bgcolor=\"rgba(0,0,0,0)\",  # make the paper background transparent\n",
    "    plot_bgcolor=\"rgba(0,0,0,0)\",  # make the plot background transparent\n",
    "    font=dict(color=\"white\", size=14),\n",
    ")\n",
    "\n",
    "# URLs of the images\n",
    "image_urls = [\n",
    "    \"https://flagicons.lipis.dev/flags/4x3/at.svg\",\n",
    "    \"https://flagicons.lipis.dev/flags/4x3/be.svg\",\n",
    "    \"https://flagicons.lipis.dev/flags/4x3/tr.svg\",\n",
    "    \"https://flagicons.lipis.dev/flags/4x3/us.svg\",\n",
    "    \"https://flagicons.lipis.dev/flags/4x3/il.svg\",\n",
    "    \"https://flagicons.lipis.dev/flags/4x3/ie.svg\",\n",
    "    \"https://flagicons.lipis.dev/flags/4x3/it.svg\",\n",
    "    \"https://flagicons.lipis.dev/flags/4x3/lu.svg\",\n",
    "    \"https://flagicons.lipis.dev/flags/4x3/eg.svg\",\n",
    "    \"https://flagicons.lipis.dev/flags/4x3/de.svg\"\n",
    "]\n",
    "\n",
    "# Positions of the images\n",
    "proportions = dispo_alimentaire_par_pays['Disponibilité alimentaire (Kcal/personne/jour)'].tolist()\n",
    "positions = [(proportions-150, i-0.43) for i, proportions in enumerate(proportions)]\n",
    "\n",
    "for url, (x, y) in zip(image_urls, positions):\n",
    "    fig.add_layout_image(\n",
    "        dict(\n",
    "            source=url,\n",
    "            xref=\"x\",\n",
    "            yref=\"y\",\n",
    "            x=x,\n",
    "            y=y,\n",
    "            sizex=150,\n",
    "            sizey=150,\n",
    "            layer=\"above\",\n",
    "        )\n",
    "    )\n",
    "\n",
    "# Format the text to be displayed directly on the bars\n",
    "fig.update_traces(texttemplate='%{text:,.0f}', textposition='outside')\n",
    "fig.update_xaxes(showline=True, linewidth=1, linecolor=\"white\", showgrid=False)\n",
    "\n",
    "fig.show()\n",
    "fig.write_image(\"src/main/extracted_data/10.svg\")"
   ]
  },
  {
   "cell_type": "markdown",
   "id": "fe5dd4b9",
   "metadata": {},
   "source": [
    "## 15. <a id='toc15_'></a>[Exemple de la Thaïlande pour le Manioc](#toc0_)"
   ]
  },
  {
   "cell_type": "code",
   "execution_count": 80,
   "id": "ec9ca912",
   "metadata": {},
   "outputs": [],
   "source": [
    "#Exemple de la Thaïlande pour le Manioc\n",
    "#création d'un dataframe avec uniquement la Thaïlande \n",
    "dispo_alimentaire_thailande = dispo_alimentaire[dispo_alimentaire['Zone'] == 'Thaïlande']"
   ]
  },
  {
   "cell_type": "code",
   "execution_count": 81,
   "id": "85693912",
   "metadata": {},
   "outputs": [
    {
     "name": "stdout",
     "output_type": "stream",
     "text": [
      "           Zone      Année  Sous_nutrition\n",
      "1114  Thaïlande  2016-2018    6,200,000.00\n"
     ]
    }
   ],
   "source": [
    "#Calcul de la sous nutrition en Thaïlande\n",
    "sous_nutrition_thailande = sous_nutrition_2017[sous_nutrition_2017['Zone'] == 'Thaïlande']\n",
    "print(sous_nutrition_thailande)\n"
   ]
  },
  {
   "cell_type": "code",
   "execution_count": 82,
   "id": "ca028997",
   "metadata": {},
   "outputs": [
    {
     "data": {
      "application/vnd.plotly.v1+json": {
       "config": {
        "plotlyServerURL": "https://plot.ly"
       },
       "data": [
        {
         "domain": {
          "x": [
           0,
           1
          ],
          "y": [
           0,
           1
          ]
         },
         "hole": 0.3,
         "hovertemplate": "Nutrition=%{label}<br>Rate=%{value}<extra></extra>",
         "labels": [
          "Undernourished",
          "Sufficient"
         ],
         "legendgroup": "",
         "name": "",
         "pull": [
          0.1,
          0
         ],
         "rotation": 105,
         "showlegend": true,
         "textinfo": "percent+label",
         "type": "pie",
         "values": [
          8.958267621309753,
          91.04173237869024
         ]
        }
       ],
       "layout": {
        "annotations": [
         {
          "showarrow": false,
          "text": "Total Pop:<br> 69 Million"
         }
        ],
        "font": {
         "color": "white",
         "size": 14
        },
        "height": 600,
        "legend": {
         "tracegroupgap": 0
        },
        "paper_bgcolor": "rgba(0,0,0,0)",
        "piecolorway": [
         "blue",
         "red"
        ],
        "plot_bgcolor": "rgba(0,0,0,0)",
        "showlegend": false,
        "template": {
         "data": {
          "bar": [
           {
            "error_x": {
             "color": "#2a3f5f"
            },
            "error_y": {
             "color": "#2a3f5f"
            },
            "marker": {
             "line": {
              "color": "#E5ECF6",
              "width": 0.5
             },
             "pattern": {
              "fillmode": "overlay",
              "size": 10,
              "solidity": 0.2
             }
            },
            "type": "bar"
           }
          ],
          "barpolar": [
           {
            "marker": {
             "line": {
              "color": "#E5ECF6",
              "width": 0.5
             },
             "pattern": {
              "fillmode": "overlay",
              "size": 10,
              "solidity": 0.2
             }
            },
            "type": "barpolar"
           }
          ],
          "carpet": [
           {
            "aaxis": {
             "endlinecolor": "#2a3f5f",
             "gridcolor": "white",
             "linecolor": "white",
             "minorgridcolor": "white",
             "startlinecolor": "#2a3f5f"
            },
            "baxis": {
             "endlinecolor": "#2a3f5f",
             "gridcolor": "white",
             "linecolor": "white",
             "minorgridcolor": "white",
             "startlinecolor": "#2a3f5f"
            },
            "type": "carpet"
           }
          ],
          "choropleth": [
           {
            "colorbar": {
             "outlinewidth": 0,
             "ticks": ""
            },
            "type": "choropleth"
           }
          ],
          "contour": [
           {
            "colorbar": {
             "outlinewidth": 0,
             "ticks": ""
            },
            "colorscale": [
             [
              0,
              "#0d0887"
             ],
             [
              0.1111111111111111,
              "#46039f"
             ],
             [
              0.2222222222222222,
              "#7201a8"
             ],
             [
              0.3333333333333333,
              "#9c179e"
             ],
             [
              0.4444444444444444,
              "#bd3786"
             ],
             [
              0.5555555555555556,
              "#d8576b"
             ],
             [
              0.6666666666666666,
              "#ed7953"
             ],
             [
              0.7777777777777778,
              "#fb9f3a"
             ],
             [
              0.8888888888888888,
              "#fdca26"
             ],
             [
              1,
              "#f0f921"
             ]
            ],
            "type": "contour"
           }
          ],
          "contourcarpet": [
           {
            "colorbar": {
             "outlinewidth": 0,
             "ticks": ""
            },
            "type": "contourcarpet"
           }
          ],
          "heatmap": [
           {
            "colorbar": {
             "outlinewidth": 0,
             "ticks": ""
            },
            "colorscale": [
             [
              0,
              "#0d0887"
             ],
             [
              0.1111111111111111,
              "#46039f"
             ],
             [
              0.2222222222222222,
              "#7201a8"
             ],
             [
              0.3333333333333333,
              "#9c179e"
             ],
             [
              0.4444444444444444,
              "#bd3786"
             ],
             [
              0.5555555555555556,
              "#d8576b"
             ],
             [
              0.6666666666666666,
              "#ed7953"
             ],
             [
              0.7777777777777778,
              "#fb9f3a"
             ],
             [
              0.8888888888888888,
              "#fdca26"
             ],
             [
              1,
              "#f0f921"
             ]
            ],
            "type": "heatmap"
           }
          ],
          "heatmapgl": [
           {
            "colorbar": {
             "outlinewidth": 0,
             "ticks": ""
            },
            "colorscale": [
             [
              0,
              "#0d0887"
             ],
             [
              0.1111111111111111,
              "#46039f"
             ],
             [
              0.2222222222222222,
              "#7201a8"
             ],
             [
              0.3333333333333333,
              "#9c179e"
             ],
             [
              0.4444444444444444,
              "#bd3786"
             ],
             [
              0.5555555555555556,
              "#d8576b"
             ],
             [
              0.6666666666666666,
              "#ed7953"
             ],
             [
              0.7777777777777778,
              "#fb9f3a"
             ],
             [
              0.8888888888888888,
              "#fdca26"
             ],
             [
              1,
              "#f0f921"
             ]
            ],
            "type": "heatmapgl"
           }
          ],
          "histogram": [
           {
            "marker": {
             "pattern": {
              "fillmode": "overlay",
              "size": 10,
              "solidity": 0.2
             }
            },
            "type": "histogram"
           }
          ],
          "histogram2d": [
           {
            "colorbar": {
             "outlinewidth": 0,
             "ticks": ""
            },
            "colorscale": [
             [
              0,
              "#0d0887"
             ],
             [
              0.1111111111111111,
              "#46039f"
             ],
             [
              0.2222222222222222,
              "#7201a8"
             ],
             [
              0.3333333333333333,
              "#9c179e"
             ],
             [
              0.4444444444444444,
              "#bd3786"
             ],
             [
              0.5555555555555556,
              "#d8576b"
             ],
             [
              0.6666666666666666,
              "#ed7953"
             ],
             [
              0.7777777777777778,
              "#fb9f3a"
             ],
             [
              0.8888888888888888,
              "#fdca26"
             ],
             [
              1,
              "#f0f921"
             ]
            ],
            "type": "histogram2d"
           }
          ],
          "histogram2dcontour": [
           {
            "colorbar": {
             "outlinewidth": 0,
             "ticks": ""
            },
            "colorscale": [
             [
              0,
              "#0d0887"
             ],
             [
              0.1111111111111111,
              "#46039f"
             ],
             [
              0.2222222222222222,
              "#7201a8"
             ],
             [
              0.3333333333333333,
              "#9c179e"
             ],
             [
              0.4444444444444444,
              "#bd3786"
             ],
             [
              0.5555555555555556,
              "#d8576b"
             ],
             [
              0.6666666666666666,
              "#ed7953"
             ],
             [
              0.7777777777777778,
              "#fb9f3a"
             ],
             [
              0.8888888888888888,
              "#fdca26"
             ],
             [
              1,
              "#f0f921"
             ]
            ],
            "type": "histogram2dcontour"
           }
          ],
          "mesh3d": [
           {
            "colorbar": {
             "outlinewidth": 0,
             "ticks": ""
            },
            "type": "mesh3d"
           }
          ],
          "parcoords": [
           {
            "line": {
             "colorbar": {
              "outlinewidth": 0,
              "ticks": ""
             }
            },
            "type": "parcoords"
           }
          ],
          "pie": [
           {
            "automargin": true,
            "type": "pie"
           }
          ],
          "scatter": [
           {
            "fillpattern": {
             "fillmode": "overlay",
             "size": 10,
             "solidity": 0.2
            },
            "type": "scatter"
           }
          ],
          "scatter3d": [
           {
            "line": {
             "colorbar": {
              "outlinewidth": 0,
              "ticks": ""
             }
            },
            "marker": {
             "colorbar": {
              "outlinewidth": 0,
              "ticks": ""
             }
            },
            "type": "scatter3d"
           }
          ],
          "scattercarpet": [
           {
            "marker": {
             "colorbar": {
              "outlinewidth": 0,
              "ticks": ""
             }
            },
            "type": "scattercarpet"
           }
          ],
          "scattergeo": [
           {
            "marker": {
             "colorbar": {
              "outlinewidth": 0,
              "ticks": ""
             }
            },
            "type": "scattergeo"
           }
          ],
          "scattergl": [
           {
            "marker": {
             "colorbar": {
              "outlinewidth": 0,
              "ticks": ""
             }
            },
            "type": "scattergl"
           }
          ],
          "scattermapbox": [
           {
            "marker": {
             "colorbar": {
              "outlinewidth": 0,
              "ticks": ""
             }
            },
            "type": "scattermapbox"
           }
          ],
          "scatterpolar": [
           {
            "marker": {
             "colorbar": {
              "outlinewidth": 0,
              "ticks": ""
             }
            },
            "type": "scatterpolar"
           }
          ],
          "scatterpolargl": [
           {
            "marker": {
             "colorbar": {
              "outlinewidth": 0,
              "ticks": ""
             }
            },
            "type": "scatterpolargl"
           }
          ],
          "scatterternary": [
           {
            "marker": {
             "colorbar": {
              "outlinewidth": 0,
              "ticks": ""
             }
            },
            "type": "scatterternary"
           }
          ],
          "surface": [
           {
            "colorbar": {
             "outlinewidth": 0,
             "ticks": ""
            },
            "colorscale": [
             [
              0,
              "#0d0887"
             ],
             [
              0.1111111111111111,
              "#46039f"
             ],
             [
              0.2222222222222222,
              "#7201a8"
             ],
             [
              0.3333333333333333,
              "#9c179e"
             ],
             [
              0.4444444444444444,
              "#bd3786"
             ],
             [
              0.5555555555555556,
              "#d8576b"
             ],
             [
              0.6666666666666666,
              "#ed7953"
             ],
             [
              0.7777777777777778,
              "#fb9f3a"
             ],
             [
              0.8888888888888888,
              "#fdca26"
             ],
             [
              1,
              "#f0f921"
             ]
            ],
            "type": "surface"
           }
          ],
          "table": [
           {
            "cells": {
             "fill": {
              "color": "#EBF0F8"
             },
             "line": {
              "color": "white"
             }
            },
            "header": {
             "fill": {
              "color": "#C8D4E3"
             },
             "line": {
              "color": "white"
             }
            },
            "type": "table"
           }
          ]
         },
         "layout": {
          "annotationdefaults": {
           "arrowcolor": "#2a3f5f",
           "arrowhead": 0,
           "arrowwidth": 1
          },
          "autotypenumbers": "strict",
          "coloraxis": {
           "colorbar": {
            "outlinewidth": 0,
            "ticks": ""
           }
          },
          "colorscale": {
           "diverging": [
            [
             0,
             "#8e0152"
            ],
            [
             0.1,
             "#c51b7d"
            ],
            [
             0.2,
             "#de77ae"
            ],
            [
             0.3,
             "#f1b6da"
            ],
            [
             0.4,
             "#fde0ef"
            ],
            [
             0.5,
             "#f7f7f7"
            ],
            [
             0.6,
             "#e6f5d0"
            ],
            [
             0.7,
             "#b8e186"
            ],
            [
             0.8,
             "#7fbc41"
            ],
            [
             0.9,
             "#4d9221"
            ],
            [
             1,
             "#276419"
            ]
           ],
           "sequential": [
            [
             0,
             "#0d0887"
            ],
            [
             0.1111111111111111,
             "#46039f"
            ],
            [
             0.2222222222222222,
             "#7201a8"
            ],
            [
             0.3333333333333333,
             "#9c179e"
            ],
            [
             0.4444444444444444,
             "#bd3786"
            ],
            [
             0.5555555555555556,
             "#d8576b"
            ],
            [
             0.6666666666666666,
             "#ed7953"
            ],
            [
             0.7777777777777778,
             "#fb9f3a"
            ],
            [
             0.8888888888888888,
             "#fdca26"
            ],
            [
             1,
             "#f0f921"
            ]
           ],
           "sequentialminus": [
            [
             0,
             "#0d0887"
            ],
            [
             0.1111111111111111,
             "#46039f"
            ],
            [
             0.2222222222222222,
             "#7201a8"
            ],
            [
             0.3333333333333333,
             "#9c179e"
            ],
            [
             0.4444444444444444,
             "#bd3786"
            ],
            [
             0.5555555555555556,
             "#d8576b"
            ],
            [
             0.6666666666666666,
             "#ed7953"
            ],
            [
             0.7777777777777778,
             "#fb9f3a"
            ],
            [
             0.8888888888888888,
             "#fdca26"
            ],
            [
             1,
             "#f0f921"
            ]
           ]
          },
          "colorway": [
           "#636efa",
           "#EF553B",
           "#00cc96",
           "#ab63fa",
           "#FFA15A",
           "#19d3f3",
           "#FF6692",
           "#B6E880",
           "#FF97FF",
           "#FECB52"
          ],
          "font": {
           "color": "#2a3f5f"
          },
          "geo": {
           "bgcolor": "white",
           "lakecolor": "white",
           "landcolor": "#E5ECF6",
           "showlakes": true,
           "showland": true,
           "subunitcolor": "white"
          },
          "hoverlabel": {
           "align": "left"
          },
          "hovermode": "closest",
          "mapbox": {
           "style": "light"
          },
          "paper_bgcolor": "white",
          "plot_bgcolor": "#E5ECF6",
          "polar": {
           "angularaxis": {
            "gridcolor": "white",
            "linecolor": "white",
            "ticks": ""
           },
           "bgcolor": "#E5ECF6",
           "radialaxis": {
            "gridcolor": "white",
            "linecolor": "white",
            "ticks": ""
           }
          },
          "scene": {
           "xaxis": {
            "backgroundcolor": "#E5ECF6",
            "gridcolor": "white",
            "gridwidth": 2,
            "linecolor": "white",
            "showbackground": true,
            "ticks": "",
            "zerolinecolor": "white"
           },
           "yaxis": {
            "backgroundcolor": "#E5ECF6",
            "gridcolor": "white",
            "gridwidth": 2,
            "linecolor": "white",
            "showbackground": true,
            "ticks": "",
            "zerolinecolor": "white"
           },
           "zaxis": {
            "backgroundcolor": "#E5ECF6",
            "gridcolor": "white",
            "gridwidth": 2,
            "linecolor": "white",
            "showbackground": true,
            "ticks": "",
            "zerolinecolor": "white"
           }
          },
          "shapedefaults": {
           "line": {
            "color": "#2a3f5f"
           }
          },
          "ternary": {
           "aaxis": {
            "gridcolor": "white",
            "linecolor": "white",
            "ticks": ""
           },
           "baxis": {
            "gridcolor": "white",
            "linecolor": "white",
            "ticks": ""
           },
           "bgcolor": "#E5ECF6",
           "caxis": {
            "gridcolor": "white",
            "linecolor": "white",
            "ticks": ""
           }
          },
          "title": {
           "x": 0.05
          },
          "xaxis": {
           "automargin": true,
           "gridcolor": "white",
           "linecolor": "white",
           "ticks": "",
           "title": {
            "standoff": 15
           },
           "zerolinecolor": "white",
           "zerolinewidth": 2
          },
          "yaxis": {
           "automargin": true,
           "gridcolor": "white",
           "linecolor": "white",
           "ticks": "",
           "title": {
            "standoff": 15
           },
           "zerolinecolor": "white",
           "zerolinewidth": 2
          }
         }
        },
        "title": {
         "text": "Thailande Nutrition Status in 2017"
        },
        "width": 800
       }
      }
     },
     "metadata": {},
     "output_type": "display_data"
    }
   ],
   "source": [
    "# Calculate the sum of 'Population' and 'Sous_nutrition'\n",
    "sous_nutrition_thailande_sum = sous_nutrition_thailande[\"Sous_nutrition\"].sum()\n",
    "population_thailande = population_2017[population_2017['Zone'] == 'Thaïlande']['Population'].sum()\n",
    "# Calculate the rates\n",
    "sous_nutrition_rate = sous_nutrition_thailande_sum / population_thailande * 100\n",
    "sufficient_nutrition_rate = 100 - sous_nutrition_rate\n",
    "\n",
    "# Create a new DataFrame for the pie chart\n",
    "df_pie = pd.DataFrame(\n",
    "    {\n",
    "        \"Nutrition\": [\"Undernourished\", \"Sufficient\"],\n",
    "        \"Rate\": [sous_nutrition_rate, sufficient_nutrition_rate],\n",
    "    }\n",
    ")\n",
    "\n",
    "# Create the pie chart\n",
    "fig = px.pie(\n",
    "    df_pie,\n",
    "    values=\"Rate\",\n",
    "    names=\"Nutrition\",\n",
    "    title=\"Thailande Nutrition Status in 2017\",\n",
    "    hole=0.3,\n",
    "    color_discrete_sequence=[\"blue\", \"red\"],\n",
    ")\n",
    "fig.update_traces(textinfo=\"percent+label\", pull=[0.1, 0], rotation=105)\n",
    "fig.update_layout(\n",
    "    width=800,\n",
    "    height=600,\n",
    "    annotations=[dict(text=\"Total Pop:<br> 69 Million\", showarrow=False)],\n",
    "    showlegend=False,\n",
    "    paper_bgcolor=\"rgba(0,0,0,0)\",  # make the paper background transparent\n",
    "    plot_bgcolor=\"rgba(0,0,0,0)\",  # make the plot background transparent\n",
    "    font=dict(color=\"white\", size=14),\n",
    ")\n",
    "\n",
    "fig.show()\n",
    "fig.write_image(\"src/main/extracted_data/11.svg\")"
   ]
  },
  {
   "cell_type": "code",
   "execution_count": 83,
   "id": "f19cd96e",
   "metadata": {},
   "outputs": [
    {
     "data": {
      "text/html": [
       "<div>\n",
       "<style scoped>\n",
       "    .dataframe tbody tr th:only-of-type {\n",
       "        vertical-align: middle;\n",
       "    }\n",
       "\n",
       "    .dataframe tbody tr th {\n",
       "        vertical-align: top;\n",
       "    }\n",
       "\n",
       "    .dataframe thead th {\n",
       "        text-align: right;\n",
       "    }\n",
       "</style>\n",
       "<table border=\"1\" class=\"dataframe\">\n",
       "  <thead>\n",
       "    <tr style=\"text-align: right;\">\n",
       "      <th></th>\n",
       "      <th>Zone</th>\n",
       "      <th>Produit</th>\n",
       "      <th>Origine</th>\n",
       "      <th>Aliments pour animaux</th>\n",
       "      <th>Autres Utilisations</th>\n",
       "      <th>Disponibilité alimentaire (Kcal/personne/jour)</th>\n",
       "      <th>Disponibilité alimentaire en quantité (kg/personne/an)</th>\n",
       "      <th>Disponibilité de matière grasse en quantité (g/personne/jour)</th>\n",
       "      <th>Disponibilité de protéines en quantité (g/personne/jour)</th>\n",
       "      <th>Disponibilité intérieure</th>\n",
       "      <th>...</th>\n",
       "      <th>Importations - Quantité</th>\n",
       "      <th>Nourriture</th>\n",
       "      <th>Pertes</th>\n",
       "      <th>Production</th>\n",
       "      <th>Semences</th>\n",
       "      <th>Traitement</th>\n",
       "      <th>Variation de stock</th>\n",
       "      <th>Population</th>\n",
       "      <th>Disponibilité alimentaire en million (Kcal/jour)</th>\n",
       "      <th>Exportation (%)</th>\n",
       "    </tr>\n",
       "  </thead>\n",
       "  <tbody>\n",
       "    <tr>\n",
       "      <th>13620</th>\n",
       "      <td>Thaïlande</td>\n",
       "      <td>Manioc</td>\n",
       "      <td>vegetale</td>\n",
       "      <td>1,800,000,000.00</td>\n",
       "      <td>2,081,000,000.00</td>\n",
       "      <td>40.00</td>\n",
       "      <td>13.00</td>\n",
       "      <td>0.05</td>\n",
       "      <td>0.14</td>\n",
       "      <td>6,264,000,000.00</td>\n",
       "      <td>...</td>\n",
       "      <td>1,250,000,000.00</td>\n",
       "      <td>871,000,000.00</td>\n",
       "      <td>1,511,000,000.00</td>\n",
       "      <td>30,228,000,000.00</td>\n",
       "      <td>0.00</td>\n",
       "      <td>0.00</td>\n",
       "      <td>0.00</td>\n",
       "      <td>69,209,810.00</td>\n",
       "      <td>2,768,392,400.00</td>\n",
       "      <td>83.41</td>\n",
       "    </tr>\n",
       "  </tbody>\n",
       "</table>\n",
       "<p>1 rows × 21 columns</p>\n",
       "</div>"
      ],
      "text/plain": [
       "            Zone Produit   Origine  Aliments pour animaux  \\\n",
       "13620  Thaïlande  Manioc  vegetale       1,800,000,000.00   \n",
       "\n",
       "       Autres Utilisations  Disponibilité alimentaire (Kcal/personne/jour)  \\\n",
       "13620     2,081,000,000.00                                           40.00   \n",
       "\n",
       "       Disponibilité alimentaire en quantité (kg/personne/an)  \\\n",
       "13620                                              13.00        \n",
       "\n",
       "       Disponibilité de matière grasse en quantité (g/personne/jour)  \\\n",
       "13620                                               0.05               \n",
       "\n",
       "       Disponibilité de protéines en quantité (g/personne/jour)  \\\n",
       "13620                                               0.14          \n",
       "\n",
       "       Disponibilité intérieure  ...  Importations - Quantité     Nourriture  \\\n",
       "13620          6,264,000,000.00  ...         1,250,000,000.00 871,000,000.00   \n",
       "\n",
       "                Pertes        Production  Semences  Traitement  \\\n",
       "13620 1,511,000,000.00 30,228,000,000.00      0.00        0.00   \n",
       "\n",
       "       Variation de stock    Population  \\\n",
       "13620                0.00 69,209,810.00   \n",
       "\n",
       "       Disponibilité alimentaire en million (Kcal/jour)  Exportation (%)  \n",
       "13620                                  2,768,392,400.00            83.41  \n",
       "\n",
       "[1 rows x 21 columns]"
      ]
     },
     "execution_count": 83,
     "metadata": {},
     "output_type": "execute_result"
    }
   ],
   "source": [
    "# On calcule la proportion exportée en fonction de la proportion\n",
    "# disponible intérieurement pour chaque produit\n",
    "dispo_alimentaire_thailande['Exportation (%)'] = dispo_alimentaire_thailande['Exportations - Quantité'] / dispo_alimentaire_thailande['Production'] * 100\n",
    "dispo_alimentaire_thailande[dispo_alimentaire_thailande[\"Produit\"] == \"Manioc\"]\n"
   ]
  },
  {
   "cell_type": "code",
   "execution_count": 84,
   "id": "7d004279",
   "metadata": {},
   "outputs": [
    {
     "data": {
      "application/vnd.plotly.v1+json": {
       "config": {
        "plotlyServerURL": "https://plot.ly"
       },
       "data": [
        {
         "hole": 0.3,
         "labels": [
          "Exportation",
          "Consumption"
         ],
         "marker": {
          "colors": [
           "Green",
           "gray"
          ]
         },
         "pull": [
          0,
          0.1
         ],
         "rotation": -55,
         "textinfo": "percent+label",
         "type": "pie",
         "values": [
          0.8341272991928014,
          0.16587270080719863
         ]
        }
       ],
       "layout": {
        "annotations": [
         {
          "showarrow": false,
          "text": "Total Manioc:<br>30 Billion kg"
         }
        ],
        "font": {
         "color": "white",
         "size": 16
        },
        "height": 600,
        "paper_bgcolor": "rgba(0,0,0,0)",
        "plot_bgcolor": "rgba(0,0,0,0)",
        "showlegend": false,
        "template": {
         "data": {
          "bar": [
           {
            "error_x": {
             "color": "#2a3f5f"
            },
            "error_y": {
             "color": "#2a3f5f"
            },
            "marker": {
             "line": {
              "color": "#E5ECF6",
              "width": 0.5
             },
             "pattern": {
              "fillmode": "overlay",
              "size": 10,
              "solidity": 0.2
             }
            },
            "type": "bar"
           }
          ],
          "barpolar": [
           {
            "marker": {
             "line": {
              "color": "#E5ECF6",
              "width": 0.5
             },
             "pattern": {
              "fillmode": "overlay",
              "size": 10,
              "solidity": 0.2
             }
            },
            "type": "barpolar"
           }
          ],
          "carpet": [
           {
            "aaxis": {
             "endlinecolor": "#2a3f5f",
             "gridcolor": "white",
             "linecolor": "white",
             "minorgridcolor": "white",
             "startlinecolor": "#2a3f5f"
            },
            "baxis": {
             "endlinecolor": "#2a3f5f",
             "gridcolor": "white",
             "linecolor": "white",
             "minorgridcolor": "white",
             "startlinecolor": "#2a3f5f"
            },
            "type": "carpet"
           }
          ],
          "choropleth": [
           {
            "colorbar": {
             "outlinewidth": 0,
             "ticks": ""
            },
            "type": "choropleth"
           }
          ],
          "contour": [
           {
            "colorbar": {
             "outlinewidth": 0,
             "ticks": ""
            },
            "colorscale": [
             [
              0,
              "#0d0887"
             ],
             [
              0.1111111111111111,
              "#46039f"
             ],
             [
              0.2222222222222222,
              "#7201a8"
             ],
             [
              0.3333333333333333,
              "#9c179e"
             ],
             [
              0.4444444444444444,
              "#bd3786"
             ],
             [
              0.5555555555555556,
              "#d8576b"
             ],
             [
              0.6666666666666666,
              "#ed7953"
             ],
             [
              0.7777777777777778,
              "#fb9f3a"
             ],
             [
              0.8888888888888888,
              "#fdca26"
             ],
             [
              1,
              "#f0f921"
             ]
            ],
            "type": "contour"
           }
          ],
          "contourcarpet": [
           {
            "colorbar": {
             "outlinewidth": 0,
             "ticks": ""
            },
            "type": "contourcarpet"
           }
          ],
          "heatmap": [
           {
            "colorbar": {
             "outlinewidth": 0,
             "ticks": ""
            },
            "colorscale": [
             [
              0,
              "#0d0887"
             ],
             [
              0.1111111111111111,
              "#46039f"
             ],
             [
              0.2222222222222222,
              "#7201a8"
             ],
             [
              0.3333333333333333,
              "#9c179e"
             ],
             [
              0.4444444444444444,
              "#bd3786"
             ],
             [
              0.5555555555555556,
              "#d8576b"
             ],
             [
              0.6666666666666666,
              "#ed7953"
             ],
             [
              0.7777777777777778,
              "#fb9f3a"
             ],
             [
              0.8888888888888888,
              "#fdca26"
             ],
             [
              1,
              "#f0f921"
             ]
            ],
            "type": "heatmap"
           }
          ],
          "heatmapgl": [
           {
            "colorbar": {
             "outlinewidth": 0,
             "ticks": ""
            },
            "colorscale": [
             [
              0,
              "#0d0887"
             ],
             [
              0.1111111111111111,
              "#46039f"
             ],
             [
              0.2222222222222222,
              "#7201a8"
             ],
             [
              0.3333333333333333,
              "#9c179e"
             ],
             [
              0.4444444444444444,
              "#bd3786"
             ],
             [
              0.5555555555555556,
              "#d8576b"
             ],
             [
              0.6666666666666666,
              "#ed7953"
             ],
             [
              0.7777777777777778,
              "#fb9f3a"
             ],
             [
              0.8888888888888888,
              "#fdca26"
             ],
             [
              1,
              "#f0f921"
             ]
            ],
            "type": "heatmapgl"
           }
          ],
          "histogram": [
           {
            "marker": {
             "pattern": {
              "fillmode": "overlay",
              "size": 10,
              "solidity": 0.2
             }
            },
            "type": "histogram"
           }
          ],
          "histogram2d": [
           {
            "colorbar": {
             "outlinewidth": 0,
             "ticks": ""
            },
            "colorscale": [
             [
              0,
              "#0d0887"
             ],
             [
              0.1111111111111111,
              "#46039f"
             ],
             [
              0.2222222222222222,
              "#7201a8"
             ],
             [
              0.3333333333333333,
              "#9c179e"
             ],
             [
              0.4444444444444444,
              "#bd3786"
             ],
             [
              0.5555555555555556,
              "#d8576b"
             ],
             [
              0.6666666666666666,
              "#ed7953"
             ],
             [
              0.7777777777777778,
              "#fb9f3a"
             ],
             [
              0.8888888888888888,
              "#fdca26"
             ],
             [
              1,
              "#f0f921"
             ]
            ],
            "type": "histogram2d"
           }
          ],
          "histogram2dcontour": [
           {
            "colorbar": {
             "outlinewidth": 0,
             "ticks": ""
            },
            "colorscale": [
             [
              0,
              "#0d0887"
             ],
             [
              0.1111111111111111,
              "#46039f"
             ],
             [
              0.2222222222222222,
              "#7201a8"
             ],
             [
              0.3333333333333333,
              "#9c179e"
             ],
             [
              0.4444444444444444,
              "#bd3786"
             ],
             [
              0.5555555555555556,
              "#d8576b"
             ],
             [
              0.6666666666666666,
              "#ed7953"
             ],
             [
              0.7777777777777778,
              "#fb9f3a"
             ],
             [
              0.8888888888888888,
              "#fdca26"
             ],
             [
              1,
              "#f0f921"
             ]
            ],
            "type": "histogram2dcontour"
           }
          ],
          "mesh3d": [
           {
            "colorbar": {
             "outlinewidth": 0,
             "ticks": ""
            },
            "type": "mesh3d"
           }
          ],
          "parcoords": [
           {
            "line": {
             "colorbar": {
              "outlinewidth": 0,
              "ticks": ""
             }
            },
            "type": "parcoords"
           }
          ],
          "pie": [
           {
            "automargin": true,
            "type": "pie"
           }
          ],
          "scatter": [
           {
            "fillpattern": {
             "fillmode": "overlay",
             "size": 10,
             "solidity": 0.2
            },
            "type": "scatter"
           }
          ],
          "scatter3d": [
           {
            "line": {
             "colorbar": {
              "outlinewidth": 0,
              "ticks": ""
             }
            },
            "marker": {
             "colorbar": {
              "outlinewidth": 0,
              "ticks": ""
             }
            },
            "type": "scatter3d"
           }
          ],
          "scattercarpet": [
           {
            "marker": {
             "colorbar": {
              "outlinewidth": 0,
              "ticks": ""
             }
            },
            "type": "scattercarpet"
           }
          ],
          "scattergeo": [
           {
            "marker": {
             "colorbar": {
              "outlinewidth": 0,
              "ticks": ""
             }
            },
            "type": "scattergeo"
           }
          ],
          "scattergl": [
           {
            "marker": {
             "colorbar": {
              "outlinewidth": 0,
              "ticks": ""
             }
            },
            "type": "scattergl"
           }
          ],
          "scattermapbox": [
           {
            "marker": {
             "colorbar": {
              "outlinewidth": 0,
              "ticks": ""
             }
            },
            "type": "scattermapbox"
           }
          ],
          "scatterpolar": [
           {
            "marker": {
             "colorbar": {
              "outlinewidth": 0,
              "ticks": ""
             }
            },
            "type": "scatterpolar"
           }
          ],
          "scatterpolargl": [
           {
            "marker": {
             "colorbar": {
              "outlinewidth": 0,
              "ticks": ""
             }
            },
            "type": "scatterpolargl"
           }
          ],
          "scatterternary": [
           {
            "marker": {
             "colorbar": {
              "outlinewidth": 0,
              "ticks": ""
             }
            },
            "type": "scatterternary"
           }
          ],
          "surface": [
           {
            "colorbar": {
             "outlinewidth": 0,
             "ticks": ""
            },
            "colorscale": [
             [
              0,
              "#0d0887"
             ],
             [
              0.1111111111111111,
              "#46039f"
             ],
             [
              0.2222222222222222,
              "#7201a8"
             ],
             [
              0.3333333333333333,
              "#9c179e"
             ],
             [
              0.4444444444444444,
              "#bd3786"
             ],
             [
              0.5555555555555556,
              "#d8576b"
             ],
             [
              0.6666666666666666,
              "#ed7953"
             ],
             [
              0.7777777777777778,
              "#fb9f3a"
             ],
             [
              0.8888888888888888,
              "#fdca26"
             ],
             [
              1,
              "#f0f921"
             ]
            ],
            "type": "surface"
           }
          ],
          "table": [
           {
            "cells": {
             "fill": {
              "color": "#EBF0F8"
             },
             "line": {
              "color": "white"
             }
            },
            "header": {
             "fill": {
              "color": "#C8D4E3"
             },
             "line": {
              "color": "white"
             }
            },
            "type": "table"
           }
          ]
         },
         "layout": {
          "annotationdefaults": {
           "arrowcolor": "#2a3f5f",
           "arrowhead": 0,
           "arrowwidth": 1
          },
          "autotypenumbers": "strict",
          "coloraxis": {
           "colorbar": {
            "outlinewidth": 0,
            "ticks": ""
           }
          },
          "colorscale": {
           "diverging": [
            [
             0,
             "#8e0152"
            ],
            [
             0.1,
             "#c51b7d"
            ],
            [
             0.2,
             "#de77ae"
            ],
            [
             0.3,
             "#f1b6da"
            ],
            [
             0.4,
             "#fde0ef"
            ],
            [
             0.5,
             "#f7f7f7"
            ],
            [
             0.6,
             "#e6f5d0"
            ],
            [
             0.7,
             "#b8e186"
            ],
            [
             0.8,
             "#7fbc41"
            ],
            [
             0.9,
             "#4d9221"
            ],
            [
             1,
             "#276419"
            ]
           ],
           "sequential": [
            [
             0,
             "#0d0887"
            ],
            [
             0.1111111111111111,
             "#46039f"
            ],
            [
             0.2222222222222222,
             "#7201a8"
            ],
            [
             0.3333333333333333,
             "#9c179e"
            ],
            [
             0.4444444444444444,
             "#bd3786"
            ],
            [
             0.5555555555555556,
             "#d8576b"
            ],
            [
             0.6666666666666666,
             "#ed7953"
            ],
            [
             0.7777777777777778,
             "#fb9f3a"
            ],
            [
             0.8888888888888888,
             "#fdca26"
            ],
            [
             1,
             "#f0f921"
            ]
           ],
           "sequentialminus": [
            [
             0,
             "#0d0887"
            ],
            [
             0.1111111111111111,
             "#46039f"
            ],
            [
             0.2222222222222222,
             "#7201a8"
            ],
            [
             0.3333333333333333,
             "#9c179e"
            ],
            [
             0.4444444444444444,
             "#bd3786"
            ],
            [
             0.5555555555555556,
             "#d8576b"
            ],
            [
             0.6666666666666666,
             "#ed7953"
            ],
            [
             0.7777777777777778,
             "#fb9f3a"
            ],
            [
             0.8888888888888888,
             "#fdca26"
            ],
            [
             1,
             "#f0f921"
            ]
           ]
          },
          "colorway": [
           "#636efa",
           "#EF553B",
           "#00cc96",
           "#ab63fa",
           "#FFA15A",
           "#19d3f3",
           "#FF6692",
           "#B6E880",
           "#FF97FF",
           "#FECB52"
          ],
          "font": {
           "color": "#2a3f5f"
          },
          "geo": {
           "bgcolor": "white",
           "lakecolor": "white",
           "landcolor": "#E5ECF6",
           "showlakes": true,
           "showland": true,
           "subunitcolor": "white"
          },
          "hoverlabel": {
           "align": "left"
          },
          "hovermode": "closest",
          "mapbox": {
           "style": "light"
          },
          "paper_bgcolor": "white",
          "plot_bgcolor": "#E5ECF6",
          "polar": {
           "angularaxis": {
            "gridcolor": "white",
            "linecolor": "white",
            "ticks": ""
           },
           "bgcolor": "#E5ECF6",
           "radialaxis": {
            "gridcolor": "white",
            "linecolor": "white",
            "ticks": ""
           }
          },
          "scene": {
           "xaxis": {
            "backgroundcolor": "#E5ECF6",
            "gridcolor": "white",
            "gridwidth": 2,
            "linecolor": "white",
            "showbackground": true,
            "ticks": "",
            "zerolinecolor": "white"
           },
           "yaxis": {
            "backgroundcolor": "#E5ECF6",
            "gridcolor": "white",
            "gridwidth": 2,
            "linecolor": "white",
            "showbackground": true,
            "ticks": "",
            "zerolinecolor": "white"
           },
           "zaxis": {
            "backgroundcolor": "#E5ECF6",
            "gridcolor": "white",
            "gridwidth": 2,
            "linecolor": "white",
            "showbackground": true,
            "ticks": "",
            "zerolinecolor": "white"
           }
          },
          "shapedefaults": {
           "line": {
            "color": "#2a3f5f"
           }
          },
          "ternary": {
           "aaxis": {
            "gridcolor": "white",
            "linecolor": "white",
            "ticks": ""
           },
           "baxis": {
            "gridcolor": "white",
            "linecolor": "white",
            "ticks": ""
           },
           "bgcolor": "#E5ECF6",
           "caxis": {
            "gridcolor": "white",
            "linecolor": "white",
            "ticks": ""
           }
          },
          "title": {
           "x": 0.05
          },
          "xaxis": {
           "automargin": true,
           "gridcolor": "white",
           "linecolor": "white",
           "ticks": "",
           "title": {
            "standoff": 15
           },
           "zerolinecolor": "white",
           "zerolinewidth": 2
          },
          "yaxis": {
           "automargin": true,
           "gridcolor": "white",
           "linecolor": "white",
           "ticks": "",
           "title": {
            "standoff": 15
           },
           "zerolinecolor": "white",
           "zerolinewidth": 2
          }
         }
        },
        "title": {
         "text": "Exportation of Manioc in Thailand"
        },
        "width": 800
       }
      }
     },
     "metadata": {},
     "output_type": "display_data"
    }
   ],
   "source": [
    "# Filter the data for the product \"Manioc\"\n",
    "manioc_data = dispo_alimentaire_thailande[\n",
    "    dispo_alimentaire_thailande[\"Produit\"] == \"Manioc\"\n",
    "]\n",
    "\n",
    "# Calculate exportation and consumption proportions\n",
    "exportation = manioc_data[\"Exportation (%)\"].mean() / 100\n",
    "consumption = 1 - exportation\n",
    "total_manioc_prod = manioc_data[\"Production\"].mean()\n",
    "\n",
    "# Create a pie chart\n",
    "fig = go.Figure(\n",
    "    data=[\n",
    "        go.Pie(\n",
    "            labels=[\"Exportation\", \"Consumption\"],\n",
    "            values=[exportation, consumption],\n",
    "            hole=0.3,\n",
    "            marker=dict(colors=[\"Green\", \"gray\"]),\n",
    "        )\n",
    "    ]\n",
    ")\n",
    "fig.update_traces(textinfo=\"percent+label\",  pull=[0, 0.1], rotation=-55)\n",
    "fig.update_layout(\n",
    "    title_text=\"Exportation of Manioc in Thailand\",\n",
    "    width=800,\n",
    "    height=600,\n",
    "    showlegend=False,\n",
    "    annotations=[\n",
    "        dict(\n",
    "            text=f\"Total Manioc:<br>{total_manioc_prod/1_000_000_000:,.0f} Billion kg\",\n",
    "            showarrow=False,\n",
    "        )\n",
    "    ],\n",
    "    paper_bgcolor=\"rgba(0,0,0,0)\",  # make the paper background transparent\n",
    "    plot_bgcolor=\"rgba(0,0,0,0)\",  # make the plot background transparent\n",
    "    font=dict(color=\"white\", size=16),\n",
    ")\n",
    "fig.show()\n",
    "fig.write_image(\"src/main/extracted_data/12.svg\")"
   ]
  },
  {
   "cell_type": "code",
   "execution_count": 85,
   "id": "692c5c41",
   "metadata": {},
   "outputs": [
    {
     "name": "stdout",
     "output_type": "stream",
     "text": [
      "38,377,473.36 million\n"
     ]
    }
   ],
   "source": [
    "manioc_export = dispo_alimentaire_thailande[dispo_alimentaire_thailande[\"Produit\"] == \"Manioc\"]['Exportations - Quantité'].sum() \n",
    "manioc_export_feed = manioc_export * 1250 / (2250 * 365)\n",
    "print(\"{:,.2f} million\".format(manioc_export_feed))"
   ]
  },
  {
   "cell_type": "code",
   "execution_count": 86,
   "id": "feb83c78",
   "metadata": {},
   "outputs": [
    {
     "data": {
      "application/vnd.plotly.v1+json": {
       "config": {
        "plotlyServerURL": "https://plot.ly"
       },
       "data": [
        {
         "marker": {
          "color": "red"
         },
         "name": "Population",
         "text": [
          "100%"
         ],
         "textposition": "outside",
         "type": "bar",
         "x": [
          "Population"
         ],
         "y": [
          6200000
         ]
        },
        {
         "marker": {
          "color": "green"
         },
         "name": "Capacity",
         "text": [
          "619%"
         ],
         "textposition": "outside",
         "type": "bar",
         "x": [
          "Capacity"
         ],
         "y": [
          38377473.36377473
         ]
        }
       ],
       "layout": {
        "annotations": [
         {
          "font": {
           "color": "white",
           "size": 30
          },
          "showarrow": false,
          "text": "6.2 Million",
          "x": "Population",
          "y": 3100000
         },
         {
          "font": {
           "color": "white",
           "size": 30
          },
          "showarrow": false,
          "text": "38.4 Million",
          "x": "Capacity",
          "y": 19188736.681887366
         }
        ],
        "barmode": "group",
        "font": {
         "color": "white",
         "size": 14
        },
        "height": 600,
        "paper_bgcolor": "rgba(0,0,0,0)",
        "plot_bgcolor": "rgba(0,0,0,0)",
        "showlegend": false,
        "template": {
         "data": {
          "bar": [
           {
            "error_x": {
             "color": "#2a3f5f"
            },
            "error_y": {
             "color": "#2a3f5f"
            },
            "marker": {
             "line": {
              "color": "#E5ECF6",
              "width": 0.5
             },
             "pattern": {
              "fillmode": "overlay",
              "size": 10,
              "solidity": 0.2
             }
            },
            "type": "bar"
           }
          ],
          "barpolar": [
           {
            "marker": {
             "line": {
              "color": "#E5ECF6",
              "width": 0.5
             },
             "pattern": {
              "fillmode": "overlay",
              "size": 10,
              "solidity": 0.2
             }
            },
            "type": "barpolar"
           }
          ],
          "carpet": [
           {
            "aaxis": {
             "endlinecolor": "#2a3f5f",
             "gridcolor": "white",
             "linecolor": "white",
             "minorgridcolor": "white",
             "startlinecolor": "#2a3f5f"
            },
            "baxis": {
             "endlinecolor": "#2a3f5f",
             "gridcolor": "white",
             "linecolor": "white",
             "minorgridcolor": "white",
             "startlinecolor": "#2a3f5f"
            },
            "type": "carpet"
           }
          ],
          "choropleth": [
           {
            "colorbar": {
             "outlinewidth": 0,
             "ticks": ""
            },
            "type": "choropleth"
           }
          ],
          "contour": [
           {
            "colorbar": {
             "outlinewidth": 0,
             "ticks": ""
            },
            "colorscale": [
             [
              0,
              "#0d0887"
             ],
             [
              0.1111111111111111,
              "#46039f"
             ],
             [
              0.2222222222222222,
              "#7201a8"
             ],
             [
              0.3333333333333333,
              "#9c179e"
             ],
             [
              0.4444444444444444,
              "#bd3786"
             ],
             [
              0.5555555555555556,
              "#d8576b"
             ],
             [
              0.6666666666666666,
              "#ed7953"
             ],
             [
              0.7777777777777778,
              "#fb9f3a"
             ],
             [
              0.8888888888888888,
              "#fdca26"
             ],
             [
              1,
              "#f0f921"
             ]
            ],
            "type": "contour"
           }
          ],
          "contourcarpet": [
           {
            "colorbar": {
             "outlinewidth": 0,
             "ticks": ""
            },
            "type": "contourcarpet"
           }
          ],
          "heatmap": [
           {
            "colorbar": {
             "outlinewidth": 0,
             "ticks": ""
            },
            "colorscale": [
             [
              0,
              "#0d0887"
             ],
             [
              0.1111111111111111,
              "#46039f"
             ],
             [
              0.2222222222222222,
              "#7201a8"
             ],
             [
              0.3333333333333333,
              "#9c179e"
             ],
             [
              0.4444444444444444,
              "#bd3786"
             ],
             [
              0.5555555555555556,
              "#d8576b"
             ],
             [
              0.6666666666666666,
              "#ed7953"
             ],
             [
              0.7777777777777778,
              "#fb9f3a"
             ],
             [
              0.8888888888888888,
              "#fdca26"
             ],
             [
              1,
              "#f0f921"
             ]
            ],
            "type": "heatmap"
           }
          ],
          "heatmapgl": [
           {
            "colorbar": {
             "outlinewidth": 0,
             "ticks": ""
            },
            "colorscale": [
             [
              0,
              "#0d0887"
             ],
             [
              0.1111111111111111,
              "#46039f"
             ],
             [
              0.2222222222222222,
              "#7201a8"
             ],
             [
              0.3333333333333333,
              "#9c179e"
             ],
             [
              0.4444444444444444,
              "#bd3786"
             ],
             [
              0.5555555555555556,
              "#d8576b"
             ],
             [
              0.6666666666666666,
              "#ed7953"
             ],
             [
              0.7777777777777778,
              "#fb9f3a"
             ],
             [
              0.8888888888888888,
              "#fdca26"
             ],
             [
              1,
              "#f0f921"
             ]
            ],
            "type": "heatmapgl"
           }
          ],
          "histogram": [
           {
            "marker": {
             "pattern": {
              "fillmode": "overlay",
              "size": 10,
              "solidity": 0.2
             }
            },
            "type": "histogram"
           }
          ],
          "histogram2d": [
           {
            "colorbar": {
             "outlinewidth": 0,
             "ticks": ""
            },
            "colorscale": [
             [
              0,
              "#0d0887"
             ],
             [
              0.1111111111111111,
              "#46039f"
             ],
             [
              0.2222222222222222,
              "#7201a8"
             ],
             [
              0.3333333333333333,
              "#9c179e"
             ],
             [
              0.4444444444444444,
              "#bd3786"
             ],
             [
              0.5555555555555556,
              "#d8576b"
             ],
             [
              0.6666666666666666,
              "#ed7953"
             ],
             [
              0.7777777777777778,
              "#fb9f3a"
             ],
             [
              0.8888888888888888,
              "#fdca26"
             ],
             [
              1,
              "#f0f921"
             ]
            ],
            "type": "histogram2d"
           }
          ],
          "histogram2dcontour": [
           {
            "colorbar": {
             "outlinewidth": 0,
             "ticks": ""
            },
            "colorscale": [
             [
              0,
              "#0d0887"
             ],
             [
              0.1111111111111111,
              "#46039f"
             ],
             [
              0.2222222222222222,
              "#7201a8"
             ],
             [
              0.3333333333333333,
              "#9c179e"
             ],
             [
              0.4444444444444444,
              "#bd3786"
             ],
             [
              0.5555555555555556,
              "#d8576b"
             ],
             [
              0.6666666666666666,
              "#ed7953"
             ],
             [
              0.7777777777777778,
              "#fb9f3a"
             ],
             [
              0.8888888888888888,
              "#fdca26"
             ],
             [
              1,
              "#f0f921"
             ]
            ],
            "type": "histogram2dcontour"
           }
          ],
          "mesh3d": [
           {
            "colorbar": {
             "outlinewidth": 0,
             "ticks": ""
            },
            "type": "mesh3d"
           }
          ],
          "parcoords": [
           {
            "line": {
             "colorbar": {
              "outlinewidth": 0,
              "ticks": ""
             }
            },
            "type": "parcoords"
           }
          ],
          "pie": [
           {
            "automargin": true,
            "type": "pie"
           }
          ],
          "scatter": [
           {
            "fillpattern": {
             "fillmode": "overlay",
             "size": 10,
             "solidity": 0.2
            },
            "type": "scatter"
           }
          ],
          "scatter3d": [
           {
            "line": {
             "colorbar": {
              "outlinewidth": 0,
              "ticks": ""
             }
            },
            "marker": {
             "colorbar": {
              "outlinewidth": 0,
              "ticks": ""
             }
            },
            "type": "scatter3d"
           }
          ],
          "scattercarpet": [
           {
            "marker": {
             "colorbar": {
              "outlinewidth": 0,
              "ticks": ""
             }
            },
            "type": "scattercarpet"
           }
          ],
          "scattergeo": [
           {
            "marker": {
             "colorbar": {
              "outlinewidth": 0,
              "ticks": ""
             }
            },
            "type": "scattergeo"
           }
          ],
          "scattergl": [
           {
            "marker": {
             "colorbar": {
              "outlinewidth": 0,
              "ticks": ""
             }
            },
            "type": "scattergl"
           }
          ],
          "scattermapbox": [
           {
            "marker": {
             "colorbar": {
              "outlinewidth": 0,
              "ticks": ""
             }
            },
            "type": "scattermapbox"
           }
          ],
          "scatterpolar": [
           {
            "marker": {
             "colorbar": {
              "outlinewidth": 0,
              "ticks": ""
             }
            },
            "type": "scatterpolar"
           }
          ],
          "scatterpolargl": [
           {
            "marker": {
             "colorbar": {
              "outlinewidth": 0,
              "ticks": ""
             }
            },
            "type": "scatterpolargl"
           }
          ],
          "scatterternary": [
           {
            "marker": {
             "colorbar": {
              "outlinewidth": 0,
              "ticks": ""
             }
            },
            "type": "scatterternary"
           }
          ],
          "surface": [
           {
            "colorbar": {
             "outlinewidth": 0,
             "ticks": ""
            },
            "colorscale": [
             [
              0,
              "#0d0887"
             ],
             [
              0.1111111111111111,
              "#46039f"
             ],
             [
              0.2222222222222222,
              "#7201a8"
             ],
             [
              0.3333333333333333,
              "#9c179e"
             ],
             [
              0.4444444444444444,
              "#bd3786"
             ],
             [
              0.5555555555555556,
              "#d8576b"
             ],
             [
              0.6666666666666666,
              "#ed7953"
             ],
             [
              0.7777777777777778,
              "#fb9f3a"
             ],
             [
              0.8888888888888888,
              "#fdca26"
             ],
             [
              1,
              "#f0f921"
             ]
            ],
            "type": "surface"
           }
          ],
          "table": [
           {
            "cells": {
             "fill": {
              "color": "#EBF0F8"
             },
             "line": {
              "color": "white"
             }
            },
            "header": {
             "fill": {
              "color": "#C8D4E3"
             },
             "line": {
              "color": "white"
             }
            },
            "type": "table"
           }
          ]
         },
         "layout": {
          "annotationdefaults": {
           "arrowcolor": "#2a3f5f",
           "arrowhead": 0,
           "arrowwidth": 1
          },
          "autotypenumbers": "strict",
          "coloraxis": {
           "colorbar": {
            "outlinewidth": 0,
            "ticks": ""
           }
          },
          "colorscale": {
           "diverging": [
            [
             0,
             "#8e0152"
            ],
            [
             0.1,
             "#c51b7d"
            ],
            [
             0.2,
             "#de77ae"
            ],
            [
             0.3,
             "#f1b6da"
            ],
            [
             0.4,
             "#fde0ef"
            ],
            [
             0.5,
             "#f7f7f7"
            ],
            [
             0.6,
             "#e6f5d0"
            ],
            [
             0.7,
             "#b8e186"
            ],
            [
             0.8,
             "#7fbc41"
            ],
            [
             0.9,
             "#4d9221"
            ],
            [
             1,
             "#276419"
            ]
           ],
           "sequential": [
            [
             0,
             "#0d0887"
            ],
            [
             0.1111111111111111,
             "#46039f"
            ],
            [
             0.2222222222222222,
             "#7201a8"
            ],
            [
             0.3333333333333333,
             "#9c179e"
            ],
            [
             0.4444444444444444,
             "#bd3786"
            ],
            [
             0.5555555555555556,
             "#d8576b"
            ],
            [
             0.6666666666666666,
             "#ed7953"
            ],
            [
             0.7777777777777778,
             "#fb9f3a"
            ],
            [
             0.8888888888888888,
             "#fdca26"
            ],
            [
             1,
             "#f0f921"
            ]
           ],
           "sequentialminus": [
            [
             0,
             "#0d0887"
            ],
            [
             0.1111111111111111,
             "#46039f"
            ],
            [
             0.2222222222222222,
             "#7201a8"
            ],
            [
             0.3333333333333333,
             "#9c179e"
            ],
            [
             0.4444444444444444,
             "#bd3786"
            ],
            [
             0.5555555555555556,
             "#d8576b"
            ],
            [
             0.6666666666666666,
             "#ed7953"
            ],
            [
             0.7777777777777778,
             "#fb9f3a"
            ],
            [
             0.8888888888888888,
             "#fdca26"
            ],
            [
             1,
             "#f0f921"
            ]
           ]
          },
          "colorway": [
           "#636efa",
           "#EF553B",
           "#00cc96",
           "#ab63fa",
           "#FFA15A",
           "#19d3f3",
           "#FF6692",
           "#B6E880",
           "#FF97FF",
           "#FECB52"
          ],
          "font": {
           "color": "#2a3f5f"
          },
          "geo": {
           "bgcolor": "white",
           "lakecolor": "white",
           "landcolor": "#E5ECF6",
           "showlakes": true,
           "showland": true,
           "subunitcolor": "white"
          },
          "hoverlabel": {
           "align": "left"
          },
          "hovermode": "closest",
          "mapbox": {
           "style": "light"
          },
          "paper_bgcolor": "white",
          "plot_bgcolor": "#E5ECF6",
          "polar": {
           "angularaxis": {
            "gridcolor": "white",
            "linecolor": "white",
            "ticks": ""
           },
           "bgcolor": "#E5ECF6",
           "radialaxis": {
            "gridcolor": "white",
            "linecolor": "white",
            "ticks": ""
           }
          },
          "scene": {
           "xaxis": {
            "backgroundcolor": "#E5ECF6",
            "gridcolor": "white",
            "gridwidth": 2,
            "linecolor": "white",
            "showbackground": true,
            "ticks": "",
            "zerolinecolor": "white"
           },
           "yaxis": {
            "backgroundcolor": "#E5ECF6",
            "gridcolor": "white",
            "gridwidth": 2,
            "linecolor": "white",
            "showbackground": true,
            "ticks": "",
            "zerolinecolor": "white"
           },
           "zaxis": {
            "backgroundcolor": "#E5ECF6",
            "gridcolor": "white",
            "gridwidth": 2,
            "linecolor": "white",
            "showbackground": true,
            "ticks": "",
            "zerolinecolor": "white"
           }
          },
          "shapedefaults": {
           "line": {
            "color": "#2a3f5f"
           }
          },
          "ternary": {
           "aaxis": {
            "gridcolor": "white",
            "linecolor": "white",
            "ticks": ""
           },
           "baxis": {
            "gridcolor": "white",
            "linecolor": "white",
            "ticks": ""
           },
           "bgcolor": "#E5ECF6",
           "caxis": {
            "gridcolor": "white",
            "linecolor": "white",
            "ticks": ""
           }
          },
          "title": {
           "x": 0.05
          },
          "xaxis": {
           "automargin": true,
           "gridcolor": "white",
           "linecolor": "white",
           "ticks": "",
           "title": {
            "standoff": 15
           },
           "zerolinecolor": "white",
           "zerolinewidth": 2
          },
          "yaxis": {
           "automargin": true,
           "gridcolor": "white",
           "linecolor": "white",
           "ticks": "",
           "title": {
            "standoff": 15
           },
           "zerolinecolor": "white",
           "zerolinewidth": 2
          }
         }
        },
        "title": {
         "text": "Under Nurrished Population vs Feeding Capacity by Manioc in Thailand"
        },
        "width": 800,
        "yaxis": {
         "title": {
          "text": "Population"
         }
        }
       }
      }
     },
     "metadata": {},
     "output_type": "display_data"
    }
   ],
   "source": [
    "# Data\n",
    "sous_nutrition_thailande_sum\n",
    "capacity = manioc_export_feed\n",
    "sous_nutrition_thailande_percent = 100\n",
    "capacity_percent = capacity / sous_nutrition_thailande_sum * 100\n",
    "\n",
    "# Create a bar chart using Plotly\n",
    "fig = go.Figure(\n",
    "    data=[\n",
    "        go.Bar(\n",
    "            name=\"Population\",\n",
    "            x=[\"Population\"],\n",
    "            y=[sous_nutrition_thailande_sum],\n",
    "            marker_color=\"red\",\n",
    "            text=[f\"{sous_nutrition_thailande_percent:.0f}%\"],\n",
    "            textposition=\"outside\",\n",
    "        ),\n",
    "        go.Bar(\n",
    "            name=\"Capacity\",\n",
    "            x=[\"Capacity\"],\n",
    "            y=[capacity],\n",
    "            marker_color=\"green\",\n",
    "            text=[f\"{capacity_percent:.0f}%\"],\n",
    "            textposition=\"outside\",\n",
    "        ),\n",
    "    ]\n",
    ")\n",
    "\n",
    "# Update the layout\n",
    "fig.update_layout(\n",
    "    title=\"Under Nurrished Population vs Feeding Capacity by Manioc in Thailand\",\n",
    "    yaxis_title=\"Population\",\n",
    "    barmode=\"group\",\n",
    "    showlegend=False,\n",
    "    width=800,\n",
    "    height=600,\n",
    "    paper_bgcolor=\"rgba(0,0,0,0)\",  # make the paper background transparent\n",
    "    plot_bgcolor=\"rgba(0,0,0,0)\",  # make the plot background transparent\n",
    "    font=dict(color=\"white\", size=14),\n",
    ")\n",
    "\n",
    "# Add annotations one by one\n",
    "fig.add_annotation(\n",
    "    x=\"Population\",\n",
    "    y=sous_nutrition_thailande_sum / 2,\n",
    "    text=f\"{sous_nutrition_thailande_sum/1_000_000:.1f} Million\",\n",
    "    showarrow=False,\n",
    "    font=dict(color=\"white\", size=30),\n",
    ")\n",
    "\n",
    "fig.add_annotation(\n",
    "    x=\"Capacity\",\n",
    "    y=capacity / 2,\n",
    "    text=f\"{capacity/1_000_000:.1f} Million\",\n",
    "    showarrow=False,\n",
    "    font=dict(color=\"white\", size=30),\n",
    ")\n",
    "\n",
    "# Show the figure\n",
    "fig.show()\n",
    "fig.write_image(\"src/main/extracted_data/13.svg\")"
   ]
  },
  {
   "cell_type": "markdown",
   "id": "e8ef6d95",
   "metadata": {},
   "source": [
    "# Analyse complémentaires"
   ]
  },
  {
   "cell_type": "markdown",
   "id": "6329f19d",
   "metadata": {},
   "source": [
    "## 16. <a id='toc16_'></a>[Top 10 des pays les plus producteurs](#toc0_)"
   ]
  },
  {
   "cell_type": "code",
   "execution_count": 87,
   "id": "9fe0d96f",
   "metadata": {},
   "outputs": [
    {
     "data": {
      "text/html": [
       "<div>\n",
       "<style scoped>\n",
       "    .dataframe tbody tr th:only-of-type {\n",
       "        vertical-align: middle;\n",
       "    }\n",
       "\n",
       "    .dataframe tbody tr th {\n",
       "        vertical-align: top;\n",
       "    }\n",
       "\n",
       "    .dataframe thead th {\n",
       "        text-align: right;\n",
       "    }\n",
       "</style>\n",
       "<table border=\"1\" class=\"dataframe\">\n",
       "  <thead>\n",
       "    <tr style=\"text-align: right;\">\n",
       "      <th></th>\n",
       "      <th>Exportations - Quantité</th>\n",
       "      <th>Importations - Quantité</th>\n",
       "      <th>Production</th>\n",
       "    </tr>\n",
       "    <tr>\n",
       "      <th>Zone</th>\n",
       "      <th></th>\n",
       "      <th></th>\n",
       "      <th></th>\n",
       "    </tr>\n",
       "  </thead>\n",
       "  <tbody>\n",
       "    <tr>\n",
       "      <th>Chine, continentale</th>\n",
       "      <td>36,060,000,000.00</td>\n",
       "      <td>156,246,000,000.00</td>\n",
       "      <td>1,930,913,000,000.00</td>\n",
       "    </tr>\n",
       "    <tr>\n",
       "      <th>Brésil</th>\n",
       "      <td>126,552,000,000.00</td>\n",
       "      <td>16,817,000,000.00</td>\n",
       "      <td>1,143,605,000,000.00</td>\n",
       "    </tr>\n",
       "    <tr>\n",
       "      <th>Inde</th>\n",
       "      <td>40,807,000,000.00</td>\n",
       "      <td>18,954,000,000.00</td>\n",
       "      <td>1,126,270,000,000.00</td>\n",
       "    </tr>\n",
       "    <tr>\n",
       "      <th>États-Unis d'Amérique</th>\n",
       "      <td>163,524,000,000.00</td>\n",
       "      <td>81,887,000,000.00</td>\n",
       "      <td>894,668,000,000.00</td>\n",
       "    </tr>\n",
       "    <tr>\n",
       "      <th>Fédération de Russie</th>\n",
       "      <td>26,777,000,000.00</td>\n",
       "      <td>30,449,000,000.00</td>\n",
       "      <td>263,296,000,000.00</td>\n",
       "    </tr>\n",
       "    <tr>\n",
       "      <th>Indonésie</th>\n",
       "      <td>31,912,000,000.00</td>\n",
       "      <td>23,466,000,000.00</td>\n",
       "      <td>238,559,000,000.00</td>\n",
       "    </tr>\n",
       "    <tr>\n",
       "      <th>Thaïlande</th>\n",
       "      <td>50,430,000,000.00</td>\n",
       "      <td>11,335,000,000.00</td>\n",
       "      <td>201,764,000,000.00</td>\n",
       "    </tr>\n",
       "    <tr>\n",
       "      <th>Nigéria</th>\n",
       "      <td>748,000,000.00</td>\n",
       "      <td>14,510,000,000.00</td>\n",
       "      <td>179,631,000,000.00</td>\n",
       "    </tr>\n",
       "    <tr>\n",
       "      <th>France</th>\n",
       "      <td>65,945,000,000.00</td>\n",
       "      <td>33,769,000,000.00</td>\n",
       "      <td>178,136,000,000.00</td>\n",
       "    </tr>\n",
       "    <tr>\n",
       "      <th>Argentine</th>\n",
       "      <td>52,333,000,000.00</td>\n",
       "      <td>1,212,000,000.00</td>\n",
       "      <td>176,124,000,000.00</td>\n",
       "    </tr>\n",
       "  </tbody>\n",
       "</table>\n",
       "</div>"
      ],
      "text/plain": [
       "                       Exportations - Quantité  Importations - Quantité  \\\n",
       "Zone                                                                      \n",
       "Chine, continentale          36,060,000,000.00       156,246,000,000.00   \n",
       "Brésil                      126,552,000,000.00        16,817,000,000.00   \n",
       "Inde                         40,807,000,000.00        18,954,000,000.00   \n",
       "États-Unis d'Amérique       163,524,000,000.00        81,887,000,000.00   \n",
       "Fédération de Russie         26,777,000,000.00        30,449,000,000.00   \n",
       "Indonésie                    31,912,000,000.00        23,466,000,000.00   \n",
       "Thaïlande                    50,430,000,000.00        11,335,000,000.00   \n",
       "Nigéria                         748,000,000.00        14,510,000,000.00   \n",
       "France                       65,945,000,000.00        33,769,000,000.00   \n",
       "Argentine                    52,333,000,000.00         1,212,000,000.00   \n",
       "\n",
       "                                Production  \n",
       "Zone                                        \n",
       "Chine, continentale   1,930,913,000,000.00  \n",
       "Brésil                1,143,605,000,000.00  \n",
       "Inde                  1,126,270,000,000.00  \n",
       "États-Unis d'Amérique   894,668,000,000.00  \n",
       "Fédération de Russie    263,296,000,000.00  \n",
       "Indonésie               238,559,000,000.00  \n",
       "Thaïlande               201,764,000,000.00  \n",
       "Nigéria                 179,631,000,000.00  \n",
       "France                  178,136,000,000.00  \n",
       "Argentine               176,124,000,000.00  "
      ]
     },
     "execution_count": 87,
     "metadata": {},
     "output_type": "execute_result"
    }
   ],
   "source": [
    "columns_to_sum = ['Exportations - Quantité', 'Importations - Quantité', 'Production']\n",
    "dispo_alimentaire.groupby('Zone')[columns_to_sum].sum().sort_values(by='Production', ascending=False).head(10)"
   ]
  },
  {
   "cell_type": "code",
   "execution_count": 88,
   "id": "19775b87",
   "metadata": {},
   "outputs": [
    {
     "data": {
      "application/vnd.plotly.v1+json": {
       "config": {
        "plotlyServerURL": "https://plot.ly"
       },
       "data": [
        {
         "marker": {
          "color": [
           1930913000000,
           1143605000000,
           1126270000000,
           894668000000,
           263296000000,
           238559000000,
           201764000000,
           179631000000,
           178136000000,
           176124000000
          ],
          "colorscale": [
           [
            0,
            "rgb(229,229,255)"
           ],
           [
            1,
            "rgb(0,0,255)"
           ]
          ]
         },
         "orientation": "h",
         "text": [
          1.930913,
          1.143605,
          1.12627,
          0.894668,
          0.263296,
          0.238559,
          0.201764,
          0.179631,
          0.178136,
          0.176124
         ],
         "textposition": "outside",
         "texttemplate": "€%{text:,.2f}T",
         "type": "bar",
         "x": [
          1930913000000,
          1143605000000,
          1126270000000,
          894668000000,
          263296000000,
          238559000000,
          201764000000,
          179631000000,
          178136000000,
          176124000000
         ],
         "y": [
          "Chine, continentale",
          "Brésil",
          "Inde",
          "États-Unis d'Amérique",
          "Fédération de Russie",
          "Indonésie",
          "Thaïlande",
          "Nigéria",
          "France",
          "Argentine"
         ]
        }
       ],
       "layout": {
        "font": {
         "color": "white",
         "size": 14
        },
        "height": 700,
        "images": [
         {
          "layer": "above",
          "sizex": 100000000000,
          "sizey": 100000000000,
          "source": "https://flagicons.lipis.dev/flags/4x3/cn.svg",
          "x": 1830913000000,
          "xref": "x",
          "y": -0.43,
          "yref": "y"
         },
         {
          "layer": "above",
          "sizex": 100000000000,
          "sizey": 100000000000,
          "source": "https://flagicons.lipis.dev/flags/4x3/br.svg",
          "x": 1043605000000,
          "xref": "x",
          "y": 0.5700000000000001,
          "yref": "y"
         },
         {
          "layer": "above",
          "sizex": 100000000000,
          "sizey": 100000000000,
          "source": "https://flagicons.lipis.dev/flags/4x3/in.svg",
          "x": 1026270000000,
          "xref": "x",
          "y": 1.57,
          "yref": "y"
         },
         {
          "layer": "above",
          "sizex": 100000000000,
          "sizey": 100000000000,
          "source": "https://flagicons.lipis.dev/flags/4x3/us.svg",
          "x": 794668000000,
          "xref": "x",
          "y": 2.57,
          "yref": "y"
         },
         {
          "layer": "above",
          "sizex": 100000000000,
          "sizey": 100000000000,
          "source": "https://flagicons.lipis.dev/flags/4x3/ru.svg",
          "x": 163296000000,
          "xref": "x",
          "y": 3.57,
          "yref": "y"
         },
         {
          "layer": "above",
          "sizex": 100000000000,
          "sizey": 100000000000,
          "source": "https://flagicons.lipis.dev/flags/4x3/id.svg",
          "x": 138559000000,
          "xref": "x",
          "y": 4.57,
          "yref": "y"
         },
         {
          "layer": "above",
          "sizex": 100000000000,
          "sizey": 100000000000,
          "source": "https://flagicons.lipis.dev/flags/4x3/th.svg",
          "x": 101764000000,
          "xref": "x",
          "y": 5.57,
          "yref": "y"
         },
         {
          "layer": "above",
          "sizex": 100000000000,
          "sizey": 100000000000,
          "source": "https://flagicons.lipis.dev/flags/4x3/ng.svg",
          "x": 79631000000,
          "xref": "x",
          "y": 6.57,
          "yref": "y"
         },
         {
          "layer": "above",
          "sizex": 100000000000,
          "sizey": 100000000000,
          "source": "https://flagicons.lipis.dev/flags/4x3/fr.svg",
          "x": 78136000000,
          "xref": "x",
          "y": 7.57,
          "yref": "y"
         },
         {
          "layer": "above",
          "sizex": 100000000000,
          "sizey": 100000000000,
          "source": "https://flagicons.lipis.dev/flags/4x3/ar.svg",
          "x": 76124000000,
          "xref": "x",
          "y": 8.57,
          "yref": "y"
         }
        ],
        "paper_bgcolor": "rgba(0,0,0,0)",
        "plot_bgcolor": "rgba(0,0,0,0)",
        "template": {
         "data": {
          "bar": [
           {
            "error_x": {
             "color": "#2a3f5f"
            },
            "error_y": {
             "color": "#2a3f5f"
            },
            "marker": {
             "line": {
              "color": "white",
              "width": 0.5
             },
             "pattern": {
              "fillmode": "overlay",
              "size": 10,
              "solidity": 0.2
             }
            },
            "type": "bar"
           }
          ],
          "barpolar": [
           {
            "marker": {
             "line": {
              "color": "white",
              "width": 0.5
             },
             "pattern": {
              "fillmode": "overlay",
              "size": 10,
              "solidity": 0.2
             }
            },
            "type": "barpolar"
           }
          ],
          "carpet": [
           {
            "aaxis": {
             "endlinecolor": "#2a3f5f",
             "gridcolor": "#C8D4E3",
             "linecolor": "#C8D4E3",
             "minorgridcolor": "#C8D4E3",
             "startlinecolor": "#2a3f5f"
            },
            "baxis": {
             "endlinecolor": "#2a3f5f",
             "gridcolor": "#C8D4E3",
             "linecolor": "#C8D4E3",
             "minorgridcolor": "#C8D4E3",
             "startlinecolor": "#2a3f5f"
            },
            "type": "carpet"
           }
          ],
          "choropleth": [
           {
            "colorbar": {
             "outlinewidth": 0,
             "ticks": ""
            },
            "type": "choropleth"
           }
          ],
          "contour": [
           {
            "colorbar": {
             "outlinewidth": 0,
             "ticks": ""
            },
            "colorscale": [
             [
              0,
              "#0d0887"
             ],
             [
              0.1111111111111111,
              "#46039f"
             ],
             [
              0.2222222222222222,
              "#7201a8"
             ],
             [
              0.3333333333333333,
              "#9c179e"
             ],
             [
              0.4444444444444444,
              "#bd3786"
             ],
             [
              0.5555555555555556,
              "#d8576b"
             ],
             [
              0.6666666666666666,
              "#ed7953"
             ],
             [
              0.7777777777777778,
              "#fb9f3a"
             ],
             [
              0.8888888888888888,
              "#fdca26"
             ],
             [
              1,
              "#f0f921"
             ]
            ],
            "type": "contour"
           }
          ],
          "contourcarpet": [
           {
            "colorbar": {
             "outlinewidth": 0,
             "ticks": ""
            },
            "type": "contourcarpet"
           }
          ],
          "heatmap": [
           {
            "colorbar": {
             "outlinewidth": 0,
             "ticks": ""
            },
            "colorscale": [
             [
              0,
              "#0d0887"
             ],
             [
              0.1111111111111111,
              "#46039f"
             ],
             [
              0.2222222222222222,
              "#7201a8"
             ],
             [
              0.3333333333333333,
              "#9c179e"
             ],
             [
              0.4444444444444444,
              "#bd3786"
             ],
             [
              0.5555555555555556,
              "#d8576b"
             ],
             [
              0.6666666666666666,
              "#ed7953"
             ],
             [
              0.7777777777777778,
              "#fb9f3a"
             ],
             [
              0.8888888888888888,
              "#fdca26"
             ],
             [
              1,
              "#f0f921"
             ]
            ],
            "type": "heatmap"
           }
          ],
          "heatmapgl": [
           {
            "colorbar": {
             "outlinewidth": 0,
             "ticks": ""
            },
            "colorscale": [
             [
              0,
              "#0d0887"
             ],
             [
              0.1111111111111111,
              "#46039f"
             ],
             [
              0.2222222222222222,
              "#7201a8"
             ],
             [
              0.3333333333333333,
              "#9c179e"
             ],
             [
              0.4444444444444444,
              "#bd3786"
             ],
             [
              0.5555555555555556,
              "#d8576b"
             ],
             [
              0.6666666666666666,
              "#ed7953"
             ],
             [
              0.7777777777777778,
              "#fb9f3a"
             ],
             [
              0.8888888888888888,
              "#fdca26"
             ],
             [
              1,
              "#f0f921"
             ]
            ],
            "type": "heatmapgl"
           }
          ],
          "histogram": [
           {
            "marker": {
             "pattern": {
              "fillmode": "overlay",
              "size": 10,
              "solidity": 0.2
             }
            },
            "type": "histogram"
           }
          ],
          "histogram2d": [
           {
            "colorbar": {
             "outlinewidth": 0,
             "ticks": ""
            },
            "colorscale": [
             [
              0,
              "#0d0887"
             ],
             [
              0.1111111111111111,
              "#46039f"
             ],
             [
              0.2222222222222222,
              "#7201a8"
             ],
             [
              0.3333333333333333,
              "#9c179e"
             ],
             [
              0.4444444444444444,
              "#bd3786"
             ],
             [
              0.5555555555555556,
              "#d8576b"
             ],
             [
              0.6666666666666666,
              "#ed7953"
             ],
             [
              0.7777777777777778,
              "#fb9f3a"
             ],
             [
              0.8888888888888888,
              "#fdca26"
             ],
             [
              1,
              "#f0f921"
             ]
            ],
            "type": "histogram2d"
           }
          ],
          "histogram2dcontour": [
           {
            "colorbar": {
             "outlinewidth": 0,
             "ticks": ""
            },
            "colorscale": [
             [
              0,
              "#0d0887"
             ],
             [
              0.1111111111111111,
              "#46039f"
             ],
             [
              0.2222222222222222,
              "#7201a8"
             ],
             [
              0.3333333333333333,
              "#9c179e"
             ],
             [
              0.4444444444444444,
              "#bd3786"
             ],
             [
              0.5555555555555556,
              "#d8576b"
             ],
             [
              0.6666666666666666,
              "#ed7953"
             ],
             [
              0.7777777777777778,
              "#fb9f3a"
             ],
             [
              0.8888888888888888,
              "#fdca26"
             ],
             [
              1,
              "#f0f921"
             ]
            ],
            "type": "histogram2dcontour"
           }
          ],
          "mesh3d": [
           {
            "colorbar": {
             "outlinewidth": 0,
             "ticks": ""
            },
            "type": "mesh3d"
           }
          ],
          "parcoords": [
           {
            "line": {
             "colorbar": {
              "outlinewidth": 0,
              "ticks": ""
             }
            },
            "type": "parcoords"
           }
          ],
          "pie": [
           {
            "automargin": true,
            "type": "pie"
           }
          ],
          "scatter": [
           {
            "fillpattern": {
             "fillmode": "overlay",
             "size": 10,
             "solidity": 0.2
            },
            "type": "scatter"
           }
          ],
          "scatter3d": [
           {
            "line": {
             "colorbar": {
              "outlinewidth": 0,
              "ticks": ""
             }
            },
            "marker": {
             "colorbar": {
              "outlinewidth": 0,
              "ticks": ""
             }
            },
            "type": "scatter3d"
           }
          ],
          "scattercarpet": [
           {
            "marker": {
             "colorbar": {
              "outlinewidth": 0,
              "ticks": ""
             }
            },
            "type": "scattercarpet"
           }
          ],
          "scattergeo": [
           {
            "marker": {
             "colorbar": {
              "outlinewidth": 0,
              "ticks": ""
             }
            },
            "type": "scattergeo"
           }
          ],
          "scattergl": [
           {
            "marker": {
             "colorbar": {
              "outlinewidth": 0,
              "ticks": ""
             }
            },
            "type": "scattergl"
           }
          ],
          "scattermapbox": [
           {
            "marker": {
             "colorbar": {
              "outlinewidth": 0,
              "ticks": ""
             }
            },
            "type": "scattermapbox"
           }
          ],
          "scatterpolar": [
           {
            "marker": {
             "colorbar": {
              "outlinewidth": 0,
              "ticks": ""
             }
            },
            "type": "scatterpolar"
           }
          ],
          "scatterpolargl": [
           {
            "marker": {
             "colorbar": {
              "outlinewidth": 0,
              "ticks": ""
             }
            },
            "type": "scatterpolargl"
           }
          ],
          "scatterternary": [
           {
            "marker": {
             "colorbar": {
              "outlinewidth": 0,
              "ticks": ""
             }
            },
            "type": "scatterternary"
           }
          ],
          "surface": [
           {
            "colorbar": {
             "outlinewidth": 0,
             "ticks": ""
            },
            "colorscale": [
             [
              0,
              "#0d0887"
             ],
             [
              0.1111111111111111,
              "#46039f"
             ],
             [
              0.2222222222222222,
              "#7201a8"
             ],
             [
              0.3333333333333333,
              "#9c179e"
             ],
             [
              0.4444444444444444,
              "#bd3786"
             ],
             [
              0.5555555555555556,
              "#d8576b"
             ],
             [
              0.6666666666666666,
              "#ed7953"
             ],
             [
              0.7777777777777778,
              "#fb9f3a"
             ],
             [
              0.8888888888888888,
              "#fdca26"
             ],
             [
              1,
              "#f0f921"
             ]
            ],
            "type": "surface"
           }
          ],
          "table": [
           {
            "cells": {
             "fill": {
              "color": "#EBF0F8"
             },
             "line": {
              "color": "white"
             }
            },
            "header": {
             "fill": {
              "color": "#C8D4E3"
             },
             "line": {
              "color": "white"
             }
            },
            "type": "table"
           }
          ]
         },
         "layout": {
          "annotationdefaults": {
           "arrowcolor": "#2a3f5f",
           "arrowhead": 0,
           "arrowwidth": 1
          },
          "autotypenumbers": "strict",
          "coloraxis": {
           "colorbar": {
            "outlinewidth": 0,
            "ticks": ""
           }
          },
          "colorscale": {
           "diverging": [
            [
             0,
             "#8e0152"
            ],
            [
             0.1,
             "#c51b7d"
            ],
            [
             0.2,
             "#de77ae"
            ],
            [
             0.3,
             "#f1b6da"
            ],
            [
             0.4,
             "#fde0ef"
            ],
            [
             0.5,
             "#f7f7f7"
            ],
            [
             0.6,
             "#e6f5d0"
            ],
            [
             0.7,
             "#b8e186"
            ],
            [
             0.8,
             "#7fbc41"
            ],
            [
             0.9,
             "#4d9221"
            ],
            [
             1,
             "#276419"
            ]
           ],
           "sequential": [
            [
             0,
             "#0d0887"
            ],
            [
             0.1111111111111111,
             "#46039f"
            ],
            [
             0.2222222222222222,
             "#7201a8"
            ],
            [
             0.3333333333333333,
             "#9c179e"
            ],
            [
             0.4444444444444444,
             "#bd3786"
            ],
            [
             0.5555555555555556,
             "#d8576b"
            ],
            [
             0.6666666666666666,
             "#ed7953"
            ],
            [
             0.7777777777777778,
             "#fb9f3a"
            ],
            [
             0.8888888888888888,
             "#fdca26"
            ],
            [
             1,
             "#f0f921"
            ]
           ],
           "sequentialminus": [
            [
             0,
             "#0d0887"
            ],
            [
             0.1111111111111111,
             "#46039f"
            ],
            [
             0.2222222222222222,
             "#7201a8"
            ],
            [
             0.3333333333333333,
             "#9c179e"
            ],
            [
             0.4444444444444444,
             "#bd3786"
            ],
            [
             0.5555555555555556,
             "#d8576b"
            ],
            [
             0.6666666666666666,
             "#ed7953"
            ],
            [
             0.7777777777777778,
             "#fb9f3a"
            ],
            [
             0.8888888888888888,
             "#fdca26"
            ],
            [
             1,
             "#f0f921"
            ]
           ]
          },
          "colorway": [
           "#636efa",
           "#EF553B",
           "#00cc96",
           "#ab63fa",
           "#FFA15A",
           "#19d3f3",
           "#FF6692",
           "#B6E880",
           "#FF97FF",
           "#FECB52"
          ],
          "font": {
           "color": "#2a3f5f"
          },
          "geo": {
           "bgcolor": "white",
           "lakecolor": "white",
           "landcolor": "white",
           "showlakes": true,
           "showland": true,
           "subunitcolor": "#C8D4E3"
          },
          "hoverlabel": {
           "align": "left"
          },
          "hovermode": "closest",
          "mapbox": {
           "style": "light"
          },
          "paper_bgcolor": "white",
          "plot_bgcolor": "white",
          "polar": {
           "angularaxis": {
            "gridcolor": "#EBF0F8",
            "linecolor": "#EBF0F8",
            "ticks": ""
           },
           "bgcolor": "white",
           "radialaxis": {
            "gridcolor": "#EBF0F8",
            "linecolor": "#EBF0F8",
            "ticks": ""
           }
          },
          "scene": {
           "xaxis": {
            "backgroundcolor": "white",
            "gridcolor": "#DFE8F3",
            "gridwidth": 2,
            "linecolor": "#EBF0F8",
            "showbackground": true,
            "ticks": "",
            "zerolinecolor": "#EBF0F8"
           },
           "yaxis": {
            "backgroundcolor": "white",
            "gridcolor": "#DFE8F3",
            "gridwidth": 2,
            "linecolor": "#EBF0F8",
            "showbackground": true,
            "ticks": "",
            "zerolinecolor": "#EBF0F8"
           },
           "zaxis": {
            "backgroundcolor": "white",
            "gridcolor": "#DFE8F3",
            "gridwidth": 2,
            "linecolor": "#EBF0F8",
            "showbackground": true,
            "ticks": "",
            "zerolinecolor": "#EBF0F8"
           }
          },
          "shapedefaults": {
           "line": {
            "color": "#2a3f5f"
           }
          },
          "ternary": {
           "aaxis": {
            "gridcolor": "#DFE8F3",
            "linecolor": "#A2B1C6",
            "ticks": ""
           },
           "baxis": {
            "gridcolor": "#DFE8F3",
            "linecolor": "#A2B1C6",
            "ticks": ""
           },
           "bgcolor": "white",
           "caxis": {
            "gridcolor": "#DFE8F3",
            "linecolor": "#A2B1C6",
            "ticks": ""
           }
          },
          "title": {
           "x": 0.05
          },
          "xaxis": {
           "automargin": true,
           "gridcolor": "#EBF0F8",
           "linecolor": "#EBF0F8",
           "ticks": "",
           "title": {
            "standoff": 15
           },
           "zerolinecolor": "#EBF0F8",
           "zerolinewidth": 2
          },
          "yaxis": {
           "automargin": true,
           "gridcolor": "#EBF0F8",
           "linecolor": "#EBF0F8",
           "ticks": "",
           "title": {
            "standoff": 15
           },
           "zerolinecolor": "#EBF0F8",
           "zerolinewidth": 2
          }
         }
        },
        "title": {
         "text": "Top 10 Pays avec le plus de Production"
        },
        "width": 1500,
        "xaxis": {
         "linecolor": "white",
         "linewidth": 1,
         "showgrid": false,
         "showline": true,
         "title": {
          "text": "Production (€)"
         }
        },
        "yaxis": {
         "autorange": "reversed",
         "title": {
          "text": ""
         }
        }
       }
      }
     },
     "metadata": {},
     "output_type": "display_data"
    }
   ],
   "source": [
    "# Group and sort the data\n",
    "top_production = dispo_alimentaire.groupby('Zone')[columns_to_sum].sum().sort_values(by='Production', ascending=False).head(10)\n",
    "# top_production.set_index('Zone', inplace=True)\n",
    "\n",
    "# Create the Plotly bar chart\n",
    "fig = go.Figure(go.Bar(\n",
    "    x=top_production['Production'],\n",
    "    y=top_production.index,\n",
    "    orientation='h',\n",
    "    marker=dict(\n",
    "        color=top_production['Production'],\n",
    "        # colorscale='Blues',  # Change to a continuous color scale\n",
    "        colorscale=[\"rgb(229,229,255)\", \"rgb(0,0,255)\"]\n",
    "        # reversescale=True,  # Add this line to reverse the color scale\n",
    "        # colorbar=dict(\n",
    "        #     title='Kcal/personne/jour',\n",
    "        #     tickvals=top_production['Production']\n",
    "        # )\n",
    "    ),\n",
    "    text=top_production['Production'] / 1_000_000_000_000,\n",
    "\n",
    "))\n",
    "\n",
    "fig.update_layout(\n",
    "    title='Top 10 Pays avec le plus de Production',\n",
    "    xaxis_title='Production (€)',\n",
    "    yaxis_title='',\n",
    "    yaxis=dict(autorange='reversed'),  # Invert the y-axis to display the country with the highest number at the top\n",
    "    template='plotly_white',\n",
    "    width= 1500,\n",
    "    height= 700,\n",
    "    paper_bgcolor=\"rgba(0,0,0,0)\",  # make the paper background transparent\n",
    "    plot_bgcolor=\"rgba(0,0,0,0)\",  # make the plot background transparent\n",
    "    font=dict(color=\"white\", size=14),\n",
    ")\n",
    "\n",
    "# URLs of the images\n",
    "image_urls = [\n",
    "    \"https://flagicons.lipis.dev/flags/4x3/cn.svg\",\n",
    "    \"https://flagicons.lipis.dev/flags/4x3/br.svg\",\n",
    "    \"https://flagicons.lipis.dev/flags/4x3/in.svg\",\n",
    "    \"https://flagicons.lipis.dev/flags/4x3/us.svg\",\n",
    "    \"https://flagicons.lipis.dev/flags/4x3/ru.svg\",\n",
    "    \"https://flagicons.lipis.dev/flags/4x3/id.svg\",\n",
    "    \"https://flagicons.lipis.dev/flags/4x3/th.svg\",\n",
    "    \"https://flagicons.lipis.dev/flags/4x3/ng.svg\",\n",
    "    \"https://flagicons.lipis.dev/flags/4x3/fr.svg\",\n",
    "    \"https://flagicons.lipis.dev/flags/4x3/ar.svg\"\n",
    "]\n",
    "\n",
    "# Positions of the images\n",
    "proportions = top_production['Production'].tolist()\n",
    "positions = [(proportions-100_000_000_000, i-0.43) for i, proportions in enumerate(proportions)]\n",
    "\n",
    "for url, (x, y) in zip(image_urls, positions):\n",
    "    fig.add_layout_image(\n",
    "        dict(\n",
    "            source=url,\n",
    "            xref=\"x\",\n",
    "            yref=\"y\",\n",
    "            x=x,\n",
    "            y=y,\n",
    "            sizex=100_000_000_000,\n",
    "            sizey=100_000_000_000,\n",
    "            layer=\"above\",\n",
    "        )\n",
    "    )\n",
    "\n",
    "# Format the text to be displayed directly on the bars\n",
    "fig.update_traces(texttemplate='€%{text:,.2f}T', textposition='outside')\n",
    "fig.update_xaxes(showline=True, linewidth=1, linecolor=\"white\", showgrid=False)\n",
    "\n",
    "fig.show()\n",
    "fig.write_image(\"src/main/extracted_data/14.svg\")"
   ]
  },
  {
   "cell_type": "markdown",
   "id": "0501212b",
   "metadata": {},
   "source": [
    "## 17. <a id='toc17_'></a>[Top 10 pays dont la production est la plus faible](#toc0_)"
   ]
  },
  {
   "cell_type": "code",
   "execution_count": 89,
   "id": "88e0b074",
   "metadata": {},
   "outputs": [
    {
     "data": {
      "application/vnd.plotly.v1+json": {
       "config": {
        "plotlyServerURL": "https://plot.ly"
       },
       "data": [
        {
         "marker": {
          "color": [
           6000000,
           16000000,
           20000000,
           40000000,
           47000000,
           60000000,
           68000000,
           76000000,
           78000000,
           119000000
          ],
          "colorscale": [
           [
            0,
            "rgb(255,245,240)"
           ],
           [
            0.125,
            "rgb(254,224,210)"
           ],
           [
            0.25,
            "rgb(252,187,161)"
           ],
           [
            0.375,
            "rgb(252,146,114)"
           ],
           [
            0.5,
            "rgb(251,106,74)"
           ],
           [
            0.625,
            "rgb(239,59,44)"
           ],
           [
            0.75,
            "rgb(203,24,29)"
           ],
           [
            0.875,
            "rgb(165,15,21)"
           ],
           [
            1,
            "rgb(103,0,13)"
           ]
          ]
         },
         "orientation": "h",
         "text": [
          6,
          16,
          20,
          40,
          47,
          60,
          68,
          76,
          78,
          119
         ],
         "textposition": "outside",
         "texttemplate": "€%{text:,.0f}M",
         "type": "bar",
         "x": [
          6000000,
          16000000,
          20000000,
          40000000,
          47000000,
          60000000,
          68000000,
          76000000,
          78000000,
          119000000
         ],
         "y": [
          "Bermudes",
          "Chine - RAS de Macao",
          "Antigua-et-Barbuda",
          "Saint-Kitts-et-Nevis",
          "Grenade",
          "Brunéi Darussalam",
          "Sainte-Lucie",
          "Djibouti",
          "Nouvelle-Calédonie",
          "Dominique"
         ]
        }
       ],
       "layout": {
        "font": {
         "color": "white",
         "size": 14
        },
        "height": 700,
        "images": [
         {
          "layer": "above",
          "sizex": 6000000,
          "sizey": 6000000,
          "source": "https://flagicons.lipis.dev/flags/4x3/bm.svg",
          "x": 0,
          "xref": "x",
          "y": -0.43,
          "yref": "y"
         },
         {
          "layer": "above",
          "sizex": 6000000,
          "sizey": 6000000,
          "source": "https://flagicons.lipis.dev/flags/4x3/mo.svg",
          "x": 10000000,
          "xref": "x",
          "y": 0.5700000000000001,
          "yref": "y"
         },
         {
          "layer": "above",
          "sizex": 6000000,
          "sizey": 6000000,
          "source": "https://flagicons.lipis.dev/flags/4x3/ag.svg",
          "x": 14000000,
          "xref": "x",
          "y": 1.57,
          "yref": "y"
         },
         {
          "layer": "above",
          "sizex": 6000000,
          "sizey": 6000000,
          "source": "https://flagicons.lipis.dev/flags/4x3/kn.svg",
          "x": 34000000,
          "xref": "x",
          "y": 2.57,
          "yref": "y"
         },
         {
          "layer": "above",
          "sizex": 6000000,
          "sizey": 6000000,
          "source": "https://flagicons.lipis.dev/flags/4x3/gd.svg",
          "x": 41000000,
          "xref": "x",
          "y": 3.57,
          "yref": "y"
         },
         {
          "layer": "above",
          "sizex": 6000000,
          "sizey": 6000000,
          "source": "https://flagicons.lipis.dev/flags/4x3/bn.svg",
          "x": 54000000,
          "xref": "x",
          "y": 4.57,
          "yref": "y"
         },
         {
          "layer": "above",
          "sizex": 6000000,
          "sizey": 6000000,
          "source": "https://flagicons.lipis.dev/flags/4x3/lc.svg",
          "x": 62000000,
          "xref": "x",
          "y": 5.57,
          "yref": "y"
         },
         {
          "layer": "above",
          "sizex": 6000000,
          "sizey": 6000000,
          "source": "https://flagicons.lipis.dev/flags/4x3/dj.svg",
          "x": 70000000,
          "xref": "x",
          "y": 6.57,
          "yref": "y"
         },
         {
          "layer": "above",
          "sizex": 6000000,
          "sizey": 6000000,
          "source": "https://flagicons.lipis.dev/flags/4x3/nc.svg",
          "x": 72000000,
          "xref": "x",
          "y": 7.57,
          "yref": "y"
         },
         {
          "layer": "above",
          "sizex": 6000000,
          "sizey": 6000000,
          "source": "https://flagicons.lipis.dev/flags/4x3/dm.svg",
          "x": 113000000,
          "xref": "x",
          "y": 8.57,
          "yref": "y"
         }
        ],
        "paper_bgcolor": "rgba(0,0,0,0)",
        "plot_bgcolor": "rgba(0,0,0,0)",
        "template": {
         "data": {
          "bar": [
           {
            "error_x": {
             "color": "#2a3f5f"
            },
            "error_y": {
             "color": "#2a3f5f"
            },
            "marker": {
             "line": {
              "color": "white",
              "width": 0.5
             },
             "pattern": {
              "fillmode": "overlay",
              "size": 10,
              "solidity": 0.2
             }
            },
            "type": "bar"
           }
          ],
          "barpolar": [
           {
            "marker": {
             "line": {
              "color": "white",
              "width": 0.5
             },
             "pattern": {
              "fillmode": "overlay",
              "size": 10,
              "solidity": 0.2
             }
            },
            "type": "barpolar"
           }
          ],
          "carpet": [
           {
            "aaxis": {
             "endlinecolor": "#2a3f5f",
             "gridcolor": "#C8D4E3",
             "linecolor": "#C8D4E3",
             "minorgridcolor": "#C8D4E3",
             "startlinecolor": "#2a3f5f"
            },
            "baxis": {
             "endlinecolor": "#2a3f5f",
             "gridcolor": "#C8D4E3",
             "linecolor": "#C8D4E3",
             "minorgridcolor": "#C8D4E3",
             "startlinecolor": "#2a3f5f"
            },
            "type": "carpet"
           }
          ],
          "choropleth": [
           {
            "colorbar": {
             "outlinewidth": 0,
             "ticks": ""
            },
            "type": "choropleth"
           }
          ],
          "contour": [
           {
            "colorbar": {
             "outlinewidth": 0,
             "ticks": ""
            },
            "colorscale": [
             [
              0,
              "#0d0887"
             ],
             [
              0.1111111111111111,
              "#46039f"
             ],
             [
              0.2222222222222222,
              "#7201a8"
             ],
             [
              0.3333333333333333,
              "#9c179e"
             ],
             [
              0.4444444444444444,
              "#bd3786"
             ],
             [
              0.5555555555555556,
              "#d8576b"
             ],
             [
              0.6666666666666666,
              "#ed7953"
             ],
             [
              0.7777777777777778,
              "#fb9f3a"
             ],
             [
              0.8888888888888888,
              "#fdca26"
             ],
             [
              1,
              "#f0f921"
             ]
            ],
            "type": "contour"
           }
          ],
          "contourcarpet": [
           {
            "colorbar": {
             "outlinewidth": 0,
             "ticks": ""
            },
            "type": "contourcarpet"
           }
          ],
          "heatmap": [
           {
            "colorbar": {
             "outlinewidth": 0,
             "ticks": ""
            },
            "colorscale": [
             [
              0,
              "#0d0887"
             ],
             [
              0.1111111111111111,
              "#46039f"
             ],
             [
              0.2222222222222222,
              "#7201a8"
             ],
             [
              0.3333333333333333,
              "#9c179e"
             ],
             [
              0.4444444444444444,
              "#bd3786"
             ],
             [
              0.5555555555555556,
              "#d8576b"
             ],
             [
              0.6666666666666666,
              "#ed7953"
             ],
             [
              0.7777777777777778,
              "#fb9f3a"
             ],
             [
              0.8888888888888888,
              "#fdca26"
             ],
             [
              1,
              "#f0f921"
             ]
            ],
            "type": "heatmap"
           }
          ],
          "heatmapgl": [
           {
            "colorbar": {
             "outlinewidth": 0,
             "ticks": ""
            },
            "colorscale": [
             [
              0,
              "#0d0887"
             ],
             [
              0.1111111111111111,
              "#46039f"
             ],
             [
              0.2222222222222222,
              "#7201a8"
             ],
             [
              0.3333333333333333,
              "#9c179e"
             ],
             [
              0.4444444444444444,
              "#bd3786"
             ],
             [
              0.5555555555555556,
              "#d8576b"
             ],
             [
              0.6666666666666666,
              "#ed7953"
             ],
             [
              0.7777777777777778,
              "#fb9f3a"
             ],
             [
              0.8888888888888888,
              "#fdca26"
             ],
             [
              1,
              "#f0f921"
             ]
            ],
            "type": "heatmapgl"
           }
          ],
          "histogram": [
           {
            "marker": {
             "pattern": {
              "fillmode": "overlay",
              "size": 10,
              "solidity": 0.2
             }
            },
            "type": "histogram"
           }
          ],
          "histogram2d": [
           {
            "colorbar": {
             "outlinewidth": 0,
             "ticks": ""
            },
            "colorscale": [
             [
              0,
              "#0d0887"
             ],
             [
              0.1111111111111111,
              "#46039f"
             ],
             [
              0.2222222222222222,
              "#7201a8"
             ],
             [
              0.3333333333333333,
              "#9c179e"
             ],
             [
              0.4444444444444444,
              "#bd3786"
             ],
             [
              0.5555555555555556,
              "#d8576b"
             ],
             [
              0.6666666666666666,
              "#ed7953"
             ],
             [
              0.7777777777777778,
              "#fb9f3a"
             ],
             [
              0.8888888888888888,
              "#fdca26"
             ],
             [
              1,
              "#f0f921"
             ]
            ],
            "type": "histogram2d"
           }
          ],
          "histogram2dcontour": [
           {
            "colorbar": {
             "outlinewidth": 0,
             "ticks": ""
            },
            "colorscale": [
             [
              0,
              "#0d0887"
             ],
             [
              0.1111111111111111,
              "#46039f"
             ],
             [
              0.2222222222222222,
              "#7201a8"
             ],
             [
              0.3333333333333333,
              "#9c179e"
             ],
             [
              0.4444444444444444,
              "#bd3786"
             ],
             [
              0.5555555555555556,
              "#d8576b"
             ],
             [
              0.6666666666666666,
              "#ed7953"
             ],
             [
              0.7777777777777778,
              "#fb9f3a"
             ],
             [
              0.8888888888888888,
              "#fdca26"
             ],
             [
              1,
              "#f0f921"
             ]
            ],
            "type": "histogram2dcontour"
           }
          ],
          "mesh3d": [
           {
            "colorbar": {
             "outlinewidth": 0,
             "ticks": ""
            },
            "type": "mesh3d"
           }
          ],
          "parcoords": [
           {
            "line": {
             "colorbar": {
              "outlinewidth": 0,
              "ticks": ""
             }
            },
            "type": "parcoords"
           }
          ],
          "pie": [
           {
            "automargin": true,
            "type": "pie"
           }
          ],
          "scatter": [
           {
            "fillpattern": {
             "fillmode": "overlay",
             "size": 10,
             "solidity": 0.2
            },
            "type": "scatter"
           }
          ],
          "scatter3d": [
           {
            "line": {
             "colorbar": {
              "outlinewidth": 0,
              "ticks": ""
             }
            },
            "marker": {
             "colorbar": {
              "outlinewidth": 0,
              "ticks": ""
             }
            },
            "type": "scatter3d"
           }
          ],
          "scattercarpet": [
           {
            "marker": {
             "colorbar": {
              "outlinewidth": 0,
              "ticks": ""
             }
            },
            "type": "scattercarpet"
           }
          ],
          "scattergeo": [
           {
            "marker": {
             "colorbar": {
              "outlinewidth": 0,
              "ticks": ""
             }
            },
            "type": "scattergeo"
           }
          ],
          "scattergl": [
           {
            "marker": {
             "colorbar": {
              "outlinewidth": 0,
              "ticks": ""
             }
            },
            "type": "scattergl"
           }
          ],
          "scattermapbox": [
           {
            "marker": {
             "colorbar": {
              "outlinewidth": 0,
              "ticks": ""
             }
            },
            "type": "scattermapbox"
           }
          ],
          "scatterpolar": [
           {
            "marker": {
             "colorbar": {
              "outlinewidth": 0,
              "ticks": ""
             }
            },
            "type": "scatterpolar"
           }
          ],
          "scatterpolargl": [
           {
            "marker": {
             "colorbar": {
              "outlinewidth": 0,
              "ticks": ""
             }
            },
            "type": "scatterpolargl"
           }
          ],
          "scatterternary": [
           {
            "marker": {
             "colorbar": {
              "outlinewidth": 0,
              "ticks": ""
             }
            },
            "type": "scatterternary"
           }
          ],
          "surface": [
           {
            "colorbar": {
             "outlinewidth": 0,
             "ticks": ""
            },
            "colorscale": [
             [
              0,
              "#0d0887"
             ],
             [
              0.1111111111111111,
              "#46039f"
             ],
             [
              0.2222222222222222,
              "#7201a8"
             ],
             [
              0.3333333333333333,
              "#9c179e"
             ],
             [
              0.4444444444444444,
              "#bd3786"
             ],
             [
              0.5555555555555556,
              "#d8576b"
             ],
             [
              0.6666666666666666,
              "#ed7953"
             ],
             [
              0.7777777777777778,
              "#fb9f3a"
             ],
             [
              0.8888888888888888,
              "#fdca26"
             ],
             [
              1,
              "#f0f921"
             ]
            ],
            "type": "surface"
           }
          ],
          "table": [
           {
            "cells": {
             "fill": {
              "color": "#EBF0F8"
             },
             "line": {
              "color": "white"
             }
            },
            "header": {
             "fill": {
              "color": "#C8D4E3"
             },
             "line": {
              "color": "white"
             }
            },
            "type": "table"
           }
          ]
         },
         "layout": {
          "annotationdefaults": {
           "arrowcolor": "#2a3f5f",
           "arrowhead": 0,
           "arrowwidth": 1
          },
          "autotypenumbers": "strict",
          "coloraxis": {
           "colorbar": {
            "outlinewidth": 0,
            "ticks": ""
           }
          },
          "colorscale": {
           "diverging": [
            [
             0,
             "#8e0152"
            ],
            [
             0.1,
             "#c51b7d"
            ],
            [
             0.2,
             "#de77ae"
            ],
            [
             0.3,
             "#f1b6da"
            ],
            [
             0.4,
             "#fde0ef"
            ],
            [
             0.5,
             "#f7f7f7"
            ],
            [
             0.6,
             "#e6f5d0"
            ],
            [
             0.7,
             "#b8e186"
            ],
            [
             0.8,
             "#7fbc41"
            ],
            [
             0.9,
             "#4d9221"
            ],
            [
             1,
             "#276419"
            ]
           ],
           "sequential": [
            [
             0,
             "#0d0887"
            ],
            [
             0.1111111111111111,
             "#46039f"
            ],
            [
             0.2222222222222222,
             "#7201a8"
            ],
            [
             0.3333333333333333,
             "#9c179e"
            ],
            [
             0.4444444444444444,
             "#bd3786"
            ],
            [
             0.5555555555555556,
             "#d8576b"
            ],
            [
             0.6666666666666666,
             "#ed7953"
            ],
            [
             0.7777777777777778,
             "#fb9f3a"
            ],
            [
             0.8888888888888888,
             "#fdca26"
            ],
            [
             1,
             "#f0f921"
            ]
           ],
           "sequentialminus": [
            [
             0,
             "#0d0887"
            ],
            [
             0.1111111111111111,
             "#46039f"
            ],
            [
             0.2222222222222222,
             "#7201a8"
            ],
            [
             0.3333333333333333,
             "#9c179e"
            ],
            [
             0.4444444444444444,
             "#bd3786"
            ],
            [
             0.5555555555555556,
             "#d8576b"
            ],
            [
             0.6666666666666666,
             "#ed7953"
            ],
            [
             0.7777777777777778,
             "#fb9f3a"
            ],
            [
             0.8888888888888888,
             "#fdca26"
            ],
            [
             1,
             "#f0f921"
            ]
           ]
          },
          "colorway": [
           "#636efa",
           "#EF553B",
           "#00cc96",
           "#ab63fa",
           "#FFA15A",
           "#19d3f3",
           "#FF6692",
           "#B6E880",
           "#FF97FF",
           "#FECB52"
          ],
          "font": {
           "color": "#2a3f5f"
          },
          "geo": {
           "bgcolor": "white",
           "lakecolor": "white",
           "landcolor": "white",
           "showlakes": true,
           "showland": true,
           "subunitcolor": "#C8D4E3"
          },
          "hoverlabel": {
           "align": "left"
          },
          "hovermode": "closest",
          "mapbox": {
           "style": "light"
          },
          "paper_bgcolor": "white",
          "plot_bgcolor": "white",
          "polar": {
           "angularaxis": {
            "gridcolor": "#EBF0F8",
            "linecolor": "#EBF0F8",
            "ticks": ""
           },
           "bgcolor": "white",
           "radialaxis": {
            "gridcolor": "#EBF0F8",
            "linecolor": "#EBF0F8",
            "ticks": ""
           }
          },
          "scene": {
           "xaxis": {
            "backgroundcolor": "white",
            "gridcolor": "#DFE8F3",
            "gridwidth": 2,
            "linecolor": "#EBF0F8",
            "showbackground": true,
            "ticks": "",
            "zerolinecolor": "#EBF0F8"
           },
           "yaxis": {
            "backgroundcolor": "white",
            "gridcolor": "#DFE8F3",
            "gridwidth": 2,
            "linecolor": "#EBF0F8",
            "showbackground": true,
            "ticks": "",
            "zerolinecolor": "#EBF0F8"
           },
           "zaxis": {
            "backgroundcolor": "white",
            "gridcolor": "#DFE8F3",
            "gridwidth": 2,
            "linecolor": "#EBF0F8",
            "showbackground": true,
            "ticks": "",
            "zerolinecolor": "#EBF0F8"
           }
          },
          "shapedefaults": {
           "line": {
            "color": "#2a3f5f"
           }
          },
          "ternary": {
           "aaxis": {
            "gridcolor": "#DFE8F3",
            "linecolor": "#A2B1C6",
            "ticks": ""
           },
           "baxis": {
            "gridcolor": "#DFE8F3",
            "linecolor": "#A2B1C6",
            "ticks": ""
           },
           "bgcolor": "white",
           "caxis": {
            "gridcolor": "#DFE8F3",
            "linecolor": "#A2B1C6",
            "ticks": ""
           }
          },
          "title": {
           "x": 0.05
          },
          "xaxis": {
           "automargin": true,
           "gridcolor": "#EBF0F8",
           "linecolor": "#EBF0F8",
           "ticks": "",
           "title": {
            "standoff": 15
           },
           "zerolinecolor": "#EBF0F8",
           "zerolinewidth": 2
          },
          "yaxis": {
           "automargin": true,
           "gridcolor": "#EBF0F8",
           "linecolor": "#EBF0F8",
           "ticks": "",
           "title": {
            "standoff": 15
           },
           "zerolinecolor": "#EBF0F8",
           "zerolinewidth": 2
          }
         }
        },
        "title": {
         "text": "Top 10 Pays avec the least de Production"
        },
        "width": 1500,
        "xaxis": {
         "linecolor": "white",
         "linewidth": 1,
         "showgrid": false,
         "showline": true,
         "title": {
          "text": "Production (€)"
         }
        },
        "yaxis": {
         "autorange": "reversed",
         "title": {
          "text": ""
         }
        }
       }
      }
     },
     "metadata": {},
     "output_type": "display_data"
    }
   ],
   "source": [
    "# Group and sort the data\n",
    "least_production = dispo_alimentaire.groupby('Zone')[columns_to_sum].sum().sort_values(by='Production', ascending=True).head(10)\n",
    "# least_production.set_index('Zone', inplace=True)\n",
    "\n",
    "# Create the Plotly bar chart\n",
    "fig = go.Figure(go.Bar(\n",
    "    x=least_production['Production'],\n",
    "    y=least_production.index,\n",
    "    orientation='h',\n",
    "    marker=dict(\n",
    "        color=least_production['Production'],\n",
    "        colorscale='Reds',  # Change to a continuous color scale\n",
    "        # colorscale=[\"rgb(229,229,255)\", \"rgb(0,0,255)\"]\n",
    "        # reversescale=True,  # Add this line to reverse the color scale\n",
    "        # colorbar=dict(\n",
    "        #     title='Kcal/personne/jour',\n",
    "        #     tickvals=least_production['Production']\n",
    "        # )\n",
    "    ),\n",
    "    text=least_production['Production'] / 1_000_000,\n",
    "\n",
    "))\n",
    "\n",
    "fig.update_layout(\n",
    "    title='Top 10 Pays avec the least de Production',\n",
    "    xaxis_title='Production (€)',\n",
    "    yaxis_title='',\n",
    "    yaxis=dict(autorange='reversed'),  # Invert the y-axis to display the country with the highest number at the top\n",
    "    template='plotly_white',\n",
    "    width= 1500,\n",
    "    height= 700,\n",
    "    paper_bgcolor=\"rgba(0,0,0,0)\",  # make the paper background transparent\n",
    "    plot_bgcolor=\"rgba(0,0,0,0)\",  # make the plot background transparent\n",
    "    font=dict(color=\"white\", size=14),\n",
    ")\n",
    "\n",
    "# URLs of the images\n",
    "image_urls = [\n",
    "    \"https://flagicons.lipis.dev/flags/4x3/bm.svg\",\n",
    "    \"https://flagicons.lipis.dev/flags/4x3/mo.svg\",\n",
    "    \"https://flagicons.lipis.dev/flags/4x3/ag.svg\",\n",
    "    \"https://flagicons.lipis.dev/flags/4x3/kn.svg\",\n",
    "    \"https://flagicons.lipis.dev/flags/4x3/gd.svg\",\n",
    "    \"https://flagicons.lipis.dev/flags/4x3/bn.svg\",\n",
    "    \"https://flagicons.lipis.dev/flags/4x3/lc.svg\",\n",
    "    \"https://flagicons.lipis.dev/flags/4x3/dj.svg\",\n",
    "    \"https://flagicons.lipis.dev/flags/4x3/nc.svg\",\n",
    "    \"https://flagicons.lipis.dev/flags/4x3/dm.svg\"\n",
    "]\n",
    "\n",
    "# Positions of the images\n",
    "proportions = least_production['Production'].tolist()\n",
    "positions = [(proportions-6_000_000, i-0.43) for i, proportions in enumerate(proportions)]\n",
    "\n",
    "for url, (x, y) in zip(image_urls, positions):\n",
    "    fig.add_layout_image(\n",
    "        dict(\n",
    "            source=url,\n",
    "            xref=\"x\",\n",
    "            yref=\"y\",\n",
    "            x=x,\n",
    "            y=y,\n",
    "            sizex=6_000_000,\n",
    "            sizey=6_000_000,\n",
    "            layer=\"above\",\n",
    "        )\n",
    "    )\n",
    "\n",
    "# Format the text to be displayed directly on the bars\n",
    "fig.update_traces(texttemplate='€%{text:,.0f}M', textposition='outside')\n",
    "fig.update_xaxes(showline=True, linewidth=1, linecolor=\"white\", showgrid=False)\n",
    "\n",
    "fig.show()\n",
    "fig.write_image(\"src/main/extracted_data/15.svg\")"
   ]
  },
  {
   "cell_type": "markdown",
   "id": "424736c3",
   "metadata": {},
   "source": [
    "## 18. <a id='toc18_'></a>[10 premiers pays exportateurs](#toc0_)"
   ]
  },
  {
   "cell_type": "code",
   "execution_count": 90,
   "id": "0c89d297",
   "metadata": {},
   "outputs": [
    {
     "data": {
      "application/vnd.plotly.v1+json": {
       "config": {
        "plotlyServerURL": "https://plot.ly"
       },
       "data": [
        {
         "marker": {
          "color": [
           163524000000,
           126552000000,
           65945000000,
           57431000000,
           54771000000,
           52333000000,
           52179000000,
           50430000000,
           43184000000,
           40807000000
          ],
          "colorscale": [
           [
            0,
            "rgb(145,240,134)"
           ],
           [
            1,
            "rgb(2,35,28)"
           ]
          ]
         },
         "orientation": "h",
         "text": [
          163.524,
          126.552,
          65.945,
          57.431,
          54.771,
          52.333,
          52.179,
          50.43,
          43.184,
          40.807
         ],
         "textposition": "outside",
         "texttemplate": "%{text:,.2f}B",
         "type": "bar",
         "x": [
          163524000000,
          126552000000,
          65945000000,
          57431000000,
          54771000000,
          52333000000,
          52179000000,
          50430000000,
          43184000000,
          40807000000
         ],
         "y": [
          "États-Unis d'Amérique",
          "Brésil",
          "France",
          "Allemagne",
          "Canada",
          "Argentine",
          "Pays-Bas",
          "Thaïlande",
          "Australie",
          "Inde"
         ]
        }
       ],
       "layout": {
        "font": {
         "color": "white",
         "size": 14
        },
        "height": 800,
        "images": [
         {
          "layer": "above",
          "sizex": 10000000000,
          "sizey": 10000000000,
          "source": "https://flagicons.lipis.dev/flags/4x3/us.svg",
          "x": 153524000000,
          "xref": "x",
          "y": -0.43,
          "yref": "y"
         },
         {
          "layer": "above",
          "sizex": 10000000000,
          "sizey": 10000000000,
          "source": "https://flagicons.lipis.dev/flags/4x3/br.svg",
          "x": 116552000000,
          "xref": "x",
          "y": 0.5700000000000001,
          "yref": "y"
         },
         {
          "layer": "above",
          "sizex": 10000000000,
          "sizey": 10000000000,
          "source": "https://flagicons.lipis.dev/flags/4x3/fr.svg",
          "x": 55945000000,
          "xref": "x",
          "y": 1.57,
          "yref": "y"
         },
         {
          "layer": "above",
          "sizex": 10000000000,
          "sizey": 10000000000,
          "source": "https://flagicons.lipis.dev/flags/4x3/de.svg",
          "x": 47431000000,
          "xref": "x",
          "y": 2.57,
          "yref": "y"
         },
         {
          "layer": "above",
          "sizex": 10000000000,
          "sizey": 10000000000,
          "source": "https://flagicons.lipis.dev/flags/4x3/ca.svg",
          "x": 44771000000,
          "xref": "x",
          "y": 3.57,
          "yref": "y"
         },
         {
          "layer": "above",
          "sizex": 10000000000,
          "sizey": 10000000000,
          "source": "https://flagicons.lipis.dev/flags/4x3/ar.svg",
          "x": 42333000000,
          "xref": "x",
          "y": 4.57,
          "yref": "y"
         },
         {
          "layer": "above",
          "sizex": 10000000000,
          "sizey": 10000000000,
          "source": "https://flagicons.lipis.dev/flags/4x3/nl.svg",
          "x": 42179000000,
          "xref": "x",
          "y": 5.57,
          "yref": "y"
         },
         {
          "layer": "above",
          "sizex": 10000000000,
          "sizey": 10000000000,
          "source": "https://flagicons.lipis.dev/flags/4x3/th.svg",
          "x": 40430000000,
          "xref": "x",
          "y": 6.57,
          "yref": "y"
         },
         {
          "layer": "above",
          "sizex": 10000000000,
          "sizey": 10000000000,
          "source": "https://flagicons.lipis.dev/flags/4x3/au.svg",
          "x": 33184000000,
          "xref": "x",
          "y": 7.57,
          "yref": "y"
         },
         {
          "layer": "above",
          "sizex": 10000000000,
          "sizey": 10000000000,
          "source": "https://flagicons.lipis.dev/flags/4x3/in.svg",
          "x": 30807000000,
          "xref": "x",
          "y": 8.57,
          "yref": "y"
         }
        ],
        "paper_bgcolor": "rgba(0,0,0,0)",
        "plot_bgcolor": "rgba(0,0,0,0)",
        "template": {
         "data": {
          "bar": [
           {
            "error_x": {
             "color": "#2a3f5f"
            },
            "error_y": {
             "color": "#2a3f5f"
            },
            "marker": {
             "line": {
              "color": "white",
              "width": 0.5
             },
             "pattern": {
              "fillmode": "overlay",
              "size": 10,
              "solidity": 0.2
             }
            },
            "type": "bar"
           }
          ],
          "barpolar": [
           {
            "marker": {
             "line": {
              "color": "white",
              "width": 0.5
             },
             "pattern": {
              "fillmode": "overlay",
              "size": 10,
              "solidity": 0.2
             }
            },
            "type": "barpolar"
           }
          ],
          "carpet": [
           {
            "aaxis": {
             "endlinecolor": "#2a3f5f",
             "gridcolor": "#C8D4E3",
             "linecolor": "#C8D4E3",
             "minorgridcolor": "#C8D4E3",
             "startlinecolor": "#2a3f5f"
            },
            "baxis": {
             "endlinecolor": "#2a3f5f",
             "gridcolor": "#C8D4E3",
             "linecolor": "#C8D4E3",
             "minorgridcolor": "#C8D4E3",
             "startlinecolor": "#2a3f5f"
            },
            "type": "carpet"
           }
          ],
          "choropleth": [
           {
            "colorbar": {
             "outlinewidth": 0,
             "ticks": ""
            },
            "type": "choropleth"
           }
          ],
          "contour": [
           {
            "colorbar": {
             "outlinewidth": 0,
             "ticks": ""
            },
            "colorscale": [
             [
              0,
              "#0d0887"
             ],
             [
              0.1111111111111111,
              "#46039f"
             ],
             [
              0.2222222222222222,
              "#7201a8"
             ],
             [
              0.3333333333333333,
              "#9c179e"
             ],
             [
              0.4444444444444444,
              "#bd3786"
             ],
             [
              0.5555555555555556,
              "#d8576b"
             ],
             [
              0.6666666666666666,
              "#ed7953"
             ],
             [
              0.7777777777777778,
              "#fb9f3a"
             ],
             [
              0.8888888888888888,
              "#fdca26"
             ],
             [
              1,
              "#f0f921"
             ]
            ],
            "type": "contour"
           }
          ],
          "contourcarpet": [
           {
            "colorbar": {
             "outlinewidth": 0,
             "ticks": ""
            },
            "type": "contourcarpet"
           }
          ],
          "heatmap": [
           {
            "colorbar": {
             "outlinewidth": 0,
             "ticks": ""
            },
            "colorscale": [
             [
              0,
              "#0d0887"
             ],
             [
              0.1111111111111111,
              "#46039f"
             ],
             [
              0.2222222222222222,
              "#7201a8"
             ],
             [
              0.3333333333333333,
              "#9c179e"
             ],
             [
              0.4444444444444444,
              "#bd3786"
             ],
             [
              0.5555555555555556,
              "#d8576b"
             ],
             [
              0.6666666666666666,
              "#ed7953"
             ],
             [
              0.7777777777777778,
              "#fb9f3a"
             ],
             [
              0.8888888888888888,
              "#fdca26"
             ],
             [
              1,
              "#f0f921"
             ]
            ],
            "type": "heatmap"
           }
          ],
          "heatmapgl": [
           {
            "colorbar": {
             "outlinewidth": 0,
             "ticks": ""
            },
            "colorscale": [
             [
              0,
              "#0d0887"
             ],
             [
              0.1111111111111111,
              "#46039f"
             ],
             [
              0.2222222222222222,
              "#7201a8"
             ],
             [
              0.3333333333333333,
              "#9c179e"
             ],
             [
              0.4444444444444444,
              "#bd3786"
             ],
             [
              0.5555555555555556,
              "#d8576b"
             ],
             [
              0.6666666666666666,
              "#ed7953"
             ],
             [
              0.7777777777777778,
              "#fb9f3a"
             ],
             [
              0.8888888888888888,
              "#fdca26"
             ],
             [
              1,
              "#f0f921"
             ]
            ],
            "type": "heatmapgl"
           }
          ],
          "histogram": [
           {
            "marker": {
             "pattern": {
              "fillmode": "overlay",
              "size": 10,
              "solidity": 0.2
             }
            },
            "type": "histogram"
           }
          ],
          "histogram2d": [
           {
            "colorbar": {
             "outlinewidth": 0,
             "ticks": ""
            },
            "colorscale": [
             [
              0,
              "#0d0887"
             ],
             [
              0.1111111111111111,
              "#46039f"
             ],
             [
              0.2222222222222222,
              "#7201a8"
             ],
             [
              0.3333333333333333,
              "#9c179e"
             ],
             [
              0.4444444444444444,
              "#bd3786"
             ],
             [
              0.5555555555555556,
              "#d8576b"
             ],
             [
              0.6666666666666666,
              "#ed7953"
             ],
             [
              0.7777777777777778,
              "#fb9f3a"
             ],
             [
              0.8888888888888888,
              "#fdca26"
             ],
             [
              1,
              "#f0f921"
             ]
            ],
            "type": "histogram2d"
           }
          ],
          "histogram2dcontour": [
           {
            "colorbar": {
             "outlinewidth": 0,
             "ticks": ""
            },
            "colorscale": [
             [
              0,
              "#0d0887"
             ],
             [
              0.1111111111111111,
              "#46039f"
             ],
             [
              0.2222222222222222,
              "#7201a8"
             ],
             [
              0.3333333333333333,
              "#9c179e"
             ],
             [
              0.4444444444444444,
              "#bd3786"
             ],
             [
              0.5555555555555556,
              "#d8576b"
             ],
             [
              0.6666666666666666,
              "#ed7953"
             ],
             [
              0.7777777777777778,
              "#fb9f3a"
             ],
             [
              0.8888888888888888,
              "#fdca26"
             ],
             [
              1,
              "#f0f921"
             ]
            ],
            "type": "histogram2dcontour"
           }
          ],
          "mesh3d": [
           {
            "colorbar": {
             "outlinewidth": 0,
             "ticks": ""
            },
            "type": "mesh3d"
           }
          ],
          "parcoords": [
           {
            "line": {
             "colorbar": {
              "outlinewidth": 0,
              "ticks": ""
             }
            },
            "type": "parcoords"
           }
          ],
          "pie": [
           {
            "automargin": true,
            "type": "pie"
           }
          ],
          "scatter": [
           {
            "fillpattern": {
             "fillmode": "overlay",
             "size": 10,
             "solidity": 0.2
            },
            "type": "scatter"
           }
          ],
          "scatter3d": [
           {
            "line": {
             "colorbar": {
              "outlinewidth": 0,
              "ticks": ""
             }
            },
            "marker": {
             "colorbar": {
              "outlinewidth": 0,
              "ticks": ""
             }
            },
            "type": "scatter3d"
           }
          ],
          "scattercarpet": [
           {
            "marker": {
             "colorbar": {
              "outlinewidth": 0,
              "ticks": ""
             }
            },
            "type": "scattercarpet"
           }
          ],
          "scattergeo": [
           {
            "marker": {
             "colorbar": {
              "outlinewidth": 0,
              "ticks": ""
             }
            },
            "type": "scattergeo"
           }
          ],
          "scattergl": [
           {
            "marker": {
             "colorbar": {
              "outlinewidth": 0,
              "ticks": ""
             }
            },
            "type": "scattergl"
           }
          ],
          "scattermapbox": [
           {
            "marker": {
             "colorbar": {
              "outlinewidth": 0,
              "ticks": ""
             }
            },
            "type": "scattermapbox"
           }
          ],
          "scatterpolar": [
           {
            "marker": {
             "colorbar": {
              "outlinewidth": 0,
              "ticks": ""
             }
            },
            "type": "scatterpolar"
           }
          ],
          "scatterpolargl": [
           {
            "marker": {
             "colorbar": {
              "outlinewidth": 0,
              "ticks": ""
             }
            },
            "type": "scatterpolargl"
           }
          ],
          "scatterternary": [
           {
            "marker": {
             "colorbar": {
              "outlinewidth": 0,
              "ticks": ""
             }
            },
            "type": "scatterternary"
           }
          ],
          "surface": [
           {
            "colorbar": {
             "outlinewidth": 0,
             "ticks": ""
            },
            "colorscale": [
             [
              0,
              "#0d0887"
             ],
             [
              0.1111111111111111,
              "#46039f"
             ],
             [
              0.2222222222222222,
              "#7201a8"
             ],
             [
              0.3333333333333333,
              "#9c179e"
             ],
             [
              0.4444444444444444,
              "#bd3786"
             ],
             [
              0.5555555555555556,
              "#d8576b"
             ],
             [
              0.6666666666666666,
              "#ed7953"
             ],
             [
              0.7777777777777778,
              "#fb9f3a"
             ],
             [
              0.8888888888888888,
              "#fdca26"
             ],
             [
              1,
              "#f0f921"
             ]
            ],
            "type": "surface"
           }
          ],
          "table": [
           {
            "cells": {
             "fill": {
              "color": "#EBF0F8"
             },
             "line": {
              "color": "white"
             }
            },
            "header": {
             "fill": {
              "color": "#C8D4E3"
             },
             "line": {
              "color": "white"
             }
            },
            "type": "table"
           }
          ]
         },
         "layout": {
          "annotationdefaults": {
           "arrowcolor": "#2a3f5f",
           "arrowhead": 0,
           "arrowwidth": 1
          },
          "autotypenumbers": "strict",
          "coloraxis": {
           "colorbar": {
            "outlinewidth": 0,
            "ticks": ""
           }
          },
          "colorscale": {
           "diverging": [
            [
             0,
             "#8e0152"
            ],
            [
             0.1,
             "#c51b7d"
            ],
            [
             0.2,
             "#de77ae"
            ],
            [
             0.3,
             "#f1b6da"
            ],
            [
             0.4,
             "#fde0ef"
            ],
            [
             0.5,
             "#f7f7f7"
            ],
            [
             0.6,
             "#e6f5d0"
            ],
            [
             0.7,
             "#b8e186"
            ],
            [
             0.8,
             "#7fbc41"
            ],
            [
             0.9,
             "#4d9221"
            ],
            [
             1,
             "#276419"
            ]
           ],
           "sequential": [
            [
             0,
             "#0d0887"
            ],
            [
             0.1111111111111111,
             "#46039f"
            ],
            [
             0.2222222222222222,
             "#7201a8"
            ],
            [
             0.3333333333333333,
             "#9c179e"
            ],
            [
             0.4444444444444444,
             "#bd3786"
            ],
            [
             0.5555555555555556,
             "#d8576b"
            ],
            [
             0.6666666666666666,
             "#ed7953"
            ],
            [
             0.7777777777777778,
             "#fb9f3a"
            ],
            [
             0.8888888888888888,
             "#fdca26"
            ],
            [
             1,
             "#f0f921"
            ]
           ],
           "sequentialminus": [
            [
             0,
             "#0d0887"
            ],
            [
             0.1111111111111111,
             "#46039f"
            ],
            [
             0.2222222222222222,
             "#7201a8"
            ],
            [
             0.3333333333333333,
             "#9c179e"
            ],
            [
             0.4444444444444444,
             "#bd3786"
            ],
            [
             0.5555555555555556,
             "#d8576b"
            ],
            [
             0.6666666666666666,
             "#ed7953"
            ],
            [
             0.7777777777777778,
             "#fb9f3a"
            ],
            [
             0.8888888888888888,
             "#fdca26"
            ],
            [
             1,
             "#f0f921"
            ]
           ]
          },
          "colorway": [
           "#636efa",
           "#EF553B",
           "#00cc96",
           "#ab63fa",
           "#FFA15A",
           "#19d3f3",
           "#FF6692",
           "#B6E880",
           "#FF97FF",
           "#FECB52"
          ],
          "font": {
           "color": "#2a3f5f"
          },
          "geo": {
           "bgcolor": "white",
           "lakecolor": "white",
           "landcolor": "white",
           "showlakes": true,
           "showland": true,
           "subunitcolor": "#C8D4E3"
          },
          "hoverlabel": {
           "align": "left"
          },
          "hovermode": "closest",
          "mapbox": {
           "style": "light"
          },
          "paper_bgcolor": "white",
          "plot_bgcolor": "white",
          "polar": {
           "angularaxis": {
            "gridcolor": "#EBF0F8",
            "linecolor": "#EBF0F8",
            "ticks": ""
           },
           "bgcolor": "white",
           "radialaxis": {
            "gridcolor": "#EBF0F8",
            "linecolor": "#EBF0F8",
            "ticks": ""
           }
          },
          "scene": {
           "xaxis": {
            "backgroundcolor": "white",
            "gridcolor": "#DFE8F3",
            "gridwidth": 2,
            "linecolor": "#EBF0F8",
            "showbackground": true,
            "ticks": "",
            "zerolinecolor": "#EBF0F8"
           },
           "yaxis": {
            "backgroundcolor": "white",
            "gridcolor": "#DFE8F3",
            "gridwidth": 2,
            "linecolor": "#EBF0F8",
            "showbackground": true,
            "ticks": "",
            "zerolinecolor": "#EBF0F8"
           },
           "zaxis": {
            "backgroundcolor": "white",
            "gridcolor": "#DFE8F3",
            "gridwidth": 2,
            "linecolor": "#EBF0F8",
            "showbackground": true,
            "ticks": "",
            "zerolinecolor": "#EBF0F8"
           }
          },
          "shapedefaults": {
           "line": {
            "color": "#2a3f5f"
           }
          },
          "ternary": {
           "aaxis": {
            "gridcolor": "#DFE8F3",
            "linecolor": "#A2B1C6",
            "ticks": ""
           },
           "baxis": {
            "gridcolor": "#DFE8F3",
            "linecolor": "#A2B1C6",
            "ticks": ""
           },
           "bgcolor": "white",
           "caxis": {
            "gridcolor": "#DFE8F3",
            "linecolor": "#A2B1C6",
            "ticks": ""
           }
          },
          "title": {
           "x": 0.05
          },
          "xaxis": {
           "automargin": true,
           "gridcolor": "#EBF0F8",
           "linecolor": "#EBF0F8",
           "ticks": "",
           "title": {
            "standoff": 15
           },
           "zerolinecolor": "#EBF0F8",
           "zerolinewidth": 2
          },
          "yaxis": {
           "automargin": true,
           "gridcolor": "#EBF0F8",
           "linecolor": "#EBF0F8",
           "ticks": "",
           "title": {
            "standoff": 15
           },
           "zerolinecolor": "#EBF0F8",
           "zerolinewidth": 2
          }
         }
        },
        "title": {
         "text": "Top 10 Pays avec le plus de Exportations - Quantité"
        },
        "width": 1500,
        "xaxis": {
         "linecolor": "white",
         "linewidth": 1,
         "showgrid": false,
         "showline": true,
         "title": {
          "text": "Exportations - Quantité"
         }
        },
        "yaxis": {
         "autorange": "reversed",
         "title": {
          "text": ""
         }
        }
       }
      }
     },
     "metadata": {},
     "output_type": "display_data"
    }
   ],
   "source": [
    "# Group and sort the data\n",
    "top_export = dispo_alimentaire.groupby('Zone')[columns_to_sum].sum().sort_values(by='Exportations - Quantité', ascending=False).head(10)\n",
    "# top_export.set_index('Zone', inplace=True)\n",
    "\n",
    "# Create the Plotly bar chart\n",
    "fig = go.Figure(go.Bar(\n",
    "    x=top_export['Exportations - Quantité'],\n",
    "    y=top_export.index,\n",
    "    orientation='h',\n",
    "    marker=dict(\n",
    "        color=top_export['Exportations - Quantité'],\n",
    "        # colorscale='Blues',  # Change to a continuous color scale\n",
    "        colorscale=[\"rgb(145,240,134)\", \"rgb(2,35,28)\"]\n",
    "        # reversescale=True,  # Add this line to reverse the color scale\n",
    "        # colorbar=dict(\n",
    "        #     title='Kcal/personne/jour',\n",
    "        #     tickvals=top_export['Exportations - Quantité']\n",
    "        # )\n",
    "    ),\n",
    "    text=top_export['Exportations - Quantité'] / 1_000_000_000,\n",
    "\n",
    "))\n",
    "\n",
    "fig.update_layout(\n",
    "    title='Top 10 Pays avec le plus de Exportations - Quantité',\n",
    "    xaxis_title='Exportations - Quantité',\n",
    "    yaxis_title='',\n",
    "    yaxis=dict(autorange='reversed'),  # Invert the y-axis to display the country with the highest number at the top\n",
    "    template='plotly_white',\n",
    "    width= 1500,\n",
    "    height= 800,\n",
    "    paper_bgcolor=\"rgba(0,0,0,0)\",  # make the paper background transparent\n",
    "    plot_bgcolor=\"rgba(0,0,0,0)\",  # make the plot background transparent\n",
    "    font=dict(color=\"white\", size=14),\n",
    ")\n",
    "\n",
    "# URLs of the images\n",
    "image_urls = [\n",
    "    \"https://flagicons.lipis.dev/flags/4x3/us.svg\",\n",
    "    \"https://flagicons.lipis.dev/flags/4x3/br.svg\",\n",
    "    \"https://flagicons.lipis.dev/flags/4x3/fr.svg\",\n",
    "    \"https://flagicons.lipis.dev/flags/4x3/de.svg\",\n",
    "    \"https://flagicons.lipis.dev/flags/4x3/ca.svg\",\n",
    "    \"https://flagicons.lipis.dev/flags/4x3/ar.svg\",\n",
    "    \"https://flagicons.lipis.dev/flags/4x3/nl.svg\",\n",
    "    \"https://flagicons.lipis.dev/flags/4x3/th.svg\",\n",
    "    \"https://flagicons.lipis.dev/flags/4x3/au.svg\",\n",
    "    \"https://flagicons.lipis.dev/flags/4x3/in.svg\"\n",
    "]\n",
    "\n",
    "# Positions of the images\n",
    "proportions = top_export['Exportations - Quantité'].tolist()\n",
    "positions = [(proportions-10_000_000_000, i-0.43) for i, proportions in enumerate(proportions)]\n",
    "\n",
    "for url, (x, y) in zip(image_urls, positions):\n",
    "    fig.add_layout_image(\n",
    "        dict(\n",
    "            source=url,\n",
    "            xref=\"x\",\n",
    "            yref=\"y\",\n",
    "            x=x,\n",
    "            y=y,\n",
    "            sizex=10_000_000_000,\n",
    "            sizey=10_000_000_000,\n",
    "            layer=\"above\",\n",
    "        )\n",
    "    )\n",
    "\n",
    "# Format the text to be displayed directly on the bars\n",
    "fig.update_traces(texttemplate='%{text:,.2f}B', textposition='outside')\n",
    "fig.update_xaxes(showline=True, linewidth=1, linecolor=\"white\", showgrid=False)\n",
    "\n",
    "fig.show()\n",
    "fig.write_image(\"src/main/extracted_data/16.svg\")"
   ]
  },
  {
   "cell_type": "markdown",
   "id": "9ab26099",
   "metadata": {},
   "source": [
    "## 19. <a id='toc19_'></a>[Les 10 premiers pays importateurs](#toc0_)"
   ]
  },
  {
   "cell_type": "code",
   "execution_count": 91,
   "id": "b80885a4",
   "metadata": {},
   "outputs": [
    {
     "data": {
      "application/vnd.plotly.v1+json": {
       "config": {
        "plotlyServerURL": "https://plot.ly"
       },
       "data": [
        {
         "marker": {
          "color": [
           156246000000,
           81887000000,
           65353000000,
           55414000000,
           52910000000,
           38692000000,
           35276000000,
           33769000000,
           32608000000,
           32512000000
          ],
          "colorscale": [
           [
            0,
            "rgb(255,255,229)"
           ],
           [
            0.125,
            "rgb(255,247,188)"
           ],
           [
            0.25,
            "rgb(254,227,145)"
           ],
           [
            0.375,
            "rgb(254,196,79)"
           ],
           [
            0.5,
            "rgb(254,153,41)"
           ],
           [
            0.625,
            "rgb(236,112,20)"
           ],
           [
            0.75,
            "rgb(204,76,2)"
           ],
           [
            0.875,
            "rgb(153,52,4)"
           ],
           [
            1,
            "rgb(102,37,6)"
           ]
          ]
         },
         "orientation": "h",
         "text": [
          156.246,
          81.887,
          65.353,
          55.414,
          52.91,
          38.692,
          35.276,
          33.769,
          32.608,
          32.512
         ],
         "textposition": "outside",
         "texttemplate": "%{text:,.2f}B",
         "type": "bar",
         "x": [
          156246000000,
          81887000000,
          65353000000,
          55414000000,
          52910000000,
          38692000000,
          35276000000,
          33769000000,
          32608000000,
          32512000000
         ],
         "y": [
          "Chine, continentale",
          "États-Unis d'Amérique",
          "Allemagne",
          "Japon",
          "Pays-Bas",
          "Italie",
          "Belgique",
          "France",
          "Espagne",
          "Mexique"
         ]
        }
       ],
       "layout": {
        "font": {
         "color": "white",
         "size": 14
        },
        "height": 800,
        "images": [
         {
          "layer": "above",
          "sizex": 10000000000,
          "sizey": 10000000000,
          "source": "https://flagicons.lipis.dev/flags/4x3/cn.svg",
          "x": 146246000000,
          "xref": "x",
          "y": -0.45,
          "yref": "y"
         },
         {
          "layer": "above",
          "sizex": 10000000000,
          "sizey": 10000000000,
          "source": "https://flagicons.lipis.dev/flags/4x3/us.svg",
          "x": 71887000000,
          "xref": "x",
          "y": 0.55,
          "yref": "y"
         },
         {
          "layer": "above",
          "sizex": 10000000000,
          "sizey": 10000000000,
          "source": "https://flagicons.lipis.dev/flags/4x3/de.svg",
          "x": 55353000000,
          "xref": "x",
          "y": 1.55,
          "yref": "y"
         },
         {
          "layer": "above",
          "sizex": 10000000000,
          "sizey": 10000000000,
          "source": "https://flagicons.lipis.dev/flags/4x3/jp.svg",
          "x": 45414000000,
          "xref": "x",
          "y": 2.55,
          "yref": "y"
         },
         {
          "layer": "above",
          "sizex": 10000000000,
          "sizey": 10000000000,
          "source": "https://flagicons.lipis.dev/flags/4x3/nl.svg",
          "x": 42910000000,
          "xref": "x",
          "y": 3.55,
          "yref": "y"
         },
         {
          "layer": "above",
          "sizex": 10000000000,
          "sizey": 10000000000,
          "source": "https://flagicons.lipis.dev/flags/4x3/it.svg",
          "x": 28692000000,
          "xref": "x",
          "y": 4.55,
          "yref": "y"
         },
         {
          "layer": "above",
          "sizex": 10000000000,
          "sizey": 10000000000,
          "source": "https://flagicons.lipis.dev/flags/4x3/be.svg",
          "x": 25276000000,
          "xref": "x",
          "y": 5.55,
          "yref": "y"
         },
         {
          "layer": "above",
          "sizex": 10000000000,
          "sizey": 10000000000,
          "source": "https://flagicons.lipis.dev/flags/4x3/fr.svg",
          "x": 23769000000,
          "xref": "x",
          "y": 6.55,
          "yref": "y"
         },
         {
          "layer": "above",
          "sizex": 10000000000,
          "sizey": 10000000000,
          "source": "https://flagicons.lipis.dev/flags/4x3/es.svg",
          "x": 22608000000,
          "xref": "x",
          "y": 7.55,
          "yref": "y"
         },
         {
          "layer": "above",
          "sizex": 10000000000,
          "sizey": 10000000000,
          "source": "https://flagicons.lipis.dev/flags/4x3/mx.svg",
          "x": 22512000000,
          "xref": "x",
          "y": 8.55,
          "yref": "y"
         }
        ],
        "paper_bgcolor": "rgba(0,0,0,0)",
        "plot_bgcolor": "rgba(0,0,0,0)",
        "template": {
         "data": {
          "bar": [
           {
            "error_x": {
             "color": "#2a3f5f"
            },
            "error_y": {
             "color": "#2a3f5f"
            },
            "marker": {
             "line": {
              "color": "white",
              "width": 0.5
             },
             "pattern": {
              "fillmode": "overlay",
              "size": 10,
              "solidity": 0.2
             }
            },
            "type": "bar"
           }
          ],
          "barpolar": [
           {
            "marker": {
             "line": {
              "color": "white",
              "width": 0.5
             },
             "pattern": {
              "fillmode": "overlay",
              "size": 10,
              "solidity": 0.2
             }
            },
            "type": "barpolar"
           }
          ],
          "carpet": [
           {
            "aaxis": {
             "endlinecolor": "#2a3f5f",
             "gridcolor": "#C8D4E3",
             "linecolor": "#C8D4E3",
             "minorgridcolor": "#C8D4E3",
             "startlinecolor": "#2a3f5f"
            },
            "baxis": {
             "endlinecolor": "#2a3f5f",
             "gridcolor": "#C8D4E3",
             "linecolor": "#C8D4E3",
             "minorgridcolor": "#C8D4E3",
             "startlinecolor": "#2a3f5f"
            },
            "type": "carpet"
           }
          ],
          "choropleth": [
           {
            "colorbar": {
             "outlinewidth": 0,
             "ticks": ""
            },
            "type": "choropleth"
           }
          ],
          "contour": [
           {
            "colorbar": {
             "outlinewidth": 0,
             "ticks": ""
            },
            "colorscale": [
             [
              0,
              "#0d0887"
             ],
             [
              0.1111111111111111,
              "#46039f"
             ],
             [
              0.2222222222222222,
              "#7201a8"
             ],
             [
              0.3333333333333333,
              "#9c179e"
             ],
             [
              0.4444444444444444,
              "#bd3786"
             ],
             [
              0.5555555555555556,
              "#d8576b"
             ],
             [
              0.6666666666666666,
              "#ed7953"
             ],
             [
              0.7777777777777778,
              "#fb9f3a"
             ],
             [
              0.8888888888888888,
              "#fdca26"
             ],
             [
              1,
              "#f0f921"
             ]
            ],
            "type": "contour"
           }
          ],
          "contourcarpet": [
           {
            "colorbar": {
             "outlinewidth": 0,
             "ticks": ""
            },
            "type": "contourcarpet"
           }
          ],
          "heatmap": [
           {
            "colorbar": {
             "outlinewidth": 0,
             "ticks": ""
            },
            "colorscale": [
             [
              0,
              "#0d0887"
             ],
             [
              0.1111111111111111,
              "#46039f"
             ],
             [
              0.2222222222222222,
              "#7201a8"
             ],
             [
              0.3333333333333333,
              "#9c179e"
             ],
             [
              0.4444444444444444,
              "#bd3786"
             ],
             [
              0.5555555555555556,
              "#d8576b"
             ],
             [
              0.6666666666666666,
              "#ed7953"
             ],
             [
              0.7777777777777778,
              "#fb9f3a"
             ],
             [
              0.8888888888888888,
              "#fdca26"
             ],
             [
              1,
              "#f0f921"
             ]
            ],
            "type": "heatmap"
           }
          ],
          "heatmapgl": [
           {
            "colorbar": {
             "outlinewidth": 0,
             "ticks": ""
            },
            "colorscale": [
             [
              0,
              "#0d0887"
             ],
             [
              0.1111111111111111,
              "#46039f"
             ],
             [
              0.2222222222222222,
              "#7201a8"
             ],
             [
              0.3333333333333333,
              "#9c179e"
             ],
             [
              0.4444444444444444,
              "#bd3786"
             ],
             [
              0.5555555555555556,
              "#d8576b"
             ],
             [
              0.6666666666666666,
              "#ed7953"
             ],
             [
              0.7777777777777778,
              "#fb9f3a"
             ],
             [
              0.8888888888888888,
              "#fdca26"
             ],
             [
              1,
              "#f0f921"
             ]
            ],
            "type": "heatmapgl"
           }
          ],
          "histogram": [
           {
            "marker": {
             "pattern": {
              "fillmode": "overlay",
              "size": 10,
              "solidity": 0.2
             }
            },
            "type": "histogram"
           }
          ],
          "histogram2d": [
           {
            "colorbar": {
             "outlinewidth": 0,
             "ticks": ""
            },
            "colorscale": [
             [
              0,
              "#0d0887"
             ],
             [
              0.1111111111111111,
              "#46039f"
             ],
             [
              0.2222222222222222,
              "#7201a8"
             ],
             [
              0.3333333333333333,
              "#9c179e"
             ],
             [
              0.4444444444444444,
              "#bd3786"
             ],
             [
              0.5555555555555556,
              "#d8576b"
             ],
             [
              0.6666666666666666,
              "#ed7953"
             ],
             [
              0.7777777777777778,
              "#fb9f3a"
             ],
             [
              0.8888888888888888,
              "#fdca26"
             ],
             [
              1,
              "#f0f921"
             ]
            ],
            "type": "histogram2d"
           }
          ],
          "histogram2dcontour": [
           {
            "colorbar": {
             "outlinewidth": 0,
             "ticks": ""
            },
            "colorscale": [
             [
              0,
              "#0d0887"
             ],
             [
              0.1111111111111111,
              "#46039f"
             ],
             [
              0.2222222222222222,
              "#7201a8"
             ],
             [
              0.3333333333333333,
              "#9c179e"
             ],
             [
              0.4444444444444444,
              "#bd3786"
             ],
             [
              0.5555555555555556,
              "#d8576b"
             ],
             [
              0.6666666666666666,
              "#ed7953"
             ],
             [
              0.7777777777777778,
              "#fb9f3a"
             ],
             [
              0.8888888888888888,
              "#fdca26"
             ],
             [
              1,
              "#f0f921"
             ]
            ],
            "type": "histogram2dcontour"
           }
          ],
          "mesh3d": [
           {
            "colorbar": {
             "outlinewidth": 0,
             "ticks": ""
            },
            "type": "mesh3d"
           }
          ],
          "parcoords": [
           {
            "line": {
             "colorbar": {
              "outlinewidth": 0,
              "ticks": ""
             }
            },
            "type": "parcoords"
           }
          ],
          "pie": [
           {
            "automargin": true,
            "type": "pie"
           }
          ],
          "scatter": [
           {
            "fillpattern": {
             "fillmode": "overlay",
             "size": 10,
             "solidity": 0.2
            },
            "type": "scatter"
           }
          ],
          "scatter3d": [
           {
            "line": {
             "colorbar": {
              "outlinewidth": 0,
              "ticks": ""
             }
            },
            "marker": {
             "colorbar": {
              "outlinewidth": 0,
              "ticks": ""
             }
            },
            "type": "scatter3d"
           }
          ],
          "scattercarpet": [
           {
            "marker": {
             "colorbar": {
              "outlinewidth": 0,
              "ticks": ""
             }
            },
            "type": "scattercarpet"
           }
          ],
          "scattergeo": [
           {
            "marker": {
             "colorbar": {
              "outlinewidth": 0,
              "ticks": ""
             }
            },
            "type": "scattergeo"
           }
          ],
          "scattergl": [
           {
            "marker": {
             "colorbar": {
              "outlinewidth": 0,
              "ticks": ""
             }
            },
            "type": "scattergl"
           }
          ],
          "scattermapbox": [
           {
            "marker": {
             "colorbar": {
              "outlinewidth": 0,
              "ticks": ""
             }
            },
            "type": "scattermapbox"
           }
          ],
          "scatterpolar": [
           {
            "marker": {
             "colorbar": {
              "outlinewidth": 0,
              "ticks": ""
             }
            },
            "type": "scatterpolar"
           }
          ],
          "scatterpolargl": [
           {
            "marker": {
             "colorbar": {
              "outlinewidth": 0,
              "ticks": ""
             }
            },
            "type": "scatterpolargl"
           }
          ],
          "scatterternary": [
           {
            "marker": {
             "colorbar": {
              "outlinewidth": 0,
              "ticks": ""
             }
            },
            "type": "scatterternary"
           }
          ],
          "surface": [
           {
            "colorbar": {
             "outlinewidth": 0,
             "ticks": ""
            },
            "colorscale": [
             [
              0,
              "#0d0887"
             ],
             [
              0.1111111111111111,
              "#46039f"
             ],
             [
              0.2222222222222222,
              "#7201a8"
             ],
             [
              0.3333333333333333,
              "#9c179e"
             ],
             [
              0.4444444444444444,
              "#bd3786"
             ],
             [
              0.5555555555555556,
              "#d8576b"
             ],
             [
              0.6666666666666666,
              "#ed7953"
             ],
             [
              0.7777777777777778,
              "#fb9f3a"
             ],
             [
              0.8888888888888888,
              "#fdca26"
             ],
             [
              1,
              "#f0f921"
             ]
            ],
            "type": "surface"
           }
          ],
          "table": [
           {
            "cells": {
             "fill": {
              "color": "#EBF0F8"
             },
             "line": {
              "color": "white"
             }
            },
            "header": {
             "fill": {
              "color": "#C8D4E3"
             },
             "line": {
              "color": "white"
             }
            },
            "type": "table"
           }
          ]
         },
         "layout": {
          "annotationdefaults": {
           "arrowcolor": "#2a3f5f",
           "arrowhead": 0,
           "arrowwidth": 1
          },
          "autotypenumbers": "strict",
          "coloraxis": {
           "colorbar": {
            "outlinewidth": 0,
            "ticks": ""
           }
          },
          "colorscale": {
           "diverging": [
            [
             0,
             "#8e0152"
            ],
            [
             0.1,
             "#c51b7d"
            ],
            [
             0.2,
             "#de77ae"
            ],
            [
             0.3,
             "#f1b6da"
            ],
            [
             0.4,
             "#fde0ef"
            ],
            [
             0.5,
             "#f7f7f7"
            ],
            [
             0.6,
             "#e6f5d0"
            ],
            [
             0.7,
             "#b8e186"
            ],
            [
             0.8,
             "#7fbc41"
            ],
            [
             0.9,
             "#4d9221"
            ],
            [
             1,
             "#276419"
            ]
           ],
           "sequential": [
            [
             0,
             "#0d0887"
            ],
            [
             0.1111111111111111,
             "#46039f"
            ],
            [
             0.2222222222222222,
             "#7201a8"
            ],
            [
             0.3333333333333333,
             "#9c179e"
            ],
            [
             0.4444444444444444,
             "#bd3786"
            ],
            [
             0.5555555555555556,
             "#d8576b"
            ],
            [
             0.6666666666666666,
             "#ed7953"
            ],
            [
             0.7777777777777778,
             "#fb9f3a"
            ],
            [
             0.8888888888888888,
             "#fdca26"
            ],
            [
             1,
             "#f0f921"
            ]
           ],
           "sequentialminus": [
            [
             0,
             "#0d0887"
            ],
            [
             0.1111111111111111,
             "#46039f"
            ],
            [
             0.2222222222222222,
             "#7201a8"
            ],
            [
             0.3333333333333333,
             "#9c179e"
            ],
            [
             0.4444444444444444,
             "#bd3786"
            ],
            [
             0.5555555555555556,
             "#d8576b"
            ],
            [
             0.6666666666666666,
             "#ed7953"
            ],
            [
             0.7777777777777778,
             "#fb9f3a"
            ],
            [
             0.8888888888888888,
             "#fdca26"
            ],
            [
             1,
             "#f0f921"
            ]
           ]
          },
          "colorway": [
           "#636efa",
           "#EF553B",
           "#00cc96",
           "#ab63fa",
           "#FFA15A",
           "#19d3f3",
           "#FF6692",
           "#B6E880",
           "#FF97FF",
           "#FECB52"
          ],
          "font": {
           "color": "#2a3f5f"
          },
          "geo": {
           "bgcolor": "white",
           "lakecolor": "white",
           "landcolor": "white",
           "showlakes": true,
           "showland": true,
           "subunitcolor": "#C8D4E3"
          },
          "hoverlabel": {
           "align": "left"
          },
          "hovermode": "closest",
          "mapbox": {
           "style": "light"
          },
          "paper_bgcolor": "white",
          "plot_bgcolor": "white",
          "polar": {
           "angularaxis": {
            "gridcolor": "#EBF0F8",
            "linecolor": "#EBF0F8",
            "ticks": ""
           },
           "bgcolor": "white",
           "radialaxis": {
            "gridcolor": "#EBF0F8",
            "linecolor": "#EBF0F8",
            "ticks": ""
           }
          },
          "scene": {
           "xaxis": {
            "backgroundcolor": "white",
            "gridcolor": "#DFE8F3",
            "gridwidth": 2,
            "linecolor": "#EBF0F8",
            "showbackground": true,
            "ticks": "",
            "zerolinecolor": "#EBF0F8"
           },
           "yaxis": {
            "backgroundcolor": "white",
            "gridcolor": "#DFE8F3",
            "gridwidth": 2,
            "linecolor": "#EBF0F8",
            "showbackground": true,
            "ticks": "",
            "zerolinecolor": "#EBF0F8"
           },
           "zaxis": {
            "backgroundcolor": "white",
            "gridcolor": "#DFE8F3",
            "gridwidth": 2,
            "linecolor": "#EBF0F8",
            "showbackground": true,
            "ticks": "",
            "zerolinecolor": "#EBF0F8"
           }
          },
          "shapedefaults": {
           "line": {
            "color": "#2a3f5f"
           }
          },
          "ternary": {
           "aaxis": {
            "gridcolor": "#DFE8F3",
            "linecolor": "#A2B1C6",
            "ticks": ""
           },
           "baxis": {
            "gridcolor": "#DFE8F3",
            "linecolor": "#A2B1C6",
            "ticks": ""
           },
           "bgcolor": "white",
           "caxis": {
            "gridcolor": "#DFE8F3",
            "linecolor": "#A2B1C6",
            "ticks": ""
           }
          },
          "title": {
           "x": 0.05
          },
          "xaxis": {
           "automargin": true,
           "gridcolor": "#EBF0F8",
           "linecolor": "#EBF0F8",
           "ticks": "",
           "title": {
            "standoff": 15
           },
           "zerolinecolor": "#EBF0F8",
           "zerolinewidth": 2
          },
          "yaxis": {
           "automargin": true,
           "gridcolor": "#EBF0F8",
           "linecolor": "#EBF0F8",
           "ticks": "",
           "title": {
            "standoff": 15
           },
           "zerolinecolor": "#EBF0F8",
           "zerolinewidth": 2
          }
         }
        },
        "title": {
         "text": "Top 10 Pays avec le plus de Importations - Quantité"
        },
        "width": 1500,
        "xaxis": {
         "linecolor": "white",
         "linewidth": 1,
         "showgrid": false,
         "showline": true,
         "title": {
          "text": "Importations - Quantité"
         }
        },
        "yaxis": {
         "autorange": "reversed",
         "title": {
          "text": ""
         }
        }
       }
      }
     },
     "metadata": {},
     "output_type": "display_data"
    }
   ],
   "source": [
    "# Group and sort the data\n",
    "top_import = dispo_alimentaire.groupby('Zone')[columns_to_sum].sum().sort_values(by='Importations - Quantité', ascending=False).head(10)\n",
    "# top_import.set_index('Zone', inplace=True)\n",
    "\n",
    "# Create the Plotly bar chart\n",
    "fig = go.Figure(go.Bar(\n",
    "    x=top_import['Importations - Quantité'],\n",
    "    y=top_import.index,\n",
    "    orientation='h',\n",
    "    marker=dict(\n",
    "        color=top_import['Importations - Quantité'],\n",
    "        colorscale='ylorbr',  # Change to a continuous color scale\n",
    "        # colorscale=[\"rgb(145,240,134)\", \"rgb(2,35,28)\"]\n",
    "        # reversescale=True,  # Add this line to reverse the color scale\n",
    "        # colorbar=dict(\n",
    "        #     title='Kcal/personne/jour',\n",
    "        #     tickvals=top_import['Importations - Quantité']\n",
    "        # )\n",
    "    ),\n",
    "    text=top_import['Importations - Quantité'] / 1_000_000_000,\n",
    "\n",
    "))\n",
    "\n",
    "fig.update_layout(\n",
    "    title='Top 10 Pays avec le plus de Importations - Quantité',\n",
    "    xaxis_title='Importations - Quantité',\n",
    "    yaxis_title='',\n",
    "    yaxis=dict(autorange='reversed'),  # Invert the y-axis to display the country with the highest number at the top\n",
    "    template='plotly_white',\n",
    "    width= 1500,\n",
    "    height= 800,\n",
    "    paper_bgcolor=\"rgba(0,0,0,0)\",  # make the paper background transparent\n",
    "    plot_bgcolor=\"rgba(0,0,0,0)\",  # make the plot background transparent\n",
    "    font=dict(color=\"white\", size=14),\n",
    ")\n",
    "\n",
    "# URLs of the images\n",
    "image_urls = [\n",
    "    \"https://flagicons.lipis.dev/flags/4x3/cn.svg\",\n",
    "    \"https://flagicons.lipis.dev/flags/4x3/us.svg\",\n",
    "    \"https://flagicons.lipis.dev/flags/4x3/de.svg\",\n",
    "    \"https://flagicons.lipis.dev/flags/4x3/jp.svg\",\n",
    "    \"https://flagicons.lipis.dev/flags/4x3/nl.svg\",\n",
    "    \"https://flagicons.lipis.dev/flags/4x3/it.svg\",\n",
    "    \"https://flagicons.lipis.dev/flags/4x3/be.svg\",\n",
    "    \"https://flagicons.lipis.dev/flags/4x3/fr.svg\",\n",
    "    \"https://flagicons.lipis.dev/flags/4x3/es.svg\",\n",
    "    \"https://flagicons.lipis.dev/flags/4x3/mx.svg\"\n",
    "]\n",
    "\n",
    "# Positions of the images\n",
    "proportions = top_import['Importations - Quantité'].tolist()\n",
    "positions = [(proportions-10_000_000_000, i-0.45) for i, proportions in enumerate(proportions)]\n",
    "\n",
    "for url, (x, y) in zip(image_urls, positions):\n",
    "    fig.add_layout_image(\n",
    "        dict(\n",
    "            source=url,\n",
    "            xref=\"x\",\n",
    "            yref=\"y\",\n",
    "            x=x,\n",
    "            y=y,\n",
    "            sizex=10_000_000_000,\n",
    "            sizey=10_000_000_000,\n",
    "            layer=\"above\",\n",
    "        )\n",
    "    )\n",
    "\n",
    "# Format the text to be displayed directly on the bars\n",
    "fig.update_traces(texttemplate='%{text:,.2f}B', textposition='outside')\n",
    "fig.update_xaxes(showline=True, linewidth=1, linecolor=\"white\", showgrid=False)\n",
    "\n",
    "fig.show()\n",
    "fig.write_image(\"src/main/extracted_data/17.svg\")"
   ]
  },
  {
   "cell_type": "markdown",
   "id": "90c5403e",
   "metadata": {},
   "source": [
    "# Conclusion"
   ]
  },
  {
   "cell_type": "markdown",
   "id": "529e9138",
   "metadata": {},
   "source": [
    "# References"
   ]
  }
 ],
 "metadata": {
  "kernelspec": {
   "display_name": "Python 3",
   "language": "python",
   "name": "python3"
  },
  "language_info": {
   "codemirror_mode": {
    "name": "ipython",
    "version": 3
   },
    "title": "Réalisez une étude de santé publique avec Python",
   "file_extension": ".py",
   "mimetype": "text/x-python",
   "name": "python",
   "nbconvert_exporter": "python",
   "pygments_lexer": "ipython3",
   "version": "3.12.3"
  }
 },
 "nbformat": 4,
 "nbformat_minor": 5,
 "title": "Réalisez une étude de santé publique avec Python"
}
